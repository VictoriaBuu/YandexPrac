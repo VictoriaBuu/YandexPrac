{
 "cells": [
  {
   "cell_type": "markdown",
   "metadata": {},
   "source": []
  },
  {
   "cell_type": "markdown",
   "metadata": {},
   "source": []
  },
  {
   "cell_type": "markdown",
   "metadata": {},
   "source": []
  },
  {
   "cell_type": "markdown",
   "metadata": {},
   "source": [
    "### Цель исследования:\n",
    "**Проверка гипотез для увеличения выручки**\n",
    "\n",
    "### Последовательность действий:\n",
    "**1) подготовка данных\n",
    "2) применение формул для выполнения исследований\n",
    "3) приоретизация гипотиз\n",
    "4) Анализ А/B теста и визуализация полученных результатов\n",
    "5) Итоговые выводы** \n"
   ]
  },
  {
   "cell_type": "markdown",
   "metadata": {},
   "source": []
  },
  {
   "cell_type": "code",
   "execution_count": 1,
   "metadata": {
    "scrolled": true
   },
   "outputs": [
    {
     "name": "stdout",
     "output_type": "stream",
     "text": [
      "                                          Hypothesis  Reach  Impact  \\\n",
      "0  Добавить два новых канала привлечения трафика,...      3      10   \n",
      "1  Запустить собственную службу доставки, что сок...      2       5   \n",
      "2  Добавить блоки рекомендаций товаров на сайт ин...      8       3   \n",
      "3  Изменить структура категорий, что увеличит кон...      8       3   \n",
      "4  Изменить цвет фона главной страницы, чтобы уве...      3       1   \n",
      "5  Добавить страницу отзывов клиентов о магазине,...      3       2   \n",
      "6  Показать на главной странице баннеры с актуаль...      5       3   \n",
      "7  Добавить форму подписки на все основные страни...     10       7   \n",
      "8  Запустить акцию, дающую скидку на товар в день...      1       9   \n",
      "\n",
      "   Confidence  Efforts  \n",
      "0           8        6  \n",
      "1           4       10  \n",
      "2           7        3  \n",
      "3           3        8  \n",
      "4           1        1  \n",
      "5           2        3  \n",
      "6           8        3  \n",
      "7           8        5  \n",
      "8           9        5  \n",
      "      transactionId   visitorId        date  revenue group\n",
      "0        3667963787  3312258926  2019-08-15     1650     B\n",
      "1        2804400009  3642806036  2019-08-15      730     B\n",
      "2        2961555356  4069496402  2019-08-15      400     A\n",
      "3        3797467345  1196621759  2019-08-15     9759     B\n",
      "4        2282983706  2322279887  2019-08-15     2308     B\n",
      "...             ...         ...         ...      ...   ...\n",
      "1192     2662137336  3733762160  2019-08-14     6490     B\n",
      "1193     2203539145   370388673  2019-08-14     3190     A\n",
      "1194     1807773912   573423106  2019-08-14    10550     A\n",
      "1195     1947021204  1614305549  2019-08-14      100     A\n",
      "1196     3936777065  2108080724  2019-08-15   202740     B\n",
      "\n",
      "[1197 rows x 5 columns]\n",
      "          date group  visitors\n",
      "0   2019-08-01     A       719\n",
      "1   2019-08-02     A       619\n",
      "2   2019-08-03     A       507\n",
      "3   2019-08-04     A       717\n",
      "4   2019-08-05     A       756\n",
      "..         ...   ...       ...\n",
      "57  2019-08-27     B       720\n",
      "58  2019-08-28     B       654\n",
      "59  2019-08-29     B       531\n",
      "60  2019-08-30     B       490\n",
      "61  2019-08-31     B       718\n",
      "\n",
      "[62 rows x 3 columns]\n"
     ]
    }
   ],
   "source": [
    "import pandas as pd\n",
    "import datetime as dt\n",
    "from scipy import stats as st\n",
    "import numpy as np\n",
    "import matplotlib.pyplot as plt\n",
    "from pandas.plotting import register_matplotlib_converters\n",
    "import warnings\n",
    "import matplotlib.pyplot as plt\n",
    "import scipy.stats as stats\n",
    "data = pd.read_csv('/datasets/hypothesis.csv', sep=',')\n",
    "orders =  pd.read_csv('/datasets/orders.csv')\n",
    "visitors =  pd.read_csv('/datasets/visitors.csv')\n",
    "print(data)\n",
    "print(orders)\n",
    "print(visitors)"
   ]
  },
  {
   "cell_type": "markdown",
   "metadata": {},
   "source": [
    "<div class=\"alert alert-block alert-info\">\n",
    "\n",
    " Комментарий студента: добавила все использованные библеотеки в ячейку\n",
    "\n",
    "</div>"
   ]
  },
  {
   "cell_type": "markdown",
   "metadata": {},
   "source": []
  },
  {
   "cell_type": "markdown",
   "metadata": {},
   "source": []
  },
  {
   "cell_type": "code",
   "execution_count": 2,
   "metadata": {},
   "outputs": [],
   "source": [
    "data.columns = ['hypothesis', 'reach', 'impact', 'confidence', 'efforts']"
   ]
  },
  {
   "cell_type": "markdown",
   "metadata": {},
   "source": [
    "Приведем к нижнему регистру"
   ]
  },
  {
   "cell_type": "code",
   "execution_count": 3,
   "metadata": {},
   "outputs": [
    {
     "name": "stdout",
     "output_type": "stream",
     "text": [
      "                                          hypothesis  reach  impact  \\\n",
      "0  Добавить два новых канала привлечения трафика,...      3      10   \n",
      "1  Запустить собственную службу доставки, что сок...      2       5   \n",
      "2  Добавить блоки рекомендаций товаров на сайт ин...      8       3   \n",
      "3  Изменить структура категорий, что увеличит кон...      8       3   \n",
      "4  Изменить цвет фона главной страницы, чтобы уве...      3       1   \n",
      "5  Добавить страницу отзывов клиентов о магазине,...      3       2   \n",
      "6  Показать на главной странице баннеры с актуаль...      5       3   \n",
      "7  Добавить форму подписки на все основные страни...     10       7   \n",
      "8  Запустить акцию, дающую скидку на товар в день...      1       9   \n",
      "\n",
      "   confidence  efforts  \n",
      "0           8        6  \n",
      "1           4       10  \n",
      "2           7        3  \n",
      "3           3        8  \n",
      "4           1        1  \n",
      "5           2        3  \n",
      "6           8        3  \n",
      "7           8        5  \n",
      "8           9        5  \n"
     ]
    }
   ],
   "source": [
    "print(data)"
   ]
  },
  {
   "cell_type": "code",
   "execution_count": 4,
   "metadata": {
    "scrolled": true
   },
   "outputs": [
    {
     "name": "stdout",
     "output_type": "stream",
     "text": [
      "0 0 0\n"
     ]
    }
   ],
   "source": [
    "print(data.duplicated().sum(), orders.duplicated().sum(),visitors.duplicated().sum() )\n"
   ]
  },
  {
   "cell_type": "code",
   "execution_count": 5,
   "metadata": {
    "scrolled": false
   },
   "outputs": [
    {
     "data": {
      "text/plain": [
       "hypothesis    0\n",
       "reach         0\n",
       "impact        0\n",
       "confidence    0\n",
       "efforts       0\n",
       "dtype: int64"
      ]
     },
     "execution_count": 5,
     "metadata": {},
     "output_type": "execute_result"
    }
   ],
   "source": [
    "data.isna().sum()\n"
   ]
  },
  {
   "cell_type": "code",
   "execution_count": 6,
   "metadata": {
    "scrolled": true
   },
   "outputs": [
    {
     "data": {
      "text/plain": [
       "transactionId    0\n",
       "visitorId        0\n",
       "date             0\n",
       "revenue          0\n",
       "group            0\n",
       "dtype: int64"
      ]
     },
     "execution_count": 6,
     "metadata": {},
     "output_type": "execute_result"
    }
   ],
   "source": [
    "orders.isna().sum()"
   ]
  },
  {
   "cell_type": "code",
   "execution_count": 7,
   "metadata": {},
   "outputs": [
    {
     "data": {
      "text/plain": [
       "date        0\n",
       "group       0\n",
       "visitors    0\n",
       "dtype: int64"
      ]
     },
     "execution_count": 7,
     "metadata": {},
     "output_type": "execute_result"
    }
   ],
   "source": [
    "visitors.isna().sum()"
   ]
  },
  {
   "cell_type": "markdown",
   "metadata": {},
   "source": [
    "Проверка на пропуски и дубликаты"
   ]
  },
  {
   "cell_type": "code",
   "execution_count": 8,
   "metadata": {
    "scrolled": false
   },
   "outputs": [
    {
     "name": "stdout",
     "output_type": "stream",
     "text": [
      "<class 'pandas.core.frame.DataFrame'>\n",
      "RangeIndex: 9 entries, 0 to 8\n",
      "Data columns (total 5 columns):\n",
      " #   Column      Non-Null Count  Dtype \n",
      "---  ------      --------------  ----- \n",
      " 0   hypothesis  9 non-null      object\n",
      " 1   reach       9 non-null      int64 \n",
      " 2   impact      9 non-null      int64 \n",
      " 3   confidence  9 non-null      int64 \n",
      " 4   efforts     9 non-null      int64 \n",
      "dtypes: int64(4), object(1)\n",
      "memory usage: 488.0+ bytes\n"
     ]
    }
   ],
   "source": [
    "data.info()"
   ]
  },
  {
   "cell_type": "code",
   "execution_count": 9,
   "metadata": {
    "scrolled": false
   },
   "outputs": [
    {
     "name": "stdout",
     "output_type": "stream",
     "text": [
      "<class 'pandas.core.frame.DataFrame'>\n",
      "RangeIndex: 1197 entries, 0 to 1196\n",
      "Data columns (total 5 columns):\n",
      " #   Column         Non-Null Count  Dtype \n",
      "---  ------         --------------  ----- \n",
      " 0   transactionId  1197 non-null   int64 \n",
      " 1   visitorId      1197 non-null   int64 \n",
      " 2   date           1197 non-null   object\n",
      " 3   revenue        1197 non-null   int64 \n",
      " 4   group          1197 non-null   object\n",
      "dtypes: int64(3), object(2)\n",
      "memory usage: 46.9+ KB\n"
     ]
    }
   ],
   "source": [
    "orders.info()"
   ]
  },
  {
   "cell_type": "code",
   "execution_count": 10,
   "metadata": {},
   "outputs": [
    {
     "name": "stdout",
     "output_type": "stream",
     "text": [
      "<class 'pandas.core.frame.DataFrame'>\n",
      "RangeIndex: 62 entries, 0 to 61\n",
      "Data columns (total 3 columns):\n",
      " #   Column    Non-Null Count  Dtype \n",
      "---  ------    --------------  ----- \n",
      " 0   date      62 non-null     object\n",
      " 1   group     62 non-null     object\n",
      " 2   visitors  62 non-null     int64 \n",
      "dtypes: int64(1), object(2)\n",
      "memory usage: 1.6+ KB\n"
     ]
    }
   ],
   "source": [
    "visitors.info()"
   ]
  },
  {
   "cell_type": "code",
   "execution_count": 11,
   "metadata": {},
   "outputs": [
    {
     "name": "stdout",
     "output_type": "stream",
     "text": [
      "visitorId    58\n",
      "group        58\n",
      "dtype: int64\n"
     ]
    }
   ],
   "source": [
    "new_d = (\n",
    "    orders.groupby('visitorId', as_index=False)\n",
    "    .agg({'group': 'nunique'})\n",
    ")\n",
    "new_d = new_d[new_d['group'] >1]\n",
    "print(new_d.count())\n"
   ]
  },
  {
   "cell_type": "markdown",
   "metadata": {},
   "source": [
    "Получаем, что 58 пользователей значатся в двух группах одновременно, это достаточно большое количество пользователей и терять их скажется на выборке, по-этому оставим их."
   ]
  },
  {
   "cell_type": "markdown",
   "metadata": {},
   "source": []
  },
  {
   "cell_type": "markdown",
   "metadata": {},
   "source": [
    "Посмотрим на тип данных и исправим их ниже"
   ]
  },
  {
   "cell_type": "code",
   "execution_count": 12,
   "metadata": {},
   "outputs": [],
   "source": [
    "orders['date'] = orders['date'].map(\n",
    "    lambda x: dt.datetime.strptime(x, '%Y-%m-%d')\n",
    ")\n",
    "visitors['date'] = visitors['date'].map(\n",
    "    lambda x: dt.datetime.strptime(x, '%Y-%m-%d')\n",
    ")"
   ]
  },
  {
   "cell_type": "code",
   "execution_count": 13,
   "metadata": {},
   "outputs": [
    {
     "name": "stdout",
     "output_type": "stream",
     "text": [
      "<class 'pandas.core.frame.DataFrame'>\n",
      "RangeIndex: 1197 entries, 0 to 1196\n",
      "Data columns (total 5 columns):\n",
      " #   Column         Non-Null Count  Dtype         \n",
      "---  ------         --------------  -----         \n",
      " 0   transactionId  1197 non-null   int64         \n",
      " 1   visitorId      1197 non-null   int64         \n",
      " 2   date           1197 non-null   datetime64[ns]\n",
      " 3   revenue        1197 non-null   int64         \n",
      " 4   group          1197 non-null   object        \n",
      "dtypes: datetime64[ns](1), int64(3), object(1)\n",
      "memory usage: 46.9+ KB\n"
     ]
    }
   ],
   "source": [
    "orders.info()"
   ]
  },
  {
   "cell_type": "markdown",
   "metadata": {},
   "source": []
  },
  {
   "cell_type": "markdown",
   "metadata": {},
   "source": []
  },
  {
   "cell_type": "markdown",
   "metadata": {},
   "source": [
    "<div class=\"alert alert-block alert-info\">\n",
    "\n",
    "Комментарий студента:\n",
    "Мы завершили пердобработку данных и далее будем переходить к первой части проекта:\n",
    "    \n",
    "    \n",
    "**Приоритизация гипотез.**\n",
    "</div>"
   ]
  },
  {
   "cell_type": "markdown",
   "metadata": {},
   "source": []
  },
  {
   "cell_type": "code",
   "execution_count": 14,
   "metadata": {},
   "outputs": [
    {
     "name": "stdout",
     "output_type": "stream",
     "text": [
      "                                          hypothesis        ICE\n",
      "8  Запустить акцию, дающую скидку на товар в день...  16.200000\n",
      "0  Добавить два новых канала привлечения трафика,...  13.333333\n",
      "7  Добавить форму подписки на все основные страни...  11.200000\n",
      "6  Показать на главной странице баннеры с актуаль...   8.000000\n",
      "2  Добавить блоки рекомендаций товаров на сайт ин...   7.000000\n",
      "1  Запустить собственную службу доставки, что сок...   2.000000\n",
      "5  Добавить страницу отзывов клиентов о магазине,...   1.333333\n",
      "3  Изменить структура категорий, что увеличит кон...   1.125000\n",
      "4  Изменить цвет фона главной страницы, чтобы уве...   1.000000\n"
     ]
    }
   ],
   "source": [
    "data['ICE'] = data['impact'] * data['confidence'] / data['efforts']\n",
    "print(data[['hypothesis', 'ICE']].sort_values(by ='ICE',ascending = False))"
   ]
  },
  {
   "cell_type": "code",
   "execution_count": 15,
   "metadata": {},
   "outputs": [
    {
     "name": "stdout",
     "output_type": "stream",
     "text": [
      "                                          hypothesis   RICE\n",
      "7  Добавить форму подписки на все основные страни...  112.0\n",
      "2  Добавить блоки рекомендаций товаров на сайт ин...   56.0\n",
      "0  Добавить два новых канала привлечения трафика,...   40.0\n",
      "6  Показать на главной странице баннеры с актуаль...   40.0\n",
      "8  Запустить акцию, дающую скидку на товар в день...   16.2\n",
      "3  Изменить структура категорий, что увеличит кон...    9.0\n",
      "1  Запустить собственную службу доставки, что сок...    4.0\n",
      "5  Добавить страницу отзывов клиентов о магазине,...    4.0\n",
      "4  Изменить цвет фона главной страницы, чтобы уве...    3.0\n"
     ]
    }
   ],
   "source": [
    "data['RICE'] = data['reach'] * data['impact'] * data['confidence'] / data['efforts']\n",
    "print(data[['hypothesis', 'RICE']].sort_values(by = 'RICE', ascending = False))\n",
    "pd.options.display.max_colwidth = 120"
   ]
  },
  {
   "cell_type": "markdown",
   "metadata": {},
   "source": [
    "Применили два фреймворка : ICE и RICE, в ICE входит три параметра, по которым можно определить к какой гипотезе следует перейти в первую очередь: Влияние, легкость реализации и уверенность. в RICE 4 параметра: добавляется еще охват.\n",
    "на примере мы видим, что при разных фреймворках меняются и положение наших гипотез, так на примере ICE - первая тройка располагается по номерам 8-0-7, в то время как в RICE 7-2-0. Изменение в положениях происходит из - за четвертого параметра, после добавления Охвата положение приоритета в гипотезах меняется."
   ]
  },
  {
   "cell_type": "markdown",
   "metadata": {},
   "source": []
  },
  {
   "cell_type": "markdown",
   "metadata": {},
   "source": []
  },
  {
   "cell_type": "markdown",
   "metadata": {},
   "source": []
  },
  {
   "cell_type": "markdown",
   "metadata": {},
   "source": [
    "<div class=\"alert alert-block alert-info\">\n",
    "Комментарий студента:\n",
    "Мы завершили первую часть проекта и далее будем переходить ко второй части :\n",
    "    \n",
    "    \n",
    "**Анализ A/B-теста.**</div>"
   ]
  },
  {
   "cell_type": "markdown",
   "metadata": {},
   "source": []
  },
  {
   "cell_type": "code",
   "execution_count": 16,
   "metadata": {},
   "outputs": [
    {
     "name": "stdout",
     "output_type": "stream",
     "text": [
      "   transactionId   visitorId       date  revenue group\n",
      "0     3667963787  3312258926 2019-08-15     1650     B\n",
      "1     2804400009  3642806036 2019-08-15      730     B\n",
      "2     2961555356  4069496402 2019-08-15      400     A\n",
      "3     3797467345  1196621759 2019-08-15     9759     B\n",
      "4     2282983706  2322279887 2019-08-15     2308     B\n",
      "        date group  visitors\n",
      "0 2019-08-01     A       719\n",
      "1 2019-08-02     A       619\n",
      "2 2019-08-03     A       507\n",
      "3 2019-08-04     A       717\n",
      "4 2019-08-05     A       756\n",
      "        date group  orders  buyers  revenue  visitors\n",
      "0 2019-08-01     A      24      20   148579       719\n",
      "1 2019-08-01     B      21      20   101217       713\n",
      "2 2019-08-02     A      44      38   242401      1338\n",
      "3 2019-08-02     B      45      43   266748      1294\n",
      "4 2019-08-03     A      68      62   354874      1845\n"
     ]
    }
   ],
   "source": [
    "datesGroups = orders[['date','group']].drop_duplicates() \n",
    "ordersAggregated = datesGroups.apply(lambda x: orders[np.logical_and(orders['date'] <= x['date'], orders['group'] == x['group'])]\\\n",
    ".agg({'date' : 'max', 'group' : 'max', 'transactionId' : 'nunique', 'visitorId' : 'nunique', 'revenue' : 'sum'}), axis=1).sort_values(by=['date','group'])\n",
    "visitorsAggregated = datesGroups.apply(lambda x: visitors[np.logical_and(visitors['date'] <= x['date'], visitors['group'] == x['group'])].agg({'date' : 'max', 'group' : 'max', 'visitors' : 'sum'}), axis=1).sort_values(by=['date','group'])\n",
    "cumulativeData = ordersAggregated.merge(visitorsAggregated, left_on=['date', 'group'], right_on=['date', 'group'])\n",
    "cumulativeData.columns = ['date', 'group', 'orders', 'buyers', 'revenue', 'visitors']\n",
    "print(orders.head(5))\n",
    "print(visitors.head(5))\n",
    "print(cumulativeData.head(5))"
   ]
  },
  {
   "cell_type": "markdown",
   "metadata": {},
   "source": []
  },
  {
   "cell_type": "code",
   "execution_count": 17,
   "metadata": {
    "scrolled": true
   },
   "outputs": [
    {
     "data": {
      "text/plain": [
       "''"
      ]
     },
     "execution_count": 17,
     "metadata": {},
     "output_type": "execute_result"
    },
    {
     "data": {
      "image/png": "[encoded data removed]",
      "text/plain": [
       "<Figure size 432x288 with 1 Axes>"
      ]
     },
     "metadata": {
      "needs_background": "light"
     },
     "output_type": "display_data"
    }
   ],
   "source": [
    "# датафрейм с кумулятивным количеством заказов и кумулятивной выручкой по дням в группе А\n",
    "cumulativeRevenueA = cumulativeData[cumulativeData['group']=='A'][['date','revenue', 'orders']]\n",
    "# датафрейм с кумулятивным количеством заказов и кумулятивной выручкой по дням в группе B\n",
    "cumulativeRevenueB = cumulativeData[cumulativeData['group']=='B'][['date','revenue', 'orders']]\n",
    "# Строим график выручки группы А\n",
    "plt.plot(cumulativeRevenueA['date'], cumulativeRevenueA['revenue'], label='A')\n",
    "# Строим график выручки группы B\n",
    "plt.plot(cumulativeRevenueB['date'], cumulativeRevenueB['revenue'], label='B')\n",
    "plt.title('График динамики кумулятивной выручки для групп А и В', color ='blue', fontsize =15)\n",
    "plt.ylabel('Выручка',color = 'blue', fontsize = 15)\n",
    "plt.xticks(rotation = 45)\n",
    "plt.legend()\n",
    ";"
   ]
  },
  {
   "cell_type": "markdown",
   "metadata": {},
   "source": [
    "Группа B значительно лучше растет по выручке, особенно это заметно с 2019-08-17, где идет резкий скачек"
   ]
  },
  {
   "cell_type": "markdown",
   "metadata": {},
   "source": [
    "<div class=\"alert alert-block alert-info\">\n",
    "это может говорить нам о наличии аномальных значений в данных, одна из причин - слишком крупный заказ.\n",
    "</div>"
   ]
  },
  {
   "cell_type": "markdown",
   "metadata": {},
   "source": []
  },
  {
   "cell_type": "markdown",
   "metadata": {},
   "source": []
  },
  {
   "cell_type": "code",
   "execution_count": 18,
   "metadata": {
    "scrolled": false
   },
   "outputs": [
    {
     "data": {
      "text/plain": [
       "<matplotlib.legend.Legend at 0x7f590e4de4c0>"
      ]
     },
     "execution_count": 18,
     "metadata": {},
     "output_type": "execute_result"
    },
    {
     "data": {
      "image/png": "[encoded data removed]",
      "text/plain": [
       "<Figure size 432x288 with 1 Axes>"
      ]
     },
     "metadata": {
      "needs_background": "light"
     },
     "output_type": "display_data"
    }
   ],
   "source": [
    "plt.plot(cumulativeRevenueA['date'], cumulativeRevenueA['revenue']/cumulativeRevenueA['orders'], label='A')\n",
    "plt.plot(cumulativeRevenueB['date'], cumulativeRevenueB['revenue']/cumulativeRevenueB['orders'], label='B')\n",
    "plt.title('График динамики кумулятивного среднего чека для групп А и В', color ='blue', fontsize =15)\n",
    "plt.xticks(rotation = 45)\n",
    "plt.ylabel('Выручка',color = 'blue', fontsize = 15)\n",
    "plt.legend()"
   ]
  },
  {
   "cell_type": "markdown",
   "metadata": {},
   "source": [
    "<div class=\"alert alert-block alert-info\">\n",
    "как и в предыдущем графике, скорее всего тут аномально большой заказ, что и вызвало резкий скачек в данных    \n",
    "    \n",
    "</div>"
   ]
  },
  {
   "cell_type": "markdown",
   "metadata": {},
   "source": []
  },
  {
   "cell_type": "markdown",
   "metadata": {},
   "source": [
    "тут также группа B выигрывает, скачек все в ту же дату 2019-08-17, но после идет небольшой спад"
   ]
  },
  {
   "cell_type": "markdown",
   "metadata": {},
   "source": []
  },
  {
   "cell_type": "code",
   "execution_count": 19,
   "metadata": {
    "scrolled": true
   },
   "outputs": [
    {
     "data": {
      "text/plain": [
       "''"
      ]
     },
     "execution_count": 19,
     "metadata": {},
     "output_type": "execute_result"
    },
    {
     "data": {
      "image/png": "[encoded data removed]",
      "text/plain": [
       "<Figure size 432x288 with 1 Axes>"
      ]
     },
     "metadata": {
      "needs_background": "light"
     },
     "output_type": "display_data"
    }
   ],
   "source": [
    "# собираем данные в одном датафрейме\n",
    "mergedCumulativeRevenue = cumulativeRevenueA.merge(cumulativeRevenueB, left_on='date', right_on='date', how='left', suffixes=['A', 'B'])\n",
    "\n",
    "# cтроим отношение средних чеков\n",
    "plt.plot(mergedCumulativeRevenue['date'], (mergedCumulativeRevenue['revenueB']/mergedCumulativeRevenue['ordersB'])/(mergedCumulativeRevenue['revenueA']/mergedCumulativeRevenue['ordersA'])-1)\n",
    "\n",
    "# добавляем ось X\n",
    "plt.axhline(y=0, color='black', linestyle='--')\n",
    "plt.xticks(rotation = 45)\n",
    "plt.title('График относительного изменения кумулятивного среднего чека группы B к группе A', color ='blue', fontsize =15)\n",
    "plt.ylabel('изменение',color = 'blue', fontsize = 15)\n",
    ";"
   ]
  },
  {
   "cell_type": "markdown",
   "metadata": {},
   "source": [
    "на графике опять видно, что группа B лучше, группы А."
   ]
  },
  {
   "cell_type": "markdown",
   "metadata": {},
   "source": []
  },
  {
   "cell_type": "code",
   "execution_count": 20,
   "metadata": {
    "scrolled": true
   },
   "outputs": [
    {
     "data": {
      "text/plain": [
       "''"
      ]
     },
     "execution_count": 20,
     "metadata": {},
     "output_type": "execute_result"
    },
    {
     "data": {
      "image/png": "[encoded data removed]",
      "text/plain": [
       "<Figure size 432x288 with 1 Axes>"
      ]
     },
     "metadata": {
      "needs_background": "light"
     },
     "output_type": "display_data"
    }
   ],
   "source": [
    "# считаем кумулятивную конверсию\n",
    "cumulativeData['conversion'] = cumulativeData['orders']/cumulativeData['visitors']\n",
    "\n",
    "# отделяем данные по группе A\n",
    "cumulativeDataA = cumulativeData[cumulativeData['group']=='A']\n",
    "\n",
    "# отделяем данные по группе B\n",
    "cumulativeDataB = cumulativeData[cumulativeData['group']=='B']\n",
    "plt.title('График среднего количества заказов', color ='blue', fontsize =15)\n",
    "# строим графики\n",
    "plt.plot(cumulativeDataA['date'], cumulativeDataA['conversion'], label='A')\n",
    "plt.plot(cumulativeDataB['date'], cumulativeDataB['conversion'], label='B')\n",
    "plt.legend()\n",
    "plt.xticks(rotation = 45)\n",
    "plt.xticks(rotation = 45)\n",
    "# задаем масштаб осей\n",
    "plt.axis([dt.datetime(2019,8, 1), dt.datetime(2019, 9, 1), 0, 0.05])\n",
    "plt.ylabel('заказы',color = 'blue', fontsize = 15)\n",
    ";"
   ]
  },
  {
   "cell_type": "markdown",
   "metadata": {},
   "source": [
    "Группа В заметно лучше, чем группа А, это видно уже практически с самого начала наблюдения."
   ]
  },
  {
   "cell_type": "markdown",
   "metadata": {},
   "source": []
  },
  {
   "cell_type": "code",
   "execution_count": 21,
   "metadata": {
    "scrolled": false
   },
   "outputs": [
    {
     "data": {
      "text/plain": [
       "''"
      ]
     },
     "execution_count": 21,
     "metadata": {},
     "output_type": "execute_result"
    },
    {
     "data": {
      "image/png": "[encoded data removed]",
      "text/plain": [
       "<Figure size 432x288 with 1 Axes>"
      ]
     },
     "metadata": {
      "needs_background": "light"
     },
     "output_type": "display_data"
    }
   ],
   "source": [
    "mergedCumulativeConversions = cumulativeDataA[['date','conversion']].merge(cumulativeDataB[['date','conversion']], left_on='date', right_on='date', how='left', suffixes=['A', 'B'])\n",
    "\n",
    "plt.plot(mergedCumulativeConversions['date'], mergedCumulativeConversions['conversionB']/mergedCumulativeConversions['conversionA']-1)\n",
    "\n",
    "\n",
    "plt.axhline(y=0, color='black', linestyle='--')\n",
    "plt.axhline(y=0.1, color='grey', linestyle='--')\n",
    "plt.xticks(rotation = 45)\n",
    "plt.axis([dt.datetime(2019,8, 1), dt.datetime(2019, 9, 1), -0.6, 0.6])\n",
    "plt.ylabel('кумм. среднее количество',color = 'blue', fontsize = 15)\n",
    "\n",
    "plt.title('График изменения кумулятивного среднего количества заказов', color ='blue', fontsize =15)\n",
    ";"
   ]
  },
  {
   "cell_type": "markdown",
   "metadata": {},
   "source": [
    "Резкий скачек только в начале графика, двлее достаточно плавный переход наблюдаем"
   ]
  },
  {
   "cell_type": "markdown",
   "metadata": {},
   "source": []
  },
  {
   "cell_type": "markdown",
   "metadata": {},
   "source": []
  },
  {
   "cell_type": "markdown",
   "metadata": {},
   "source": []
  },
  {
   "cell_type": "markdown",
   "metadata": {},
   "source": []
  },
  {
   "cell_type": "code",
   "execution_count": 22,
   "metadata": {},
   "outputs": [
    {
     "name": "stdout",
     "output_type": "stream",
     "text": [
      "       visitorId  orders\n",
      "1023  4256040402      11\n",
      "591   2458001652      11\n",
      "569   2378935119       9\n",
      "487   2038680547       8\n",
      "44     199603092       5\n",
      "744   3062433592       5\n",
      "55     237748145       5\n",
      "917   3803269165       5\n",
      "299   1230306981       5\n",
      "897   3717692402       5\n"
     ]
    }
   ],
   "source": [
    "\n",
    "\n",
    "\n",
    "ordersByUsers = (\n",
    "    orders.groupby('visitorId', as_index=False)\n",
    "    .agg({'transactionId': 'nunique'})\n",
    ")\n",
    "\n",
    "ordersByUsers.columns = ['visitorId', 'orders']\n",
    "\n",
    "print(ordersByUsers.sort_values(by='orders', ascending=False).head(10))"
   ]
  },
  {
   "cell_type": "code",
   "execution_count": 23,
   "metadata": {},
   "outputs": [
    {
     "data": {
      "image/png": "[encoded data removed]",
      "text/plain": [
       "<Figure size 432x288 with 1 Axes>"
      ]
     },
     "metadata": {
      "needs_background": "light"
     },
     "output_type": "display_data"
    }
   ],
   "source": [
    "x_values = pd.Series(range(0,len(ordersByUsers)))\n",
    "plt.ylabel('заказы',color = 'blue', fontsize = 15)\n",
    "plt.title('График количества заказов на посетителя', color ='blue', fontsize =15)\n",
    "plt.scatter(x_values, ordersByUsers['orders']);"
   ]
  },
  {
   "cell_type": "code",
   "execution_count": 24,
   "metadata": {},
   "outputs": [
    {
     "name": "stdout",
     "output_type": "stream",
     "text": [
      "[2. 4.]\n"
     ]
    }
   ],
   "source": [
    "\n",
    "print(np.percentile(ordersByUsers['orders'], [ 95, 99]))"
   ]
  },
  {
   "cell_type": "markdown",
   "metadata": {},
   "source": [
    "Большинство пользователей имеют всего один заказ, но также есть и с большим количеством. при расчете перцентиля 95 и 99, видим, что не более 5% пользователей имеют 2 заказа и не более 1% имеют 4 в таком случае выберем аномальными значениями 3 заказов для каждого пользователя"
   ]
  },
  {
   "cell_type": "markdown",
   "metadata": {},
   "source": [
    "<div class=\"alert alert-block alert-info\">\n",
    "Здесь примем за аномалии тех пользователей, что имеют больше двух заказов\n",
    "</div>"
   ]
  },
  {
   "cell_type": "code",
   "execution_count": 25,
   "metadata": {
    "scrolled": true
   },
   "outputs": [
    {
     "data": {
      "text/plain": [
       "''"
      ]
     },
     "execution_count": 25,
     "metadata": {},
     "output_type": "execute_result"
    },
    {
     "data": {
      "image/png": "[encoded data removed]",
      "text/plain": [
       "<Figure size 432x288 with 1 Axes>"
      ]
     },
     "metadata": {
      "needs_background": "light"
     },
     "output_type": "display_data"
    }
   ],
   "source": [
    "x_values = pd.Series(range(0,len(orders['revenue'] )))\n",
    "plt.ylabel('выручка',color = 'blue', fontsize = 15)\n",
    "plt.title('График выручки на посетителя', color ='blue', fontsize =15)\n",
    "plt.scatter(x_values, orders['revenue'])\n",
    ";"
   ]
  },
  {
   "cell_type": "code",
   "execution_count": 26,
   "metadata": {},
   "outputs": [
    {
     "data": {
      "text/plain": [
       "<matplotlib.collections.PathCollection at 0x7f590e2398b0>"
      ]
     },
     "execution_count": 26,
     "metadata": {},
     "output_type": "execute_result"
    },
    {
     "data": {
      "image/png": "[encoded data removed]",
      "text/plain": [
       "<Figure size 432x288 with 1 Axes>"
      ]
     },
     "metadata": {
      "needs_background": "light"
     },
     "output_type": "display_data"
    }
   ],
   "source": [
    "x_values = pd.Series(range(0,len(orders['revenue']  )))\n",
    "plt.ylabel('выручка',color = 'blue', fontsize = 15)\n",
    "plt.title('График выручки на посетителя', color ='blue', fontsize =15)\n",
    "plt.scatter(x_values, orders['revenue'] )"
   ]
  },
  {
   "cell_type": "markdown",
   "metadata": {},
   "source": []
  },
  {
   "cell_type": "markdown",
   "metadata": {},
   "source": [
    "Построим график распределения по суммам заказа, видим, что в основном все покупки были до 20.000. Также, есть и более дорогие заказы"
   ]
  },
  {
   "cell_type": "code",
   "execution_count": 27,
   "metadata": {},
   "outputs": [
    {
     "name": "stdout",
     "output_type": "stream",
     "text": [
      "[28000.  58233.2]\n"
     ]
    }
   ],
   "source": [
    "print(np.percentile(orders['revenue'], [95, 99]))"
   ]
  },
  {
   "cell_type": "markdown",
   "metadata": {},
   "source": [
    "Не более 5% заказов дороже 28000 рублей и не более 1% дороже  58233.2 рублей\n",
    "за аномальные значения будем принимать суммы выше 30.000"
   ]
  },
  {
   "cell_type": "markdown",
   "metadata": {},
   "source": []
  },
  {
   "cell_type": "markdown",
   "metadata": {},
   "source": [
    "<div class=\"alert alert-block alert-info\">\n",
    "Исправим и за аномалии примем сумму дороже 28.000\n",
    "</div>"
   ]
  },
  {
   "cell_type": "markdown",
   "metadata": {},
   "source": []
  },
  {
   "cell_type": "code",
   "execution_count": 28,
   "metadata": {},
   "outputs": [
    {
     "name": "stdout",
     "output_type": "stream",
     "text": [
      "        date  ordersPerDateA  revenuePerDateA  ordersPerDateB  \\\n",
      "0 2019-08-01              24           148579              21   \n",
      "1 2019-08-02              20            93822              24   \n",
      "2 2019-08-03              24           112473              16   \n",
      "3 2019-08-04              16            70825              17   \n",
      "4 2019-08-05              25           124218              23   \n",
      "\n",
      "   revenuePerDateB  ordersCummulativeA  revenueCummulativeA  \\\n",
      "0           101217                  24               148579   \n",
      "1           165531                  44               242401   \n",
      "2           114248                  68               354874   \n",
      "3           108571                  84               425699   \n",
      "4            92428                 109               549917   \n",
      "\n",
      "   ordersCummulativeB  revenueCummulativeB  visitorsPerDateA  \\\n",
      "0                  21               101217               719   \n",
      "1                  45               266748               619   \n",
      "2                  61               380996               507   \n",
      "3                  78               489567               717   \n",
      "4                 101               581995               756   \n",
      "\n",
      "   visitorsPerDateB  visitorsCummulativeA  visitorsCummulativeB  \n",
      "0               713                   719                   713  \n",
      "1               581                  1338                  1294  \n",
      "2               509                  1845                  1803  \n",
      "3               770                  2562                  2573  \n",
      "4               707                  3318                  3280  \n"
     ]
    }
   ],
   "source": [
    "visitorsADaily = visitors[visitors['group'] == 'A'][['date', 'visitors']]\n",
    "visitorsADaily.columns = ['date', 'visitorsPerDateA']\n",
    "\n",
    "visitorsACummulative = visitorsADaily.apply(\n",
    "    lambda x: visitorsADaily[visitorsADaily['date'] <= x['date']].agg(\n",
    "        {'date': 'max', 'visitorsPerDateA': 'sum'}\n",
    "    ),\n",
    "    axis=1,\n",
    ")\n",
    "visitorsACummulative.columns = ['date', 'visitorsCummulativeA']\n",
    "\n",
    "visitorsBDaily = visitors[visitors['group'] == 'B'][['date', 'visitors']]\n",
    "visitorsBDaily.columns = ['date', 'visitorsPerDateB']\n",
    "\n",
    "visitorsBCummulative = visitorsBDaily.apply(\n",
    "    lambda x: visitorsBDaily[visitorsBDaily['date'] <= x['date']].agg(\n",
    "        {'date': 'max', 'visitorsPerDateB': 'sum'}\n",
    "    ),\n",
    "    axis=1,\n",
    ")\n",
    "visitorsBCummulative.columns = ['date', 'visitorsCummulativeB']\n",
    "\n",
    "ordersADaily = (\n",
    "    orders[orders['group'] == 'A'][['date', 'transactionId', 'visitorId', 'revenue']]\n",
    "    .groupby('date', as_index=False)\n",
    "    .agg({'transactionId': pd.Series.nunique, 'revenue': 'sum'})\n",
    ")\n",
    "ordersADaily.columns = ['date', 'ordersPerDateA', 'revenuePerDateA']\n",
    "\n",
    "ordersACummulative = ordersADaily.apply(\n",
    "    lambda x: ordersADaily[ordersADaily['date'] <= x['date']].agg(\n",
    "        {'date': 'max', 'ordersPerDateA': 'sum', 'revenuePerDateA': 'sum'}\n",
    "    ),\n",
    "    axis=1,\n",
    ").sort_values(by=['date'])\n",
    "ordersACummulative.columns = [\n",
    "    'date',\n",
    "    'ordersCummulativeA',\n",
    "    'revenueCummulativeA',\n",
    "]\n",
    "\n",
    "ordersBDaily = (\n",
    "    orders[orders['group'] == 'B'][['date', 'transactionId', 'visitorId', 'revenue']]\n",
    "    .groupby('date', as_index=False)\n",
    "    .agg({'transactionId': pd.Series.nunique, 'revenue': 'sum'})\n",
    ")\n",
    "ordersBDaily.columns = ['date', 'ordersPerDateB', 'revenuePerDateB']\n",
    "\n",
    "ordersBCummulative = ordersBDaily.apply(\n",
    "    lambda x: ordersBDaily[ordersBDaily['date'] <= x['date']].agg(\n",
    "        {'date': 'max', 'ordersPerDateB': 'sum', 'revenuePerDateB': 'sum'}\n",
    "    ),\n",
    "    axis=1,\n",
    ").sort_values(by=['date'])\n",
    "ordersBCummulative.columns = [\n",
    "    'date',\n",
    "    'ordersCummulativeB',\n",
    "    'revenueCummulativeB',\n",
    "]\n",
    "\n",
    "data = (\n",
    "    ordersADaily.merge(\n",
    "        ordersBDaily, left_on='date', right_on='date', how='left'\n",
    "    )\n",
    "    .merge(ordersACummulative, left_on='date', right_on='date', how='left')\n",
    "    .merge(ordersBCummulative, left_on='date', right_on='date', how='left')\n",
    "    .merge(visitorsADaily, left_on='date', right_on='date', how='left')\n",
    "    .merge(visitorsBDaily, left_on='date', right_on='date', how='left')\n",
    "    .merge(visitorsACummulative, left_on='date', right_on='date', how='left')\n",
    "    .merge(visitorsBCummulative, left_on='date', right_on='date', how='left')\n",
    ")\n",
    "\n",
    "print(data.head(5)) \n"
   ]
  },
  {
   "cell_type": "markdown",
   "metadata": {},
   "source": []
  },
  {
   "cell_type": "code",
   "execution_count": 29,
   "metadata": {},
   "outputs": [],
   "source": [
    "ordersByUsersA = (\n",
    "    orders[orders['group'] == 'A']\n",
    "    .groupby('visitorId', as_index=False)\n",
    "    .agg({'transactionId': pd.Series.nunique})\n",
    ")\n",
    "ordersByUsersA.columns = ['visitorId', 'orders']\n",
    "\n",
    "ordersByUsersB = (\n",
    "    orders[orders['group'] == 'B']\n",
    "    .groupby('visitorId', as_index=False)\n",
    "    .agg({'transactionId': pd.Series.nunique})\n",
    ")\n",
    "ordersByUsersB.columns = ['visitorId', 'orders']\n",
    "\n"
   ]
  },
  {
   "cell_type": "code",
   "execution_count": 30,
   "metadata": {},
   "outputs": [
    {
     "data": {
      "text/plain": [
       "[0      1\n",
       " 1      1\n",
       " 2      1\n",
       " 3      1\n",
       " 4      1\n",
       "       ..\n",
       " 498    1\n",
       " 499    7\n",
       " 500    1\n",
       " 501    1\n",
       " 502    1\n",
       " Name: orders, Length: 503, dtype: int64,\n",
       " 0        0\n",
       " 1        0\n",
       " 2        0\n",
       " 3        0\n",
       " 4        0\n",
       "         ..\n",
       " 18228    0\n",
       " 18229    0\n",
       " 18230    0\n",
       " 18231    0\n",
       " 18232    0\n",
       " Name: orders, Length: 18233, dtype: int64]"
      ]
     },
     "execution_count": 30,
     "metadata": {},
     "output_type": "execute_result"
    }
   ],
   "source": [
    "pd.Series(0, index=np.arange(data['visitorsPerDateA'].sum() - len(ordersByUsersA['orders'])), name='orders')\n",
    "[ordersByUsersA['orders'],pd.Series(0, index=np.arange(data['visitorsPerDateA'].sum() - len(ordersByUsersA['orders'])), name='orders')]"
   ]
  },
  {
   "cell_type": "code",
   "execution_count": 31,
   "metadata": {},
   "outputs": [],
   "source": [
    "sampleA = pd.concat([ordersByUsersA['orders'],pd.Series(0, index=np.arange(data['visitorsPerDateA'].sum() - len(ordersByUsersA['orders'])), name='orders')],axis=0)\n",
    "\n",
    "sampleB = pd.concat([ordersByUsersB['orders'],pd.Series(0, index=np.arange(data['visitorsPerDateB'].sum() - len(ordersByUsersB['orders'])), name='orders')],axis=0)"
   ]
  },
  {
   "cell_type": "markdown",
   "metadata": {},
   "source": [
    "<div class=\"alert alert-block alert-info\">\n",
    " Сформулируем нулевую и альтернативную гипотезу:\n",
    "Нулевая гипотеза: различий в среднем количестве заказов между группами нет. Альтернативная гипотеза: различия в среднем количестве заказов между группами есть. \n",
    "</div>"
   ]
  },
  {
   "cell_type": "markdown",
   "metadata": {},
   "source": []
  },
  {
   "cell_type": "markdown",
   "metadata": {},
   "source": []
  },
  {
   "cell_type": "code",
   "execution_count": 32,
   "metadata": {},
   "outputs": [
    {
     "name": "stdout",
     "output_type": "stream",
     "text": [
      "0.017\n",
      "0.138\n"
     ]
    }
   ],
   "source": [
    "\n",
    "print(\"{0:.3f}\".format(stats.mannwhitneyu(sampleA, sampleB)[1]))\n",
    "\n",
    "print(\"{0:.3f}\".format(sampleB.mean() / sampleA.mean() - 1))\n"
   ]
  },
  {
   "cell_type": "markdown",
   "metadata": {},
   "source": [
    "Первое число более 0.05, а значит нулевую гипотезу о том, что статистически значимых различий в среднем числе заказов между группами нет - мы не отвергаем.\n",
    "Выигрыш группы B - равен 13.8%"
   ]
  },
  {
   "cell_type": "markdown",
   "metadata": {},
   "source": []
  },
  {
   "cell_type": "markdown",
   "metadata": {},
   "source": [
    "Теперь мы будем проверять статистическую значимость различий в среднем чеке между сегментами. Нулевая гипотеза: различий в среднем чеке между группами нет. Альтернативная гипотеза: различия в среднем чеке между группами есть. "
   ]
  },
  {
   "cell_type": "markdown",
   "metadata": {},
   "source": []
  },
  {
   "cell_type": "code",
   "execution_count": 33,
   "metadata": {
    "scrolled": true
   },
   "outputs": [
    {
     "name": "stdout",
     "output_type": "stream",
     "text": [
      "0.729\n",
      "0.259\n"
     ]
    }
   ],
   "source": [
    "print('{0:.3f}'.format(stats.mannwhitneyu(orders[orders['group']=='A']['revenue'], orders[orders['group']=='B']['revenue'])[1]))\n",
    "print('{0:.3f}'.format(orders[orders['group']=='B']['revenue'].mean()/orders[orders['group']=='A']['revenue'].mean()-1))"
   ]
  },
  {
   "cell_type": "markdown",
   "metadata": {},
   "source": [
    "P-value 0.729, что больше, чем 0.05, cледовательно  мы не будем отвергать нулевую гипотезу и считаем, что в среднем чеке различий нет. Впрочем, средний чек группы А  ниже среднего чека группы B."
   ]
  },
  {
   "cell_type": "markdown",
   "metadata": {},
   "source": []
  },
  {
   "cell_type": "code",
   "execution_count": 34,
   "metadata": {},
   "outputs": [
    {
     "name": "stdout",
     "output_type": "stream",
     "text": [
      "1099    148427295\n",
      "18      199603092\n",
      "928     204675465\n",
      "23      237748145\n",
      "37      249864742\n",
      "Name: visitorId, dtype: int64\n",
      "74\n"
     ]
    }
   ],
   "source": [
    "usersWithManyOrders = pd.concat(\n",
    "    [\n",
    "        ordersByUsersA[ordersByUsersA['orders'] > 2]['visitorId'],\n",
    "        ordersByUsersB[ordersByUsersB['orders'] > 2]['visitorId'],\n",
    "    ],\n",
    "    axis=0,\n",
    ")\n",
    "usersWithExpensiveOrders = orders[orders['revenue'] > 28000]['visitorId']\n",
    "abnormalUsers = (\n",
    "    pd.concat([usersWithManyOrders, usersWithExpensiveOrders], axis=0)\n",
    "    .drop_duplicates()\n",
    "    .sort_values()\n",
    ")\n",
    "print(abnormalUsers.head(5))\n",
    "print(abnormalUsers.shape[0])"
   ]
  },
  {
   "cell_type": "markdown",
   "metadata": {},
   "source": []
  },
  {
   "cell_type": "markdown",
   "metadata": {},
   "source": []
  },
  {
   "cell_type": "markdown",
   "metadata": {},
   "source": [
    "<div class=\"alert alert-block alert-info\">\n",
    "теперь у нас 74 аномальных значения</div>"
   ]
  },
  {
   "cell_type": "code",
   "execution_count": 35,
   "metadata": {},
   "outputs": [
    {
     "name": "stdout",
     "output_type": "stream",
     "text": [
      "0.013\n",
      "0.173\n"
     ]
    }
   ],
   "source": [
    "sampleAFiltered = pd.concat(\n",
    "    [\n",
    "        ordersByUsersA[\n",
    "            np.logical_not(ordersByUsersA['visitorId'].isin(abnormalUsers))\n",
    "        ]['orders'],\n",
    "        pd.Series(\n",
    "            0,\n",
    "            index=np.arange(\n",
    "                data['visitorsPerDateA'].sum() - len(ordersByUsersA['orders'])\n",
    "            ),\n",
    "            name='orders',\n",
    "        ),\n",
    "    ],\n",
    "    axis=0,\n",
    ")\n",
    "\n",
    "sampleBFiltered = pd.concat(\n",
    "    [\n",
    "        ordersByUsersB[\n",
    "            np.logical_not(ordersByUsersB['visitorId'].isin(abnormalUsers))\n",
    "        ]['orders'],\n",
    "        pd.Series(\n",
    "            0,\n",
    "            index=np.arange(\n",
    "                data['visitorsPerDateB'].sum() - len(ordersByUsersB['orders'])\n",
    "            ),\n",
    "            name='orders',\n",
    "        ),\n",
    "    ],\n",
    "    axis=0,\n",
    ")\n",
    "print('{0:.3f}'.format(stats.mannwhitneyu(sampleAFiltered, sampleBFiltered)[1]))\n",
    "print('{0:.3f}'.format(sampleBFiltered.mean()/sampleAFiltered.mean()-1))"
   ]
  },
  {
   "cell_type": "markdown",
   "metadata": {},
   "source": [
    "узнаем, как поменялись результаты нашего теста, после подсчета аномальных значений:\n",
    "Результаты по среднему количеству заказов практически не изменились. "
   ]
  },
  {
   "cell_type": "code",
   "execution_count": 36,
   "metadata": {},
   "outputs": [
    {
     "name": "stdout",
     "output_type": "stream",
     "text": [
      "0.738\n",
      "-0.020\n"
     ]
    }
   ],
   "source": [
    "print(\n",
    "    '{0:.3f}'.format(\n",
    "        stats.mannwhitneyu(\n",
    "            orders[\n",
    "                np.logical_and(\n",
    "                    orders['group'] == 'A',\n",
    "                    np.logical_not(orders['visitorId'].isin(abnormalUsers)),\n",
    "                )\n",
    "            ]['revenue'],\n",
    "            orders[\n",
    "                np.logical_and(\n",
    "                    orders['group'] == 'B',\n",
    "                    np.logical_not(orders['visitorId'].isin(abnormalUsers)),\n",
    "                )\n",
    "            ]['revenue'],\n",
    "        )[1]\n",
    "    )\n",
    ")\n",
    "\n",
    "print(\n",
    "    \"{0:.3f}\".format(\n",
    "        orders[\n",
    "            np.logical_and(\n",
    "                orders['group'] == 'B',\n",
    "                np.logical_not(orders['visitorId'].isin(abnormalUsers)),\n",
    "            )\n",
    "        ]['revenue'].mean()\n",
    "        / orders[\n",
    "            np.logical_and(\n",
    "                orders['group'] == 'A',\n",
    "                np.logical_not(orders['visitorId'].isin(abnormalUsers)),\n",
    "            )\n",
    "        ]['revenue'].mean()\n",
    "        - 1\n",
    "    )\n",
    ")"
   ]
  },
  {
   "cell_type": "markdown",
   "metadata": {},
   "source": [
    "P.value увеличился, а разница между сегментами сократилась."
   ]
  },
  {
   "cell_type": "markdown",
   "metadata": {},
   "source": []
  },
  {
   "cell_type": "markdown",
   "metadata": {},
   "source": [
    "\n",
    "После получения всех данных, мы можем принимать решение об остановке теста и признать группу В лучше, чем группа А.\n",
    "Так как по полученным графикам, мы видим превосходство этой группы в подавляющем количестве.\n"
   ]
  },
  {
   "cell_type": "markdown",
   "metadata": {},
   "source": []
  },
  {
   "cell_type": "markdown",
   "metadata": {},
   "source": [
    "<div class=\"alert alert-block alert-info\">\n",
    "\n",
    "Большая относительная разница при отсутствии статистической значимости указывает на влияние выбросов на метрику, к таким мы можем относить большие суммы или наоборот большие по числу заказов данных,\n",
    "Мы использовали несколько тестов, в которых сравнивали средние значения по двум показателям: сумма выручки и числу заказу, в результате выявили то, что группа В приносит большую выгоду, по сравнению с группой А,\n",
    "Например, . Выигрыш группы B - равен 13.8%  мы получили этот результат по среднему числу заказов,    \n",
    "25,9% выигрыш группы В по значениям среднего чека\n",
    "Эти данные уже могут нам прояснить ситуацию на положение дел, группа В превзошла группу А по этим признакам.\n",
    "\n",
    "</div>"
   ]
  },
  {
   "cell_type": "markdown",
   "metadata": {},
   "source": []
  },
  {
   "cell_type": "code",
   "execution_count": null,
   "metadata": {},
   "outputs": [],
   "source": []
  }
 ],
 "metadata": {
  "ExecuteTimeLog": [
   {
    "duration": 524,
    "start_time": "2023-04-07T08:05:06.404Z"
   },
   {
    "duration": 32,
    "start_time": "2023-04-07T08:05:41.769Z"
   },
   {
    "duration": 1325,
    "start_time": "2023-04-07T08:06:25.306Z"
   },
   {
    "duration": 1719,
    "start_time": "2023-04-07T08:06:38.703Z"
   },
   {
    "duration": 4,
    "start_time": "2023-04-07T08:09:05.156Z"
   },
   {
    "duration": 6,
    "start_time": "2023-04-07T08:09:10.955Z"
   },
   {
    "duration": 13,
    "start_time": "2023-04-07T08:14:21.967Z"
   },
   {
    "duration": 12,
    "start_time": "2023-04-07T08:14:55.854Z"
   },
   {
    "duration": 3,
    "start_time": "2023-04-07T08:15:44.255Z"
   },
   {
    "duration": 11,
    "start_time": "2023-04-07T08:15:45.823Z"
   },
   {
    "duration": 10,
    "start_time": "2023-04-07T08:15:46.367Z"
   },
   {
    "duration": 11,
    "start_time": "2023-04-07T08:16:35.997Z"
   },
   {
    "duration": 11,
    "start_time": "2023-04-07T08:16:36.145Z"
   },
   {
    "duration": 7,
    "start_time": "2023-04-07T08:27:22.430Z"
   },
   {
    "duration": 13,
    "start_time": "2023-04-07T08:27:41.179Z"
   },
   {
    "duration": 11,
    "start_time": "2023-04-07T08:28:00.390Z"
   },
   {
    "duration": 193,
    "start_time": "2023-04-07T08:29:15.503Z"
   },
   {
    "duration": 101,
    "start_time": "2023-04-07T08:29:22.941Z"
   },
   {
    "duration": 52,
    "start_time": "2023-04-07T08:29:33.959Z"
   },
   {
    "duration": 7,
    "start_time": "2023-04-07T08:30:12.207Z"
   },
   {
    "duration": 7,
    "start_time": "2023-04-07T08:30:21.736Z"
   },
   {
    "duration": 10,
    "start_time": "2023-04-07T08:30:45.327Z"
   },
   {
    "duration": 466,
    "start_time": "2023-04-07T08:30:54.321Z"
   },
   {
    "duration": 42,
    "start_time": "2023-04-07T08:30:54.789Z"
   },
   {
    "duration": 3,
    "start_time": "2023-04-07T08:30:54.832Z"
   },
   {
    "duration": 39,
    "start_time": "2023-04-07T08:30:54.837Z"
   },
   {
    "duration": 24,
    "start_time": "2023-04-07T08:30:54.877Z"
   },
   {
    "duration": 38,
    "start_time": "2023-04-07T08:30:54.903Z"
   },
   {
    "duration": 24,
    "start_time": "2023-04-07T08:30:54.943Z"
   },
   {
    "duration": 39,
    "start_time": "2023-04-07T08:30:54.969Z"
   },
   {
    "duration": 40,
    "start_time": "2023-04-07T08:30:55.010Z"
   },
   {
    "duration": 29,
    "start_time": "2023-04-07T08:30:55.052Z"
   },
   {
    "duration": 35,
    "start_time": "2023-04-07T08:30:55.083Z"
   },
   {
    "duration": 28,
    "start_time": "2023-04-07T08:31:18.304Z"
   },
   {
    "duration": 495,
    "start_time": "2023-04-07T08:32:49.553Z"
   },
   {
    "duration": 1303,
    "start_time": "2023-04-07T08:34:59.949Z"
   },
   {
    "duration": 0,
    "start_time": "2023-04-07T08:35:01.254Z"
   },
   {
    "duration": 857,
    "start_time": "2023-04-07T08:35:59.049Z"
   },
   {
    "duration": 968,
    "start_time": "2023-04-07T08:37:14.127Z"
   },
   {
    "duration": 886,
    "start_time": "2023-04-07T08:37:52.963Z"
   },
   {
    "duration": 955,
    "start_time": "2023-04-07T08:38:01.757Z"
   },
   {
    "duration": 13,
    "start_time": "2023-04-07T08:38:17.077Z"
   },
   {
    "duration": 13,
    "start_time": "2023-04-07T08:38:31.192Z"
   },
   {
    "duration": 945,
    "start_time": "2023-04-07T08:38:46.378Z"
   },
   {
    "duration": 48,
    "start_time": "2023-04-07T08:38:47.325Z"
   },
   {
    "duration": 3,
    "start_time": "2023-04-07T08:38:47.375Z"
   },
   {
    "duration": 32,
    "start_time": "2023-04-07T08:38:47.380Z"
   },
   {
    "duration": 40,
    "start_time": "2023-04-07T08:38:47.415Z"
   },
   {
    "duration": 25,
    "start_time": "2023-04-07T08:38:47.457Z"
   },
   {
    "duration": 25,
    "start_time": "2023-04-07T08:38:47.484Z"
   },
   {
    "duration": 60,
    "start_time": "2023-04-07T08:38:47.511Z"
   },
   {
    "duration": 26,
    "start_time": "2023-04-07T08:38:47.572Z"
   },
   {
    "duration": 41,
    "start_time": "2023-04-07T08:38:47.599Z"
   },
   {
    "duration": 48,
    "start_time": "2023-04-07T08:38:47.642Z"
   },
   {
    "duration": 23,
    "start_time": "2023-04-07T08:38:47.692Z"
   },
   {
    "duration": 28,
    "start_time": "2023-04-07T08:38:47.720Z"
   },
   {
    "duration": 92,
    "start_time": "2023-04-07T08:44:59.254Z"
   },
   {
    "duration": 9,
    "start_time": "2023-04-07T08:45:21.385Z"
   },
   {
    "duration": 9,
    "start_time": "2023-04-07T08:45:31.051Z"
   },
   {
    "duration": 112,
    "start_time": "2023-04-07T08:45:49.682Z"
   },
   {
    "duration": 10,
    "start_time": "2023-04-07T08:45:53.157Z"
   },
   {
    "duration": 413,
    "start_time": "2023-04-07T08:46:06.077Z"
   },
   {
    "duration": 121,
    "start_time": "2023-04-07T08:46:42.561Z"
   },
   {
    "duration": 494,
    "start_time": "2023-04-07T08:46:47.896Z"
   },
   {
    "duration": 924,
    "start_time": "2023-04-07T11:05:59.663Z"
   },
   {
    "duration": 51,
    "start_time": "2023-04-07T11:06:00.590Z"
   },
   {
    "duration": 48,
    "start_time": "2023-04-07T11:06:00.643Z"
   },
   {
    "duration": 14,
    "start_time": "2023-04-07T11:06:00.693Z"
   },
   {
    "duration": 45,
    "start_time": "2023-04-07T11:06:00.709Z"
   },
   {
    "duration": 40,
    "start_time": "2023-04-07T11:06:00.755Z"
   },
   {
    "duration": 52,
    "start_time": "2023-04-07T11:06:00.797Z"
   },
   {
    "duration": 40,
    "start_time": "2023-04-07T11:06:00.851Z"
   },
   {
    "duration": 68,
    "start_time": "2023-04-07T11:06:00.893Z"
   },
   {
    "duration": 61,
    "start_time": "2023-04-07T11:06:00.964Z"
   },
   {
    "duration": 70,
    "start_time": "2023-04-07T11:06:01.027Z"
   },
   {
    "duration": 108,
    "start_time": "2023-04-07T11:06:01.099Z"
   },
   {
    "duration": 71,
    "start_time": "2023-04-07T11:06:01.209Z"
   },
   {
    "duration": 90,
    "start_time": "2023-04-07T11:06:01.282Z"
   },
   {
    "duration": 75,
    "start_time": "2023-04-07T11:06:01.374Z"
   },
   {
    "duration": 61,
    "start_time": "2023-04-07T11:06:01.450Z"
   },
   {
    "duration": 125,
    "start_time": "2023-04-07T11:07:16.636Z"
   },
   {
    "duration": 32,
    "start_time": "2023-04-07T11:08:19.508Z"
   },
   {
    "duration": 289,
    "start_time": "2023-04-07T11:08:47.801Z"
   },
   {
    "duration": 13,
    "start_time": "2023-04-07T11:10:13.942Z"
   },
   {
    "duration": 512,
    "start_time": "2023-04-07T11:10:25.319Z"
   },
   {
    "duration": 1241,
    "start_time": "2023-04-07T11:10:30.855Z"
   },
   {
    "duration": 42,
    "start_time": "2023-04-07T11:10:32.098Z"
   },
   {
    "duration": 22,
    "start_time": "2023-04-07T11:10:32.142Z"
   },
   {
    "duration": 12,
    "start_time": "2023-04-07T11:10:32.168Z"
   },
   {
    "duration": 26,
    "start_time": "2023-04-07T11:10:32.182Z"
   },
   {
    "duration": 30,
    "start_time": "2023-04-07T11:10:32.210Z"
   },
   {
    "duration": 40,
    "start_time": "2023-04-07T11:10:32.243Z"
   },
   {
    "duration": 46,
    "start_time": "2023-04-07T11:10:32.285Z"
   },
   {
    "duration": 40,
    "start_time": "2023-04-07T11:10:32.333Z"
   },
   {
    "duration": 37,
    "start_time": "2023-04-07T11:10:32.376Z"
   },
   {
    "duration": 38,
    "start_time": "2023-04-07T11:10:32.416Z"
   },
   {
    "duration": 42,
    "start_time": "2023-04-07T11:10:32.456Z"
   },
   {
    "duration": 57,
    "start_time": "2023-04-07T11:10:32.501Z"
   },
   {
    "duration": 69,
    "start_time": "2023-04-07T11:10:32.561Z"
   },
   {
    "duration": 36,
    "start_time": "2023-04-07T11:10:32.632Z"
   },
   {
    "duration": 54,
    "start_time": "2023-04-07T11:10:32.670Z"
   },
   {
    "duration": 369,
    "start_time": "2023-04-07T11:10:32.727Z"
   },
   {
    "duration": 338,
    "start_time": "2023-04-07T11:10:33.098Z"
   },
   {
    "duration": 193,
    "start_time": "2023-04-07T11:12:33.347Z"
   },
   {
    "duration": 76,
    "start_time": "2023-04-07T11:13:00.955Z"
   },
   {
    "duration": 284,
    "start_time": "2023-04-07T11:13:10.768Z"
   },
   {
    "duration": 190,
    "start_time": "2023-04-07T11:13:18.207Z"
   },
   {
    "duration": 195,
    "start_time": "2023-04-07T11:13:25.456Z"
   },
   {
    "duration": 188,
    "start_time": "2023-04-07T11:13:29.897Z"
   },
   {
    "duration": 191,
    "start_time": "2023-04-07T11:13:37.160Z"
   },
   {
    "duration": 138,
    "start_time": "2023-04-07T11:13:47.895Z"
   },
   {
    "duration": 199,
    "start_time": "2023-04-07T11:13:51.568Z"
   },
   {
    "duration": 244,
    "start_time": "2023-04-07T11:13:57.005Z"
   },
   {
    "duration": 266,
    "start_time": "2023-04-07T11:14:11.144Z"
   },
   {
    "duration": 208,
    "start_time": "2023-04-07T11:14:16.232Z"
   },
   {
    "duration": 198,
    "start_time": "2023-04-07T11:15:37.101Z"
   },
   {
    "duration": 206,
    "start_time": "2023-04-07T11:16:07.426Z"
   },
   {
    "duration": 204,
    "start_time": "2023-04-07T11:16:17.361Z"
   },
   {
    "duration": 354,
    "start_time": "2023-04-07T11:17:24.306Z"
   },
   {
    "duration": 237,
    "start_time": "2023-04-07T11:20:16.399Z"
   },
   {
    "duration": 236,
    "start_time": "2023-04-07T11:24:35.728Z"
   },
   {
    "duration": 232,
    "start_time": "2023-04-07T11:24:41.999Z"
   },
   {
    "duration": 350,
    "start_time": "2023-04-07T11:24:48.302Z"
   },
   {
    "duration": 247,
    "start_time": "2023-04-07T11:24:55.063Z"
   },
   {
    "duration": 317,
    "start_time": "2023-04-07T11:25:08.447Z"
   },
   {
    "duration": 207,
    "start_time": "2023-04-07T11:42:17.492Z"
   },
   {
    "duration": 265,
    "start_time": "2023-04-07T11:42:22.307Z"
   },
   {
    "duration": 1263,
    "start_time": "2023-04-07T11:42:31.758Z"
   },
   {
    "duration": 41,
    "start_time": "2023-04-07T11:42:33.023Z"
   },
   {
    "duration": 21,
    "start_time": "2023-04-07T11:42:33.066Z"
   },
   {
    "duration": 6,
    "start_time": "2023-04-07T11:42:33.089Z"
   },
   {
    "duration": 14,
    "start_time": "2023-04-07T11:42:33.098Z"
   },
   {
    "duration": 20,
    "start_time": "2023-04-07T11:42:33.113Z"
   },
   {
    "duration": 17,
    "start_time": "2023-04-07T11:42:33.135Z"
   },
   {
    "duration": 17,
    "start_time": "2023-04-07T11:42:33.153Z"
   },
   {
    "duration": 36,
    "start_time": "2023-04-07T11:42:33.173Z"
   },
   {
    "duration": 33,
    "start_time": "2023-04-07T11:42:33.211Z"
   },
   {
    "duration": 28,
    "start_time": "2023-04-07T11:42:33.246Z"
   },
   {
    "duration": 30,
    "start_time": "2023-04-07T11:42:33.277Z"
   },
   {
    "duration": 31,
    "start_time": "2023-04-07T11:42:33.309Z"
   },
   {
    "duration": 36,
    "start_time": "2023-04-07T11:42:33.343Z"
   },
   {
    "duration": 39,
    "start_time": "2023-04-07T11:42:33.381Z"
   },
   {
    "duration": 25,
    "start_time": "2023-04-07T11:42:33.422Z"
   },
   {
    "duration": 323,
    "start_time": "2023-04-07T11:42:33.449Z"
   },
   {
    "duration": 316,
    "start_time": "2023-04-07T11:42:33.774Z"
   },
   {
    "duration": 215,
    "start_time": "2023-04-07T11:42:34.092Z"
   },
   {
    "duration": 338,
    "start_time": "2023-04-07T11:42:34.308Z"
   },
   {
    "duration": 338,
    "start_time": "2023-04-07T11:42:34.649Z"
   },
   {
    "duration": 254,
    "start_time": "2023-04-07T11:44:38.009Z"
   },
   {
    "duration": 320,
    "start_time": "2023-04-07T11:49:10.627Z"
   },
   {
    "duration": 302,
    "start_time": "2023-04-07T11:49:33.828Z"
   },
   {
    "duration": 194,
    "start_time": "2023-04-07T11:50:14.323Z"
   },
   {
    "duration": 303,
    "start_time": "2023-04-07T11:50:17.644Z"
   },
   {
    "duration": 45,
    "start_time": "2023-04-10T07:14:03.287Z"
   },
   {
    "duration": 1287,
    "start_time": "2023-04-10T07:14:09.279Z"
   },
   {
    "duration": 149,
    "start_time": "2023-04-10T07:14:10.568Z"
   },
   {
    "duration": 66,
    "start_time": "2023-04-10T07:14:10.718Z"
   },
   {
    "duration": 3,
    "start_time": "2023-04-10T07:14:10.786Z"
   },
   {
    "duration": 18,
    "start_time": "2023-04-10T07:14:10.790Z"
   },
   {
    "duration": 13,
    "start_time": "2023-04-10T07:14:10.809Z"
   },
   {
    "duration": 7,
    "start_time": "2023-04-10T07:14:10.823Z"
   },
   {
    "duration": 7,
    "start_time": "2023-04-10T07:14:10.831Z"
   },
   {
    "duration": 8,
    "start_time": "2023-04-10T07:14:10.839Z"
   },
   {
    "duration": 11,
    "start_time": "2023-04-10T07:14:10.849Z"
   },
   {
    "duration": 10,
    "start_time": "2023-04-10T07:14:10.862Z"
   },
   {
    "duration": 7,
    "start_time": "2023-04-10T07:14:10.873Z"
   },
   {
    "duration": 15,
    "start_time": "2023-04-10T07:14:10.881Z"
   },
   {
    "duration": 16,
    "start_time": "2023-04-10T07:14:10.897Z"
   },
   {
    "duration": 8,
    "start_time": "2023-04-10T07:14:10.914Z"
   },
   {
    "duration": 7,
    "start_time": "2023-04-10T07:14:10.924Z"
   },
   {
    "duration": 290,
    "start_time": "2023-04-10T07:14:10.932Z"
   },
   {
    "duration": 252,
    "start_time": "2023-04-10T07:14:11.224Z"
   },
   {
    "duration": 167,
    "start_time": "2023-04-10T07:14:11.477Z"
   },
   {
    "duration": 357,
    "start_time": "2023-04-10T07:14:11.646Z"
   },
   {
    "duration": 150,
    "start_time": "2023-04-10T07:14:12.005Z"
   },
   {
    "duration": 293,
    "start_time": "2023-04-10T07:14:12.156Z"
   },
   {
    "duration": 103,
    "start_time": "2023-04-10T07:14:12.450Z"
   },
   {
    "duration": 91,
    "start_time": "2023-04-10T07:14:51.190Z"
   },
   {
    "duration": 108,
    "start_time": "2023-04-10T07:14:51.364Z"
   },
   {
    "duration": 4,
    "start_time": "2023-04-10T07:15:53.755Z"
   },
   {
    "duration": 3,
    "start_time": "2023-04-10T07:15:59.010Z"
   },
   {
    "duration": 104,
    "start_time": "2023-04-10T07:24:17.838Z"
   },
   {
    "duration": 4,
    "start_time": "2023-04-10T07:25:59.791Z"
   },
   {
    "duration": 4,
    "start_time": "2023-04-10T07:26:22.530Z"
   },
   {
    "duration": 4,
    "start_time": "2023-04-10T07:30:10.217Z"
   },
   {
    "duration": 115,
    "start_time": "2023-04-10T07:30:35.857Z"
   },
   {
    "duration": 14,
    "start_time": "2023-04-10T07:31:36.952Z"
   },
   {
    "duration": 13,
    "start_time": "2023-04-10T07:31:58.411Z"
   },
   {
    "duration": 9,
    "start_time": "2023-04-10T07:32:30.387Z"
   },
   {
    "duration": 95,
    "start_time": "2023-04-10T07:32:34.859Z"
   },
   {
    "duration": 161,
    "start_time": "2023-04-10T07:32:38.093Z"
   },
   {
    "duration": 4,
    "start_time": "2023-04-10T07:32:43.036Z"
   },
   {
    "duration": 1073,
    "start_time": "2023-04-10T07:33:06.116Z"
   },
   {
    "duration": 43,
    "start_time": "2023-04-10T07:33:07.191Z"
   },
   {
    "duration": 18,
    "start_time": "2023-04-10T07:33:07.235Z"
   },
   {
    "duration": 3,
    "start_time": "2023-04-10T07:33:07.254Z"
   },
   {
    "duration": 13,
    "start_time": "2023-04-10T07:33:07.258Z"
   },
   {
    "duration": 8,
    "start_time": "2023-04-10T07:33:07.272Z"
   },
   {
    "duration": 11,
    "start_time": "2023-04-10T07:33:07.282Z"
   },
   {
    "duration": 11,
    "start_time": "2023-04-10T07:33:07.294Z"
   },
   {
    "duration": 8,
    "start_time": "2023-04-10T07:33:07.306Z"
   },
   {
    "duration": 15,
    "start_time": "2023-04-10T07:33:07.316Z"
   },
   {
    "duration": 10,
    "start_time": "2023-04-10T07:33:07.332Z"
   },
   {
    "duration": 15,
    "start_time": "2023-04-10T07:33:07.344Z"
   },
   {
    "duration": 15,
    "start_time": "2023-04-10T07:33:07.360Z"
   },
   {
    "duration": 11,
    "start_time": "2023-04-10T07:33:07.376Z"
   },
   {
    "duration": 7,
    "start_time": "2023-04-10T07:33:07.388Z"
   },
   {
    "duration": 11,
    "start_time": "2023-04-10T07:33:07.397Z"
   },
   {
    "duration": 263,
    "start_time": "2023-04-10T07:33:07.409Z"
   },
   {
    "duration": 249,
    "start_time": "2023-04-10T07:33:07.673Z"
   },
   {
    "duration": 172,
    "start_time": "2023-04-10T07:33:07.923Z"
   },
   {
    "duration": 265,
    "start_time": "2023-04-10T07:33:08.097Z"
   },
   {
    "duration": 154,
    "start_time": "2023-04-10T07:33:08.371Z"
   },
   {
    "duration": 286,
    "start_time": "2023-04-10T07:33:08.526Z"
   },
   {
    "duration": 9,
    "start_time": "2023-04-10T07:33:08.813Z"
   },
   {
    "duration": 125,
    "start_time": "2023-04-10T07:33:08.823Z"
   },
   {
    "duration": 4,
    "start_time": "2023-04-10T07:33:08.949Z"
   },
   {
    "duration": 121,
    "start_time": "2023-04-10T07:33:08.954Z"
   },
   {
    "duration": 4,
    "start_time": "2023-04-10T07:33:09.077Z"
   },
   {
    "duration": 106,
    "start_time": "2023-04-10T07:34:26.284Z"
   },
   {
    "duration": 97,
    "start_time": "2023-04-10T08:03:17.429Z"
   },
   {
    "duration": 129,
    "start_time": "2023-04-10T08:04:05.399Z"
   },
   {
    "duration": 4277,
    "start_time": "2023-04-10T08:04:37.621Z"
   },
   {
    "duration": 85,
    "start_time": "2023-04-10T08:06:03.337Z"
   },
   {
    "duration": 132,
    "start_time": "2023-04-10T08:06:07.919Z"
   },
   {
    "duration": 1454,
    "start_time": "2023-04-10T08:09:38.529Z"
   },
   {
    "duration": 147,
    "start_time": "2023-04-10T08:10:27.018Z"
   },
   {
    "duration": 123,
    "start_time": "2023-04-10T08:10:44.416Z"
   },
   {
    "duration": 98,
    "start_time": "2023-04-10T08:14:42.325Z"
   },
   {
    "duration": 200,
    "start_time": "2023-04-10T08:15:41.229Z"
   },
   {
    "duration": 153,
    "start_time": "2023-04-10T08:15:55.628Z"
   },
   {
    "duration": 6,
    "start_time": "2023-04-10T08:16:06.273Z"
   },
   {
    "duration": 8,
    "start_time": "2023-04-10T08:16:21.860Z"
   },
   {
    "duration": 6,
    "start_time": "2023-04-10T08:16:35.636Z"
   },
   {
    "duration": 17,
    "start_time": "2023-04-10T08:16:55.742Z"
   },
   {
    "duration": 9,
    "start_time": "2023-04-10T08:17:59.334Z"
   },
   {
    "duration": 22,
    "start_time": "2023-04-10T08:18:21.373Z"
   },
   {
    "duration": 11,
    "start_time": "2023-04-10T08:22:57.669Z"
   },
   {
    "duration": 3232,
    "start_time": "2023-04-10T08:27:02.330Z"
   },
   {
    "duration": 4114,
    "start_time": "2023-04-10T08:27:15.579Z"
   },
   {
    "duration": 9,
    "start_time": "2023-04-10T08:27:49.112Z"
   },
   {
    "duration": 2811,
    "start_time": "2023-04-10T08:28:38.555Z"
   },
   {
    "duration": 7,
    "start_time": "2023-04-10T08:28:50.236Z"
   },
   {
    "duration": 24,
    "start_time": "2023-04-10T08:28:59.844Z"
   },
   {
    "duration": 5767,
    "start_time": "2023-04-10T08:30:12.500Z"
   },
   {
    "duration": 12,
    "start_time": "2023-04-10T08:30:22.661Z"
   },
   {
    "duration": 13,
    "start_time": "2023-04-10T08:30:49.436Z"
   },
   {
    "duration": 5,
    "start_time": "2023-04-10T08:45:05.380Z"
   },
   {
    "duration": 8,
    "start_time": "2023-04-10T08:45:10.236Z"
   },
   {
    "duration": 10,
    "start_time": "2023-04-10T08:45:47.452Z"
   },
   {
    "duration": 182,
    "start_time": "2023-04-10T08:46:08.021Z"
   },
   {
    "duration": 7,
    "start_time": "2023-04-10T08:46:14.933Z"
   },
   {
    "duration": 10,
    "start_time": "2023-04-10T08:46:18.668Z"
   },
   {
    "duration": 12,
    "start_time": "2023-04-10T08:49:22.872Z"
   },
   {
    "duration": 9,
    "start_time": "2023-04-10T08:49:28.118Z"
   },
   {
    "duration": 8,
    "start_time": "2023-04-10T08:49:32.734Z"
   },
   {
    "duration": 8,
    "start_time": "2023-04-10T08:49:52.510Z"
   },
   {
    "duration": 10,
    "start_time": "2023-04-10T08:49:59.554Z"
   },
   {
    "duration": 231,
    "start_time": "2023-04-10T08:59:24.589Z"
   },
   {
    "duration": 176,
    "start_time": "2023-04-10T08:59:52.533Z"
   },
   {
    "duration": 14,
    "start_time": "2023-04-10T09:02:43.794Z"
   },
   {
    "duration": 1135,
    "start_time": "2023-04-10T09:15:35.078Z"
   },
   {
    "duration": 43,
    "start_time": "2023-04-10T09:15:36.216Z"
   },
   {
    "duration": 18,
    "start_time": "2023-04-10T09:15:36.260Z"
   },
   {
    "duration": 7,
    "start_time": "2023-04-10T09:15:36.280Z"
   },
   {
    "duration": 17,
    "start_time": "2023-04-10T09:15:36.288Z"
   },
   {
    "duration": 21,
    "start_time": "2023-04-10T09:15:36.306Z"
   },
   {
    "duration": 21,
    "start_time": "2023-04-10T09:15:36.328Z"
   },
   {
    "duration": 15,
    "start_time": "2023-04-10T09:15:36.351Z"
   },
   {
    "duration": 5,
    "start_time": "2023-04-10T09:15:36.368Z"
   },
   {
    "duration": 20,
    "start_time": "2023-04-10T09:15:36.376Z"
   },
   {
    "duration": 12,
    "start_time": "2023-04-10T09:15:36.398Z"
   },
   {
    "duration": 21,
    "start_time": "2023-04-10T09:15:36.411Z"
   },
   {
    "duration": 12,
    "start_time": "2023-04-10T09:15:36.433Z"
   },
   {
    "duration": 14,
    "start_time": "2023-04-10T09:15:36.446Z"
   },
   {
    "duration": 41,
    "start_time": "2023-04-10T09:15:36.461Z"
   },
   {
    "duration": 7,
    "start_time": "2023-04-10T09:15:36.504Z"
   },
   {
    "duration": 28,
    "start_time": "2023-04-10T09:15:36.513Z"
   },
   {
    "duration": 275,
    "start_time": "2023-04-10T09:15:36.542Z"
   },
   {
    "duration": 263,
    "start_time": "2023-04-10T09:15:36.818Z"
   },
   {
    "duration": 177,
    "start_time": "2023-04-10T09:15:37.083Z"
   },
   {
    "duration": 298,
    "start_time": "2023-04-10T09:15:37.262Z"
   },
   {
    "duration": 157,
    "start_time": "2023-04-10T09:15:37.571Z"
   },
   {
    "duration": 269,
    "start_time": "2023-04-10T09:15:37.729Z"
   },
   {
    "duration": 11,
    "start_time": "2023-04-10T09:15:38.000Z"
   },
   {
    "duration": 117,
    "start_time": "2023-04-10T09:15:38.012Z"
   },
   {
    "duration": 3,
    "start_time": "2023-04-10T09:15:38.131Z"
   },
   {
    "duration": 121,
    "start_time": "2023-04-10T09:15:38.136Z"
   },
   {
    "duration": 4,
    "start_time": "2023-04-10T09:15:38.259Z"
   },
   {
    "duration": 209,
    "start_time": "2023-04-10T09:15:38.272Z"
   },
   {
    "duration": 134,
    "start_time": "2023-04-10T09:15:38.482Z"
   },
   {
    "duration": 8,
    "start_time": "2023-04-10T09:15:38.617Z"
   },
   {
    "duration": 8,
    "start_time": "2023-04-10T09:15:38.626Z"
   },
   {
    "duration": 36,
    "start_time": "2023-04-10T09:15:38.636Z"
   },
   {
    "duration": 11,
    "start_time": "2023-04-10T09:15:38.673Z"
   },
   {
    "duration": 38,
    "start_time": "2023-04-10T09:15:38.686Z"
   },
   {
    "duration": 25,
    "start_time": "2023-04-10T09:15:38.726Z"
   },
   {
    "duration": 22,
    "start_time": "2023-04-10T09:15:38.753Z"
   },
   {
    "duration": 1154,
    "start_time": "2023-04-10T09:20:35.996Z"
   },
   {
    "duration": 40,
    "start_time": "2023-04-10T09:20:37.151Z"
   },
   {
    "duration": 19,
    "start_time": "2023-04-10T09:20:37.193Z"
   },
   {
    "duration": 2,
    "start_time": "2023-04-10T09:20:37.214Z"
   },
   {
    "duration": 27,
    "start_time": "2023-04-10T09:20:37.218Z"
   },
   {
    "duration": 15,
    "start_time": "2023-04-10T09:20:37.246Z"
   },
   {
    "duration": 21,
    "start_time": "2023-04-10T09:20:37.263Z"
   },
   {
    "duration": 5,
    "start_time": "2023-04-10T09:20:37.286Z"
   },
   {
    "duration": 12,
    "start_time": "2023-04-10T09:20:37.293Z"
   },
   {
    "duration": 16,
    "start_time": "2023-04-10T09:20:37.308Z"
   },
   {
    "duration": 12,
    "start_time": "2023-04-10T09:20:37.325Z"
   },
   {
    "duration": 11,
    "start_time": "2023-04-10T09:20:37.338Z"
   },
   {
    "duration": 11,
    "start_time": "2023-04-10T09:20:37.350Z"
   },
   {
    "duration": 19,
    "start_time": "2023-04-10T09:20:37.362Z"
   },
   {
    "duration": 24,
    "start_time": "2023-04-10T09:20:37.382Z"
   },
   {
    "duration": 8,
    "start_time": "2023-04-10T09:20:37.408Z"
   },
   {
    "duration": 16,
    "start_time": "2023-04-10T09:20:37.418Z"
   },
   {
    "duration": 277,
    "start_time": "2023-04-10T09:20:37.435Z"
   },
   {
    "duration": 262,
    "start_time": "2023-04-10T09:20:37.713Z"
   },
   {
    "duration": 181,
    "start_time": "2023-04-10T09:20:37.977Z"
   },
   {
    "duration": 312,
    "start_time": "2023-04-10T09:20:38.160Z"
   },
   {
    "duration": 176,
    "start_time": "2023-04-10T09:20:38.473Z"
   },
   {
    "duration": 297,
    "start_time": "2023-04-10T09:20:38.651Z"
   },
   {
    "duration": 8,
    "start_time": "2023-04-10T09:20:38.950Z"
   },
   {
    "duration": 104,
    "start_time": "2023-04-10T09:20:38.971Z"
   },
   {
    "duration": 3,
    "start_time": "2023-04-10T09:20:39.077Z"
   },
   {
    "duration": 130,
    "start_time": "2023-04-10T09:20:39.082Z"
   },
   {
    "duration": 4,
    "start_time": "2023-04-10T09:20:39.215Z"
   },
   {
    "duration": 212,
    "start_time": "2023-04-10T09:20:39.220Z"
   },
   {
    "duration": 132,
    "start_time": "2023-04-10T09:20:39.434Z"
   },
   {
    "duration": 9,
    "start_time": "2023-04-10T09:20:39.568Z"
   },
   {
    "duration": 12,
    "start_time": "2023-04-10T09:20:39.578Z"
   },
   {
    "duration": 26,
    "start_time": "2023-04-10T09:20:39.592Z"
   },
   {
    "duration": 9,
    "start_time": "2023-04-10T09:20:39.619Z"
   },
   {
    "duration": 8,
    "start_time": "2023-04-10T09:20:39.629Z"
   },
   {
    "duration": 46,
    "start_time": "2023-04-10T09:20:39.639Z"
   },
   {
    "duration": 12,
    "start_time": "2023-04-10T09:20:39.687Z"
   },
   {
    "duration": 1488,
    "start_time": "2023-04-10T11:49:13.339Z"
   },
   {
    "duration": 83,
    "start_time": "2023-04-10T11:49:52.626Z"
   },
   {
    "duration": 1148,
    "start_time": "2023-04-10T11:49:58.065Z"
   },
   {
    "duration": 3,
    "start_time": "2023-04-10T11:49:59.215Z"
   },
   {
    "duration": 9,
    "start_time": "2023-04-10T11:49:59.219Z"
   },
   {
    "duration": 8,
    "start_time": "2023-04-10T11:49:59.229Z"
   },
   {
    "duration": 17,
    "start_time": "2023-04-10T11:49:59.238Z"
   },
   {
    "duration": 12,
    "start_time": "2023-04-10T11:49:59.257Z"
   },
   {
    "duration": 13,
    "start_time": "2023-04-10T11:49:59.271Z"
   },
   {
    "duration": 15,
    "start_time": "2023-04-10T11:49:59.286Z"
   },
   {
    "duration": 14,
    "start_time": "2023-04-10T11:49:59.313Z"
   },
   {
    "duration": 21,
    "start_time": "2023-04-10T11:49:59.330Z"
   },
   {
    "duration": 13,
    "start_time": "2023-04-10T11:49:59.353Z"
   },
   {
    "duration": 15,
    "start_time": "2023-04-10T11:49:59.368Z"
   },
   {
    "duration": 14,
    "start_time": "2023-04-10T11:49:59.412Z"
   },
   {
    "duration": 10,
    "start_time": "2023-04-10T11:49:59.428Z"
   },
   {
    "duration": 22,
    "start_time": "2023-04-10T11:49:59.441Z"
   },
   {
    "duration": 338,
    "start_time": "2023-04-10T11:49:59.465Z"
   },
   {
    "duration": 327,
    "start_time": "2023-04-10T11:49:59.806Z"
   },
   {
    "duration": 205,
    "start_time": "2023-04-10T11:50:00.135Z"
   },
   {
    "duration": 299,
    "start_time": "2023-04-10T11:50:00.342Z"
   },
   {
    "duration": 222,
    "start_time": "2023-04-10T11:50:00.643Z"
   },
   {
    "duration": 299,
    "start_time": "2023-04-10T11:50:00.866Z"
   },
   {
    "duration": 10,
    "start_time": "2023-04-10T11:50:01.166Z"
   },
   {
    "duration": 159,
    "start_time": "2023-04-10T11:50:01.178Z"
   },
   {
    "duration": 5,
    "start_time": "2023-04-10T11:50:01.338Z"
   },
   {
    "duration": 202,
    "start_time": "2023-04-10T11:50:01.345Z"
   },
   {
    "duration": 4,
    "start_time": "2023-04-10T11:50:01.549Z"
   },
   {
    "duration": 263,
    "start_time": "2023-04-10T11:50:01.555Z"
   },
   {
    "duration": 176,
    "start_time": "2023-04-10T11:50:01.823Z"
   },
   {
    "duration": 15,
    "start_time": "2023-04-10T11:50:02.001Z"
   },
   {
    "duration": 38,
    "start_time": "2023-04-10T11:50:02.018Z"
   },
   {
    "duration": 72,
    "start_time": "2023-04-10T11:50:02.058Z"
   },
   {
    "duration": 34,
    "start_time": "2023-04-10T11:50:02.132Z"
   },
   {
    "duration": 31,
    "start_time": "2023-04-10T11:50:02.169Z"
   },
   {
    "duration": 37,
    "start_time": "2023-04-10T11:50:02.202Z"
   },
   {
    "duration": 14,
    "start_time": "2023-04-10T11:50:02.241Z"
   },
   {
    "duration": 46,
    "start_time": "2023-04-10T11:54:56.629Z"
   },
   {
    "duration": 193,
    "start_time": "2023-04-10T11:57:52.231Z"
   },
   {
    "duration": 274,
    "start_time": "2023-04-10T11:57:57.334Z"
   },
   {
    "duration": 208,
    "start_time": "2023-04-10T11:58:09.846Z"
   },
   {
    "duration": 208,
    "start_time": "2023-04-10T11:58:20.086Z"
   },
   {
    "duration": 202,
    "start_time": "2023-04-10T11:58:24.871Z"
   },
   {
    "duration": 205,
    "start_time": "2023-04-10T11:58:28.049Z"
   },
   {
    "duration": 205,
    "start_time": "2023-04-10T11:58:29.640Z"
   },
   {
    "duration": 187,
    "start_time": "2023-04-10T12:02:17.992Z"
   },
   {
    "duration": 192,
    "start_time": "2023-04-10T12:02:25.937Z"
   },
   {
    "duration": 283,
    "start_time": "2023-04-10T12:02:32.960Z"
   },
   {
    "duration": 191,
    "start_time": "2023-04-10T12:02:35.368Z"
   },
   {
    "duration": 48,
    "start_time": "2023-04-10T12:04:04.650Z"
   },
   {
    "duration": 51,
    "start_time": "2023-04-10T12:04:07.633Z"
   },
   {
    "duration": 295,
    "start_time": "2023-04-10T12:04:18.034Z"
   },
   {
    "duration": 319,
    "start_time": "2023-04-10T12:05:05.467Z"
   },
   {
    "duration": 58,
    "start_time": "2023-04-10T12:05:17.131Z"
   },
   {
    "duration": 391,
    "start_time": "2023-04-10T12:05:21.451Z"
   },
   {
    "duration": 318,
    "start_time": "2023-04-10T12:05:26.299Z"
   },
   {
    "duration": 277,
    "start_time": "2023-04-10T12:05:45.359Z"
   },
   {
    "duration": 208,
    "start_time": "2023-04-10T12:06:53.429Z"
   },
   {
    "duration": 343,
    "start_time": "2023-04-10T12:07:20.708Z"
   },
   {
    "duration": 332,
    "start_time": "2023-04-10T12:07:24.107Z"
   },
   {
    "duration": 204,
    "start_time": "2023-04-10T12:07:58.507Z"
   },
   {
    "duration": 209,
    "start_time": "2023-04-10T12:08:03.691Z"
   },
   {
    "duration": 328,
    "start_time": "2023-04-10T12:08:20.077Z"
   },
   {
    "duration": 114,
    "start_time": "2023-04-10T12:08:40.877Z"
   },
   {
    "duration": 142,
    "start_time": "2023-04-10T12:09:10.940Z"
   },
   {
    "duration": 123,
    "start_time": "2023-04-10T12:09:16.188Z"
   },
   {
    "duration": 125,
    "start_time": "2023-04-10T12:09:29.886Z"
   },
   {
    "duration": 232,
    "start_time": "2023-04-10T12:09:44.725Z"
   },
   {
    "duration": 49,
    "start_time": "2023-04-10T12:10:42.766Z"
   },
   {
    "duration": 54,
    "start_time": "2023-04-10T12:12:25.215Z"
   },
   {
    "duration": 9,
    "start_time": "2023-04-10T12:12:57.486Z"
   },
   {
    "duration": 1143,
    "start_time": "2023-04-10T12:14:15.634Z"
   },
   {
    "duration": 3,
    "start_time": "2023-04-10T12:14:16.779Z"
   },
   {
    "duration": 8,
    "start_time": "2023-04-10T12:14:16.784Z"
   },
   {
    "duration": 11,
    "start_time": "2023-04-10T12:14:16.794Z"
   },
   {
    "duration": 7,
    "start_time": "2023-04-10T12:14:16.806Z"
   },
   {
    "duration": 17,
    "start_time": "2023-04-10T12:14:16.814Z"
   },
   {
    "duration": 14,
    "start_time": "2023-04-10T12:14:16.833Z"
   },
   {
    "duration": 19,
    "start_time": "2023-04-10T12:14:16.849Z"
   },
   {
    "duration": 18,
    "start_time": "2023-04-10T12:14:16.869Z"
   },
   {
    "duration": 13,
    "start_time": "2023-04-10T12:14:16.890Z"
   },
   {
    "duration": 13,
    "start_time": "2023-04-10T12:14:16.905Z"
   },
   {
    "duration": 13,
    "start_time": "2023-04-10T12:14:16.920Z"
   },
   {
    "duration": 21,
    "start_time": "2023-04-10T12:14:16.935Z"
   },
   {
    "duration": 12,
    "start_time": "2023-04-10T12:14:16.957Z"
   },
   {
    "duration": 41,
    "start_time": "2023-04-10T12:14:16.970Z"
   },
   {
    "duration": 298,
    "start_time": "2023-04-10T12:14:17.013Z"
   },
   {
    "duration": 300,
    "start_time": "2023-04-10T12:14:17.313Z"
   },
   {
    "duration": 199,
    "start_time": "2023-04-10T12:14:17.615Z"
   },
   {
    "duration": 314,
    "start_time": "2023-04-10T12:14:17.816Z"
   },
   {
    "duration": 199,
    "start_time": "2023-04-10T12:14:18.131Z"
   },
   {
    "duration": 301,
    "start_time": "2023-04-10T12:14:18.331Z"
   },
   {
    "duration": 9,
    "start_time": "2023-04-10T12:14:18.633Z"
   },
   {
    "duration": 137,
    "start_time": "2023-04-10T12:14:18.644Z"
   },
   {
    "duration": 5,
    "start_time": "2023-04-10T12:14:18.782Z"
   },
   {
    "duration": 196,
    "start_time": "2023-04-10T12:14:18.788Z"
   },
   {
    "duration": 5,
    "start_time": "2023-04-10T12:14:18.987Z"
   },
   {
    "duration": 289,
    "start_time": "2023-04-10T12:14:18.994Z"
   },
   {
    "duration": 147,
    "start_time": "2023-04-10T12:14:19.286Z"
   },
   {
    "duration": 7,
    "start_time": "2023-04-10T12:14:19.436Z"
   },
   {
    "duration": 8,
    "start_time": "2023-04-10T12:14:19.445Z"
   },
   {
    "duration": 25,
    "start_time": "2023-04-10T12:14:19.454Z"
   },
   {
    "duration": 11,
    "start_time": "2023-04-10T12:14:19.480Z"
   },
   {
    "duration": 10,
    "start_time": "2023-04-10T12:14:19.513Z"
   },
   {
    "duration": 30,
    "start_time": "2023-04-10T12:14:19.524Z"
   },
   {
    "duration": 15,
    "start_time": "2023-04-10T12:14:19.556Z"
   },
   {
    "duration": 323,
    "start_time": "2023-04-10T12:24:03.878Z"
   },
   {
    "duration": 367,
    "start_time": "2023-04-10T12:24:14.533Z"
   },
   {
    "duration": 51,
    "start_time": "2023-04-10T12:24:43.062Z"
   },
   {
    "duration": 322,
    "start_time": "2023-04-10T12:27:17.695Z"
   },
   {
    "duration": 146,
    "start_time": "2023-04-10T12:30:53.889Z"
   },
   {
    "duration": 170,
    "start_time": "2023-04-10T12:31:02.175Z"
   },
   {
    "duration": 141,
    "start_time": "2023-04-10T12:31:06.033Z"
   },
   {
    "duration": 144,
    "start_time": "2023-04-10T12:31:18.633Z"
   },
   {
    "duration": 150,
    "start_time": "2023-04-10T12:31:23.761Z"
   },
   {
    "duration": 150,
    "start_time": "2023-04-10T12:31:27.513Z"
   },
   {
    "duration": 141,
    "start_time": "2023-04-10T12:31:34.897Z"
   },
   {
    "duration": 154,
    "start_time": "2023-04-10T12:31:44.675Z"
   },
   {
    "duration": 134,
    "start_time": "2023-04-10T12:31:52.081Z"
   },
   {
    "duration": 141,
    "start_time": "2023-04-10T12:32:01.313Z"
   },
   {
    "duration": 227,
    "start_time": "2023-04-10T12:32:05.610Z"
   },
   {
    "duration": 147,
    "start_time": "2023-04-10T12:32:14.298Z"
   },
   {
    "duration": 141,
    "start_time": "2023-04-10T12:32:20.242Z"
   },
   {
    "duration": 134,
    "start_time": "2023-04-10T12:32:33.945Z"
   },
   {
    "duration": 138,
    "start_time": "2023-04-10T12:32:43.386Z"
   },
   {
    "duration": 137,
    "start_time": "2023-04-10T12:32:51.626Z"
   },
   {
    "duration": 144,
    "start_time": "2023-04-10T12:32:55.593Z"
   },
   {
    "duration": 133,
    "start_time": "2023-04-10T12:33:21.138Z"
   },
   {
    "duration": 151,
    "start_time": "2023-04-10T12:33:23.741Z"
   },
   {
    "duration": 148,
    "start_time": "2023-04-10T12:33:27.811Z"
   },
   {
    "duration": 142,
    "start_time": "2023-04-10T12:33:32.765Z"
   },
   {
    "duration": 142,
    "start_time": "2023-04-10T12:33:40.698Z"
   },
   {
    "duration": 54,
    "start_time": "2023-04-10T12:34:38.690Z"
   },
   {
    "duration": 65,
    "start_time": "2023-04-10T12:34:40.834Z"
   },
   {
    "duration": 44,
    "start_time": "2023-04-10T12:34:43.819Z"
   },
   {
    "duration": 61,
    "start_time": "2023-04-10T12:34:50.211Z"
   },
   {
    "duration": 139,
    "start_time": "2023-04-10T12:34:53.531Z"
   },
   {
    "duration": 53,
    "start_time": "2023-04-10T12:35:01.427Z"
   },
   {
    "duration": 466,
    "start_time": "2023-04-10T12:35:05.843Z"
   },
   {
    "duration": 149,
    "start_time": "2023-04-10T12:35:07.907Z"
   },
   {
    "duration": 221,
    "start_time": "2023-04-10T12:35:17.900Z"
   },
   {
    "duration": 140,
    "start_time": "2023-04-10T12:35:20.358Z"
   },
   {
    "duration": 101,
    "start_time": "2023-04-10T13:03:42.428Z"
   },
   {
    "duration": 243,
    "start_time": "2023-04-10T13:06:26.604Z"
   },
   {
    "duration": 950,
    "start_time": "2023-04-10T13:07:20.260Z"
   },
   {
    "duration": 1147,
    "start_time": "2023-04-10T13:07:32.046Z"
   },
   {
    "duration": 3,
    "start_time": "2023-04-10T13:07:33.195Z"
   },
   {
    "duration": 8,
    "start_time": "2023-04-10T13:07:33.199Z"
   },
   {
    "duration": 15,
    "start_time": "2023-04-10T13:07:33.210Z"
   },
   {
    "duration": 7,
    "start_time": "2023-04-10T13:07:33.227Z"
   },
   {
    "duration": 8,
    "start_time": "2023-04-10T13:07:33.236Z"
   },
   {
    "duration": 7,
    "start_time": "2023-04-10T13:07:33.246Z"
   },
   {
    "duration": 12,
    "start_time": "2023-04-10T13:07:33.255Z"
   },
   {
    "duration": 11,
    "start_time": "2023-04-10T13:07:33.268Z"
   },
   {
    "duration": 35,
    "start_time": "2023-04-10T13:07:33.281Z"
   },
   {
    "duration": 15,
    "start_time": "2023-04-10T13:07:33.318Z"
   },
   {
    "duration": 14,
    "start_time": "2023-04-10T13:07:33.335Z"
   },
   {
    "duration": 16,
    "start_time": "2023-04-10T13:07:33.351Z"
   },
   {
    "duration": 10,
    "start_time": "2023-04-10T13:07:33.368Z"
   },
   {
    "duration": 35,
    "start_time": "2023-04-10T13:07:33.379Z"
   },
   {
    "duration": 300,
    "start_time": "2023-04-10T13:07:33.416Z"
   },
   {
    "duration": 317,
    "start_time": "2023-04-10T13:07:33.717Z"
   },
   {
    "duration": 200,
    "start_time": "2023-04-10T13:07:34.036Z"
   },
   {
    "duration": 309,
    "start_time": "2023-04-10T13:07:34.238Z"
   },
   {
    "duration": 228,
    "start_time": "2023-04-10T13:07:34.549Z"
   },
   {
    "duration": 338,
    "start_time": "2023-04-10T13:07:34.779Z"
   },
   {
    "duration": 9,
    "start_time": "2023-04-10T13:07:35.119Z"
   },
   {
    "duration": 137,
    "start_time": "2023-04-10T13:07:35.129Z"
   },
   {
    "duration": 5,
    "start_time": "2023-04-10T13:07:35.267Z"
   },
   {
    "duration": 155,
    "start_time": "2023-04-10T13:07:35.273Z"
   },
   {
    "duration": 150,
    "start_time": "2023-04-10T13:07:35.430Z"
   },
   {
    "duration": 3,
    "start_time": "2023-04-10T13:07:35.582Z"
   },
   {
    "duration": 244,
    "start_time": "2023-04-10T13:07:35.589Z"
   },
   {
    "duration": 168,
    "start_time": "2023-04-10T13:07:35.834Z"
   },
   {
    "duration": 14,
    "start_time": "2023-04-10T13:07:36.003Z"
   },
   {
    "duration": 16,
    "start_time": "2023-04-10T13:07:36.019Z"
   },
   {
    "duration": 30,
    "start_time": "2023-04-10T13:07:36.037Z"
   },
   {
    "duration": 10,
    "start_time": "2023-04-10T13:07:36.069Z"
   },
   {
    "duration": 9,
    "start_time": "2023-04-10T13:07:36.081Z"
   },
   {
    "duration": 46,
    "start_time": "2023-04-10T13:07:36.092Z"
   },
   {
    "duration": 14,
    "start_time": "2023-04-10T13:07:36.140Z"
   }
  ],
  "kernelspec": {
   "display_name": "Python 3 (ipykernel)",
   "language": "python",
   "name": "python3"
  },
  "language_info": {
   "codemirror_mode": {
    "name": "ipython",
    "version": 3
   },
   "file_extension": ".py",
   "mimetype": "text/x-python",
   "name": "python",
   "nbconvert_exporter": "python",
   "pygments_lexer": "ipython3",
   "version": "3.9.5"
  },
  "toc": {
   "base_numbering": 1,
   "nav_menu": {},
   "number_sections": false,
   "sideBar": true,
   "skip_h1_title": false,
   "title_cell": "Table of Contents",
   "title_sidebar": "Contents",
   "toc_cell": false,
   "toc_position": {
    "height": "calc(100% - 180px)",
    "left": "10px",
    "top": "150px",
    "width": "294.261px"
   },
   "toc_section_display": true,
   "toc_window_display": true
  }
 },
 "nbformat": 4,
 "nbformat_minor": 2
}
