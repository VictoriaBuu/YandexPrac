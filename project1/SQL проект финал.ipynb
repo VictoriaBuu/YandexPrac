{
 "cells": [
  {
   "cell_type": "markdown",
   "metadata": {},
   "source": [
    "### Введение:\n",
    "В этом проекте нам необходимо провнализировать имеющуюся базу данных. Эта информация нам нужна, для того, чтобы предложить новый качественный продукт. "
   ]
  },
  {
   "cell_type": "code",
   "execution_count": null,
   "metadata": {},
   "outputs": [],
   "source": [
    "# импортируем библиотеки\n",
    "import pandas as pd\n",
    "from sqlalchemy import text, create_engine\n",
    "# устанавливаем параметры\n",
    "db_config = {'user': 'praktikum_student', # имя пользователя\n",
    "'pwd': 'Sdf4$2;d-d30pp', # пароль\n",
    "'host': 'rc1b-wcoijxj3yxfsf3fs.mdb.yandexcloud.net',\n",
    "'port': 6432, # порт подключения\n",
    "'db': 'data-analyst-final-project-db'} # название базы данных\n",
    "connection_string = 'postgresql://{user}:{pwd}@{host}:{port}/{db}'.format(**db_config)\n",
    "# сохраняем коннектор\n",
    "engine = create_engine(connection_string, connect_args={'sslmode':'require'})\n",
    "# чтобы выполнить SQL-запрос, используем Pandas\n",
    "query = '''SELECT * FROM books LIMIT 5'''\n",
    "con=engine.connect()\n",
    "pd.io.sql.read_sql(sql=text(query), con = con)"
   ]
  },
  {
   "cell_type": "markdown",
   "metadata": {},
   "source": [
    "Импортировали библиотеки, далее следует посмотреть на данные."
   ]
  },
  {
   "cell_type": "code",
   "execution_count": null,
   "metadata": {},
   "outputs": [],
   "source": [
    "query = '''\n",
    "             SELECT * FROM authors\n",
    "        '''\n",
    "authors = pd.io.sql.read_sql(sql=text(query), con = con)"
   ]
  },
  {
   "cell_type": "code",
   "execution_count": null,
   "metadata": {},
   "outputs": [],
   "source": [
    "authors"
   ]
  },
  {
   "cell_type": "code",
   "execution_count": null,
   "metadata": {},
   "outputs": [],
   "source": [
    "query = '''\n",
    "             SELECT * FROM publishers\n",
    "        '''\n",
    "publishers = pd.io.sql.read_sql(sql=text(query), con = con)"
   ]
  },
  {
   "cell_type": "code",
   "execution_count": null,
   "metadata": {},
   "outputs": [],
   "source": [
    "publishers"
   ]
  },
  {
   "cell_type": "code",
   "execution_count": null,
   "metadata": {},
   "outputs": [],
   "source": [
    "query = '''\n",
    "             SELECT * FROM ratings\n",
    "        '''\n",
    "ratings = pd.io.sql.read_sql(sql=text(query), con = con)"
   ]
  },
  {
   "cell_type": "code",
   "execution_count": null,
   "metadata": {},
   "outputs": [],
   "source": [
    "ratings"
   ]
  },
  {
   "cell_type": "code",
   "execution_count": null,
   "metadata": {},
   "outputs": [],
   "source": [
    "query = '''\n",
    "             SELECT * FROM reviews\n",
    "        '''\n",
    "reviews = pd.io.sql.read_sql(sql=text(query), con = con)"
   ]
  },
  {
   "cell_type": "code",
   "execution_count": null,
   "metadata": {},
   "outputs": [],
   "source": [
    "reviews"
   ]
  },
  {
   "cell_type": "markdown",
   "metadata": {},
   "source": [
    "### Посчитайте, сколько книг вышло после 1 января 2000 года;"
   ]
  },
  {
   "cell_type": "code",
   "execution_count": null,
   "metadata": {},
   "outputs": [],
   "source": [
    "books_c = '''\n",
    "SELECT COUNT(title) AS books_c FROM books\n",
    "WHERE publication_date  > '2000-01-01'\n",
    "'''\n",
    "pd.io.sql.read_sql(books_c,con = engine)"
   ]
  },
  {
   "cell_type": "markdown",
   "metadata": {},
   "source": [
    "Выполнили запрос, видим, что количество книг вышедших после 2000-01-01 составляет 819."
   ]
  },
  {
   "cell_type": "markdown",
   "metadata": {},
   "source": [
    "### Для каждой книги посчитайте количество обзоров и среднюю оценку;"
   ]
  },
  {
   "cell_type": "code",
   "execution_count": null,
   "metadata": {},
   "outputs": [],
   "source": [
    "cnt_avg_books = '''\n",
    "SELECT\n",
    "     books.title AS title,\n",
    "     books.book_id AS id,\n",
    "     AVG(ratings.rating) AS avg_rating,\n",
    "     COUNT(DISTINCT reviews.text) AS count_reviews\n",
    "                        \n",
    "FROM  \n",
    "    books\n",
    "     LEFT JOIN ratings ON ratings.book_id = books.book_id\n",
    "     LEFT JOIN reviews ON reviews.book_id = books.book_id\n",
    "                    \n",
    "GROUP BY \n",
    "     books.title,\n",
    "     books.book_id\n",
    " ORDER BY \n",
    "      count_reviews DESC\n",
    "                     '''\n",
    "cnt_avg_books = pd.io.sql.read_sql(cnt_avg_books, con = engine)\n",
    "cnt_avg_books"
   ]
  },
  {
   "cell_type": "markdown",
   "metadata": {},
   "source": [
    "Посчитали обзоры и среднюю оценку, получили по количеству ревью лидирует Сумерки(twilight), далее идет water for elephants(6), следом The glass castle. всего получилось 1000"
   ]
  },
  {
   "cell_type": "markdown",
   "metadata": {},
   "source": [
    "### Определите издательство, которое выпустило наибольшее число книг толще 50 страниц — так вы исключите из анализа брошюры;"
   ]
  },
  {
   "cell_type": "code",
   "execution_count": null,
   "metadata": {},
   "outputs": [],
   "source": [
    "publ_50 = '''\n",
    "SELECT\n",
    "    publishers.publisher_id,\n",
    "    publishers.publisher,\n",
    "    COUNT(books.book_id) as count_books\n",
    "FROM \n",
    "    publishers\n",
    "JOIN books ON publishers.publisher_id = books.publisher_id\n",
    "WHERE\n",
    "books.num_pages > 50\n",
    "GROUP BY publishers.publisher_id\n",
    "ORDER BY count_books DESC\n",
    "LIMIT 5;\n",
    "'''\n",
    "publ_50 = pd.io.sql.read_sql(publ_50, con = engine)\n",
    "publ_50"
   ]
  },
  {
   "cell_type": "markdown",
   "metadata": {},
   "source": [
    "Больше всего книг 50+ страниц выпустило издательство Penguin books(42), следом Vintage"
   ]
  },
  {
   "cell_type": "markdown",
   "metadata": {},
   "source": [
    "### Определите автора с самой высокой средней оценкой книг — учитывайте только книги с 50 и более оценками;"
   ]
  },
  {
   "cell_type": "code",
   "execution_count": null,
   "metadata": {},
   "outputs": [],
   "source": [
    "rate_author = '''\n",
    "SELECT\n",
    "    authors.author_id AS id,\n",
    "    authors.author AS author,\n",
    "    AVG(ratings.rating) AS avg_rate,\n",
    "    COUNT(ratings.rating) AS rate\n",
    "FROM\n",
    "authors\n",
    "    INNER JOIN books ON books.author_id = authors.author_id\n",
    "    INNER JOIN ratings ON ratings.book_id = books.book_id\n",
    "GROUP BY\n",
    "id,\n",
    "author\n",
    "HAVING \n",
    "count(ratings.rating) >= 50\n",
    "ORDER BY rate desc\n",
    "limit 1;\n",
    "'''\n",
    "rate_author = pd.io.sql.read_sql(rate_author, con = engine)\n",
    "rate_author"
   ]
  },
  {
   "cell_type": "markdown",
   "metadata": {},
   "source": [
    "J.K. Rowling имеет средний рейтинг 4.288 "
   ]
  },
  {
   "cell_type": "markdown",
   "metadata": {},
   "source": [
    "## Посчитайте среднее количество обзоров от пользователей, которые поставили больше 48 оценок."
   ]
  },
  {
   "cell_type": "code",
   "execution_count": null,
   "metadata": {},
   "outputs": [],
   "source": [
    "avg_rate_reviews = '''\n",
    "SELECT ROUND(avg(count))\n",
    "FROM\n",
    "(SELECT\n",
    "    COUNT(text)\n",
    "FROM reviews\n",
    "    FULL OUTER JOIN(SELECT username,\n",
    "        count(rating_id) as countt\n",
    "FROM \n",
    "    ratings\n",
    "GROUP BY\n",
    "        username) AS cnt_ratings\n",
    "ON cnt_ratings.username = reviews.username\n",
    "where countt > 48\n",
    "GROUP BY reviews.username) as count;\n",
    "'''\n",
    "avg_rate_reviews = pd.io.sql.read_sql(avg_rate_reviews, con = engine)\n",
    "avg_rate_reviews"
   ]
  },
  {
   "cell_type": "markdown",
   "metadata": {},
   "source": [
    "Cреднее кол-во обзоров от пользователей, которые поставили более 48 оценок равно 24."
   ]
  },
  {
   "cell_type": "markdown",
   "metadata": {},
   "source": [
    "### Выводы\n",
    "Количество книг вышедших после 2000-01-01 составляет 819.\n",
    "Посчитали обзоры и среднюю оценку, получили по количеству ревью лидирует Сумерки(twilight), далее идет water for elephants(6), следом The glass castle. всего получилось 1000.\n",
    "J.K. Rowling имеет средний рейтинг 4.288\n",
    "Больше всего книг 50+ страниц выпустило издательство Penguin books(42), следом Vintage\n",
    "Cреднее кол-во обзоров от пользователей, которые поставили более 48 оценок равно 24."
   ]
  }
 ],
 "metadata": {
  "ExecuteTimeLog": [
   {
    "duration": 12987,
    "start_time": "2023-07-13T08:20:03.116Z"
   },
   {
    "duration": 39,
    "start_time": "2023-07-13T10:04:17.647Z"
   },
   {
    "duration": 8,
    "start_time": "2023-07-13T10:04:26.338Z"
   },
   {
    "duration": 28,
    "start_time": "2023-07-13T10:04:47.609Z"
   },
   {
    "duration": 67,
    "start_time": "2023-07-13T10:04:54.507Z"
   },
   {
    "duration": 29,
    "start_time": "2023-07-13T10:05:12.373Z"
   },
   {
    "duration": 7,
    "start_time": "2023-07-13T10:05:12.606Z"
   },
   {
    "duration": 29,
    "start_time": "2023-07-13T10:05:18.720Z"
   },
   {
    "duration": 7,
    "start_time": "2023-07-13T10:05:18.862Z"
   },
   {
    "duration": 79,
    "start_time": "2023-07-13T10:05:36.343Z"
   },
   {
    "duration": 12,
    "start_time": "2023-07-13T10:05:36.506Z"
   },
   {
    "duration": 77,
    "start_time": "2023-07-13T10:06:02.224Z"
   },
   {
    "duration": 138,
    "start_time": "2023-07-13T10:06:02.303Z"
   },
   {
    "duration": 3,
    "start_time": "2023-07-13T10:09:11.504Z"
   },
   {
    "duration": 81,
    "start_time": "2023-07-13T10:09:23.728Z"
   },
   {
    "duration": 80,
    "start_time": "2023-07-13T10:09:59.705Z"
   },
   {
    "duration": 2,
    "start_time": "2023-07-13T10:10:04.845Z"
   },
   {
    "duration": 2,
    "start_time": "2023-07-13T10:10:07.217Z"
   },
   {
    "duration": 3,
    "start_time": "2023-07-13T10:10:13.621Z"
   },
   {
    "duration": 2,
    "start_time": "2023-07-13T10:10:39.321Z"
   },
   {
    "duration": 154,
    "start_time": "2023-07-13T10:11:20.397Z"
   },
   {
    "duration": 7,
    "start_time": "2023-07-13T10:17:29.427Z"
   },
   {
    "duration": 9,
    "start_time": "2023-07-13T10:17:45.337Z"
   },
   {
    "duration": 8,
    "start_time": "2023-07-13T10:17:51.961Z"
   },
   {
    "duration": 295,
    "start_time": "2023-07-13T10:18:38.030Z"
   },
   {
    "duration": 261,
    "start_time": "2023-07-13T10:20:11.226Z"
   },
   {
    "duration": 336,
    "start_time": "2023-07-13T10:20:23.346Z"
   },
   {
    "duration": 3,
    "start_time": "2023-07-13T10:20:52.827Z"
   },
   {
    "duration": 6,
    "start_time": "2023-07-13T10:21:14.267Z"
   },
   {
    "duration": 7,
    "start_time": "2023-07-13T10:22:01.140Z"
   },
   {
    "duration": 8,
    "start_time": "2023-07-13T10:23:23.861Z"
   },
   {
    "duration": 306,
    "start_time": "2023-07-13T10:24:18.194Z"
   },
   {
    "duration": 185,
    "start_time": "2023-07-13T10:24:56.323Z"
   },
   {
    "duration": 266,
    "start_time": "2023-07-13T10:34:35.430Z"
   },
   {
    "duration": 176,
    "start_time": "2023-07-13T10:34:48.052Z"
   },
   {
    "duration": 266,
    "start_time": "2023-07-13T10:35:23.717Z"
   },
   {
    "duration": 448,
    "start_time": "2023-07-13T10:35:39.660Z"
   },
   {
    "duration": 200,
    "start_time": "2023-07-13T10:36:16.332Z"
   },
   {
    "duration": 404,
    "start_time": "2023-07-13T10:36:44.136Z"
   },
   {
    "duration": 107,
    "start_time": "2023-07-13T10:37:02.932Z"
   },
   {
    "duration": 110,
    "start_time": "2023-07-13T10:37:13.010Z"
   },
   {
    "duration": 111,
    "start_time": "2023-07-13T10:37:35.538Z"
   },
   {
    "duration": 115,
    "start_time": "2023-07-13T10:38:10.818Z"
   },
   {
    "duration": 119,
    "start_time": "2023-07-13T10:38:42.966Z"
   },
   {
    "duration": 290,
    "start_time": "2023-07-13T11:02:51.024Z"
   },
   {
    "duration": 2102,
    "start_time": "2023-07-13T11:05:34.971Z"
   },
   {
    "duration": 215,
    "start_time": "2023-07-13T11:05:43.252Z"
   },
   {
    "duration": 78,
    "start_time": "2023-07-13T11:07:45.750Z"
   },
   {
    "duration": 77,
    "start_time": "2023-07-13T11:08:06.146Z"
   },
   {
    "duration": 2,
    "start_time": "2023-07-13T11:25:31.472Z"
   },
   {
    "duration": 170,
    "start_time": "2023-07-13T11:26:11.113Z"
   },
   {
    "duration": 162,
    "start_time": "2023-07-13T11:26:28.622Z"
   },
   {
    "duration": 293,
    "start_time": "2023-07-13T11:26:44.329Z"
   },
   {
    "duration": 189,
    "start_time": "2023-07-13T11:27:01.113Z"
   },
   {
    "duration": 191,
    "start_time": "2023-07-13T11:27:10.813Z"
   },
   {
    "duration": 311,
    "start_time": "2023-07-13T11:27:24.715Z"
   },
   {
    "duration": 80,
    "start_time": "2023-07-13T11:27:31.022Z"
   },
   {
    "duration": 80,
    "start_time": "2023-07-13T11:29:07.716Z"
   },
   {
    "duration": 79,
    "start_time": "2023-07-13T11:29:49.114Z"
   },
   {
    "duration": 255,
    "start_time": "2023-07-13T11:56:08.707Z"
   },
   {
    "duration": 198,
    "start_time": "2023-07-13T11:56:22.499Z"
   },
   {
    "duration": 173,
    "start_time": "2023-07-13T11:59:28.919Z"
   },
   {
    "duration": 218,
    "start_time": "2023-07-13T12:02:26.530Z"
   },
   {
    "duration": 80,
    "start_time": "2023-07-13T12:02:34.632Z"
   },
   {
    "duration": 2,
    "start_time": "2023-07-13T12:06:18.423Z"
   },
   {
    "duration": 78,
    "start_time": "2023-07-13T12:06:36.795Z"
   },
   {
    "duration": 77,
    "start_time": "2023-07-13T12:07:05.055Z"
   },
   {
    "duration": 76,
    "start_time": "2023-07-13T12:07:38.127Z"
   },
   {
    "duration": 73,
    "start_time": "2023-07-13T12:10:44.987Z"
   },
   {
    "duration": 118,
    "start_time": "2023-07-13T12:12:22.642Z"
   },
   {
    "duration": 9,
    "start_time": "2023-07-13T12:13:39.898Z"
   },
   {
    "duration": 9,
    "start_time": "2023-07-13T12:13:44.402Z"
   },
   {
    "duration": 21000,
    "start_time": "2023-07-13T12:18:42.695Z"
   },
   {
    "duration": 39,
    "start_time": "2023-07-13T12:19:03.697Z"
   },
   {
    "duration": 9,
    "start_time": "2023-07-13T12:19:03.738Z"
   },
   {
    "duration": 36,
    "start_time": "2023-07-13T12:19:03.748Z"
   },
   {
    "duration": 8,
    "start_time": "2023-07-13T12:19:03.786Z"
   },
   {
    "duration": 73,
    "start_time": "2023-07-13T12:19:03.795Z"
   },
   {
    "duration": 9,
    "start_time": "2023-07-13T12:19:03.869Z"
   },
   {
    "duration": 49,
    "start_time": "2023-07-13T12:19:03.879Z"
   },
   {
    "duration": 9,
    "start_time": "2023-07-13T12:19:03.929Z"
   },
   {
    "duration": 181,
    "start_time": "2023-07-13T12:19:03.939Z"
   },
   {
    "duration": 121,
    "start_time": "2023-07-13T12:19:04.122Z"
   },
   {
    "duration": 78,
    "start_time": "2023-07-13T12:19:04.244Z"
   },
   {
    "duration": 79,
    "start_time": "2023-07-13T12:19:04.324Z"
   },
   {
    "duration": 77,
    "start_time": "2023-07-13T12:19:04.404Z"
   },
   {
    "duration": 85,
    "start_time": "2023-07-13T12:22:06.002Z"
   },
   {
    "duration": 80,
    "start_time": "2023-07-13T12:22:52.945Z"
   },
   {
    "duration": 14531,
    "start_time": "2023-07-13T15:16:20.631Z"
   },
   {
    "duration": 31,
    "start_time": "2023-07-13T15:16:35.165Z"
   },
   {
    "duration": 11,
    "start_time": "2023-07-13T15:16:35.198Z"
   },
   {
    "duration": 47,
    "start_time": "2023-07-13T15:16:35.211Z"
   },
   {
    "duration": 37,
    "start_time": "2023-07-13T15:16:35.260Z"
   },
   {
    "duration": 48,
    "start_time": "2023-07-13T15:16:35.298Z"
   },
   {
    "duration": 12,
    "start_time": "2023-07-13T15:16:35.348Z"
   },
   {
    "duration": 43,
    "start_time": "2023-07-13T15:16:35.361Z"
   },
   {
    "duration": 30,
    "start_time": "2023-07-13T15:16:35.406Z"
   },
   {
    "duration": 75,
    "start_time": "2023-07-13T15:16:35.439Z"
   },
   {
    "duration": 38,
    "start_time": "2023-07-13T15:16:35.516Z"
   },
   {
    "duration": 22,
    "start_time": "2023-07-13T15:16:35.556Z"
   },
   {
    "duration": 35,
    "start_time": "2023-07-13T15:16:35.580Z"
   },
   {
    "duration": 23,
    "start_time": "2023-07-13T15:16:35.616Z"
   }
  ],
  "kernelspec": {
   "display_name": "Python 3 (ipykernel)",
   "language": "python",
   "name": "python3"
  },
  "language_info": {
   "codemirror_mode": {
    "name": "ipython",
    "version": 3
   },
   "file_extension": ".py",
   "mimetype": "text/x-python",
   "name": "python",
   "nbconvert_exporter": "python",
   "pygments_lexer": "ipython3",
   "version": "3.9.5"
  },
  "toc": {
   "base_numbering": 1,
   "nav_menu": {},
   "number_sections": true,
   "sideBar": true,
   "skip_h1_title": true,
   "title_cell": "Table of Contents",
   "title_sidebar": "Contents",
   "toc_cell": false,
   "toc_position": {},
   "toc_section_display": true,
   "toc_window_display": false
  }
 },
 "nbformat": 4,
 "nbformat_minor": 2
}
