{
 "cells": [
  {
   "cell_type": "markdown",
   "metadata": {},
   "source": []
  },
  {
   "cell_type": "markdown",
   "metadata": {},
   "source": []
  },
  {
   "cell_type": "markdown",
   "metadata": {},
   "source": [
    "<div class=\"alert alert-info\">\n",
    "<b>\n",
    "</b> \n",
    "Основную цель проекта определим, как:\n",
    "    \n",
    "-Нужно выявить определяющие успешность игры закономерности. Это позволит сделать ставку на потенциально популярный продукт и спланировать рекламные кампании.\n",
    "    \n",
    "Работу поделим на 5 частей:\n",
    "    \n",
    "1) Изучение общей информации и сбор данных.\n",
    "    \n",
    "2) Подготовка данных.\n",
    "    \n",
    "3) Проведение исследовательского анализа данных.\n",
    "    \n",
    "4) Портрет пользователей.\n",
    "    \n",
    "5) Проверка выдвинутых гипотез.\n",
    "    \n",
    "Будем стараться придерживаться плана и строить структурированную работу.\n",
    "\n",
    "</div>"
   ]
  },
  {
   "cell_type": "markdown",
   "metadata": {},
   "source": []
  },
  {
   "cell_type": "code",
   "execution_count": 1,
   "metadata": {},
   "outputs": [],
   "source": [
    "import pandas as pd\n",
    "import matplotlib.pyplot as plt \n",
    "import numpy as np\n",
    "import seaborn as sns"
   ]
  },
  {
   "cell_type": "code",
   "execution_count": 2,
   "metadata": {},
   "outputs": [
    {
     "name": "stdout",
     "output_type": "stream",
     "text": [
      "                       Name Platform  Year_of_Release         Genre  NA_sales  \\\n",
      "0                Wii Sports      Wii           2006.0        Sports     41.36   \n",
      "1         Super Mario Bros.      NES           1985.0      Platform     29.08   \n",
      "2            Mario Kart Wii      Wii           2008.0        Racing     15.68   \n",
      "3         Wii Sports Resort      Wii           2009.0        Sports     15.61   \n",
      "4  Pokemon Red/Pokemon Blue       GB           1996.0  Role-Playing     11.27   \n",
      "\n",
      "   EU_sales  JP_sales  Other_sales  Critic_Score User_Score Rating  \n",
      "0     28.96      3.77         8.45          76.0          8      E  \n",
      "1      3.58      6.81         0.77           NaN        NaN    NaN  \n",
      "2     12.76      3.79         3.29          82.0        8.3      E  \n",
      "3     10.93      3.28         2.95          80.0          8      E  \n",
      "4      8.89     10.22         1.00           NaN        NaN    NaN  \n"
     ]
    }
   ],
   "source": [
    "data = pd.read_csv('/datasets/games.csv')\n",
    "print(data.head(5))"
   ]
  },
  {
   "cell_type": "markdown",
   "metadata": {},
   "source": [
    "Импортируем все необходимые на данном этапе библиотеки и выводим первые 5 строк таблицы."
   ]
  },
  {
   "cell_type": "code",
   "execution_count": 3,
   "metadata": {},
   "outputs": [],
   "source": [
    "data.columns=['name', 'platform', 'year_of_release', 'genre', 'na_sales', 'eu_sales', 'jp_sales', 'other_sales', 'critic_score', 'user_score', 'rating']\n"
   ]
  },
  {
   "cell_type": "markdown",
   "metadata": {},
   "source": [
    "Приводим названия колонок к нижнему регистру."
   ]
  },
  {
   "cell_type": "markdown",
   "metadata": {},
   "source": []
  },
  {
   "cell_type": "code",
   "execution_count": 4,
   "metadata": {},
   "outputs": [
    {
     "name": "stdout",
     "output_type": "stream",
     "text": [
      "                                            name platform  year_of_release  \\\n",
      "0                                     Wii Sports      Wii           2006.0   \n",
      "1                              Super Mario Bros.      NES           1985.0   \n",
      "2                                 Mario Kart Wii      Wii           2008.0   \n",
      "3                              Wii Sports Resort      Wii           2009.0   \n",
      "4                       Pokemon Red/Pokemon Blue       GB           1996.0   \n",
      "5                                         Tetris       GB           1989.0   \n",
      "6                          New Super Mario Bros.       DS           2006.0   \n",
      "7                                       Wii Play      Wii           2006.0   \n",
      "8                      New Super Mario Bros. Wii      Wii           2009.0   \n",
      "9                                      Duck Hunt      NES           1984.0   \n",
      "10                                    Nintendogs       DS           2005.0   \n",
      "11                                 Mario Kart DS       DS           2005.0   \n",
      "12                   Pokemon Gold/Pokemon Silver       GB           1999.0   \n",
      "13                                       Wii Fit      Wii           2007.0   \n",
      "14                            Kinect Adventures!     X360           2010.0   \n",
      "15                                  Wii Fit Plus      Wii           2009.0   \n",
      "16                            Grand Theft Auto V      PS3           2013.0   \n",
      "17                 Grand Theft Auto: San Andreas      PS2           2004.0   \n",
      "18                             Super Mario World     SNES           1990.0   \n",
      "19  Brain Age: Train Your Brain in Minutes a Day       DS           2005.0   \n",
      "20                 Pokemon Diamond/Pokemon Pearl       DS           2006.0   \n",
      "21                              Super Mario Land       GB           1989.0   \n",
      "22                           Super Mario Bros. 3      NES           1988.0   \n",
      "23                            Grand Theft Auto V     X360           2013.0   \n",
      "24                   Grand Theft Auto: Vice City      PS2           2002.0   \n",
      "25                 Pokemon Ruby/Pokemon Sapphire      GBA           2002.0   \n",
      "26   Brain Age 2: More Training in Minutes a Day       DS           2005.0   \n",
      "27                   Pokemon Black/Pokemon White       DS           2010.0   \n",
      "28                        Gran Turismo 3: A-Spec      PS2           2001.0   \n",
      "29                Call of Duty: Modern Warfare 3     X360           2011.0   \n",
      "30       Pokémon Yellow: Special Pikachu Edition       GB           1998.0   \n",
      "31                     Call of Duty: Black Ops 3      PS4           2015.0   \n",
      "32                       Call of Duty: Black Ops     X360           2010.0   \n",
      "33                           Pokemon X/Pokemon Y      3DS           2013.0   \n",
      "34                    Call of Duty: Black Ops II      PS3           2012.0   \n",
      "35                    Call of Duty: Black Ops II     X360           2012.0   \n",
      "36                Call of Duty: Modern Warfare 2     X360           2009.0   \n",
      "37                Call of Duty: Modern Warfare 3      PS3           2011.0   \n",
      "38                          Grand Theft Auto III      PS2           2001.0   \n",
      "39                       Super Smash Bros. Brawl      Wii           2008.0   \n",
      "40                                  Mario Kart 7      3DS           2011.0   \n",
      "41                       Call of Duty: Black Ops      PS3           2010.0   \n",
      "42                            Grand Theft Auto V      PS4           2014.0   \n",
      "43                   Animal Crossing: Wild World       DS           2005.0   \n",
      "44                                        Halo 3     X360           2007.0   \n",
      "45                                Super Mario 64      N64           1996.0   \n",
      "46          Pokemon HeartGold/Pokemon SoulSilver       DS           2009.0   \n",
      "47     Pokemon Omega Ruby/Pokemon Alpha Sapphire      3DS           2014.0   \n",
      "48                                Gran Turismo 4      PS2           2004.0   \n",
      "49                            Super Mario Galaxy      Wii           2007.0   \n",
      "\n",
      "           genre  na_sales  eu_sales  jp_sales  other_sales  critic_score  \\\n",
      "0         Sports     41.36     28.96      3.77         8.45          76.0   \n",
      "1       Platform     29.08      3.58      6.81         0.77           NaN   \n",
      "2         Racing     15.68     12.76      3.79         3.29          82.0   \n",
      "3         Sports     15.61     10.93      3.28         2.95          80.0   \n",
      "4   Role-Playing     11.27      8.89     10.22         1.00           NaN   \n",
      "5         Puzzle     23.20      2.26      4.22         0.58           NaN   \n",
      "6       Platform     11.28      9.14      6.50         2.88          89.0   \n",
      "7           Misc     13.96      9.18      2.93         2.84          58.0   \n",
      "8       Platform     14.44      6.94      4.70         2.24          87.0   \n",
      "9        Shooter     26.93      0.63      0.28         0.47           NaN   \n",
      "10    Simulation      9.05     10.95      1.93         2.74           NaN   \n",
      "11        Racing      9.71      7.47      4.13         1.90          91.0   \n",
      "12  Role-Playing      9.00      6.18      7.20         0.71           NaN   \n",
      "13        Sports      8.92      8.03      3.60         2.15          80.0   \n",
      "14          Misc     15.00      4.89      0.24         1.69          61.0   \n",
      "15        Sports      9.01      8.49      2.53         1.77          80.0   \n",
      "16        Action      7.02      9.09      0.98         3.96          97.0   \n",
      "17        Action      9.43      0.40      0.41        10.57          95.0   \n",
      "18      Platform     12.78      3.75      3.54         0.55           NaN   \n",
      "19          Misc      4.74      9.20      4.16         2.04          77.0   \n",
      "20  Role-Playing      6.38      4.46      6.04         1.36           NaN   \n",
      "21      Platform     10.83      2.71      4.18         0.42           NaN   \n",
      "22      Platform      9.54      3.44      3.84         0.46           NaN   \n",
      "23        Action      9.66      5.14      0.06         1.41          97.0   \n",
      "24        Action      8.41      5.49      0.47         1.78          95.0   \n",
      "25  Role-Playing      6.06      3.90      5.38         0.50           NaN   \n",
      "26        Puzzle      3.43      5.35      5.32         1.18          77.0   \n",
      "27  Role-Playing      5.51      3.17      5.65         0.80           NaN   \n",
      "28        Racing      6.85      5.09      1.87         1.16          95.0   \n",
      "29       Shooter      9.04      4.24      0.13         1.32          88.0   \n",
      "30  Role-Playing      5.89      5.04      3.12         0.59           NaN   \n",
      "31       Shooter      6.03      5.86      0.36         2.38           NaN   \n",
      "32       Shooter      9.70      3.68      0.11         1.13          87.0   \n",
      "33  Role-Playing      5.28      4.19      4.35         0.78           NaN   \n",
      "34       Shooter      4.99      5.73      0.65         2.42          83.0   \n",
      "35       Shooter      8.25      4.24      0.07         1.12          83.0   \n",
      "36       Shooter      8.52      3.59      0.08         1.28          94.0   \n",
      "37       Shooter      5.54      5.73      0.49         1.57          88.0   \n",
      "38        Action      6.99      4.51      0.30         1.30          97.0   \n",
      "39      Fighting      6.62      2.55      2.66         1.01          93.0   \n",
      "40        Racing      5.03      4.02      2.69         0.91          85.0   \n",
      "41       Shooter      5.99      4.37      0.48         1.79          88.0   \n",
      "42        Action      3.96      6.31      0.38         1.97          97.0   \n",
      "43    Simulation      2.50      3.45      5.33         0.86          86.0   \n",
      "44       Shooter      7.97      2.81      0.13         1.21          94.0   \n",
      "45      Platform      6.91      2.85      1.91         0.23           NaN   \n",
      "46        Action      4.34      2.71      3.96         0.76           NaN   \n",
      "47  Role-Playing      4.35      3.49      3.10         0.74           NaN   \n",
      "48        Racing      3.01      0.01      1.10         7.53          89.0   \n",
      "49      Platform      6.06      3.35      1.20         0.74          97.0   \n",
      "\n",
      "   user_score rating  \n",
      "0           8      E  \n",
      "1         NaN    NaN  \n",
      "2         8.3      E  \n",
      "3           8      E  \n",
      "4         NaN    NaN  \n",
      "5         NaN    NaN  \n",
      "6         8.5      E  \n",
      "7         6.6      E  \n",
      "8         8.4      E  \n",
      "9         NaN    NaN  \n",
      "10        NaN    NaN  \n",
      "11        8.6      E  \n",
      "12        NaN    NaN  \n",
      "13        7.7      E  \n",
      "14        6.3      E  \n",
      "15        7.4      E  \n",
      "16        8.2      M  \n",
      "17          9      M  \n",
      "18        NaN    NaN  \n",
      "19        7.9      E  \n",
      "20        NaN    NaN  \n",
      "21        NaN    NaN  \n",
      "22        NaN    NaN  \n",
      "23        8.1      M  \n",
      "24        8.7      M  \n",
      "25        NaN    NaN  \n",
      "26        7.1      E  \n",
      "27        NaN    NaN  \n",
      "28        8.4      E  \n",
      "29        3.4      M  \n",
      "30        NaN    NaN  \n",
      "31        NaN    NaN  \n",
      "32        6.3      M  \n",
      "33        NaN    NaN  \n",
      "34        5.3      M  \n",
      "35        4.8      M  \n",
      "36        6.3      M  \n",
      "37        3.2      M  \n",
      "38        8.5      M  \n",
      "39        8.9      T  \n",
      "40        8.2      E  \n",
      "41        6.4      M  \n",
      "42        8.3      M  \n",
      "43        8.7      E  \n",
      "44        7.8      M  \n",
      "45        NaN    NaN  \n",
      "46        NaN    NaN  \n",
      "47        NaN    NaN  \n",
      "48        8.5      E  \n",
      "49        8.9      E  \n"
     ]
    }
   ],
   "source": [
    "print(data.head(50))\n"
   ]
  },
  {
   "cell_type": "code",
   "execution_count": 5,
   "metadata": {
    "scrolled": true
   },
   "outputs": [
    {
     "name": "stdout",
     "output_type": "stream",
     "text": [
      "<class 'pandas.core.frame.DataFrame'>\n",
      "RangeIndex: 16715 entries, 0 to 16714\n",
      "Data columns (total 11 columns):\n",
      " #   Column           Non-Null Count  Dtype  \n",
      "---  ------           --------------  -----  \n",
      " 0   name             16713 non-null  object \n",
      " 1   platform         16715 non-null  object \n",
      " 2   year_of_release  16446 non-null  float64\n",
      " 3   genre            16713 non-null  object \n",
      " 4   na_sales         16715 non-null  float64\n",
      " 5   eu_sales         16715 non-null  float64\n",
      " 6   jp_sales         16715 non-null  float64\n",
      " 7   other_sales      16715 non-null  float64\n",
      " 8   critic_score     8137 non-null   float64\n",
      " 9   user_score       10014 non-null  object \n",
      " 10  rating           9949 non-null   object \n",
      "dtypes: float64(6), object(5)\n",
      "memory usage: 1.4+ MB\n"
     ]
    }
   ],
   "source": [
    "data.info()"
   ]
  },
  {
   "cell_type": "code",
   "execution_count": 6,
   "metadata": {
    "scrolled": true
   },
   "outputs": [
    {
     "name": "stdout",
     "output_type": "stream",
     "text": [
      "0\n"
     ]
    }
   ],
   "source": [
    "print(data.duplicated().sum())"
   ]
  },
  {
   "cell_type": "markdown",
   "metadata": {},
   "source": [
    "Смотрим на типы данных, количество колонок и строк.\n",
    "Ищем дубликаты"
   ]
  },
  {
   "cell_type": "code",
   "execution_count": 7,
   "metadata": {},
   "outputs": [],
   "source": [
    "\n",
    "data= data[data['year_of_release'].notna()]\n",
    "data= data[data['name'].notna()]\n",
    "data= data[data['genre'].notna()]\n",
    "data['year_of_release'] = data['year_of_release'].astype(int)\n",
    "\n",
    "data['user_score']=data['user_score'].replace(\"tbd\", \"NaN\")\n",
    "data['user_score'] = data['user_score'].astype(float)\n",
    "\n"
   ]
  },
  {
   "cell_type": "markdown",
   "metadata": {},
   "source": [
    "Удаляем название, жанр,год, так как без этих данных анализировать не получится и в целом потеря данных не значительно отразится на  финальном исследовани, так как потеряно мало данных.\n",
    "Меняем тип  данных для столбцов год выпуска и оценка пользователей, так как для них понадобятся мат. операции. а без перевода в числовые значения не получится это сделать.\n",
    "Меняем значение 'tbd' на 'NaN', т.к. скорее всего оценок еще не было, возможно игра была не столь популярна или не интересна, потому и осталась без оценок\n",
    "К пропускам могли привести очень многие причины, например, некорректно заполнены данные, или отстутствие таковых."
   ]
  },
  {
   "cell_type": "markdown",
   "metadata": {},
   "source": [
    "<div class=\"alert alert-info\">\n",
    "<b>\n",
    "</b> \n",
    "Явных дубликатов тут нет\n",
    "</div>"
   ]
  },
  {
   "cell_type": "markdown",
   "metadata": {},
   "source": []
  },
  {
   "cell_type": "markdown",
   "metadata": {},
   "source": []
  },
  {
   "cell_type": "code",
   "execution_count": 8,
   "metadata": {},
   "outputs": [
    {
     "name": "stdout",
     "output_type": "stream",
     "text": [
      "<class 'pandas.core.frame.DataFrame'>\n",
      "Int64Index: 16444 entries, 0 to 16714\n",
      "Data columns (total 11 columns):\n",
      " #   Column           Non-Null Count  Dtype  \n",
      "---  ------           --------------  -----  \n",
      " 0   name             16444 non-null  object \n",
      " 1   platform         16444 non-null  object \n",
      " 2   year_of_release  16444 non-null  int64  \n",
      " 3   genre            16444 non-null  object \n",
      " 4   na_sales         16444 non-null  float64\n",
      " 5   eu_sales         16444 non-null  float64\n",
      " 6   jp_sales         16444 non-null  float64\n",
      " 7   other_sales      16444 non-null  float64\n",
      " 8   critic_score     7983 non-null   float64\n",
      " 9   user_score       7463 non-null   float64\n",
      " 10  rating           9768 non-null   object \n",
      "dtypes: float64(6), int64(1), object(4)\n",
      "memory usage: 1.5+ MB\n"
     ]
    },
    {
     "data": {
      "text/plain": [
       "name                  0\n",
       "platform              0\n",
       "year_of_release       0\n",
       "genre                 0\n",
       "na_sales              0\n",
       "eu_sales              0\n",
       "jp_sales              0\n",
       "other_sales           0\n",
       "critic_score       8461\n",
       "user_score         8981\n",
       "rating             6676\n",
       "dtype: int64"
      ]
     },
     "execution_count": 8,
     "metadata": {},
     "output_type": "execute_result"
    }
   ],
   "source": [
    "data.info()\n",
    "data.isna().sum()"
   ]
  },
  {
   "cell_type": "code",
   "execution_count": 9,
   "metadata": {},
   "outputs": [],
   "source": [
    "data['total_sales'] = data[['na_sales',  'eu_sales', 'jp_sales', 'other_sales']].sum(axis=1)"
   ]
  },
  {
   "cell_type": "markdown",
   "metadata": {},
   "source": []
  },
  {
   "cell_type": "code",
   "execution_count": 10,
   "metadata": {},
   "outputs": [
    {
     "data": {
      "text/html": [
       "<div>\n",
       "<style scoped>\n",
       "    .dataframe tbody tr th:only-of-type {\n",
       "        vertical-align: middle;\n",
       "    }\n",
       "\n",
       "    .dataframe tbody tr th {\n",
       "        vertical-align: top;\n",
       "    }\n",
       "\n",
       "    .dataframe thead th {\n",
       "        text-align: right;\n",
       "    }\n",
       "</style>\n",
       "<table border=\"1\" class=\"dataframe\">\n",
       "  <thead>\n",
       "    <tr style=\"text-align: right;\">\n",
       "      <th></th>\n",
       "      <th>name</th>\n",
       "      <th>platform</th>\n",
       "      <th>year_of_release</th>\n",
       "      <th>genre</th>\n",
       "      <th>na_sales</th>\n",
       "      <th>eu_sales</th>\n",
       "      <th>jp_sales</th>\n",
       "      <th>other_sales</th>\n",
       "      <th>critic_score</th>\n",
       "      <th>user_score</th>\n",
       "      <th>rating</th>\n",
       "      <th>total_sales</th>\n",
       "    </tr>\n",
       "  </thead>\n",
       "  <tbody>\n",
       "    <tr>\n",
       "      <th>0</th>\n",
       "      <td>Wii Sports</td>\n",
       "      <td>Wii</td>\n",
       "      <td>2006</td>\n",
       "      <td>Sports</td>\n",
       "      <td>41.36</td>\n",
       "      <td>28.96</td>\n",
       "      <td>3.77</td>\n",
       "      <td>8.45</td>\n",
       "      <td>76.0</td>\n",
       "      <td>8.0</td>\n",
       "      <td>E</td>\n",
       "      <td>82.54</td>\n",
       "    </tr>\n",
       "    <tr>\n",
       "      <th>1</th>\n",
       "      <td>Super Mario Bros.</td>\n",
       "      <td>NES</td>\n",
       "      <td>1985</td>\n",
       "      <td>Platform</td>\n",
       "      <td>29.08</td>\n",
       "      <td>3.58</td>\n",
       "      <td>6.81</td>\n",
       "      <td>0.77</td>\n",
       "      <td>NaN</td>\n",
       "      <td>NaN</td>\n",
       "      <td>NaN</td>\n",
       "      <td>40.24</td>\n",
       "    </tr>\n",
       "    <tr>\n",
       "      <th>2</th>\n",
       "      <td>Mario Kart Wii</td>\n",
       "      <td>Wii</td>\n",
       "      <td>2008</td>\n",
       "      <td>Racing</td>\n",
       "      <td>15.68</td>\n",
       "      <td>12.76</td>\n",
       "      <td>3.79</td>\n",
       "      <td>3.29</td>\n",
       "      <td>82.0</td>\n",
       "      <td>8.3</td>\n",
       "      <td>E</td>\n",
       "      <td>35.52</td>\n",
       "    </tr>\n",
       "    <tr>\n",
       "      <th>3</th>\n",
       "      <td>Wii Sports Resort</td>\n",
       "      <td>Wii</td>\n",
       "      <td>2009</td>\n",
       "      <td>Sports</td>\n",
       "      <td>15.61</td>\n",
       "      <td>10.93</td>\n",
       "      <td>3.28</td>\n",
       "      <td>2.95</td>\n",
       "      <td>80.0</td>\n",
       "      <td>8.0</td>\n",
       "      <td>E</td>\n",
       "      <td>32.77</td>\n",
       "    </tr>\n",
       "    <tr>\n",
       "      <th>4</th>\n",
       "      <td>Pokemon Red/Pokemon Blue</td>\n",
       "      <td>GB</td>\n",
       "      <td>1996</td>\n",
       "      <td>Role-Playing</td>\n",
       "      <td>11.27</td>\n",
       "      <td>8.89</td>\n",
       "      <td>10.22</td>\n",
       "      <td>1.00</td>\n",
       "      <td>NaN</td>\n",
       "      <td>NaN</td>\n",
       "      <td>NaN</td>\n",
       "      <td>31.38</td>\n",
       "    </tr>\n",
       "    <tr>\n",
       "      <th>...</th>\n",
       "      <td>...</td>\n",
       "      <td>...</td>\n",
       "      <td>...</td>\n",
       "      <td>...</td>\n",
       "      <td>...</td>\n",
       "      <td>...</td>\n",
       "      <td>...</td>\n",
       "      <td>...</td>\n",
       "      <td>...</td>\n",
       "      <td>...</td>\n",
       "      <td>...</td>\n",
       "      <td>...</td>\n",
       "    </tr>\n",
       "    <tr>\n",
       "      <th>16710</th>\n",
       "      <td>Samurai Warriors: Sanada Maru</td>\n",
       "      <td>PS3</td>\n",
       "      <td>2016</td>\n",
       "      <td>Action</td>\n",
       "      <td>0.00</td>\n",
       "      <td>0.00</td>\n",
       "      <td>0.01</td>\n",
       "      <td>0.00</td>\n",
       "      <td>NaN</td>\n",
       "      <td>NaN</td>\n",
       "      <td>NaN</td>\n",
       "      <td>0.01</td>\n",
       "    </tr>\n",
       "    <tr>\n",
       "      <th>16711</th>\n",
       "      <td>LMA Manager 2007</td>\n",
       "      <td>X360</td>\n",
       "      <td>2006</td>\n",
       "      <td>Sports</td>\n",
       "      <td>0.00</td>\n",
       "      <td>0.01</td>\n",
       "      <td>0.00</td>\n",
       "      <td>0.00</td>\n",
       "      <td>NaN</td>\n",
       "      <td>NaN</td>\n",
       "      <td>NaN</td>\n",
       "      <td>0.01</td>\n",
       "    </tr>\n",
       "    <tr>\n",
       "      <th>16712</th>\n",
       "      <td>Haitaka no Psychedelica</td>\n",
       "      <td>PSV</td>\n",
       "      <td>2016</td>\n",
       "      <td>Adventure</td>\n",
       "      <td>0.00</td>\n",
       "      <td>0.00</td>\n",
       "      <td>0.01</td>\n",
       "      <td>0.00</td>\n",
       "      <td>NaN</td>\n",
       "      <td>NaN</td>\n",
       "      <td>NaN</td>\n",
       "      <td>0.01</td>\n",
       "    </tr>\n",
       "    <tr>\n",
       "      <th>16713</th>\n",
       "      <td>Spirits &amp; Spells</td>\n",
       "      <td>GBA</td>\n",
       "      <td>2003</td>\n",
       "      <td>Platform</td>\n",
       "      <td>0.01</td>\n",
       "      <td>0.00</td>\n",
       "      <td>0.00</td>\n",
       "      <td>0.00</td>\n",
       "      <td>NaN</td>\n",
       "      <td>NaN</td>\n",
       "      <td>NaN</td>\n",
       "      <td>0.01</td>\n",
       "    </tr>\n",
       "    <tr>\n",
       "      <th>16714</th>\n",
       "      <td>Winning Post 8 2016</td>\n",
       "      <td>PSV</td>\n",
       "      <td>2016</td>\n",
       "      <td>Simulation</td>\n",
       "      <td>0.00</td>\n",
       "      <td>0.00</td>\n",
       "      <td>0.01</td>\n",
       "      <td>0.00</td>\n",
       "      <td>NaN</td>\n",
       "      <td>NaN</td>\n",
       "      <td>NaN</td>\n",
       "      <td>0.01</td>\n",
       "    </tr>\n",
       "  </tbody>\n",
       "</table>\n",
       "<p>16444 rows × 12 columns</p>\n",
       "</div>"
      ],
      "text/plain": [
       "                                name platform  year_of_release         genre  \\\n",
       "0                         Wii Sports      Wii             2006        Sports   \n",
       "1                  Super Mario Bros.      NES             1985      Platform   \n",
       "2                     Mario Kart Wii      Wii             2008        Racing   \n",
       "3                  Wii Sports Resort      Wii             2009        Sports   \n",
       "4           Pokemon Red/Pokemon Blue       GB             1996  Role-Playing   \n",
       "...                              ...      ...              ...           ...   \n",
       "16710  Samurai Warriors: Sanada Maru      PS3             2016        Action   \n",
       "16711               LMA Manager 2007     X360             2006        Sports   \n",
       "16712        Haitaka no Psychedelica      PSV             2016     Adventure   \n",
       "16713               Spirits & Spells      GBA             2003      Platform   \n",
       "16714            Winning Post 8 2016      PSV             2016    Simulation   \n",
       "\n",
       "       na_sales  eu_sales  jp_sales  other_sales  critic_score  user_score  \\\n",
       "0         41.36     28.96      3.77         8.45          76.0         8.0   \n",
       "1         29.08      3.58      6.81         0.77           NaN         NaN   \n",
       "2         15.68     12.76      3.79         3.29          82.0         8.3   \n",
       "3         15.61     10.93      3.28         2.95          80.0         8.0   \n",
       "4         11.27      8.89     10.22         1.00           NaN         NaN   \n",
       "...         ...       ...       ...          ...           ...         ...   \n",
       "16710      0.00      0.00      0.01         0.00           NaN         NaN   \n",
       "16711      0.00      0.01      0.00         0.00           NaN         NaN   \n",
       "16712      0.00      0.00      0.01         0.00           NaN         NaN   \n",
       "16713      0.01      0.00      0.00         0.00           NaN         NaN   \n",
       "16714      0.00      0.00      0.01         0.00           NaN         NaN   \n",
       "\n",
       "      rating  total_sales  \n",
       "0          E        82.54  \n",
       "1        NaN        40.24  \n",
       "2          E        35.52  \n",
       "3          E        32.77  \n",
       "4        NaN        31.38  \n",
       "...      ...          ...  \n",
       "16710    NaN         0.01  \n",
       "16711    NaN         0.01  \n",
       "16712    NaN         0.01  \n",
       "16713    NaN         0.01  \n",
       "16714    NaN         0.01  \n",
       "\n",
       "[16444 rows x 12 columns]"
      ]
     },
     "metadata": {},
     "output_type": "display_data"
    }
   ],
   "source": [
    "display(data)"
   ]
  },
  {
   "cell_type": "markdown",
   "metadata": {},
   "source": []
  },
  {
   "cell_type": "markdown",
   "metadata": {},
   "source": []
  },
  {
   "cell_type": "code",
   "execution_count": 11,
   "metadata": {},
   "outputs": [
    {
     "data": {
      "image/png": "[encoded data removed]",
      "text/plain": [
       "<Figure size 432x288 with 1 Axes>"
      ]
     },
     "metadata": {
      "needs_background": "light"
     },
     "output_type": "display_data"
    }
   ],
   "source": [
    "games_year = data['year_of_release'].value_counts().sort_index()\n",
    "games_year.plot(kind = 'bar')\n",
    "plt.title('Количество игр по годам')\n",
    "plt.xlabel('Год')\n",
    "plt.ylabel(' Количество игр')\n",
    "plt.show()"
   ]
  },
  {
   "cell_type": "markdown",
   "metadata": {},
   "source": [
    "Сделали разбивку по количеству выпущенных игр в годах, максимальное количество было выпущено в 2008 году, почти такое же, как и в 2009, разница всего в одну игру."
   ]
  },
  {
   "cell_type": "code",
   "execution_count": 12,
   "metadata": {
    "scrolled": true
   },
   "outputs": [
    {
     "data": {
      "text/plain": [
       "<AxesSubplot:xlabel='year_of_release'>"
      ]
     },
     "execution_count": 12,
     "metadata": {},
     "output_type": "execute_result"
    },
    {
     "data": {
      "image/png": "[encoded data removed]",
      "text/plain": [
       "<Figure size 1080x576 with 1 Axes>"
      ]
     },
     "metadata": {
      "needs_background": "light"
     },
     "output_type": "display_data"
    }
   ],
   "source": [
    "platf_year_sale = data.pivot_table(index = 'platform', values = 'total_sales',  aggfunc = 'sum')\\\n",
    "    .sort_values('total_sales', ascending = False)\\\n",
    "    .reset_index()\n",
    "\n",
    "popular_platform = platf_year_sale.loc[0:4, 'platform'].to_list()\n",
    "\n",
    "data.query(('platform in @popular_platform & 2000 <= year_of_release <= 2016'))  \\\n",
    ".pivot_table(index ='year_of_release', columns = 'platform', values = 'total_sales', aggfunc ='sum') \\\n",
    ".plot(grid  = True, figsize = (15,8))\n"
   ]
  },
  {
   "cell_type": "markdown",
   "metadata": {},
   "source": [
    "Выделили топ 5 популярных платформ и продаж по ним, взяв дату с 2000 года и произвели  разбивку по годам, после построили график по полученным данным. В среднем хватает около 10 лет для того, чтоб интерес к платформе пропал."
   ]
  },
  {
   "cell_type": "markdown",
   "metadata": {},
   "source": []
  },
  {
   "cell_type": "code",
   "execution_count": 1,
   "metadata": {
    "scrolled": true
   },
   "outputs": [
    {
     "ename": "NameError",
     "evalue": "name 'data' is not defined",
     "output_type": "error",
     "traceback": [
      "\u001b[0;31m---------------------------------------------------------------------------\u001b[0m",
      "\u001b[0;31mNameError\u001b[0m                                 Traceback (most recent call last)",
      "\u001b[0;32m/tmp/ipykernel_31/3458676310.py\u001b[0m in \u001b[0;36m<module>\u001b[0;34m\u001b[0m\n\u001b[1;32m      1\u001b[0m ( \n\u001b[0;32m----> 2\u001b[0;31m     \u001b[0mdata\u001b[0m\u001b[0;34m\u001b[0m\u001b[0;34m\u001b[0m\u001b[0m\n\u001b[0m\u001b[1;32m      3\u001b[0m     \u001b[0;34m.\u001b[0m\u001b[0mquery\u001b[0m\u001b[0;34m(\u001b[0m\u001b[0;34m'year_of_release > 2013'\u001b[0m\u001b[0;34m)\u001b[0m\u001b[0;34m\u001b[0m\u001b[0;34m\u001b[0m\u001b[0m\n\u001b[1;32m      4\u001b[0m     \u001b[0;34m.\u001b[0m\u001b[0mpivot_table\u001b[0m\u001b[0;34m(\u001b[0m\u001b[0mindex\u001b[0m \u001b[0;34m=\u001b[0m \u001b[0;34m'platform'\u001b[0m\u001b[0;34m,\u001b[0m \u001b[0mcolumns\u001b[0m \u001b[0;34m=\u001b[0m\u001b[0;34m'year_of_release'\u001b[0m\u001b[0;34m,\u001b[0m \u001b[0mvalues\u001b[0m \u001b[0;34m=\u001b[0m\u001b[0;34m'name'\u001b[0m\u001b[0;34m,\u001b[0m \u001b[0maggfunc\u001b[0m \u001b[0;34m=\u001b[0m \u001b[0;34m'count'\u001b[0m\u001b[0;34m)\u001b[0m\u001b[0;34m.\u001b[0m\u001b[0msort_values\u001b[0m\u001b[0;34m(\u001b[0m\u001b[0;34m)\u001b[0m\u001b[0;34m\u001b[0m\u001b[0;34m\u001b[0m\u001b[0m\n\u001b[1;32m      5\u001b[0m \u001b[0;34m\u001b[0m\u001b[0m\n",
      "\u001b[0;31mNameError\u001b[0m: name 'data' is not defined"
     ]
    }
   ],
   "source": [
    "( \n",
    "    data\n",
    "    .query('year_of_release > 2013')\n",
    "    .pivot_table(index = 'platform', columns ='year_of_release', values ='name', aggfunc = 'count')  \n",
    "    \n",
    ")\n",
    "\n"
   ]
  },
  {
   "cell_type": "markdown",
   "metadata": {},
   "source": [
    "Рассмотрим количество игр выпускаемое на платформах с 2015 года, видим, что на рынке лидирующие позиции занимают платформы PS и XBOX. Платформа 3DS также, занимает высокое положение по количеству выпущенных игр, но с годами  теряет свое положение. так с 2013 по 2016 год количество упало почти в два раза. В каком бы годы не посмотреть лидера выпущенных игр, везде будет платформа PS меняется только ее поколение."
   ]
  },
  {
   "cell_type": "markdown",
   "metadata": {},
   "source": [
    "<div class=\"alert alert-info\">\n",
    "<b>\n",
    "</b> \n",
    "Возьмем данные за 3 года, для получения более актуальной информации.\n",
    "</div>"
   ]
  },
  {
   "cell_type": "markdown",
   "metadata": {},
   "source": []
  },
  {
   "cell_type": "code",
   "execution_count": 14,
   "metadata": {},
   "outputs": [],
   "source": [
    "#( \n",
    "  #  data\n",
    "  #  .query('year_of_release > 2015')\n",
    "   # .pivot_table(index = 'platform', columns ='year_of_release', values ='name', aggfunc = 'count')  \n",
    "#)\n"
   ]
  },
  {
   "cell_type": "markdown",
   "metadata": {},
   "source": []
  },
  {
   "cell_type": "code",
   "execution_count": 58,
   "metadata": {
    "scrolled": true
   },
   "outputs": [
    {
     "data": {
      "text/plain": [
       "<AxesSubplot:xlabel='platform'>"
      ]
     },
     "execution_count": 58,
     "metadata": {},
     "output_type": "execute_result"
    },
    {
     "data": {
      "image/png": "[encoded data removed]",
      "text/plain": [
       "<Figure size 504x360 with 1 Axes>"
      ]
     },
     "metadata": {
      "needs_background": "light"
     },
     "output_type": "display_data"
    }
   ],
   "source": [
    "popular_pltf=( \n",
    "    data\n",
    "    .query('2013 <= year_of_release <= 2016')\n",
    "    .pivot_table(index = 'platform', values ='total_sales', aggfunc = 'sum')  \n",
    "    .sort_values(by = 'total_sales', ascending = False).head(5)\n",
    "    \n",
    ")\n",
    "popular_pltf.plot(y='total_sales', kind='bar', figsize = (7,5))\n",
    "\n"
   ]
  },
  {
   "cell_type": "code",
   "execution_count": 59,
   "metadata": {},
   "outputs": [
    {
     "data": {
      "text/html": [
       "<div>\n",
       "<style scoped>\n",
       "    .dataframe tbody tr th:only-of-type {\n",
       "        vertical-align: middle;\n",
       "    }\n",
       "\n",
       "    .dataframe tbody tr th {\n",
       "        vertical-align: top;\n",
       "    }\n",
       "\n",
       "    .dataframe thead th {\n",
       "        text-align: right;\n",
       "    }\n",
       "</style>\n",
       "<table border=\"1\" class=\"dataframe\">\n",
       "  <thead>\n",
       "    <tr style=\"text-align: right;\">\n",
       "      <th></th>\n",
       "      <th>total_sales</th>\n",
       "    </tr>\n",
       "    <tr>\n",
       "      <th>platform</th>\n",
       "      <th></th>\n",
       "    </tr>\n",
       "  </thead>\n",
       "  <tbody>\n",
       "    <tr>\n",
       "      <th>PS4</th>\n",
       "      <td>314.14</td>\n",
       "    </tr>\n",
       "    <tr>\n",
       "      <th>PS3</th>\n",
       "      <td>181.43</td>\n",
       "    </tr>\n",
       "    <tr>\n",
       "      <th>XOne</th>\n",
       "      <td>159.32</td>\n",
       "    </tr>\n",
       "    <tr>\n",
       "      <th>3DS</th>\n",
       "      <td>143.25</td>\n",
       "    </tr>\n",
       "    <tr>\n",
       "      <th>X360</th>\n",
       "      <td>136.80</td>\n",
       "    </tr>\n",
       "  </tbody>\n",
       "</table>\n",
       "</div>"
      ],
      "text/plain": [
       "          total_sales\n",
       "platform             \n",
       "PS4            314.14\n",
       "PS3            181.43\n",
       "XOne           159.32\n",
       "3DS            143.25\n",
       "X360           136.80"
      ]
     },
     "execution_count": 59,
     "metadata": {},
     "output_type": "execute_result"
    }
   ],
   "source": [
    "popular_pltf"
   ]
  },
  {
   "cell_type": "code",
   "execution_count": 57,
   "metadata": {},
   "outputs": [
    {
     "data": {
      "text/plain": [
       "(0.0, 4.0)"
      ]
     },
     "execution_count": 57,
     "metadata": {},
     "output_type": "execute_result"
    },
    {
     "data": {
      "image/png": "[encoded data removed]",
      "text/plain": [
       "<Figure size 720x360 with 1 Axes>"
      ]
     },
     "metadata": {
      "needs_background": "light"
     },
     "output_type": "display_data"
    }
   ],
   "source": [
    "\n",
    "\n",
    "(data\n",
    "    .query(\"platform == ['PS4', 'PS3', 'X360', 'XOne', '3DS'] and 2013 <= year_of_release <= 2016\")\n",
    "    .boxplot(column = 'total_sales', by ='platform', figsize = (10,5))\n",
    ")\n",
    "plt.ylim(0,4)\n",
    "\n"
   ]
  },
  {
   "cell_type": "markdown",
   "metadata": {},
   "source": []
  },
  {
   "cell_type": "markdown",
   "metadata": {},
   "source": []
  },
  {
   "cell_type": "markdown",
   "metadata": {},
   "source": [
    "<div class=\"alert alert-info\">\n",
    "<b>\n",
    "</b>\n",
    "Определили популярные платформы за период 2013-2016г, отделили топ 5, получилось - PS4, PS3, X360, XOne, 3DS)\n",
    "Действительно похоже на текущую ситуацию на рынке, лидируют Иксбокс и Плейстейшн, но все таки Плэйстейшн значительно популярнее конкурентов. На последнем месте Нинтендо.\n",
    "</div>"
   ]
  },
  {
   "cell_type": "markdown",
   "metadata": {},
   "source": []
  },
  {
   "cell_type": "code",
   "execution_count": 18,
   "metadata": {
    "scrolled": true
   },
   "outputs": [],
   "source": [
    "#(data\n",
    "   \n",
    "  #  .query(\"platform == ['PS4', 'PS3', 'X360', 'XOne', '3DS']\")\n",
    "  #  .boxplot(column = 'total_sales', by ='platform', figsize = (10,5))\n",
    "#)\n",
    "#plt.ylim(0,4)"
   ]
  },
  {
   "cell_type": "markdown",
   "metadata": {},
   "source": []
  },
  {
   "cell_type": "markdown",
   "metadata": {},
   "source": []
  },
  {
   "cell_type": "code",
   "execution_count": 19,
   "metadata": {},
   "outputs": [
    {
     "data": {
      "text/plain": [
       "(0.0, 4.0)"
      ]
     },
     "execution_count": 19,
     "metadata": {},
     "output_type": "execute_result"
    },
    {
     "data": {
      "image/png": "[encoded data removed]",
      "text/plain": [
       "<Figure size 720x360 with 1 Axes>"
      ]
     },
     "metadata": {
      "needs_background": "light"
     },
     "output_type": "display_data"
    }
   ],
   "source": [
    "(data\n",
    "    .loc[(data['total_sales'] <= 40) | ((data['total_sales']).isna())]\n",
    "    .boxplot(column = 'total_sales', by ='platform', figsize = (10,5))\n",
    ")\n",
    "plt.ylim(0,4)"
   ]
  },
  {
   "cell_type": "code",
   "execution_count": 56,
   "metadata": {},
   "outputs": [
    {
     "data": {
      "image/png": "[encoded data removed]",
      "text/plain": [
       "<Figure size 432x288 with 1 Axes>"
      ]
     },
     "metadata": {
      "needs_background": "light"
     },
     "output_type": "display_data"
    },
    {
     "name": "stdout",
     "output_type": "stream",
     "text": [
      "0.406567902061781\n"
     ]
    }
   ],
   "source": [
    "PS4 = data.query(\"platform == ['PS4'] and 2013 <= year_of_release <= 2016\")\n",
    "PS4.plot(x='critic_score', y='total_sales', kind='scatter',  alpha=0.3, color = 'blue', title ='Зависимость продаж / оценка критиков')\n",
    "plt.show()\n",
    "print(PS4['total_sales'].corr(PS4['critic_score']))"
   ]
  },
  {
   "cell_type": "markdown",
   "metadata": {},
   "source": [
    "<div class=\"alert alert-info\">\n",
    "<b>\n",
    "</b>\n",
    " Корреляция низкая, связи почти нет.\n",
    "</div>"
   ]
  },
  {
   "cell_type": "markdown",
   "metadata": {},
   "source": []
  },
  {
   "cell_type": "markdown",
   "metadata": {},
   "source": []
  },
  {
   "cell_type": "code",
   "execution_count": 21,
   "metadata": {},
   "outputs": [
    {
     "data": {
      "image/png": "[encoded data removed]",
      "text/plain": [
       "<Figure size 432x288 with 1 Axes>"
      ]
     },
     "metadata": {
      "needs_background": "light"
     },
     "output_type": "display_data"
    },
    {
     "name": "stdout",
     "output_type": "stream",
     "text": [
      "0.024230832360622557\n"
     ]
    }
   ],
   "source": [
    "PS4.plot(x='user_score', y='total_sales', kind='scatter',  alpha=0.3, color = 'blue', title ='Зависимость продаж / оценка пользователей')\n",
    "plt.show()\n",
    "print(PS4['user_score'].corr(PS4['total_sales']))"
   ]
  },
  {
   "cell_type": "markdown",
   "metadata": {},
   "source": [
    "Зависимость между оценками критиков и продажами есть, но не высокая,\n",
    "Между оценками пользователей и продажами ее почти нет. Разобрали на примере платформы ПС4"
   ]
  },
  {
   "cell_type": "markdown",
   "metadata": {},
   "source": []
  },
  {
   "cell_type": "code",
   "execution_count": 22,
   "metadata": {
    "scrolled": true
   },
   "outputs": [
    {
     "data": {
      "image/png": "[encoded data removed]",
      "text/plain": [
       "<Figure size 432x288 with 1 Axes>"
      ]
     },
     "metadata": {
      "needs_background": "light"
     },
     "output_type": "display_data"
    },
    {
     "name": "stdout",
     "output_type": "stream",
     "text": [
      "0.2453488454741138\n"
     ]
    }
   ],
   "source": [
    "data.plot(x='critic_score', y='total_sales', kind='scatter',  alpha=0.3, color = 'blue', title ='Зависимость продаж / оценка пользователей')\n",
    "plt.show()\n",
    "print(data['critic_score'].corr(data['total_sales']))"
   ]
  },
  {
   "cell_type": "code",
   "execution_count": 23,
   "metadata": {},
   "outputs": [
    {
     "data": {
      "image/png": "[encoded data removed]",
      "text/plain": [
       "<Figure size 432x288 with 1 Axes>"
      ]
     },
     "metadata": {
      "needs_background": "light"
     },
     "output_type": "display_data"
    },
    {
     "name": "stdout",
     "output_type": "stream",
     "text": [
      "0.08798399271321647\n"
     ]
    }
   ],
   "source": [
    "data.plot(x='user_score', y='total_sales', kind='scatter',  alpha=0.3, color = 'blue', title ='Зависимость продаж / оценка пользователей')\n",
    "plt.show()\n",
    "print(data['user_score'].corr(data['total_sales']))"
   ]
  },
  {
   "cell_type": "markdown",
   "metadata": {},
   "source": [
    "По всем платформам также корреляция достаточно низкая."
   ]
  },
  {
   "cell_type": "code",
   "execution_count": 24,
   "metadata": {},
   "outputs": [
    {
     "data": {
      "text/plain": [
       "<AxesSubplot:xlabel='genre'>"
      ]
     },
     "execution_count": 24,
     "metadata": {},
     "output_type": "execute_result"
    },
    {
     "data": {
      "image/png": "[encoded data removed]",
      "text/plain": [
       "<Figure size 504x360 with 1 Axes>"
      ]
     },
     "metadata": {
      "needs_background": "light"
     },
     "output_type": "display_data"
    }
   ],
   "source": [
    "genre_sales=(\n",
    "    data\n",
    "    .query(\"2013 <= year_of_release <= 2016\")\n",
    "    .pivot_table(index = 'genre', values = 'total_sales', aggfunc = {'total_sales':'median'})\n",
    "    .sort_values(by = 'total_sales', ascending= False)             \n",
    ")\n",
    "genre_sales.columns =['median']\n",
    "\n",
    "genre_sales.plot(y='median', kind='bar', figsize = (7,5))\n",
    "\n",
    "\n"
   ]
  },
  {
   "cell_type": "markdown",
   "metadata": {},
   "source": []
  },
  {
   "cell_type": "markdown",
   "metadata": {},
   "source": []
  },
  {
   "cell_type": "markdown",
   "metadata": {},
   "source": [
    "<div class=\"alert alert-info\">\n",
    "<b>\n",
    "</b>\n",
    "Изменила метод группировки на медианные значения, действительно, теперь хороший доход приносят другие жанры, например - 'Платформа', 'Шутер', 'Спорт', 'Борьба', 'Экшн'. Таким образом эти игры стабильно обеспечивают хорошую прибыль, следует уделить им особое внимание.\n",
    "</div>"
   ]
  },
  {
   "cell_type": "markdown",
   "metadata": {},
   "source": []
  },
  {
   "cell_type": "markdown",
   "metadata": {},
   "source": [
    "<div class=\"alert alert-info\">\n",
    "<b>\n",
    "</b>\n",
    "v2\n",
    "Взяли актуальный преиод 2013-2016, отсортировали по убыванию, теперь легко определить топ жанров)</div>"
   ]
  },
  {
   "cell_type": "markdown",
   "metadata": {},
   "source": []
  },
  {
   "cell_type": "markdown",
   "metadata": {},
   "source": []
  },
  {
   "cell_type": "markdown",
   "metadata": {},
   "source": [
    "Как ранее решили брать годы с 2013, выделили топ 5 платформ для Северной Америки, лидер среди всех ПС4, замыкает топ ПС3."
   ]
  },
  {
   "cell_type": "markdown",
   "metadata": {},
   "source": []
  },
  {
   "cell_type": "code",
   "execution_count": 25,
   "metadata": {},
   "outputs": [],
   "source": [
    "jp_sales_top =(\n",
    "    data\n",
    "    .query(\"2013 <= year_of_release <= 2016\")\n",
    "    .groupby('platform')['jp_sales'].sum().sort_values(ascending=False).head(5)\n",
    ")\n"
   ]
  },
  {
   "cell_type": "code",
   "execution_count": 26,
   "metadata": {},
   "outputs": [
    {
     "data": {
      "text/plain": [
       "<AxesSubplot:title={'center':'Долевая разбивка платформ для Японии'}, ylabel='jp_sales'>"
      ]
     },
     "execution_count": 26,
     "metadata": {},
     "output_type": "execute_result"
    },
    {
     "data": {
      "image/png": "[encoded data removed]",
      "text/plain": [
       "<Figure size 720x360 with 1 Axes>"
      ]
     },
     "metadata": {},
     "output_type": "display_data"
    }
   ],
   "source": [
    "jp_sales_top.plot( y='jp_sales', x = 'platform', kind = 'pie', figsize =(10,5), autopct = '%.0f',  title = 'Долевая разбивка платформ для Японии')"
   ]
  },
  {
   "cell_type": "markdown",
   "metadata": {},
   "source": [
    "Половину от всего рынка Японии занимает платформа 3DS, это неудивительно, так как эта платформа была выпущена в Японии, следовательно она должна быть хорошо адаптирована под жителей страны. даже гугл подтверждает, что 'Nintendo 3DS является одной из самых успешных систем за всю историю существования рынка'"
   ]
  },
  {
   "cell_type": "code",
   "execution_count": 27,
   "metadata": {},
   "outputs": [],
   "source": [
    "na_sales_top =(\n",
    "    data\n",
    "    .query(\"2013 <= year_of_release <= 2016\")\n",
    "    .groupby('platform')['na_sales'].sum().sort_values(ascending=False).head(5)\n",
    ")\n"
   ]
  },
  {
   "cell_type": "code",
   "execution_count": 28,
   "metadata": {},
   "outputs": [
    {
     "data": {
      "text/plain": [
       "<AxesSubplot:title={'center':'Долевая разбивка платформ для Северной Америки'}, ylabel='na_sales'>"
      ]
     },
     "execution_count": 28,
     "metadata": {},
     "output_type": "execute_result"
    },
    {
     "data": {
      "image/png": "[encoded data removed]",
      "text/plain": [
       "<Figure size 720x360 with 1 Axes>"
      ]
     },
     "metadata": {},
     "output_type": "display_data"
    }
   ],
   "source": [
    "na_sales_top.plot( y='na_sales', x = 'platform', kind = 'pie', figsize =(10,5), autopct = '%.0f',  title = 'Долевая разбивка платформ для Северной Америки')"
   ]
  },
  {
   "cell_type": "markdown",
   "metadata": {},
   "source": []
  },
  {
   "cell_type": "markdown",
   "metadata": {},
   "source": [
    "<div class=\"alert alert-info\">\n",
    "<b>\n",
    "</b>\n",
    " После изменения, получилось, что вырвалась вперед PS4, и доли уже не такие и одинаковые, PS4 и XOne значительно опережают конкурентов.\n",
    "</div>"
   ]
  },
  {
   "cell_type": "markdown",
   "metadata": {},
   "source": [
    "<div class=\"alert alert-info\">\n",
    "<b>\n",
    "</b> v2\n",
    "Переделаем под 2013-2016 годы, теперь на диаграмме плавно распределились платформы, топ 3 - PS4, XOne, X360</div>"
   ]
  },
  {
   "cell_type": "markdown",
   "metadata": {},
   "source": []
  },
  {
   "cell_type": "code",
   "execution_count": 29,
   "metadata": {},
   "outputs": [],
   "source": [
    "eu_sales_top =(\n",
    "    data\n",
    "    .query(\"2013 <= year_of_release <= 2016\")\n",
    "    .groupby('platform')['eu_sales'].sum().sort_values(ascending=False).head(5)\n",
    ")\n"
   ]
  },
  {
   "cell_type": "code",
   "execution_count": 30,
   "metadata": {},
   "outputs": [
    {
     "data": {
      "text/plain": [
       "<AxesSubplot:title={'center':'Долевая разбивка платформ для Европы'}, ylabel='eu_sales'>"
      ]
     },
     "execution_count": 30,
     "metadata": {},
     "output_type": "execute_result"
    },
    {
     "data": {
      "image/png": "[encoded data removed]",
      "text/plain": [
       "<Figure size 720x360 with 1 Axes>"
      ]
     },
     "metadata": {},
     "output_type": "display_data"
    }
   ],
   "source": [
    "eu_sales_top.plot( y='eu_sales', x = 'platform', kind = 'pie', figsize =(10,5), autopct = '%.0f', title = 'Долевая разбивка платформ для Европы')"
   ]
  },
  {
   "cell_type": "markdown",
   "metadata": {},
   "source": []
  },
  {
   "cell_type": "markdown",
   "metadata": {},
   "source": [
    "<div class=\"alert alert-info\">\n",
    "<b>\n",
    "</b>\n",
    "PS4 все также идет на первом месте, но сменилось второе, тут на втором месте XOne, а следом идут остальные платформы, суммарно они не занимают долю даже по одной платформы из топ 2.\n",
    "</div>"
   ]
  },
  {
   "cell_type": "markdown",
   "metadata": {},
   "source": [
    "<div class=\"alert alert-info\">\n",
    "<b>\n",
    "</b> v2\n",
    "Второе место занял ПS3 и третье ХOne\n",
    "</div>"
   ]
  },
  {
   "cell_type": "markdown",
   "metadata": {},
   "source": []
  },
  {
   "cell_type": "code",
   "execution_count": 31,
   "metadata": {},
   "outputs": [],
   "source": [
    "eu_jp_na_sales = pd.DataFrame(data=[na_sales_top,eu_sales_top, jp_sales_top,]).T"
   ]
  },
  {
   "cell_type": "code",
   "execution_count": 32,
   "metadata": {},
   "outputs": [
    {
     "data": {
      "text/html": [
       "<div>\n",
       "<style scoped>\n",
       "    .dataframe tbody tr th:only-of-type {\n",
       "        vertical-align: middle;\n",
       "    }\n",
       "\n",
       "    .dataframe tbody tr th {\n",
       "        vertical-align: top;\n",
       "    }\n",
       "\n",
       "    .dataframe thead th {\n",
       "        text-align: right;\n",
       "    }\n",
       "</style>\n",
       "<table border=\"1\" class=\"dataframe\">\n",
       "  <thead>\n",
       "    <tr style=\"text-align: right;\">\n",
       "      <th></th>\n",
       "      <th>na_sales</th>\n",
       "      <th>eu_sales</th>\n",
       "      <th>jp_sales</th>\n",
       "    </tr>\n",
       "    <tr>\n",
       "      <th>platform</th>\n",
       "      <th></th>\n",
       "      <th></th>\n",
       "      <th></th>\n",
       "    </tr>\n",
       "  </thead>\n",
       "  <tbody>\n",
       "    <tr>\n",
       "      <th>PS4</th>\n",
       "      <td>108.74</td>\n",
       "      <td>141.09</td>\n",
       "      <td>15.96</td>\n",
       "    </tr>\n",
       "    <tr>\n",
       "      <th>XOne</th>\n",
       "      <td>93.12</td>\n",
       "      <td>51.59</td>\n",
       "      <td>NaN</td>\n",
       "    </tr>\n",
       "    <tr>\n",
       "      <th>X360</th>\n",
       "      <td>81.66</td>\n",
       "      <td>42.52</td>\n",
       "      <td>NaN</td>\n",
       "    </tr>\n",
       "    <tr>\n",
       "      <th>PS3</th>\n",
       "      <td>63.50</td>\n",
       "      <td>67.81</td>\n",
       "      <td>23.35</td>\n",
       "    </tr>\n",
       "    <tr>\n",
       "      <th>3DS</th>\n",
       "      <td>38.20</td>\n",
       "      <td>30.96</td>\n",
       "      <td>67.81</td>\n",
       "    </tr>\n",
       "    <tr>\n",
       "      <th>PSV</th>\n",
       "      <td>NaN</td>\n",
       "      <td>NaN</td>\n",
       "      <td>18.59</td>\n",
       "    </tr>\n",
       "    <tr>\n",
       "      <th>WiiU</th>\n",
       "      <td>NaN</td>\n",
       "      <td>NaN</td>\n",
       "      <td>10.88</td>\n",
       "    </tr>\n",
       "  </tbody>\n",
       "</table>\n",
       "</div>"
      ],
      "text/plain": [
       "          na_sales  eu_sales  jp_sales\n",
       "platform                              \n",
       "PS4         108.74    141.09     15.96\n",
       "XOne         93.12     51.59       NaN\n",
       "X360         81.66     42.52       NaN\n",
       "PS3          63.50     67.81     23.35\n",
       "3DS          38.20     30.96     67.81\n",
       "PSV            NaN       NaN     18.59\n",
       "WiiU           NaN       NaN     10.88"
      ]
     },
     "execution_count": 32,
     "metadata": {},
     "output_type": "execute_result"
    }
   ],
   "source": [
    "eu_jp_na_sales"
   ]
  },
  {
   "cell_type": "code",
   "execution_count": 33,
   "metadata": {},
   "outputs": [
    {
     "data": {
      "text/plain": [
       "<AxesSubplot:title={'center':'Сравнение популярных платформ в разных регионах'}, xlabel='platform'>"
      ]
     },
     "execution_count": 33,
     "metadata": {},
     "output_type": "execute_result"
    },
    {
     "data": {
      "image/png": "[encoded data removed]",
      "text/plain": [
       "<Figure size 720x576 with 1 Axes>"
      ]
     },
     "metadata": {
      "needs_background": "light"
     },
     "output_type": "display_data"
    }
   ],
   "source": [
    "eu_jp_na_sales.plot(kind = 'bar', figsize =(10,8), title = 'Сравнение популярных платформ в разных регионах')"
   ]
  },
  {
   "cell_type": "markdown",
   "metadata": {},
   "source": [
    "Американский рынок плавно снижается от платформы к платформе, это значит, что они распределены достаточно однородно,\n",
    "в то время, как Европа от скачет от одной к другой, слишком большй разрыв между платформами. В Японии большая часть отдала предпочтение одной платформе - Нинтендо."
   ]
  },
  {
   "cell_type": "markdown",
   "metadata": {},
   "source": []
  },
  {
   "cell_type": "code",
   "execution_count": 34,
   "metadata": {},
   "outputs": [],
   "source": [
    "na_genre_top =(\n",
    "    data\n",
    "    .query(\"2013 <= year_of_release <= 2016\")\n",
    "    .groupby('genre')['na_sales'].sum().sort_values(ascending=False).head(5)\n",
    ")\n"
   ]
  },
  {
   "cell_type": "markdown",
   "metadata": {},
   "source": []
  },
  {
   "cell_type": "markdown",
   "metadata": {},
   "source": []
  },
  {
   "cell_type": "code",
   "execution_count": 35,
   "metadata": {},
   "outputs": [
    {
     "data": {
      "text/plain": [
       "<AxesSubplot:title={'center':'Популярные жанры в Северной Америке'}, ylabel='na_sales'>"
      ]
     },
     "execution_count": 35,
     "metadata": {},
     "output_type": "execute_result"
    },
    {
     "data": {
      "image/png": "[encoded data removed]",
      "text/plain": [
       "<Figure size 720x360 with 1 Axes>"
      ]
     },
     "metadata": {},
     "output_type": "display_data"
    }
   ],
   "source": [
    "na_genre_top.plot( y='na_sales', kind = 'pie', figsize =(10,5), autopct = '%.0f', title = 'Популярные жанры в Северной Америке')"
   ]
  },
  {
   "cell_type": "markdown",
   "metadata": {},
   "source": [
    "В Северной Америке видно, что люди отдают большее предпочтение играм жанров 'Экшн', 'Шутер', остальные игры не пользуются таким же  спросом."
   ]
  },
  {
   "cell_type": "markdown",
   "metadata": {},
   "source": [
    "<div class=\"alert alert-info\">\n",
    "<b>\n",
    "</b>\n",
    "    Хотя категория спорт тоже не далеко ушла, в целом распределение достаточно плавное.\n",
    "</div>"
   ]
  },
  {
   "cell_type": "code",
   "execution_count": 36,
   "metadata": {},
   "outputs": [],
   "source": [
    "eu_genre_top =(\n",
    "    data\n",
    "    .query(\"2013 <= year_of_release <= 2016\")\n",
    "    .groupby('genre')['eu_sales'].sum().sort_values(ascending=False).head(5)\n",
    ")\n"
   ]
  },
  {
   "cell_type": "code",
   "execution_count": 37,
   "metadata": {},
   "outputs": [
    {
     "data": {
      "text/plain": [
       "<AxesSubplot:title={'center':'Популярные жанры в Европе'}, ylabel='eu_sales'>"
      ]
     },
     "execution_count": 37,
     "metadata": {},
     "output_type": "execute_result"
    },
    {
     "data": {
      "image/png": "[encoded data removed]",
      "text/plain": [
       "<Figure size 720x360 with 1 Axes>"
      ]
     },
     "metadata": {},
     "output_type": "display_data"
    }
   ],
   "source": [
    "eu_genre_top.plot( y='eu_sales', kind = 'pie', figsize =(10,5), autopct = '%.0f', title = 'Популярные жанры в Европе')"
   ]
  },
  {
   "cell_type": "markdown",
   "metadata": {},
   "source": [
    "Картина по Европе примерно одинакова с Америкой, тут люди также чаще выбирают 'Экшн' и 'Шутер', чем другие игры.\n"
   ]
  },
  {
   "cell_type": "code",
   "execution_count": 38,
   "metadata": {},
   "outputs": [],
   "source": [
    "jp_genre_top =(\n",
    "    data\n",
    "    .query(\"2013 <= year_of_release <= 2016\")\n",
    "    .groupby('genre')['jp_sales'].sum().sort_values(ascending=False).head(5)\n",
    ")\n"
   ]
  },
  {
   "cell_type": "code",
   "execution_count": 39,
   "metadata": {},
   "outputs": [
    {
     "data": {
      "text/plain": [
       "<AxesSubplot:title={'center':'Популярные жанры в Японии'}, ylabel='jp_sales'>"
      ]
     },
     "execution_count": 39,
     "metadata": {},
     "output_type": "execute_result"
    },
    {
     "data": {
      "image/png": "[encoded data removed]",
      "text/plain": [
       "<Figure size 720x360 with 1 Axes>"
      ]
     },
     "metadata": {},
     "output_type": "display_data"
    }
   ],
   "source": [
    "jp_genre_top.plot( y='jp_sales', kind = 'pie', figsize =(10,5), autopct = '%.0f', title = 'Популярные жанры в Японии')"
   ]
  },
  {
   "cell_type": "markdown",
   "metadata": {},
   "source": [
    "Картина в Японии принципиально другая, тут на место популярного жанра - шутер, пришел жанр игр 'Ролевые', следующее место у жанра 'Экшн' тут Японцы также любят его, как и другие регионы."
   ]
  },
  {
   "cell_type": "markdown",
   "metadata": {},
   "source": [
    "<div class=\"alert alert-info\">\n",
    "<b>\n",
    "</b>\n",
    "    Теперь Япония тоже больше увлечена Экшном, после идет Ролевые игры.\n",
    "</div>"
   ]
  },
  {
   "cell_type": "markdown",
   "metadata": {},
   "source": [
    "<div class=\"alert alert-info\">\n",
    "<b>\n",
    "</b>\n",
    "    v2\n",
    "Изменив годы исследования получили, что с 2013-2016 преимущество у РП, далее идет Экшн и совсем мало для оставшихся позиций.\n",
    "</div>"
   ]
  },
  {
   "cell_type": "markdown",
   "metadata": {},
   "source": []
  },
  {
   "cell_type": "code",
   "execution_count": 40,
   "metadata": {},
   "outputs": [],
   "source": [
    "eu_jp_na_genre = pd.DataFrame(data=[na_genre_top,eu_genre_top, jp_genre_top,]).T"
   ]
  },
  {
   "cell_type": "code",
   "execution_count": null,
   "metadata": {},
   "outputs": [],
   "source": []
  },
  {
   "cell_type": "code",
   "execution_count": 41,
   "metadata": {},
   "outputs": [
    {
     "data": {
      "text/html": [
       "<div>\n",
       "<style scoped>\n",
       "    .dataframe tbody tr th:only-of-type {\n",
       "        vertical-align: middle;\n",
       "    }\n",
       "\n",
       "    .dataframe tbody tr th {\n",
       "        vertical-align: top;\n",
       "    }\n",
       "\n",
       "    .dataframe thead th {\n",
       "        text-align: right;\n",
       "    }\n",
       "</style>\n",
       "<table border=\"1\" class=\"dataframe\">\n",
       "  <thead>\n",
       "    <tr style=\"text-align: right;\">\n",
       "      <th></th>\n",
       "      <th>na_sales</th>\n",
       "      <th>eu_sales</th>\n",
       "      <th>jp_sales</th>\n",
       "    </tr>\n",
       "    <tr>\n",
       "      <th>genre</th>\n",
       "      <th></th>\n",
       "      <th></th>\n",
       "      <th></th>\n",
       "    </tr>\n",
       "  </thead>\n",
       "  <tbody>\n",
       "    <tr>\n",
       "      <th>Action</th>\n",
       "      <td>126.05</td>\n",
       "      <td>118.13</td>\n",
       "      <td>40.49</td>\n",
       "    </tr>\n",
       "    <tr>\n",
       "      <th>Shooter</th>\n",
       "      <td>109.74</td>\n",
       "      <td>87.86</td>\n",
       "      <td>6.61</td>\n",
       "    </tr>\n",
       "    <tr>\n",
       "      <th>Sports</th>\n",
       "      <td>65.27</td>\n",
       "      <td>60.52</td>\n",
       "      <td>NaN</td>\n",
       "    </tr>\n",
       "    <tr>\n",
       "      <th>Role-Playing</th>\n",
       "      <td>46.40</td>\n",
       "      <td>36.97</td>\n",
       "      <td>51.04</td>\n",
       "    </tr>\n",
       "    <tr>\n",
       "      <th>Misc</th>\n",
       "      <td>27.49</td>\n",
       "      <td>NaN</td>\n",
       "      <td>9.20</td>\n",
       "    </tr>\n",
       "    <tr>\n",
       "      <th>Racing</th>\n",
       "      <td>NaN</td>\n",
       "      <td>20.19</td>\n",
       "      <td>NaN</td>\n",
       "    </tr>\n",
       "    <tr>\n",
       "      <th>Fighting</th>\n",
       "      <td>NaN</td>\n",
       "      <td>NaN</td>\n",
       "      <td>7.65</td>\n",
       "    </tr>\n",
       "  </tbody>\n",
       "</table>\n",
       "</div>"
      ],
      "text/plain": [
       "              na_sales  eu_sales  jp_sales\n",
       "genre                                     \n",
       "Action          126.05    118.13     40.49\n",
       "Shooter         109.74     87.86      6.61\n",
       "Sports           65.27     60.52       NaN\n",
       "Role-Playing     46.40     36.97     51.04\n",
       "Misc             27.49       NaN      9.20\n",
       "Racing             NaN     20.19       NaN\n",
       "Fighting           NaN       NaN      7.65"
      ]
     },
     "execution_count": 41,
     "metadata": {},
     "output_type": "execute_result"
    }
   ],
   "source": [
    "eu_jp_na_genre"
   ]
  },
  {
   "cell_type": "code",
   "execution_count": 42,
   "metadata": {
    "scrolled": true
   },
   "outputs": [
    {
     "data": {
      "text/plain": [
       "<AxesSubplot:title={'center':'Сравнение популярных жанров в разный регионах'}, xlabel='genre'>"
      ]
     },
     "execution_count": 42,
     "metadata": {},
     "output_type": "execute_result"
    },
    {
     "data": {
      "image/png": "[encoded data removed]",
      "text/plain": [
       "<Figure size 576x360 with 1 Axes>"
      ]
     },
     "metadata": {
      "needs_background": "light"
     },
     "output_type": "display_data"
    }
   ],
   "source": [
    "eu_jp_na_genre.plot(kind = 'bar', figsize =(8,5), title = 'Сравнение популярных жанров в разный регионах')"
   ]
  },
  {
   "cell_type": "markdown",
   "metadata": {},
   "source": [
    "На диаграмме видно, что интересы Северной Америки и Европы практически идентичны, они отдают предпочтение одинаковым жанрам/"
   ]
  },
  {
   "cell_type": "markdown",
   "metadata": {},
   "source": []
  },
  {
   "cell_type": "markdown",
   "metadata": {},
   "source": []
  },
  {
   "cell_type": "markdown",
   "metadata": {},
   "source": [
    "<div class=\"alert alert-info\">\n",
    "<b>\n",
    "</b> v2\n",
    "По прежнему интересы Сев.Америки и Европы схожи, Япония отличается значительно. </div>"
   ]
  },
  {
   "cell_type": "markdown",
   "metadata": {},
   "source": []
  },
  {
   "cell_type": "code",
   "execution_count": 43,
   "metadata": {},
   "outputs": [],
   "source": [
    "data['rating'] = data['rating'].fillna('unknown')"
   ]
  },
  {
   "cell_type": "markdown",
   "metadata": {},
   "source": [
    "Необходимо заменить значения 'NaN' для дальнейшего проведения расчета, заполним их на 'unknown'."
   ]
  },
  {
   "cell_type": "code",
   "execution_count": 44,
   "metadata": {},
   "outputs": [
    {
     "data": {
      "image/png": "[encoded data removed]",
      "text/plain": [
       "<Figure size 432x288 with 1 Axes>"
      ]
     },
     "metadata": {
      "needs_background": "light"
     },
     "output_type": "display_data"
    }
   ],
   "source": [
    "actual_rating_na=(\n",
    "    data\n",
    "    .query(\"2013 <= year_of_release <= 2016\")\n",
    "    .plot(x='na_sales', y='rating', kind='scatter',  alpha=0.3, color = 'blue')\n",
    ")"
   ]
  },
  {
   "cell_type": "code",
   "execution_count": 45,
   "metadata": {},
   "outputs": [
    {
     "data": {
      "image/png": "[encoded data removed]",
      "text/plain": [
       "<Figure size 432x288 with 1 Axes>"
      ]
     },
     "metadata": {
      "needs_background": "light"
     },
     "output_type": "display_data"
    }
   ],
   "source": [
    "actual_rating_eu=(\n",
    "    data\n",
    "    .query(\"2013 <= year_of_release <= 2016\")\n",
    "    .plot(x='eu_sales', y='rating', kind='scatter',  alpha=0.3, color = 'blue')\n",
    ")"
   ]
  },
  {
   "cell_type": "code",
   "execution_count": 46,
   "metadata": {
    "scrolled": true
   },
   "outputs": [
    {
     "data": {
      "image/png": "[encoded data removed]",
      "text/plain": [
       "<Figure size 432x288 with 1 Axes>"
      ]
     },
     "metadata": {
      "needs_background": "light"
     },
     "output_type": "display_data"
    }
   ],
   "source": [
    "actual_rating_jp=(\n",
    "    data\n",
    "    .query(\"2013 <= year_of_release <= 2016\")\n",
    "    .plot(x='jp_sales', y='rating', kind='scatter',  alpha=0.3, color = 'blue')\n",
    ")"
   ]
  },
  {
   "cell_type": "markdown",
   "metadata": {},
   "source": []
  },
  {
   "cell_type": "code",
   "execution_count": 47,
   "metadata": {},
   "outputs": [],
   "source": [
    "#data.plot(x='na_sales', y='rating', kind='scatter',  alpha=0.3, color = 'blue')\n"
   ]
  },
  {
   "cell_type": "code",
   "execution_count": 48,
   "metadata": {},
   "outputs": [],
   "source": [
    "#data.plot(x='eu_sales', y='rating', kind='scatter',  alpha=0.3, color = 'blue')"
   ]
  },
  {
   "cell_type": "code",
   "execution_count": 49,
   "metadata": {},
   "outputs": [],
   "source": [
    "#data.plot(x='jp_sales', y='rating', kind='scatter', alpha=0.3, color = 'blue')"
   ]
  },
  {
   "cell_type": "markdown",
   "metadata": {},
   "source": []
  },
  {
   "cell_type": "markdown",
   "metadata": {},
   "source": []
  },
  {
   "cell_type": "markdown",
   "metadata": {},
   "source": [
    "<div class=\"alert alert-info\">\n",
    "<b>\n",
    "C 2013 года выделяются всего 4 рейтинга и столбец, который мы сделали из пустых оценок.\n",
    "В Японии рейтинги примерно одинаково выстроены, тут видим небольшие выбросы, но их мало, в основном яркий цвет у начальных значений,\n",
    "в Европе далеко ушло значение 'М', следовательно большинство игр имеют такой рейтинг,\n",
    "в Америке же рейтинг 'М' тоже лидирует, но совсем недалеко ушел и '\n",
    "</div>"
   ]
  },
  {
   "cell_type": "markdown",
   "metadata": {},
   "source": []
  },
  {
   "cell_type": "markdown",
   "metadata": {},
   "source": [
    "<div class=\"alert alert-info\">\n",
    "<b>\n",
    "</b>\n",
    "v2\n",
    "По прежнему, рейтинги сформированы практически однородно. в Японии - впереди столбец 'unknown', который был заполнен пропущенными значениями, опять же получены они могли быть совершенно по -разному.\n",
    "В европе рейтинг М имеет больше значений, чем остальные.\n",
    "В Америке - тоже столбец М, но и Е не далеко.\n",
    "</div>"
   ]
  },
  {
   "cell_type": "markdown",
   "metadata": {},
   "source": []
  },
  {
   "cell_type": "code",
   "execution_count": 50,
   "metadata": {},
   "outputs": [
    {
     "data": {
      "text/plain": [
       "6.521428571428572"
      ]
     },
     "execution_count": 50,
     "metadata": {},
     "output_type": "execute_result"
    }
   ],
   "source": [
    "XOne= data.query('platform == \"XOne\" and user_score > 0 and year_of_release > 2012')\n",
    "\n",
    "XOne['user_score'].mean()"
   ]
  },
  {
   "cell_type": "code",
   "execution_count": 51,
   "metadata": {},
   "outputs": [
    {
     "data": {
      "text/plain": [
       "6.2696774193548395"
      ]
     },
     "execution_count": 51,
     "metadata": {},
     "output_type": "execute_result"
    }
   ],
   "source": [
    "PC= data.query('platform == \"PC\" and user_score > 0 and year_of_release > 2012')\n",
    "PC['user_score'].mean()\n"
   ]
  },
  {
   "cell_type": "markdown",
   "metadata": {},
   "source": [
    " Средний рейтинг пользователей для платформы Xone -  6.521428571428572\n",
    " \n",
    " Средний рейтинг пользователей для платформы PC -  6.2696774193548395\n",
    "Cформулируем нулевую и альтернативную гипотезу:\n",
    "\n",
    "- Нулевая гипотеза H0: Средние пользовательские рейтинги платформ Xbox One и PC одинаковые.\n",
    "- Альтернативная гипотеза H1:Cредние пользовательские рейтинги платформ Xbox One и PC различаются.\n",
    "\n",
    "\n"
   ]
  },
  {
   "cell_type": "markdown",
   "metadata": {},
   "source": []
  },
  {
   "cell_type": "code",
   "execution_count": 52,
   "metadata": {},
   "outputs": [
    {
     "name": "stdout",
     "output_type": "stream",
     "text": [
      "p-значение: 0.14759594013430463\n",
      "Не получилось отвергнуть нулевую гипотезу\n"
     ]
    }
   ],
   "source": [
    "from scipy import stats as st\n",
    "alpha = 0.05\n",
    "\n",
    "results = st.ttest_ind(PC['user_score'], XOne['user_score'], equal_var = False)\n",
    "print('p-значение:', results.pvalue)\n",
    "\n",
    "if results.pvalue < alpha:\n",
    "    print('Отвергаем нулевую гипотезу')\n",
    "else:\n",
    "    print('Не получилось отвергнуть нулевую гипотезу')"
   ]
  },
  {
   "cell_type": "markdown",
   "metadata": {},
   "source": [
    "Рейтинг действительно практически одинаковый, нулевая гипотеза принимается."
   ]
  },
  {
   "cell_type": "markdown",
   "metadata": {},
   "source": []
  },
  {
   "cell_type": "code",
   "execution_count": 53,
   "metadata": {
    "scrolled": true
   },
   "outputs": [
    {
     "data": {
      "text/plain": [
       "6.837532133676092"
      ]
     },
     "execution_count": 53,
     "metadata": {},
     "output_type": "execute_result"
    }
   ],
   "source": [
    "Action= data.query('genre == \"Action\" and user_score > 0 and year_of_release > 2012')\n",
    "Action['user_score'].mean()"
   ]
  },
  {
   "cell_type": "code",
   "execution_count": 54,
   "metadata": {},
   "outputs": [
    {
     "data": {
      "text/plain": [
       "5.238124999999999"
      ]
     },
     "execution_count": 54,
     "metadata": {},
     "output_type": "execute_result"
    }
   ],
   "source": [
    "Sports= data.query('genre == \"Sports\" and user_score > 0 and year_of_release > 2012')\n",
    "Sports['user_score'].mean()"
   ]
  },
  {
   "cell_type": "markdown",
   "metadata": {},
   "source": [
    "Средние пользовательские рейтинги жанров Action (англ. «действие», экшен-игры) и Sports (англ. «спортивные соревнования») разные.\n",
    "\n",
    " Средний рейтинг пользователей для жанров Action - 6.837532133676092\n",
    " \n",
    " Средний рейтинг пользователей для жанров Sports - 5.238124999999999\n",
    "\n",
    "\n",
    "Cформулируем нулевую и альтернативную гипотезу: \n",
    "\n",
    "- Нулевая гипотеза H0: Средние пользовательские рейтинги жанров Action и Sports одинаковые.\n",
    "- Альтернативная гипотеза H1:Cредние пользовательские рейтинги жанров Action и Sports различаются.\n"
   ]
  },
  {
   "cell_type": "markdown",
   "metadata": {},
   "source": []
  },
  {
   "cell_type": "code",
   "execution_count": 55,
   "metadata": {},
   "outputs": [
    {
     "name": "stdout",
     "output_type": "stream",
     "text": [
      "p-значение: 1.4460039700704315e-20\n",
      "Отвергаем нулевую гипотезу\n"
     ]
    }
   ],
   "source": [
    "alpha = 0.05\n",
    "\n",
    "results = st.ttest_ind(Action['user_score'], Sports['user_score'], equal_var = False)\n",
    "print('p-значение:', results.pvalue)\n",
    "\n",
    "if results.pvalue < alpha:\n",
    "    print('Отвергаем нулевую гипотезу')\n",
    "else:\n",
    "    print('Не получилось отвергнуть нулевую гипотезу')"
   ]
  },
  {
   "cell_type": "markdown",
   "metadata": {},
   "source": [
    "Отвергаем нулевую гипотезу, а значит рейтинги разные.\n",
    "\n"
   ]
  },
  {
   "cell_type": "markdown",
   "metadata": {},
   "source": []
  },
  {
   "cell_type": "markdown",
   "metadata": {},
   "source": [
    "Критерий был выбран для проверки двух выборок, предположение  имеют ли они одинаковый рейтинг.\n",
    "Его как раз используют для проверки на равенство."
   ]
  },
  {
   "cell_type": "markdown",
   "metadata": {},
   "source": [
    "Выводы:\n",
    "\n",
    "Завершив проект, теперь следует выделить ключевые моменты для формирования общего представления о полученных нами данных.\n",
    "В начале работы мы сделали разбивку по количеству выпущенных игр в годах, и выяснили, что самое большое количество игр было выпущено в 2008 году.\n",
    "\n",
    "с 2012 года видим, что на рынке лидирующие позиции занимают платформы PS и XBOX. отступая от проекта можно сказать, что они и по сей день занимают высокие позиции. \n",
    "Платформа 3DS тоже занимает высокое положение по количеству выпущенных игр, но с годами рейтинг стремится вниз. \n",
    "Лидером 2016 года стала PS4, не смотря на год выпуска (2013), даже спустя 3 года остается в лидерах. Далее идут XOne и PS Vita.\n",
    "\n",
    "\n",
    "Рейтинг не сильно влияет на продажи, но даже не смотря на это, в регионах есть 'любимые' жанры и противоположные.\n",
    "\n",
    "Касательно жанров,\n",
    "В Северной Америке - отдают большее предпочтение играм жанров 'Экшн', 'Шутер'.\n",
    "В Японии же на место популярного жанра - 'шутер', пришел жанр игр 'Ролевые', следующее место у жанра 'Экшн' тут Японцы также любят его, как и другие регионы.\n",
    "Картина по Европе примерно одинакова с Америкой, тут люди также чаще выбирают 'Экшн' и 'Шутер', чем другие игры.\n",
    "В общем сравнивая эти 3 региона, можно сказать, что сильнее всего отличается 'Япония', Северная Америка и Европа примерно одинакова в своих предпочтениях."
   ]
  },
  {
   "cell_type": "markdown",
   "metadata": {},
   "source": []
  },
  {
   "cell_type": "markdown",
   "metadata": {},
   "source": [
    "<div class=\"alert alert-info\">\n",
    "<b>\n",
    "</b>\n",
    "В рейтингах топ платформ, PS4, PS3, X360, XOne, 3DS. \n",
    "    \n",
    "Эти платформы до сих пор держат неплохие позиции. Возможно, это связано с тем, как мы выяснили, что средняя продолжительность их жизни около 10 лет. \n",
    "    \n",
    "Хороший доход приносят такие жанры, как например - 'Платформа', 'Шутер', 'Спорт', 'Борьба', 'Экшн'.\n",
    "    \n",
    "В целом увлеченность жанрами не особо поменялось, единственное, что в Японии  изначально преимуществом обладал жанр РП, а после первое место перешло к Экшну.\n",
    "\n",
    "</div>"
   ]
  },
  {
   "cell_type": "markdown",
   "metadata": {},
   "source": [
    "<div class=\"alert alert-info\">\n",
    "<b>\n",
    "</b> v2\n",
    "Изменив актуализированный период, получили такие изменения:\n",
    "Рейтинги сформированы практически однородно. \n",
    "в Японии - в лидерах столбец с  пропущенными значениями, опять же получены они могли быть совершенно по -разному. \n",
    "В Европе рейтинг М на первом месте.\n",
    "В Америке - тоже столбец М, но и Е не далеко.\n",
    "Интересы Сев.Америки и Европы во многм схожи, а вот Япония отличается значительно.\n",
    "\n",
    "</div>"
   ]
  },
  {
   "cell_type": "markdown",
   "metadata": {},
   "source": []
  },
  {
   "cell_type": "markdown",
   "metadata": {},
   "source": []
  },
  {
   "cell_type": "markdown",
   "metadata": {},
   "source": []
  },
  {
   "cell_type": "markdown",
   "metadata": {},
   "source": []
  },
  {
   "cell_type": "markdown",
   "metadata": {},
   "source": []
  },
  {
   "cell_type": "code",
   "execution_count": null,
   "metadata": {},
   "outputs": [],
   "source": []
  }
 ],
 "metadata": {
  "ExecuteTimeLog": [
   {
    "duration": 1133,
    "start_time": "2023-01-30T12:46:51.778Z"
   },
   {
    "duration": 98,
    "start_time": "2023-01-30T12:47:32.059Z"
   },
   {
    "duration": 46,
    "start_time": "2023-01-30T12:47:37.898Z"
   },
   {
    "duration": 147,
    "start_time": "2023-01-30T12:48:10.562Z"
   },
   {
    "duration": 54,
    "start_time": "2023-01-30T12:48:13.843Z"
   },
   {
    "duration": 894,
    "start_time": "2023-01-30T12:48:16.051Z"
   },
   {
    "duration": 54,
    "start_time": "2023-01-30T12:48:26.675Z"
   },
   {
    "duration": 93,
    "start_time": "2023-01-30T12:48:32.395Z"
   },
   {
    "duration": 9,
    "start_time": "2023-01-30T12:49:34.252Z"
   },
   {
    "duration": 8,
    "start_time": "2023-01-30T12:50:20.500Z"
   },
   {
    "duration": 10,
    "start_time": "2023-01-30T12:50:24.324Z"
   },
   {
    "duration": 9,
    "start_time": "2023-01-30T12:50:27.996Z"
   },
   {
    "duration": 9,
    "start_time": "2023-01-30T12:50:30.756Z"
   },
   {
    "duration": 9,
    "start_time": "2023-01-30T12:50:41.764Z"
   },
   {
    "duration": 788,
    "start_time": "2023-01-30T12:51:14.925Z"
   },
   {
    "duration": 3,
    "start_time": "2023-01-30T12:51:21.820Z"
   },
   {
    "duration": 46,
    "start_time": "2023-01-30T12:51:23.084Z"
   },
   {
    "duration": 747,
    "start_time": "2023-01-30T12:51:23.316Z"
   },
   {
    "duration": 9,
    "start_time": "2023-01-30T12:51:28.063Z"
   },
   {
    "duration": 12,
    "start_time": "2023-01-30T12:52:49.183Z"
   },
   {
    "duration": 8,
    "start_time": "2023-01-30T12:53:13.222Z"
   },
   {
    "duration": 9,
    "start_time": "2023-01-30T12:55:05.631Z"
   },
   {
    "duration": 9,
    "start_time": "2023-01-30T12:57:46.553Z"
   },
   {
    "duration": 278,
    "start_time": "2023-01-30T13:00:19.833Z"
   },
   {
    "duration": 3,
    "start_time": "2023-01-30T13:02:43.963Z"
   },
   {
    "duration": 13,
    "start_time": "2023-01-30T13:02:52.442Z"
   },
   {
    "duration": 5,
    "start_time": "2023-01-30T13:03:18.219Z"
   },
   {
    "duration": 3,
    "start_time": "2023-01-30T13:03:21.258Z"
   },
   {
    "duration": 9,
    "start_time": "2023-01-30T13:04:23.203Z"
   },
   {
    "duration": 3,
    "start_time": "2023-01-30T13:04:35.699Z"
   },
   {
    "duration": 3,
    "start_time": "2023-01-30T13:04:38.651Z"
   },
   {
    "duration": 9,
    "start_time": "2023-01-30T13:07:03.733Z"
   },
   {
    "duration": 9,
    "start_time": "2023-01-30T13:07:06.636Z"
   },
   {
    "duration": 1070,
    "start_time": "2023-01-30T13:07:32.332Z"
   },
   {
    "duration": 48,
    "start_time": "2023-01-30T13:07:33.403Z"
   },
   {
    "duration": 3,
    "start_time": "2023-01-30T13:07:33.453Z"
   },
   {
    "duration": 24,
    "start_time": "2023-01-30T13:07:33.457Z"
   },
   {
    "duration": 7,
    "start_time": "2023-01-30T13:08:01.237Z"
   },
   {
    "duration": 10,
    "start_time": "2023-01-30T13:08:38.157Z"
   },
   {
    "duration": 12,
    "start_time": "2023-01-30T13:09:44.414Z"
   },
   {
    "duration": 99,
    "start_time": "2023-01-30T13:11:26.330Z"
   },
   {
    "duration": 9,
    "start_time": "2023-01-30T13:12:56.444Z"
   },
   {
    "duration": 8,
    "start_time": "2023-01-30T13:14:35.266Z"
   },
   {
    "duration": 14,
    "start_time": "2023-01-30T13:14:39.442Z"
   },
   {
    "duration": 13,
    "start_time": "2023-01-30T13:14:49.578Z"
   },
   {
    "duration": 14,
    "start_time": "2023-01-30T13:14:57.675Z"
   },
   {
    "duration": 11,
    "start_time": "2023-01-30T13:15:01.098Z"
   },
   {
    "duration": 16,
    "start_time": "2023-01-30T13:15:50.284Z"
   },
   {
    "duration": 13,
    "start_time": "2023-01-30T13:16:13.223Z"
   },
   {
    "duration": 47,
    "start_time": "2023-01-30T13:16:47.275Z"
   },
   {
    "duration": 8,
    "start_time": "2023-01-30T13:16:49.725Z"
   },
   {
    "duration": 56,
    "start_time": "2023-01-30T13:16:55.668Z"
   },
   {
    "duration": 15,
    "start_time": "2023-01-30T13:16:58.333Z"
   },
   {
    "duration": 1069,
    "start_time": "2023-01-30T13:17:18.734Z"
   },
   {
    "duration": 53,
    "start_time": "2023-01-30T13:17:19.805Z"
   },
   {
    "duration": 3,
    "start_time": "2023-01-30T13:17:19.859Z"
   },
   {
    "duration": 33,
    "start_time": "2023-01-30T13:17:19.864Z"
   },
   {
    "duration": 44,
    "start_time": "2023-01-30T13:17:19.898Z"
   },
   {
    "duration": 22,
    "start_time": "2023-01-30T13:17:19.943Z"
   },
   {
    "duration": 25,
    "start_time": "2023-01-30T13:17:19.966Z"
   },
   {
    "duration": 98,
    "start_time": "2023-01-30T13:19:57.118Z"
   },
   {
    "duration": 53,
    "start_time": "2023-01-30T13:22:14.215Z"
   },
   {
    "duration": 48,
    "start_time": "2023-01-30T13:22:56.760Z"
   },
   {
    "duration": 724,
    "start_time": "2023-01-30T13:27:16.162Z"
   },
   {
    "duration": 1040,
    "start_time": "2023-01-30T13:27:41.282Z"
   },
   {
    "duration": 57,
    "start_time": "2023-01-30T13:27:42.325Z"
   },
   {
    "duration": 4,
    "start_time": "2023-01-30T13:27:42.383Z"
   },
   {
    "duration": 20,
    "start_time": "2023-01-30T13:27:42.389Z"
   },
   {
    "duration": 23,
    "start_time": "2023-01-30T13:27:42.411Z"
   },
   {
    "duration": 17,
    "start_time": "2023-01-30T13:27:42.436Z"
   },
   {
    "duration": 275,
    "start_time": "2023-01-30T13:27:42.455Z"
   },
   {
    "duration": 17,
    "start_time": "2023-01-30T13:27:42.732Z"
   },
   {
    "duration": 20,
    "start_time": "2023-01-30T13:28:23.003Z"
   },
   {
    "duration": 99,
    "start_time": "2023-01-30T13:28:45.825Z"
   },
   {
    "duration": 24,
    "start_time": "2023-01-30T13:29:53.812Z"
   },
   {
    "duration": 1092,
    "start_time": "2023-01-30T13:29:58.712Z"
   },
   {
    "duration": 51,
    "start_time": "2023-01-30T13:29:59.806Z"
   },
   {
    "duration": 2,
    "start_time": "2023-01-30T13:29:59.859Z"
   },
   {
    "duration": 13,
    "start_time": "2023-01-30T13:29:59.864Z"
   },
   {
    "duration": 14,
    "start_time": "2023-01-30T13:29:59.878Z"
   },
   {
    "duration": 14,
    "start_time": "2023-01-30T13:29:59.894Z"
   },
   {
    "duration": 119,
    "start_time": "2023-01-30T13:29:59.910Z"
   },
   {
    "duration": 0,
    "start_time": "2023-01-30T13:30:00.031Z"
   },
   {
    "duration": 20,
    "start_time": "2023-01-30T13:31:05.884Z"
   },
   {
    "duration": 66,
    "start_time": "2023-01-31T08:11:37.463Z"
   },
   {
    "duration": 1250,
    "start_time": "2023-01-31T08:11:43.704Z"
   },
   {
    "duration": 98,
    "start_time": "2023-01-31T08:11:44.956Z"
   },
   {
    "duration": 4,
    "start_time": "2023-01-31T08:11:45.057Z"
   },
   {
    "duration": 39,
    "start_time": "2023-01-31T08:11:45.063Z"
   },
   {
    "duration": 20,
    "start_time": "2023-01-31T08:11:45.104Z"
   },
   {
    "duration": 22,
    "start_time": "2023-01-31T08:11:45.126Z"
   },
   {
    "duration": 130,
    "start_time": "2023-01-31T08:11:45.150Z"
   },
   {
    "duration": 22,
    "start_time": "2023-01-31T08:12:12.375Z"
   },
   {
    "duration": 18,
    "start_time": "2023-01-31T08:12:27.248Z"
   },
   {
    "duration": 19,
    "start_time": "2023-01-31T08:12:36.310Z"
   },
   {
    "duration": 23,
    "start_time": "2023-01-31T08:13:01.550Z"
   },
   {
    "duration": 13,
    "start_time": "2023-01-31T08:13:19.239Z"
   },
   {
    "duration": 54,
    "start_time": "2023-01-31T08:14:45.985Z"
   },
   {
    "duration": 54,
    "start_time": "2023-01-31T08:14:54.298Z"
   },
   {
    "duration": 48,
    "start_time": "2023-01-31T08:15:11.193Z"
   },
   {
    "duration": 48,
    "start_time": "2023-01-31T08:15:14.322Z"
   },
   {
    "duration": 45,
    "start_time": "2023-01-31T08:15:29.698Z"
   },
   {
    "duration": 52,
    "start_time": "2023-01-31T08:15:31.521Z"
   },
   {
    "duration": 679,
    "start_time": "2023-01-31T08:15:48.058Z"
   },
   {
    "duration": 860,
    "start_time": "2023-01-31T08:15:59.642Z"
   },
   {
    "duration": 855,
    "start_time": "2023-01-31T08:16:07.907Z"
   },
   {
    "duration": 1317,
    "start_time": "2023-01-31T08:16:14.972Z"
   },
   {
    "duration": 62,
    "start_time": "2023-01-31T08:16:16.291Z"
   },
   {
    "duration": 3,
    "start_time": "2023-01-31T08:16:16.354Z"
   },
   {
    "duration": 43,
    "start_time": "2023-01-31T08:16:16.359Z"
   },
   {
    "duration": 40,
    "start_time": "2023-01-31T08:16:16.403Z"
   },
   {
    "duration": 15,
    "start_time": "2023-01-31T08:16:16.445Z"
   },
   {
    "duration": 31,
    "start_time": "2023-01-31T08:16:16.462Z"
   },
   {
    "duration": 17,
    "start_time": "2023-01-31T08:16:27.266Z"
   },
   {
    "duration": 43,
    "start_time": "2023-01-31T08:18:00.349Z"
   },
   {
    "duration": 20,
    "start_time": "2023-01-31T08:18:15.806Z"
   },
   {
    "duration": 25,
    "start_time": "2023-01-31T08:18:24.709Z"
   },
   {
    "duration": 11,
    "start_time": "2023-01-31T08:20:27.071Z"
   },
   {
    "duration": 13,
    "start_time": "2023-01-31T08:20:49.573Z"
   },
   {
    "duration": 11,
    "start_time": "2023-01-31T08:21:16.608Z"
   },
   {
    "duration": 11,
    "start_time": "2023-01-31T08:22:49.161Z"
   },
   {
    "duration": 12,
    "start_time": "2023-01-31T08:22:58.753Z"
   },
   {
    "duration": 1203,
    "start_time": "2023-01-31T08:23:05.362Z"
   },
   {
    "duration": 55,
    "start_time": "2023-01-31T08:23:06.567Z"
   },
   {
    "duration": 3,
    "start_time": "2023-01-31T08:23:06.624Z"
   },
   {
    "duration": 40,
    "start_time": "2023-01-31T08:23:06.629Z"
   },
   {
    "duration": 36,
    "start_time": "2023-01-31T08:23:06.672Z"
   },
   {
    "duration": 30,
    "start_time": "2023-01-31T08:23:06.710Z"
   },
   {
    "duration": 35,
    "start_time": "2023-01-31T08:23:06.742Z"
   },
   {
    "duration": 17,
    "start_time": "2023-01-31T08:23:32.001Z"
   },
   {
    "duration": 57,
    "start_time": "2023-01-31T08:24:15.382Z"
   },
   {
    "duration": 22,
    "start_time": "2023-01-31T08:24:20.205Z"
   },
   {
    "duration": 14,
    "start_time": "2023-01-31T08:27:05.223Z"
   },
   {
    "duration": 1115,
    "start_time": "2023-01-31T08:27:18.843Z"
   },
   {
    "duration": 54,
    "start_time": "2023-01-31T08:27:19.960Z"
   },
   {
    "duration": 3,
    "start_time": "2023-01-31T08:27:20.016Z"
   },
   {
    "duration": 17,
    "start_time": "2023-01-31T08:27:20.021Z"
   },
   {
    "duration": 22,
    "start_time": "2023-01-31T08:27:20.040Z"
   },
   {
    "duration": 16,
    "start_time": "2023-01-31T08:27:20.063Z"
   },
   {
    "duration": 16,
    "start_time": "2023-01-31T08:27:20.081Z"
   },
   {
    "duration": 23,
    "start_time": "2023-01-31T08:27:20.099Z"
   },
   {
    "duration": 116,
    "start_time": "2023-01-31T08:28:42.050Z"
   },
   {
    "duration": 1221,
    "start_time": "2023-01-31T08:28:56.622Z"
   },
   {
    "duration": 55,
    "start_time": "2023-01-31T08:28:57.845Z"
   },
   {
    "duration": 3,
    "start_time": "2023-01-31T08:28:57.901Z"
   },
   {
    "duration": 19,
    "start_time": "2023-01-31T08:28:57.906Z"
   },
   {
    "duration": 22,
    "start_time": "2023-01-31T08:28:57.927Z"
   },
   {
    "duration": 20,
    "start_time": "2023-01-31T08:28:57.951Z"
   },
   {
    "duration": 19,
    "start_time": "2023-01-31T08:28:57.973Z"
   },
   {
    "duration": 20,
    "start_time": "2023-01-31T08:28:57.994Z"
   },
   {
    "duration": 15,
    "start_time": "2023-01-31T08:30:38.692Z"
   },
   {
    "duration": 1171,
    "start_time": "2023-01-31T08:30:45.961Z"
   },
   {
    "duration": 59,
    "start_time": "2023-01-31T08:30:47.134Z"
   },
   {
    "duration": 3,
    "start_time": "2023-01-31T08:30:47.195Z"
   },
   {
    "duration": 35,
    "start_time": "2023-01-31T08:30:47.201Z"
   },
   {
    "duration": 28,
    "start_time": "2023-01-31T08:30:47.237Z"
   },
   {
    "duration": 32,
    "start_time": "2023-01-31T08:30:47.266Z"
   },
   {
    "duration": 19,
    "start_time": "2023-01-31T08:30:47.300Z"
   },
   {
    "duration": 35,
    "start_time": "2023-01-31T08:30:47.320Z"
   },
   {
    "duration": 12,
    "start_time": "2023-01-31T08:31:33.730Z"
   },
   {
    "duration": 786,
    "start_time": "2023-01-31T08:44:14.016Z"
   },
   {
    "duration": 5,
    "start_time": "2023-01-31T08:44:24.689Z"
   },
   {
    "duration": 12,
    "start_time": "2023-01-31T08:44:32.297Z"
   },
   {
    "duration": 4,
    "start_time": "2023-01-31T08:47:57.183Z"
   },
   {
    "duration": 5,
    "start_time": "2023-01-31T08:47:59.534Z"
   },
   {
    "duration": 15,
    "start_time": "2023-01-31T08:48:04.087Z"
   },
   {
    "duration": 17,
    "start_time": "2023-01-31T08:48:17.552Z"
   },
   {
    "duration": 14,
    "start_time": "2023-01-31T08:48:23.394Z"
   },
   {
    "duration": 7,
    "start_time": "2023-01-31T08:48:45.292Z"
   },
   {
    "duration": 13,
    "start_time": "2023-01-31T08:48:47.222Z"
   },
   {
    "duration": 9,
    "start_time": "2023-01-31T08:50:20.389Z"
   },
   {
    "duration": 13,
    "start_time": "2023-01-31T08:50:23.557Z"
   },
   {
    "duration": 20,
    "start_time": "2023-01-31T08:50:29.742Z"
   },
   {
    "duration": 17,
    "start_time": "2023-01-31T08:50:31.739Z"
   },
   {
    "duration": 19,
    "start_time": "2023-01-31T08:51:04.558Z"
   },
   {
    "duration": 14,
    "start_time": "2023-01-31T08:51:05.709Z"
   },
   {
    "duration": 1253,
    "start_time": "2023-01-31T08:51:27.293Z"
   },
   {
    "duration": 67,
    "start_time": "2023-01-31T08:51:28.548Z"
   },
   {
    "duration": 3,
    "start_time": "2023-01-31T08:51:28.617Z"
   },
   {
    "duration": 38,
    "start_time": "2023-01-31T08:51:28.622Z"
   },
   {
    "duration": 25,
    "start_time": "2023-01-31T08:51:28.661Z"
   },
   {
    "duration": 19,
    "start_time": "2023-01-31T08:51:28.688Z"
   },
   {
    "duration": 21,
    "start_time": "2023-01-31T08:51:28.709Z"
   },
   {
    "duration": 39,
    "start_time": "2023-01-31T08:51:28.732Z"
   },
   {
    "duration": 8,
    "start_time": "2023-01-31T08:51:28.773Z"
   },
   {
    "duration": 25,
    "start_time": "2023-01-31T08:51:28.783Z"
   },
   {
    "duration": 810,
    "start_time": "2023-01-31T08:51:28.810Z"
   },
   {
    "duration": 0,
    "start_time": "2023-01-31T08:51:29.622Z"
   },
   {
    "duration": 769,
    "start_time": "2023-01-31T08:52:05.654Z"
   },
   {
    "duration": 9,
    "start_time": "2023-01-31T08:53:08.462Z"
   },
   {
    "duration": 9,
    "start_time": "2023-01-31T08:53:11.981Z"
   },
   {
    "duration": 12,
    "start_time": "2023-01-31T08:53:27.220Z"
   },
   {
    "duration": 35,
    "start_time": "2023-01-31T08:53:32.693Z"
   },
   {
    "duration": 12,
    "start_time": "2023-01-31T08:53:34.789Z"
   },
   {
    "duration": 206,
    "start_time": "2023-01-31T08:53:53.228Z"
   },
   {
    "duration": 22,
    "start_time": "2023-01-31T08:54:04.141Z"
   },
   {
    "duration": 13,
    "start_time": "2023-01-31T08:54:07.573Z"
   },
   {
    "duration": 5,
    "start_time": "2023-01-31T11:39:59.991Z"
   },
   {
    "duration": 1195,
    "start_time": "2023-01-31T11:40:07.287Z"
   },
   {
    "duration": 66,
    "start_time": "2023-01-31T11:40:08.485Z"
   },
   {
    "duration": 5,
    "start_time": "2023-01-31T11:40:08.553Z"
   },
   {
    "duration": 43,
    "start_time": "2023-01-31T11:40:08.561Z"
   },
   {
    "duration": 23,
    "start_time": "2023-01-31T11:40:08.606Z"
   },
   {
    "duration": 38,
    "start_time": "2023-01-31T11:40:08.631Z"
   },
   {
    "duration": 25,
    "start_time": "2023-01-31T11:40:08.671Z"
   },
   {
    "duration": 41,
    "start_time": "2023-01-31T11:40:08.698Z"
   },
   {
    "duration": 16,
    "start_time": "2023-01-31T11:40:08.741Z"
   },
   {
    "duration": 25,
    "start_time": "2023-01-31T11:40:08.759Z"
   },
   {
    "duration": 51,
    "start_time": "2023-01-31T11:40:08.786Z"
   },
   {
    "duration": 14,
    "start_time": "2023-01-31T11:40:08.839Z"
   },
   {
    "duration": 48,
    "start_time": "2023-01-31T11:43:49.680Z"
   },
   {
    "duration": 114,
    "start_time": "2023-01-31T11:43:55.207Z"
   },
   {
    "duration": 9,
    "start_time": "2023-01-31T11:44:46.232Z"
   },
   {
    "duration": 10,
    "start_time": "2023-01-31T11:44:51.336Z"
   },
   {
    "duration": 4,
    "start_time": "2023-01-31T11:45:00.608Z"
   },
   {
    "duration": 13,
    "start_time": "2023-01-31T11:49:43.572Z"
   },
   {
    "duration": 10,
    "start_time": "2023-01-31T11:49:54.810Z"
   },
   {
    "duration": 3,
    "start_time": "2023-01-31T11:50:19.306Z"
   },
   {
    "duration": 9,
    "start_time": "2023-01-31T11:50:20.779Z"
   },
   {
    "duration": 5,
    "start_time": "2023-01-31T11:50:23.537Z"
   },
   {
    "duration": 9,
    "start_time": "2023-01-31T11:50:51.117Z"
   },
   {
    "duration": 4,
    "start_time": "2023-01-31T11:50:52.601Z"
   },
   {
    "duration": 12,
    "start_time": "2023-01-31T11:51:00.962Z"
   },
   {
    "duration": 5,
    "start_time": "2023-01-31T11:51:01.649Z"
   },
   {
    "duration": 16,
    "start_time": "2023-01-31T11:52:28.954Z"
   },
   {
    "duration": 8,
    "start_time": "2023-01-31T11:52:35.468Z"
   },
   {
    "duration": 8,
    "start_time": "2023-01-31T11:53:17.946Z"
   },
   {
    "duration": 5,
    "start_time": "2023-01-31T11:53:19.089Z"
   },
   {
    "duration": 14,
    "start_time": "2023-01-31T11:53:34.954Z"
   },
   {
    "duration": 7,
    "start_time": "2023-01-31T11:53:35.963Z"
   },
   {
    "duration": 1205,
    "start_time": "2023-01-31T11:53:42.014Z"
   },
   {
    "duration": 74,
    "start_time": "2023-01-31T11:53:43.221Z"
   },
   {
    "duration": 3,
    "start_time": "2023-01-31T11:53:43.297Z"
   },
   {
    "duration": 18,
    "start_time": "2023-01-31T11:53:43.302Z"
   },
   {
    "duration": 18,
    "start_time": "2023-01-31T11:53:43.322Z"
   },
   {
    "duration": 39,
    "start_time": "2023-01-31T11:53:43.342Z"
   },
   {
    "duration": 19,
    "start_time": "2023-01-31T11:53:43.383Z"
   },
   {
    "duration": 32,
    "start_time": "2023-01-31T11:53:43.404Z"
   },
   {
    "duration": 17,
    "start_time": "2023-01-31T11:53:43.457Z"
   },
   {
    "duration": 35,
    "start_time": "2023-01-31T11:53:43.476Z"
   },
   {
    "duration": 20,
    "start_time": "2023-01-31T11:53:43.513Z"
   },
   {
    "duration": 33,
    "start_time": "2023-01-31T11:53:43.537Z"
   },
   {
    "duration": 18,
    "start_time": "2023-01-31T11:53:43.572Z"
   },
   {
    "duration": 15,
    "start_time": "2023-01-31T11:53:43.593Z"
   },
   {
    "duration": 10,
    "start_time": "2023-01-31T11:53:43.610Z"
   },
   {
    "duration": 3,
    "start_time": "2023-01-31T11:55:41.754Z"
   },
   {
    "duration": 5,
    "start_time": "2023-01-31T11:55:47.427Z"
   },
   {
    "duration": 12,
    "start_time": "2023-01-31T11:57:44.802Z"
   },
   {
    "duration": 13,
    "start_time": "2023-01-31T11:57:47.763Z"
   },
   {
    "duration": 13,
    "start_time": "2023-01-31T11:58:16.476Z"
   },
   {
    "duration": 6,
    "start_time": "2023-01-31T11:58:16.855Z"
   },
   {
    "duration": 4,
    "start_time": "2023-01-31T11:58:17.121Z"
   },
   {
    "duration": 6,
    "start_time": "2023-01-31T11:58:21.258Z"
   },
   {
    "duration": 5,
    "start_time": "2023-01-31T11:58:24.982Z"
   },
   {
    "duration": 8,
    "start_time": "2023-01-31T11:58:38.798Z"
   },
   {
    "duration": 4,
    "start_time": "2023-01-31T11:58:38.978Z"
   },
   {
    "duration": 4,
    "start_time": "2023-01-31T11:58:39.153Z"
   },
   {
    "duration": 5,
    "start_time": "2023-01-31T11:58:39.290Z"
   },
   {
    "duration": 5,
    "start_time": "2023-01-31T11:58:41.428Z"
   },
   {
    "duration": 5,
    "start_time": "2023-01-31T11:59:02.313Z"
   },
   {
    "duration": 1173,
    "start_time": "2023-01-31T11:59:09.595Z"
   },
   {
    "duration": 56,
    "start_time": "2023-01-31T11:59:10.771Z"
   },
   {
    "duration": 3,
    "start_time": "2023-01-31T11:59:10.829Z"
   },
   {
    "duration": 19,
    "start_time": "2023-01-31T11:59:10.834Z"
   },
   {
    "duration": 23,
    "start_time": "2023-01-31T11:59:10.855Z"
   },
   {
    "duration": 17,
    "start_time": "2023-01-31T11:59:10.880Z"
   },
   {
    "duration": 14,
    "start_time": "2023-01-31T11:59:10.898Z"
   },
   {
    "duration": 20,
    "start_time": "2023-01-31T11:59:10.913Z"
   },
   {
    "duration": 6,
    "start_time": "2023-01-31T11:59:10.953Z"
   },
   {
    "duration": 14,
    "start_time": "2023-01-31T11:59:10.961Z"
   },
   {
    "duration": 10,
    "start_time": "2023-01-31T11:59:10.976Z"
   },
   {
    "duration": 13,
    "start_time": "2023-01-31T11:59:10.988Z"
   },
   {
    "duration": 4,
    "start_time": "2023-01-31T11:59:11.003Z"
   },
   {
    "duration": 20,
    "start_time": "2023-01-31T11:59:11.009Z"
   },
   {
    "duration": 30,
    "start_time": "2023-01-31T11:59:11.031Z"
   },
   {
    "duration": 109,
    "start_time": "2023-01-31T11:59:11.063Z"
   },
   {
    "duration": 0,
    "start_time": "2023-01-31T11:59:11.174Z"
   },
   {
    "duration": 0,
    "start_time": "2023-01-31T11:59:11.175Z"
   },
   {
    "duration": 9,
    "start_time": "2023-01-31T11:59:34.556Z"
   },
   {
    "duration": 5,
    "start_time": "2023-01-31T11:59:38.875Z"
   },
   {
    "duration": 9,
    "start_time": "2023-01-31T11:59:44.705Z"
   },
   {
    "duration": 8,
    "start_time": "2023-01-31T11:59:46.215Z"
   },
   {
    "duration": 3,
    "start_time": "2023-01-31T11:59:53.299Z"
   },
   {
    "duration": 5,
    "start_time": "2023-01-31T12:00:06.603Z"
   },
   {
    "duration": 384,
    "start_time": "2023-01-31T12:01:33.910Z"
   },
   {
    "duration": 493,
    "start_time": "2023-01-31T12:02:06.801Z"
   },
   {
    "duration": 1224,
    "start_time": "2023-01-31T12:02:24.871Z"
   },
   {
    "duration": 57,
    "start_time": "2023-01-31T12:02:26.097Z"
   },
   {
    "duration": 4,
    "start_time": "2023-01-31T12:02:26.156Z"
   },
   {
    "duration": 23,
    "start_time": "2023-01-31T12:02:26.161Z"
   },
   {
    "duration": 23,
    "start_time": "2023-01-31T12:02:26.187Z"
   },
   {
    "duration": 16,
    "start_time": "2023-01-31T12:02:26.211Z"
   },
   {
    "duration": 32,
    "start_time": "2023-01-31T12:02:26.229Z"
   },
   {
    "duration": 28,
    "start_time": "2023-01-31T12:02:26.263Z"
   },
   {
    "duration": 19,
    "start_time": "2023-01-31T12:02:26.293Z"
   },
   {
    "duration": 29,
    "start_time": "2023-01-31T12:02:26.314Z"
   },
   {
    "duration": 12,
    "start_time": "2023-01-31T12:02:26.345Z"
   },
   {
    "duration": 31,
    "start_time": "2023-01-31T12:02:26.358Z"
   },
   {
    "duration": 4,
    "start_time": "2023-01-31T12:02:26.391Z"
   },
   {
    "duration": 25,
    "start_time": "2023-01-31T12:02:26.399Z"
   },
   {
    "duration": 9,
    "start_time": "2023-01-31T12:02:26.426Z"
   },
   {
    "duration": 21,
    "start_time": "2023-01-31T12:02:26.437Z"
   },
   {
    "duration": 8,
    "start_time": "2023-01-31T12:02:26.460Z"
   },
   {
    "duration": 553,
    "start_time": "2023-01-31T12:02:26.470Z"
   },
   {
    "duration": 487,
    "start_time": "2023-01-31T12:02:44.029Z"
   },
   {
    "duration": 10,
    "start_time": "2023-01-31T12:03:25.324Z"
   },
   {
    "duration": 5,
    "start_time": "2023-01-31T12:03:26.203Z"
   },
   {
    "duration": 6,
    "start_time": "2023-01-31T12:03:29.508Z"
   },
   {
    "duration": 8,
    "start_time": "2023-01-31T12:03:39.548Z"
   },
   {
    "duration": 5,
    "start_time": "2023-01-31T12:03:42.395Z"
   },
   {
    "duration": 6,
    "start_time": "2023-01-31T12:04:05.524Z"
   },
   {
    "duration": 4,
    "start_time": "2023-01-31T12:04:05.796Z"
   },
   {
    "duration": 1225,
    "start_time": "2023-01-31T12:04:18.006Z"
   },
   {
    "duration": 59,
    "start_time": "2023-01-31T12:04:19.233Z"
   },
   {
    "duration": 4,
    "start_time": "2023-01-31T12:04:19.293Z"
   },
   {
    "duration": 38,
    "start_time": "2023-01-31T12:04:19.299Z"
   },
   {
    "duration": 47,
    "start_time": "2023-01-31T12:04:19.340Z"
   },
   {
    "duration": 23,
    "start_time": "2023-01-31T12:04:19.390Z"
   },
   {
    "duration": 15,
    "start_time": "2023-01-31T12:04:19.415Z"
   },
   {
    "duration": 37,
    "start_time": "2023-01-31T12:04:19.432Z"
   },
   {
    "duration": 9,
    "start_time": "2023-01-31T12:04:19.471Z"
   },
   {
    "duration": 48,
    "start_time": "2023-01-31T12:04:19.482Z"
   },
   {
    "duration": 10,
    "start_time": "2023-01-31T12:04:19.532Z"
   },
   {
    "duration": 39,
    "start_time": "2023-01-31T12:04:19.545Z"
   },
   {
    "duration": 16,
    "start_time": "2023-01-31T12:04:19.586Z"
   },
   {
    "duration": 35,
    "start_time": "2023-01-31T12:04:19.605Z"
   },
   {
    "duration": 152,
    "start_time": "2023-01-31T12:04:19.642Z"
   },
   {
    "duration": 0,
    "start_time": "2023-01-31T12:04:19.795Z"
   },
   {
    "duration": 0,
    "start_time": "2023-01-31T12:04:19.796Z"
   },
   {
    "duration": 9,
    "start_time": "2023-01-31T12:04:38.811Z"
   },
   {
    "duration": 13,
    "start_time": "2023-01-31T12:04:44.572Z"
   },
   {
    "duration": 11,
    "start_time": "2023-01-31T12:05:17.269Z"
   },
   {
    "duration": 5,
    "start_time": "2023-01-31T12:05:19.653Z"
   },
   {
    "duration": 12,
    "start_time": "2023-01-31T12:05:27.782Z"
   },
   {
    "duration": 5,
    "start_time": "2023-01-31T12:05:27.948Z"
   },
   {
    "duration": 10,
    "start_time": "2023-01-31T12:05:33.476Z"
   },
   {
    "duration": 6,
    "start_time": "2023-01-31T12:05:33.717Z"
   },
   {
    "duration": 6,
    "start_time": "2023-01-31T12:05:41.004Z"
   },
   {
    "duration": 4,
    "start_time": "2023-01-31T12:05:56.037Z"
   },
   {
    "duration": 5,
    "start_time": "2023-01-31T12:05:56.390Z"
   },
   {
    "duration": 6,
    "start_time": "2023-01-31T12:07:37.350Z"
   },
   {
    "duration": 3,
    "start_time": "2023-01-31T12:07:38.053Z"
   },
   {
    "duration": 46,
    "start_time": "2023-01-31T12:08:15.358Z"
   },
   {
    "duration": 4,
    "start_time": "2023-01-31T12:08:23.006Z"
   },
   {
    "duration": 7,
    "start_time": "2023-01-31T12:08:23.985Z"
   },
   {
    "duration": 1347,
    "start_time": "2023-01-31T12:15:41.777Z"
   },
   {
    "duration": 65,
    "start_time": "2023-01-31T12:15:43.126Z"
   },
   {
    "duration": 3,
    "start_time": "2023-01-31T12:15:43.193Z"
   },
   {
    "duration": 24,
    "start_time": "2023-01-31T12:15:43.199Z"
   },
   {
    "duration": 21,
    "start_time": "2023-01-31T12:15:43.225Z"
   },
   {
    "duration": 39,
    "start_time": "2023-01-31T12:15:43.248Z"
   },
   {
    "duration": 22,
    "start_time": "2023-01-31T12:15:43.289Z"
   },
   {
    "duration": 34,
    "start_time": "2023-01-31T12:15:43.313Z"
   },
   {
    "duration": 8,
    "start_time": "2023-01-31T12:15:43.354Z"
   },
   {
    "duration": 42,
    "start_time": "2023-01-31T12:15:43.369Z"
   },
   {
    "duration": 26,
    "start_time": "2023-01-31T12:15:43.413Z"
   },
   {
    "duration": 10,
    "start_time": "2023-01-31T12:15:43.441Z"
   },
   {
    "duration": 31,
    "start_time": "2023-01-31T12:15:43.453Z"
   },
   {
    "duration": 26,
    "start_time": "2023-01-31T12:15:43.487Z"
   },
   {
    "duration": 118,
    "start_time": "2023-01-31T12:15:43.515Z"
   },
   {
    "duration": 0,
    "start_time": "2023-01-31T12:15:43.634Z"
   },
   {
    "duration": 0,
    "start_time": "2023-01-31T12:15:43.636Z"
   },
   {
    "duration": 10,
    "start_time": "2023-01-31T12:15:51.071Z"
   },
   {
    "duration": 1221,
    "start_time": "2023-01-31T12:16:05.547Z"
   },
   {
    "duration": 63,
    "start_time": "2023-01-31T12:16:06.771Z"
   },
   {
    "duration": 6,
    "start_time": "2023-01-31T12:16:06.836Z"
   },
   {
    "duration": 65,
    "start_time": "2023-01-31T12:16:06.844Z"
   },
   {
    "duration": 98,
    "start_time": "2023-01-31T12:16:06.911Z"
   },
   {
    "duration": 27,
    "start_time": "2023-01-31T12:16:07.011Z"
   },
   {
    "duration": 20,
    "start_time": "2023-01-31T12:16:07.039Z"
   },
   {
    "duration": 40,
    "start_time": "2023-01-31T12:16:07.061Z"
   },
   {
    "duration": 6,
    "start_time": "2023-01-31T12:16:07.102Z"
   },
   {
    "duration": 26,
    "start_time": "2023-01-31T12:16:07.111Z"
   },
   {
    "duration": 52,
    "start_time": "2023-01-31T12:16:07.139Z"
   },
   {
    "duration": 11,
    "start_time": "2023-01-31T12:16:07.193Z"
   },
   {
    "duration": 8,
    "start_time": "2023-01-31T12:16:07.207Z"
   },
   {
    "duration": 6,
    "start_time": "2023-01-31T12:16:07.216Z"
   },
   {
    "duration": 10,
    "start_time": "2023-01-31T12:16:07.223Z"
   },
   {
    "duration": 12,
    "start_time": "2023-01-31T12:16:07.235Z"
   },
   {
    "duration": 158,
    "start_time": "2023-01-31T12:16:07.249Z"
   },
   {
    "duration": 20,
    "start_time": "2023-01-31T12:16:11.882Z"
   },
   {
    "duration": 688,
    "start_time": "2023-01-31T12:16:17.518Z"
   },
   {
    "duration": 11,
    "start_time": "2023-01-31T12:18:32.267Z"
   },
   {
    "duration": 7,
    "start_time": "2023-01-31T12:18:33.122Z"
   },
   {
    "duration": 502,
    "start_time": "2023-01-31T12:18:38.499Z"
   },
   {
    "duration": 1123,
    "start_time": "2023-01-31T12:18:48.507Z"
   },
   {
    "duration": 60,
    "start_time": "2023-01-31T12:18:49.632Z"
   },
   {
    "duration": 3,
    "start_time": "2023-01-31T12:18:49.693Z"
   },
   {
    "duration": 27,
    "start_time": "2023-01-31T12:18:49.698Z"
   },
   {
    "duration": 30,
    "start_time": "2023-01-31T12:18:49.727Z"
   },
   {
    "duration": 29,
    "start_time": "2023-01-31T12:18:49.759Z"
   },
   {
    "duration": 22,
    "start_time": "2023-01-31T12:18:49.790Z"
   },
   {
    "duration": 24,
    "start_time": "2023-01-31T12:18:49.814Z"
   },
   {
    "duration": 6,
    "start_time": "2023-01-31T12:18:49.853Z"
   },
   {
    "duration": 18,
    "start_time": "2023-01-31T12:18:49.861Z"
   },
   {
    "duration": 5,
    "start_time": "2023-01-31T12:18:49.880Z"
   },
   {
    "duration": 17,
    "start_time": "2023-01-31T12:18:49.887Z"
   },
   {
    "duration": 15,
    "start_time": "2023-01-31T12:18:49.905Z"
   },
   {
    "duration": 26,
    "start_time": "2023-01-31T12:18:49.922Z"
   },
   {
    "duration": 11,
    "start_time": "2023-01-31T12:18:49.950Z"
   },
   {
    "duration": 10,
    "start_time": "2023-01-31T12:18:49.962Z"
   },
   {
    "duration": 552,
    "start_time": "2023-01-31T12:18:49.974Z"
   },
   {
    "duration": 11,
    "start_time": "2023-01-31T12:19:14.980Z"
   },
   {
    "duration": 13,
    "start_time": "2023-01-31T12:19:40.435Z"
   },
   {
    "duration": 13,
    "start_time": "2023-01-31T12:19:55.325Z"
   },
   {
    "duration": 1235,
    "start_time": "2023-01-31T12:20:00.732Z"
   },
   {
    "duration": 59,
    "start_time": "2023-01-31T12:20:01.969Z"
   },
   {
    "duration": 4,
    "start_time": "2023-01-31T12:20:02.030Z"
   },
   {
    "duration": 35,
    "start_time": "2023-01-31T12:20:02.036Z"
   },
   {
    "duration": 45,
    "start_time": "2023-01-31T12:20:02.072Z"
   },
   {
    "duration": 47,
    "start_time": "2023-01-31T12:20:02.119Z"
   },
   {
    "duration": 29,
    "start_time": "2023-01-31T12:20:02.168Z"
   },
   {
    "duration": 37,
    "start_time": "2023-01-31T12:20:02.198Z"
   },
   {
    "duration": 45,
    "start_time": "2023-01-31T12:20:02.237Z"
   },
   {
    "duration": 30,
    "start_time": "2023-01-31T12:20:02.285Z"
   },
   {
    "duration": 29,
    "start_time": "2023-01-31T12:20:02.317Z"
   },
   {
    "duration": 10,
    "start_time": "2023-01-31T12:20:02.348Z"
   },
   {
    "duration": 12,
    "start_time": "2023-01-31T12:20:02.359Z"
   },
   {
    "duration": 26,
    "start_time": "2023-01-31T12:20:02.373Z"
   },
   {
    "duration": 7,
    "start_time": "2023-01-31T12:20:02.401Z"
   },
   {
    "duration": 19,
    "start_time": "2023-01-31T12:20:02.410Z"
   },
   {
    "duration": 543,
    "start_time": "2023-01-31T12:20:02.431Z"
   },
   {
    "duration": 25,
    "start_time": "2023-01-31T12:22:46.445Z"
   },
   {
    "duration": 2,
    "start_time": "2023-01-31T12:22:46.788Z"
   },
   {
    "duration": 3,
    "start_time": "2023-01-31T12:22:47.051Z"
   },
   {
    "duration": 10,
    "start_time": "2023-01-31T12:22:47.332Z"
   },
   {
    "duration": 7,
    "start_time": "2023-01-31T12:22:47.908Z"
   },
   {
    "duration": 12,
    "start_time": "2023-01-31T12:22:48.319Z"
   },
   {
    "duration": 1174,
    "start_time": "2023-01-31T12:22:52.802Z"
   },
   {
    "duration": 59,
    "start_time": "2023-01-31T12:22:53.978Z"
   },
   {
    "duration": 4,
    "start_time": "2023-01-31T12:22:54.038Z"
   },
   {
    "duration": 66,
    "start_time": "2023-01-31T12:22:54.044Z"
   },
   {
    "duration": 33,
    "start_time": "2023-01-31T12:22:54.112Z"
   },
   {
    "duration": 42,
    "start_time": "2023-01-31T12:22:54.147Z"
   },
   {
    "duration": 29,
    "start_time": "2023-01-31T12:22:54.191Z"
   },
   {
    "duration": 31,
    "start_time": "2023-01-31T12:22:54.222Z"
   },
   {
    "duration": 30,
    "start_time": "2023-01-31T12:22:54.255Z"
   },
   {
    "duration": 34,
    "start_time": "2023-01-31T12:22:54.288Z"
   },
   {
    "duration": 51,
    "start_time": "2023-01-31T12:22:54.324Z"
   },
   {
    "duration": 12,
    "start_time": "2023-01-31T12:22:54.376Z"
   },
   {
    "duration": 48,
    "start_time": "2023-01-31T12:22:54.390Z"
   },
   {
    "duration": 49,
    "start_time": "2023-01-31T12:22:54.440Z"
   },
   {
    "duration": 21,
    "start_time": "2023-01-31T12:22:54.490Z"
   },
   {
    "duration": 46,
    "start_time": "2023-01-31T12:22:54.512Z"
   },
   {
    "duration": 582,
    "start_time": "2023-01-31T12:22:54.560Z"
   },
   {
    "duration": 14,
    "start_time": "2023-01-31T12:26:04.465Z"
   },
   {
    "duration": 11,
    "start_time": "2023-01-31T12:26:21.016Z"
   },
   {
    "duration": 7,
    "start_time": "2023-01-31T12:26:26.295Z"
   },
   {
    "duration": 7,
    "start_time": "2023-01-31T12:26:41.047Z"
   },
   {
    "duration": 7,
    "start_time": "2023-01-31T12:26:47.695Z"
   },
   {
    "duration": 109,
    "start_time": "2023-01-31T12:27:02.680Z"
   },
   {
    "duration": 9,
    "start_time": "2023-01-31T12:30:57.883Z"
   },
   {
    "duration": 45,
    "start_time": "2023-01-31T12:31:22.883Z"
   },
   {
    "duration": 9,
    "start_time": "2023-01-31T12:31:27.458Z"
   },
   {
    "duration": 10,
    "start_time": "2023-01-31T12:31:30.779Z"
   },
   {
    "duration": 4,
    "start_time": "2023-01-31T12:31:45.015Z"
   },
   {
    "duration": 8,
    "start_time": "2023-01-31T12:31:48.227Z"
   },
   {
    "duration": 658,
    "start_time": "2023-01-31T12:31:57.449Z"
   },
   {
    "duration": 1305,
    "start_time": "2023-01-31T12:32:17.418Z"
   },
   {
    "duration": 72,
    "start_time": "2023-01-31T12:32:18.725Z"
   },
   {
    "duration": 4,
    "start_time": "2023-01-31T12:32:18.798Z"
   },
   {
    "duration": 61,
    "start_time": "2023-01-31T12:32:18.803Z"
   },
   {
    "duration": 47,
    "start_time": "2023-01-31T12:32:18.868Z"
   },
   {
    "duration": 20,
    "start_time": "2023-01-31T12:32:18.918Z"
   },
   {
    "duration": 52,
    "start_time": "2023-01-31T12:32:18.940Z"
   },
   {
    "duration": 24,
    "start_time": "2023-01-31T12:32:18.994Z"
   },
   {
    "duration": 22,
    "start_time": "2023-01-31T12:32:19.020Z"
   },
   {
    "duration": 52,
    "start_time": "2023-01-31T12:32:19.043Z"
   },
   {
    "duration": 46,
    "start_time": "2023-01-31T12:32:19.096Z"
   },
   {
    "duration": 3,
    "start_time": "2023-01-31T12:32:19.144Z"
   },
   {
    "duration": 41,
    "start_time": "2023-01-31T12:32:19.148Z"
   },
   {
    "duration": 20,
    "start_time": "2023-01-31T12:32:19.192Z"
   },
   {
    "duration": 57,
    "start_time": "2023-01-31T12:32:19.214Z"
   },
   {
    "duration": 657,
    "start_time": "2023-01-31T12:32:19.273Z"
   },
   {
    "duration": 8,
    "start_time": "2023-01-31T12:32:42.051Z"
   },
   {
    "duration": 10,
    "start_time": "2023-01-31T12:33:10.540Z"
   },
   {
    "duration": 571,
    "start_time": "2023-01-31T12:33:16.547Z"
   },
   {
    "duration": 5,
    "start_time": "2023-01-31T12:33:29.875Z"
   },
   {
    "duration": 530,
    "start_time": "2023-01-31T12:33:31.589Z"
   },
   {
    "duration": 9,
    "start_time": "2023-01-31T12:33:46.527Z"
   },
   {
    "duration": 137,
    "start_time": "2023-01-31T12:36:26.829Z"
   },
   {
    "duration": 214,
    "start_time": "2023-01-31T12:36:34.331Z"
   },
   {
    "duration": 202,
    "start_time": "2023-01-31T12:36:37.672Z"
   },
   {
    "duration": 930,
    "start_time": "2023-01-31T12:37:27.869Z"
   },
   {
    "duration": 10,
    "start_time": "2023-01-31T12:38:06.998Z"
   },
   {
    "duration": 145,
    "start_time": "2023-01-31T12:38:11.719Z"
   },
   {
    "duration": 1151,
    "start_time": "2023-01-31T12:39:22.512Z"
   },
   {
    "duration": 55,
    "start_time": "2023-01-31T12:39:23.665Z"
   },
   {
    "duration": 3,
    "start_time": "2023-01-31T12:39:23.722Z"
   },
   {
    "duration": 27,
    "start_time": "2023-01-31T12:39:23.727Z"
   },
   {
    "duration": 20,
    "start_time": "2023-01-31T12:39:23.755Z"
   },
   {
    "duration": 16,
    "start_time": "2023-01-31T12:39:23.777Z"
   },
   {
    "duration": 15,
    "start_time": "2023-01-31T12:39:23.795Z"
   },
   {
    "duration": 42,
    "start_time": "2023-01-31T12:39:23.812Z"
   },
   {
    "duration": 6,
    "start_time": "2023-01-31T12:39:23.856Z"
   },
   {
    "duration": 12,
    "start_time": "2023-01-31T12:39:23.864Z"
   },
   {
    "duration": 3,
    "start_time": "2023-01-31T12:39:23.878Z"
   },
   {
    "duration": 7,
    "start_time": "2023-01-31T12:39:23.883Z"
   },
   {
    "duration": 14,
    "start_time": "2023-01-31T12:39:23.891Z"
   },
   {
    "duration": 9,
    "start_time": "2023-01-31T12:39:23.907Z"
   },
   {
    "duration": 13,
    "start_time": "2023-01-31T12:39:23.917Z"
   },
   {
    "duration": 22,
    "start_time": "2023-01-31T12:39:23.931Z"
   },
   {
    "duration": 2,
    "start_time": "2023-01-31T12:39:23.955Z"
   },
   {
    "duration": 164,
    "start_time": "2023-01-31T12:39:23.958Z"
   },
   {
    "duration": 11,
    "start_time": "2023-01-31T12:39:47.036Z"
   },
   {
    "duration": 63,
    "start_time": "2023-01-31T12:45:13.435Z"
   },
   {
    "duration": 46,
    "start_time": "2023-01-31T12:45:21.243Z"
   },
   {
    "duration": 108,
    "start_time": "2023-01-31T12:45:44.061Z"
   },
   {
    "duration": 19,
    "start_time": "2023-01-31T12:45:55.211Z"
   },
   {
    "duration": 52,
    "start_time": "2023-01-31T12:48:07.163Z"
   },
   {
    "duration": 28,
    "start_time": "2023-01-31T12:48:18.627Z"
   },
   {
    "duration": 1220,
    "start_time": "2023-01-31T12:48:26.439Z"
   },
   {
    "duration": 68,
    "start_time": "2023-01-31T12:48:27.662Z"
   },
   {
    "duration": 5,
    "start_time": "2023-01-31T12:48:27.732Z"
   },
   {
    "duration": 46,
    "start_time": "2023-01-31T12:48:27.739Z"
   },
   {
    "duration": 46,
    "start_time": "2023-01-31T12:48:27.786Z"
   },
   {
    "duration": 33,
    "start_time": "2023-01-31T12:48:27.834Z"
   },
   {
    "duration": 29,
    "start_time": "2023-01-31T12:48:27.869Z"
   },
   {
    "duration": 36,
    "start_time": "2023-01-31T12:48:27.900Z"
   },
   {
    "duration": 7,
    "start_time": "2023-01-31T12:48:27.938Z"
   },
   {
    "duration": 26,
    "start_time": "2023-01-31T12:48:27.948Z"
   },
   {
    "duration": 23,
    "start_time": "2023-01-31T12:48:27.976Z"
   },
   {
    "duration": 13,
    "start_time": "2023-01-31T12:48:28.001Z"
   },
   {
    "duration": 21,
    "start_time": "2023-01-31T12:48:28.016Z"
   },
   {
    "duration": 17,
    "start_time": "2023-01-31T12:48:28.040Z"
   },
   {
    "duration": 18,
    "start_time": "2023-01-31T12:48:28.060Z"
   },
   {
    "duration": 17,
    "start_time": "2023-01-31T12:48:28.080Z"
   },
   {
    "duration": 31,
    "start_time": "2023-01-31T12:48:28.098Z"
   },
   {
    "duration": 8,
    "start_time": "2023-01-31T12:48:28.131Z"
   },
   {
    "duration": 129,
    "start_time": "2023-01-31T12:48:28.141Z"
   },
   {
    "duration": 26,
    "start_time": "2023-01-31T12:48:42.253Z"
   },
   {
    "duration": 29,
    "start_time": "2023-01-31T12:48:48.604Z"
   },
   {
    "duration": 224,
    "start_time": "2023-01-31T12:49:48.317Z"
   },
   {
    "duration": 218,
    "start_time": "2023-01-31T12:49:57.077Z"
   },
   {
    "duration": 20,
    "start_time": "2023-01-31T12:51:10.815Z"
   },
   {
    "duration": 25,
    "start_time": "2023-01-31T12:51:23.926Z"
   },
   {
    "duration": 26,
    "start_time": "2023-01-31T12:51:41.591Z"
   },
   {
    "duration": 11,
    "start_time": "2023-01-31T12:53:20.199Z"
   },
   {
    "duration": 10,
    "start_time": "2023-01-31T12:53:52.823Z"
   },
   {
    "duration": 10,
    "start_time": "2023-01-31T12:53:59.153Z"
   },
   {
    "duration": 7,
    "start_time": "2023-01-31T12:54:04.894Z"
   },
   {
    "duration": 14,
    "start_time": "2023-01-31T12:54:32.609Z"
   },
   {
    "duration": 12,
    "start_time": "2023-01-31T12:54:53.871Z"
   },
   {
    "duration": 19,
    "start_time": "2023-01-31T12:55:31.766Z"
   },
   {
    "duration": 9,
    "start_time": "2023-01-31T12:55:34.761Z"
   },
   {
    "duration": 23,
    "start_time": "2023-01-31T12:55:54.160Z"
   },
   {
    "duration": 3,
    "start_time": "2023-01-31T12:56:18.937Z"
   },
   {
    "duration": 49,
    "start_time": "2023-01-31T12:56:29.344Z"
   },
   {
    "duration": 14,
    "start_time": "2023-01-31T12:56:37.937Z"
   },
   {
    "duration": 186,
    "start_time": "2023-01-31T12:56:46.484Z"
   },
   {
    "duration": 796,
    "start_time": "2023-01-31T12:57:07.683Z"
   },
   {
    "duration": 175,
    "start_time": "2023-01-31T12:57:54.022Z"
   },
   {
    "duration": 184,
    "start_time": "2023-01-31T12:58:42.409Z"
   },
   {
    "duration": 51,
    "start_time": "2023-01-31T12:59:24.593Z"
   },
   {
    "duration": 56,
    "start_time": "2023-01-31T12:59:40.305Z"
   },
   {
    "duration": 60,
    "start_time": "2023-01-31T12:59:45.626Z"
   },
   {
    "duration": 67,
    "start_time": "2023-01-31T12:59:56.130Z"
   },
   {
    "duration": 26,
    "start_time": "2023-01-31T13:00:02.033Z"
   },
   {
    "duration": 245,
    "start_time": "2023-01-31T13:00:28.604Z"
   },
   {
    "duration": 212,
    "start_time": "2023-01-31T13:00:53.522Z"
   },
   {
    "duration": 31,
    "start_time": "2023-01-31T13:01:36.281Z"
   },
   {
    "duration": 20,
    "start_time": "2023-01-31T13:01:47.227Z"
   },
   {
    "duration": 19,
    "start_time": "2023-01-31T13:01:54.658Z"
   },
   {
    "duration": 329,
    "start_time": "2023-01-31T13:02:27.802Z"
   },
   {
    "duration": 324,
    "start_time": "2023-01-31T13:02:35.854Z"
   },
   {
    "duration": 97,
    "start_time": "2023-01-31T13:03:15.388Z"
   },
   {
    "duration": 14,
    "start_time": "2023-01-31T13:03:18.409Z"
   },
   {
    "duration": 282,
    "start_time": "2023-01-31T13:03:31.555Z"
   },
   {
    "duration": 237,
    "start_time": "2023-01-31T13:03:36.674Z"
   },
   {
    "duration": 146,
    "start_time": "2023-01-31T13:03:56.861Z"
   },
   {
    "duration": 148,
    "start_time": "2023-01-31T13:05:37.172Z"
   },
   {
    "duration": 142,
    "start_time": "2023-01-31T13:06:51.749Z"
   },
   {
    "duration": 150,
    "start_time": "2023-01-31T13:06:57.923Z"
   },
   {
    "duration": 143,
    "start_time": "2023-01-31T13:07:17.085Z"
   },
   {
    "duration": 12,
    "start_time": "2023-01-31T13:11:59.030Z"
   },
   {
    "duration": 7,
    "start_time": "2023-01-31T13:12:07.818Z"
   },
   {
    "duration": 22,
    "start_time": "2023-01-31T13:12:59.697Z"
   },
   {
    "duration": 13,
    "start_time": "2023-01-31T13:13:13.402Z"
   },
   {
    "duration": 7,
    "start_time": "2023-01-31T13:13:23.707Z"
   },
   {
    "duration": 3,
    "start_time": "2023-01-31T13:13:33.767Z"
   },
   {
    "duration": 15,
    "start_time": "2023-01-31T13:14:07.123Z"
   },
   {
    "duration": 14,
    "start_time": "2023-01-31T13:15:36.346Z"
   },
   {
    "duration": 15,
    "start_time": "2023-01-31T13:15:42.504Z"
   },
   {
    "duration": 17,
    "start_time": "2023-01-31T13:15:56.545Z"
   },
   {
    "duration": 15,
    "start_time": "2023-01-31T13:16:13.579Z"
   },
   {
    "duration": 21,
    "start_time": "2023-01-31T13:18:21.081Z"
   },
   {
    "duration": 19,
    "start_time": "2023-01-31T13:18:58.203Z"
   },
   {
    "duration": 55,
    "start_time": "2023-01-31T13:20:49.923Z"
   },
   {
    "duration": 18,
    "start_time": "2023-01-31T13:20:56.206Z"
   },
   {
    "duration": 22,
    "start_time": "2023-01-31T13:21:02.905Z"
   },
   {
    "duration": 20,
    "start_time": "2023-01-31T13:21:10.876Z"
   },
   {
    "duration": 26,
    "start_time": "2023-01-31T13:21:40.995Z"
   },
   {
    "duration": 5,
    "start_time": "2023-01-31T13:25:49.221Z"
   },
   {
    "duration": 5,
    "start_time": "2023-01-31T13:26:09.934Z"
   },
   {
    "duration": 47,
    "start_time": "2023-02-01T07:04:10.068Z"
   },
   {
    "duration": 1401,
    "start_time": "2023-02-01T07:04:14.180Z"
   },
   {
    "duration": 207,
    "start_time": "2023-02-01T07:04:15.583Z"
   },
   {
    "duration": 4,
    "start_time": "2023-02-01T07:04:15.792Z"
   },
   {
    "duration": 19,
    "start_time": "2023-02-01T07:04:15.798Z"
   },
   {
    "duration": 18,
    "start_time": "2023-02-01T07:04:15.819Z"
   },
   {
    "duration": 18,
    "start_time": "2023-02-01T07:04:15.839Z"
   },
   {
    "duration": 37,
    "start_time": "2023-02-01T07:04:15.859Z"
   },
   {
    "duration": 30,
    "start_time": "2023-02-01T07:04:15.898Z"
   },
   {
    "duration": 6,
    "start_time": "2023-02-01T07:04:15.930Z"
   },
   {
    "duration": 16,
    "start_time": "2023-02-01T07:04:15.939Z"
   },
   {
    "duration": 27,
    "start_time": "2023-02-01T07:04:15.957Z"
   },
   {
    "duration": 20,
    "start_time": "2023-02-01T07:04:15.986Z"
   },
   {
    "duration": 13,
    "start_time": "2023-02-01T07:04:59.299Z"
   },
   {
    "duration": 12,
    "start_time": "2023-02-01T07:05:14.114Z"
   },
   {
    "duration": 14,
    "start_time": "2023-02-01T07:05:23.833Z"
   },
   {
    "duration": 465,
    "start_time": "2023-02-01T07:07:47.540Z"
   },
   {
    "duration": 107,
    "start_time": "2023-02-01T07:11:05.142Z"
   },
   {
    "duration": 452,
    "start_time": "2023-02-01T07:11:10.326Z"
   },
   {
    "duration": 276,
    "start_time": "2023-02-01T07:11:39.615Z"
   },
   {
    "duration": 44,
    "start_time": "2023-02-01T07:13:31.017Z"
   },
   {
    "duration": 42,
    "start_time": "2023-02-01T07:13:47.264Z"
   },
   {
    "duration": 31,
    "start_time": "2023-02-01T07:13:56.096Z"
   },
   {
    "duration": 81,
    "start_time": "2023-02-01T07:15:39.993Z"
   },
   {
    "duration": 270,
    "start_time": "2023-02-01T07:15:53.078Z"
   },
   {
    "duration": 299,
    "start_time": "2023-02-01T07:16:48.418Z"
   },
   {
    "duration": 313,
    "start_time": "2023-02-01T07:23:41.671Z"
   },
   {
    "duration": 447,
    "start_time": "2023-02-01T07:24:06.472Z"
   },
   {
    "duration": 17,
    "start_time": "2023-02-01T07:26:53.558Z"
   },
   {
    "duration": 28,
    "start_time": "2023-02-01T07:26:59.159Z"
   },
   {
    "duration": 328,
    "start_time": "2023-02-01T07:28:06.441Z"
   },
   {
    "duration": 285,
    "start_time": "2023-02-01T07:28:18.711Z"
   },
   {
    "duration": 313,
    "start_time": "2023-02-01T07:28:34.747Z"
   },
   {
    "duration": 314,
    "start_time": "2023-02-01T07:28:40.104Z"
   },
   {
    "duration": 285,
    "start_time": "2023-02-01T07:28:53.736Z"
   },
   {
    "duration": 22,
    "start_time": "2023-02-01T07:31:31.705Z"
   },
   {
    "duration": 35,
    "start_time": "2023-02-01T07:31:46.410Z"
   },
   {
    "duration": 44,
    "start_time": "2023-02-01T07:32:40.402Z"
   },
   {
    "duration": 40,
    "start_time": "2023-02-01T07:32:56.747Z"
   },
   {
    "duration": 1296,
    "start_time": "2023-02-01T07:34:36.381Z"
   },
   {
    "duration": 77,
    "start_time": "2023-02-01T07:34:37.680Z"
   },
   {
    "duration": 4,
    "start_time": "2023-02-01T07:34:37.760Z"
   },
   {
    "duration": 26,
    "start_time": "2023-02-01T07:34:37.766Z"
   },
   {
    "duration": 25,
    "start_time": "2023-02-01T07:34:37.795Z"
   },
   {
    "duration": 19,
    "start_time": "2023-02-01T07:34:37.822Z"
   },
   {
    "duration": 38,
    "start_time": "2023-02-01T07:34:37.843Z"
   },
   {
    "duration": 30,
    "start_time": "2023-02-01T07:34:37.884Z"
   },
   {
    "duration": 8,
    "start_time": "2023-02-01T07:34:37.916Z"
   },
   {
    "duration": 14,
    "start_time": "2023-02-01T07:34:37.926Z"
   },
   {
    "duration": 41,
    "start_time": "2023-02-01T07:34:37.942Z"
   },
   {
    "duration": 412,
    "start_time": "2023-02-01T07:34:37.985Z"
   },
   {
    "duration": 30,
    "start_time": "2023-02-01T07:34:38.399Z"
   },
   {
    "duration": 112,
    "start_time": "2023-02-01T07:35:43.620Z"
   },
   {
    "duration": 5,
    "start_time": "2023-02-01T07:35:48.833Z"
   },
   {
    "duration": 37,
    "start_time": "2023-02-01T07:36:05.756Z"
   },
   {
    "duration": 22,
    "start_time": "2023-02-01T07:36:19.428Z"
   },
   {
    "duration": 32,
    "start_time": "2023-02-01T07:36:26.340Z"
   },
   {
    "duration": 19,
    "start_time": "2023-02-01T07:39:55.766Z"
   },
   {
    "duration": 23,
    "start_time": "2023-02-01T07:41:17.553Z"
   },
   {
    "duration": 171,
    "start_time": "2023-02-01T07:50:05.035Z"
   },
   {
    "duration": 124,
    "start_time": "2023-02-01T07:50:08.506Z"
   },
   {
    "duration": 119,
    "start_time": "2023-02-01T07:50:29.300Z"
   },
   {
    "duration": 68,
    "start_time": "2023-02-01T07:50:42.471Z"
   },
   {
    "duration": 134,
    "start_time": "2023-02-01T07:51:05.283Z"
   },
   {
    "duration": 67,
    "start_time": "2023-02-01T07:51:20.557Z"
   },
   {
    "duration": 120,
    "start_time": "2023-02-01T07:51:26.635Z"
   },
   {
    "duration": 125,
    "start_time": "2023-02-01T07:51:37.277Z"
   },
   {
    "duration": 126,
    "start_time": "2023-02-01T07:51:41.780Z"
   },
   {
    "duration": 23,
    "start_time": "2023-02-01T07:51:52.637Z"
   },
   {
    "duration": 153,
    "start_time": "2023-02-01T07:52:56.494Z"
   },
   {
    "duration": 221,
    "start_time": "2023-02-01T07:53:10.541Z"
   },
   {
    "duration": 86,
    "start_time": "2023-02-01T07:53:18.846Z"
   },
   {
    "duration": 81,
    "start_time": "2023-02-01T07:53:25.261Z"
   },
   {
    "duration": 69,
    "start_time": "2023-02-01T07:53:43.405Z"
   },
   {
    "duration": 76,
    "start_time": "2023-02-01T07:53:47.445Z"
   },
   {
    "duration": 22,
    "start_time": "2023-02-01T07:53:52.077Z"
   },
   {
    "duration": 70,
    "start_time": "2023-02-01T07:53:56.861Z"
   },
   {
    "duration": 95,
    "start_time": "2023-02-01T07:54:00.910Z"
   },
   {
    "duration": 24,
    "start_time": "2023-02-01T07:54:47.009Z"
   },
   {
    "duration": 137,
    "start_time": "2023-02-01T07:55:01.189Z"
   },
   {
    "duration": 128,
    "start_time": "2023-02-01T07:55:07.185Z"
   },
   {
    "duration": 112,
    "start_time": "2023-02-01T07:55:15.654Z"
   },
   {
    "duration": 22,
    "start_time": "2023-02-01T07:55:25.375Z"
   },
   {
    "duration": 123,
    "start_time": "2023-02-01T07:57:01.128Z"
   },
   {
    "duration": 106,
    "start_time": "2023-02-01T07:57:24.607Z"
   },
   {
    "duration": 110,
    "start_time": "2023-02-01T07:57:40.551Z"
   },
   {
    "duration": 130,
    "start_time": "2023-02-01T07:57:46.759Z"
   },
   {
    "duration": 113,
    "start_time": "2023-02-01T07:57:52.831Z"
   },
   {
    "duration": 133,
    "start_time": "2023-02-01T07:58:05.279Z"
   },
   {
    "duration": 17,
    "start_time": "2023-02-01T07:58:16.233Z"
   },
   {
    "duration": 15,
    "start_time": "2023-02-01T07:58:20.960Z"
   },
   {
    "duration": 16,
    "start_time": "2023-02-01T07:58:34.441Z"
   },
   {
    "duration": 1355,
    "start_time": "2023-02-01T07:58:45.511Z"
   },
   {
    "duration": 82,
    "start_time": "2023-02-01T07:58:46.868Z"
   },
   {
    "duration": 3,
    "start_time": "2023-02-01T07:58:46.952Z"
   },
   {
    "duration": 18,
    "start_time": "2023-02-01T07:58:46.956Z"
   },
   {
    "duration": 53,
    "start_time": "2023-02-01T07:58:46.976Z"
   },
   {
    "duration": 14,
    "start_time": "2023-02-01T07:58:47.030Z"
   },
   {
    "duration": 12,
    "start_time": "2023-02-01T07:58:47.046Z"
   },
   {
    "duration": 23,
    "start_time": "2023-02-01T07:58:47.060Z"
   },
   {
    "duration": 8,
    "start_time": "2023-02-01T07:58:47.084Z"
   },
   {
    "duration": 39,
    "start_time": "2023-02-01T07:58:47.094Z"
   },
   {
    "duration": 10,
    "start_time": "2023-02-01T07:58:47.135Z"
   },
   {
    "duration": 358,
    "start_time": "2023-02-01T07:58:47.147Z"
   },
   {
    "duration": 24,
    "start_time": "2023-02-01T07:58:47.507Z"
   },
   {
    "duration": 15,
    "start_time": "2023-02-01T07:58:47.533Z"
   },
   {
    "duration": 19,
    "start_time": "2023-02-01T07:58:54.816Z"
   },
   {
    "duration": 20,
    "start_time": "2023-02-01T07:59:00.760Z"
   },
   {
    "duration": 116,
    "start_time": "2023-02-01T07:59:48.137Z"
   },
   {
    "duration": 229,
    "start_time": "2023-02-01T08:00:49.699Z"
   },
   {
    "duration": 26,
    "start_time": "2023-02-01T08:00:56.155Z"
   },
   {
    "duration": 152,
    "start_time": "2023-02-01T08:25:36.171Z"
   },
   {
    "duration": 131,
    "start_time": "2023-02-01T08:25:49.650Z"
   },
   {
    "duration": 128,
    "start_time": "2023-02-01T08:26:18.687Z"
   },
   {
    "duration": 86,
    "start_time": "2023-02-01T08:26:25.169Z"
   },
   {
    "duration": 130,
    "start_time": "2023-02-01T08:26:41.538Z"
   },
   {
    "duration": 201,
    "start_time": "2023-02-01T08:26:52.080Z"
   },
   {
    "duration": 200,
    "start_time": "2023-02-01T08:27:49.595Z"
   },
   {
    "duration": 165,
    "start_time": "2023-02-01T08:27:55.890Z"
   },
   {
    "duration": 119,
    "start_time": "2023-02-01T08:28:53.233Z"
   },
   {
    "duration": 154,
    "start_time": "2023-02-01T08:29:04.016Z"
   },
   {
    "duration": 117,
    "start_time": "2023-02-01T08:29:49.397Z"
   },
   {
    "duration": 22,
    "start_time": "2023-02-01T08:31:04.776Z"
   },
   {
    "duration": 107,
    "start_time": "2023-02-01T08:31:19.121Z"
   },
   {
    "duration": 122,
    "start_time": "2023-02-01T08:31:24.924Z"
   },
   {
    "duration": 115,
    "start_time": "2023-02-01T08:31:30.259Z"
   },
   {
    "duration": 12,
    "start_time": "2023-02-01T08:31:40.917Z"
   },
   {
    "duration": 143,
    "start_time": "2023-02-01T08:32:17.875Z"
   },
   {
    "duration": 120,
    "start_time": "2023-02-01T08:32:23.563Z"
   },
   {
    "duration": 111,
    "start_time": "2023-02-01T08:32:28.043Z"
   },
   {
    "duration": 119,
    "start_time": "2023-02-01T08:33:31.687Z"
   },
   {
    "duration": 28,
    "start_time": "2023-02-01T08:33:44.653Z"
   },
   {
    "duration": 22,
    "start_time": "2023-02-01T08:33:58.461Z"
   },
   {
    "duration": 32,
    "start_time": "2023-02-01T08:34:04.051Z"
   },
   {
    "duration": 152,
    "start_time": "2023-02-01T08:36:57.277Z"
   },
   {
    "duration": 260,
    "start_time": "2023-02-01T08:37:06.599Z"
   },
   {
    "duration": 162,
    "start_time": "2023-02-01T08:38:23.545Z"
   },
   {
    "duration": 124,
    "start_time": "2023-02-01T08:38:30.173Z"
   },
   {
    "duration": 17,
    "start_time": "2023-02-01T08:39:52.577Z"
   },
   {
    "duration": 22,
    "start_time": "2023-02-01T08:40:05.075Z"
   },
   {
    "duration": 9,
    "start_time": "2023-02-01T08:40:35.297Z"
   },
   {
    "duration": 5,
    "start_time": "2023-02-01T08:40:55.177Z"
   },
   {
    "duration": 100,
    "start_time": "2023-02-01T08:42:07.210Z"
   },
   {
    "duration": 101,
    "start_time": "2023-02-01T08:42:12.052Z"
   },
   {
    "duration": 14,
    "start_time": "2023-02-01T08:42:54.613Z"
   },
   {
    "duration": 3,
    "start_time": "2023-02-01T08:43:23.970Z"
   },
   {
    "duration": 6,
    "start_time": "2023-02-01T08:43:30.394Z"
   },
   {
    "duration": 6,
    "start_time": "2023-02-01T08:43:38.050Z"
   },
   {
    "duration": 102,
    "start_time": "2023-02-01T08:44:52.254Z"
   },
   {
    "duration": 107,
    "start_time": "2023-02-01T08:44:59.308Z"
   },
   {
    "duration": 104,
    "start_time": "2023-02-01T08:45:12.295Z"
   },
   {
    "duration": 116,
    "start_time": "2023-02-01T08:45:24.251Z"
   },
   {
    "duration": 6,
    "start_time": "2023-02-01T08:45:40.884Z"
   },
   {
    "duration": 91,
    "start_time": "2023-02-01T08:46:33.005Z"
   },
   {
    "duration": 117,
    "start_time": "2023-02-01T08:46:42.341Z"
   },
   {
    "duration": 92,
    "start_time": "2023-02-01T08:46:47.878Z"
   },
   {
    "duration": 9,
    "start_time": "2023-02-01T08:47:24.245Z"
   },
   {
    "duration": 92,
    "start_time": "2023-02-01T08:48:35.653Z"
   },
   {
    "duration": 94,
    "start_time": "2023-02-01T08:49:17.310Z"
   },
   {
    "duration": 176,
    "start_time": "2023-02-01T08:49:57.240Z"
   },
   {
    "duration": 14,
    "start_time": "2023-02-01T08:50:22.935Z"
   },
   {
    "duration": 21,
    "start_time": "2023-02-01T08:50:29.455Z"
   },
   {
    "duration": 88,
    "start_time": "2023-02-01T08:57:48.115Z"
   },
   {
    "duration": 111,
    "start_time": "2023-02-01T08:57:59.419Z"
   },
   {
    "duration": 93,
    "start_time": "2023-02-01T08:58:20.087Z"
   },
   {
    "duration": 94,
    "start_time": "2023-02-01T08:58:24.123Z"
   },
   {
    "duration": 191,
    "start_time": "2023-02-01T08:59:30.796Z"
   },
   {
    "duration": 163,
    "start_time": "2023-02-01T08:59:37.174Z"
   },
   {
    "duration": 25,
    "start_time": "2023-02-01T09:00:56.045Z"
   },
   {
    "duration": 23,
    "start_time": "2023-02-01T09:01:07.253Z"
   },
   {
    "duration": 151,
    "start_time": "2023-02-01T09:01:22.525Z"
   },
   {
    "duration": 76,
    "start_time": "2023-02-01T09:01:32.710Z"
   },
   {
    "duration": 123,
    "start_time": "2023-02-01T09:01:35.750Z"
   },
   {
    "duration": 121,
    "start_time": "2023-02-01T09:01:37.845Z"
   },
   {
    "duration": 23,
    "start_time": "2023-02-01T09:01:45.241Z"
   },
   {
    "duration": 20,
    "start_time": "2023-02-01T09:02:24.464Z"
   },
   {
    "duration": 22,
    "start_time": "2023-02-01T09:02:29.741Z"
   },
   {
    "duration": 77,
    "start_time": "2023-02-01T09:06:04.816Z"
   },
   {
    "duration": 72,
    "start_time": "2023-02-01T09:06:26.378Z"
   },
   {
    "duration": 73,
    "start_time": "2023-02-01T09:06:35.247Z"
   },
   {
    "duration": 111,
    "start_time": "2023-02-01T09:06:39.423Z"
   },
   {
    "duration": 29,
    "start_time": "2023-02-01T09:06:46.490Z"
   },
   {
    "duration": 14,
    "start_time": "2023-02-01T09:07:06.833Z"
   },
   {
    "duration": 17,
    "start_time": "2023-02-01T09:07:11.711Z"
   },
   {
    "duration": 30,
    "start_time": "2023-02-01T09:07:33.569Z"
   },
   {
    "duration": 25,
    "start_time": "2023-02-01T09:07:42.779Z"
   },
   {
    "duration": 17,
    "start_time": "2023-02-01T09:08:03.200Z"
   },
   {
    "duration": 19,
    "start_time": "2023-02-01T09:08:41.026Z"
   },
   {
    "duration": 18,
    "start_time": "2023-02-01T09:08:44.452Z"
   },
   {
    "duration": 18,
    "start_time": "2023-02-01T09:08:46.704Z"
   },
   {
    "duration": 15,
    "start_time": "2023-02-01T09:08:54.908Z"
   },
   {
    "duration": 78,
    "start_time": "2023-02-01T11:28:37.198Z"
   },
   {
    "duration": 79,
    "start_time": "2023-02-01T11:28:41.200Z"
   },
   {
    "duration": 69,
    "start_time": "2023-02-01T11:28:47.640Z"
   },
   {
    "duration": 61,
    "start_time": "2023-02-01T11:28:53.008Z"
   },
   {
    "duration": 159,
    "start_time": "2023-02-01T11:29:01.400Z"
   },
   {
    "duration": 5,
    "start_time": "2023-02-01T11:29:21.892Z"
   },
   {
    "duration": 224,
    "start_time": "2023-02-01T11:29:34.407Z"
   },
   {
    "duration": 292,
    "start_time": "2023-02-01T11:30:16.414Z"
   },
   {
    "duration": 351,
    "start_time": "2023-02-01T11:30:21.899Z"
   },
   {
    "duration": 1206,
    "start_time": "2023-02-01T11:30:47.308Z"
   },
   {
    "duration": 60,
    "start_time": "2023-02-01T11:30:48.516Z"
   },
   {
    "duration": 4,
    "start_time": "2023-02-01T11:30:48.577Z"
   },
   {
    "duration": 30,
    "start_time": "2023-02-01T11:30:48.582Z"
   },
   {
    "duration": 21,
    "start_time": "2023-02-01T11:30:48.614Z"
   },
   {
    "duration": 15,
    "start_time": "2023-02-01T11:30:48.637Z"
   },
   {
    "duration": 27,
    "start_time": "2023-02-01T11:30:48.654Z"
   },
   {
    "duration": 28,
    "start_time": "2023-02-01T11:30:48.684Z"
   },
   {
    "duration": 5,
    "start_time": "2023-02-01T11:30:48.714Z"
   },
   {
    "duration": 21,
    "start_time": "2023-02-01T11:30:48.721Z"
   },
   {
    "duration": 354,
    "start_time": "2023-02-01T11:30:48.743Z"
   },
   {
    "duration": 353,
    "start_time": "2023-02-01T11:30:49.100Z"
   },
   {
    "duration": 24,
    "start_time": "2023-02-01T11:30:49.455Z"
   },
   {
    "duration": 23,
    "start_time": "2023-02-01T11:30:49.485Z"
   },
   {
    "duration": 5,
    "start_time": "2023-02-01T11:30:49.510Z"
   },
   {
    "duration": 216,
    "start_time": "2023-02-01T11:30:49.517Z"
   },
   {
    "duration": 262,
    "start_time": "2023-02-01T11:31:40.866Z"
   },
   {
    "duration": 349,
    "start_time": "2023-02-01T11:32:09.196Z"
   },
   {
    "duration": 356,
    "start_time": "2023-02-01T11:32:13.410Z"
   },
   {
    "duration": 223,
    "start_time": "2023-02-01T11:32:19.895Z"
   },
   {
    "duration": 311,
    "start_time": "2023-02-01T11:32:26.234Z"
   },
   {
    "duration": 257,
    "start_time": "2023-02-01T11:32:32.267Z"
   },
   {
    "duration": 218,
    "start_time": "2023-02-01T11:32:39.238Z"
   },
   {
    "duration": 404,
    "start_time": "2023-02-01T11:32:56.430Z"
   },
   {
    "duration": 253,
    "start_time": "2023-02-01T11:34:35.112Z"
   },
   {
    "duration": 1291,
    "start_time": "2023-02-01T11:34:42.341Z"
   },
   {
    "duration": 65,
    "start_time": "2023-02-01T11:34:43.635Z"
   },
   {
    "duration": 4,
    "start_time": "2023-02-01T11:34:43.702Z"
   },
   {
    "duration": 36,
    "start_time": "2023-02-01T11:34:43.708Z"
   },
   {
    "duration": 31,
    "start_time": "2023-02-01T11:34:43.747Z"
   },
   {
    "duration": 17,
    "start_time": "2023-02-01T11:34:43.780Z"
   },
   {
    "duration": 15,
    "start_time": "2023-02-01T11:34:43.799Z"
   },
   {
    "duration": 23,
    "start_time": "2023-02-01T11:34:43.816Z"
   },
   {
    "duration": 6,
    "start_time": "2023-02-01T11:34:43.841Z"
   },
   {
    "duration": 42,
    "start_time": "2023-02-01T11:34:43.848Z"
   },
   {
    "duration": 342,
    "start_time": "2023-02-01T11:34:43.892Z"
   },
   {
    "duration": 289,
    "start_time": "2023-02-01T11:34:44.236Z"
   },
   {
    "duration": 26,
    "start_time": "2023-02-01T11:34:44.527Z"
   },
   {
    "duration": 18,
    "start_time": "2023-02-01T11:34:44.555Z"
   },
   {
    "duration": 8,
    "start_time": "2023-02-01T11:34:44.574Z"
   },
   {
    "duration": 248,
    "start_time": "2023-02-01T11:34:44.584Z"
   },
   {
    "duration": 293,
    "start_time": "2023-02-01T11:34:57.323Z"
   },
   {
    "duration": 225,
    "start_time": "2023-02-01T11:35:19.154Z"
   },
   {
    "duration": 134,
    "start_time": "2023-02-01T11:35:30.828Z"
   },
   {
    "duration": 271,
    "start_time": "2023-02-01T11:35:42.504Z"
   },
   {
    "duration": 348,
    "start_time": "2023-02-01T11:35:55.215Z"
   },
   {
    "duration": 4,
    "start_time": "2023-02-01T11:36:33.149Z"
   },
   {
    "duration": 158,
    "start_time": "2023-02-01T11:36:44.407Z"
   },
   {
    "duration": 177,
    "start_time": "2023-02-01T11:37:16.948Z"
   },
   {
    "duration": 223,
    "start_time": "2023-02-01T11:37:24.987Z"
   },
   {
    "duration": 272,
    "start_time": "2023-02-01T11:37:31.821Z"
   },
   {
    "duration": 291,
    "start_time": "2023-02-01T11:37:39.758Z"
   },
   {
    "duration": 224,
    "start_time": "2023-02-01T11:37:49.109Z"
   },
   {
    "duration": 172,
    "start_time": "2023-02-01T11:37:55.809Z"
   },
   {
    "duration": 187,
    "start_time": "2023-02-01T11:37:59.271Z"
   },
   {
    "duration": 193,
    "start_time": "2023-02-01T11:38:26.993Z"
   },
   {
    "duration": 76,
    "start_time": "2023-02-01T11:38:38.238Z"
   },
   {
    "duration": 186,
    "start_time": "2023-02-01T11:38:43.316Z"
   },
   {
    "duration": 746,
    "start_time": "2023-02-01T11:40:06.329Z"
   },
   {
    "duration": 172,
    "start_time": "2023-02-01T11:41:25.211Z"
   },
   {
    "duration": 479,
    "start_time": "2023-02-01T11:41:49.255Z"
   },
   {
    "duration": 147,
    "start_time": "2023-02-01T11:45:11.707Z"
   },
   {
    "duration": 134,
    "start_time": "2023-02-01T11:45:28.441Z"
   },
   {
    "duration": 266,
    "start_time": "2023-02-01T11:46:19.512Z"
   },
   {
    "duration": 158,
    "start_time": "2023-02-01T11:46:50.754Z"
   },
   {
    "duration": 155,
    "start_time": "2023-02-01T11:53:32.146Z"
   },
   {
    "duration": 175,
    "start_time": "2023-02-01T11:53:46.002Z"
   },
   {
    "duration": 14,
    "start_time": "2023-02-01T11:54:01.399Z"
   },
   {
    "duration": 161,
    "start_time": "2023-02-01T11:54:25.200Z"
   },
   {
    "duration": 160,
    "start_time": "2023-02-01T11:54:47.610Z"
   },
   {
    "duration": 160,
    "start_time": "2023-02-01T11:54:54.462Z"
   },
   {
    "duration": 148,
    "start_time": "2023-02-01T11:57:43.063Z"
   },
   {
    "duration": 167,
    "start_time": "2023-02-01T11:57:49.850Z"
   },
   {
    "duration": 193,
    "start_time": "2023-02-01T11:58:03.144Z"
   },
   {
    "duration": 148,
    "start_time": "2023-02-01T11:58:51.730Z"
   },
   {
    "duration": 167,
    "start_time": "2023-02-01T11:58:59.236Z"
   },
   {
    "duration": 147,
    "start_time": "2023-02-01T11:59:01.926Z"
   },
   {
    "duration": 219,
    "start_time": "2023-02-01T11:59:16.816Z"
   },
   {
    "duration": 152,
    "start_time": "2023-02-01T11:59:39.433Z"
   },
   {
    "duration": 160,
    "start_time": "2023-02-01T11:59:48.818Z"
   },
   {
    "duration": 16,
    "start_time": "2023-02-01T12:02:34.198Z"
   },
   {
    "duration": 13,
    "start_time": "2023-02-01T12:02:57.198Z"
   },
   {
    "duration": 17,
    "start_time": "2023-02-01T12:03:02.658Z"
   },
   {
    "duration": 5307,
    "start_time": "2023-02-01T12:03:13.214Z"
   },
   {
    "duration": 5250,
    "start_time": "2023-02-01T12:03:22.323Z"
   },
   {
    "duration": 4944,
    "start_time": "2023-02-01T12:09:58.893Z"
   },
   {
    "duration": 3933,
    "start_time": "2023-02-01T12:10:15.421Z"
   },
   {
    "duration": 614,
    "start_time": "2023-02-01T12:10:37.509Z"
   },
   {
    "duration": 16,
    "start_time": "2023-02-01T12:11:35.958Z"
   },
   {
    "duration": 268,
    "start_time": "2023-02-01T12:11:42.840Z"
   },
   {
    "duration": 10,
    "start_time": "2023-02-01T12:13:35.828Z"
   },
   {
    "duration": 13,
    "start_time": "2023-02-01T12:14:03.552Z"
   },
   {
    "duration": 17,
    "start_time": "2023-02-01T12:14:10.517Z"
   },
   {
    "duration": 17,
    "start_time": "2023-02-01T12:14:37.501Z"
   },
   {
    "duration": 13,
    "start_time": "2023-02-01T12:14:40.930Z"
   },
   {
    "duration": 1189,
    "start_time": "2023-02-01T12:14:57.723Z"
   },
   {
    "duration": 63,
    "start_time": "2023-02-01T12:14:58.914Z"
   },
   {
    "duration": 20,
    "start_time": "2023-02-01T12:14:58.979Z"
   },
   {
    "duration": 66,
    "start_time": "2023-02-01T12:14:59.002Z"
   },
   {
    "duration": 39,
    "start_time": "2023-02-01T12:14:59.071Z"
   },
   {
    "duration": 22,
    "start_time": "2023-02-01T12:14:59.112Z"
   },
   {
    "duration": 13,
    "start_time": "2023-02-01T12:14:59.136Z"
   },
   {
    "duration": 20,
    "start_time": "2023-02-01T12:14:59.151Z"
   },
   {
    "duration": 10,
    "start_time": "2023-02-01T12:14:59.172Z"
   },
   {
    "duration": 16,
    "start_time": "2023-02-01T12:14:59.184Z"
   },
   {
    "duration": 363,
    "start_time": "2023-02-01T12:14:59.202Z"
   },
   {
    "duration": 302,
    "start_time": "2023-02-01T12:14:59.567Z"
   },
   {
    "duration": 41,
    "start_time": "2023-02-01T12:14:59.871Z"
   },
   {
    "duration": 17,
    "start_time": "2023-02-01T12:14:59.916Z"
   },
   {
    "duration": 5,
    "start_time": "2023-02-01T12:14:59.935Z"
   },
   {
    "duration": 204,
    "start_time": "2023-02-01T12:14:59.942Z"
   },
   {
    "duration": 562,
    "start_time": "2023-02-01T12:15:00.148Z"
   },
   {
    "duration": 276,
    "start_time": "2023-02-01T12:15:00.712Z"
   },
   {
    "duration": 182,
    "start_time": "2023-02-01T12:15:00.991Z"
   },
   {
    "duration": 178,
    "start_time": "2023-02-01T12:15:01.175Z"
   },
   {
    "duration": 13,
    "start_time": "2023-02-01T12:15:01.355Z"
   },
   {
    "duration": 81,
    "start_time": "2023-02-01T12:15:40.421Z"
   },
   {
    "duration": 73,
    "start_time": "2023-02-01T12:15:44.064Z"
   },
   {
    "duration": 128,
    "start_time": "2023-02-01T12:15:50.944Z"
   },
   {
    "duration": 20,
    "start_time": "2023-02-01T12:16:20.537Z"
   },
   {
    "duration": 21,
    "start_time": "2023-02-01T12:16:24.361Z"
   },
   {
    "duration": 24,
    "start_time": "2023-02-01T12:16:52.120Z"
   },
   {
    "duration": 1237,
    "start_time": "2023-02-01T12:16:58.070Z"
   },
   {
    "duration": 62,
    "start_time": "2023-02-01T12:16:59.310Z"
   },
   {
    "duration": 5,
    "start_time": "2023-02-01T12:16:59.374Z"
   },
   {
    "duration": 25,
    "start_time": "2023-02-01T12:16:59.381Z"
   },
   {
    "duration": 16,
    "start_time": "2023-02-01T12:16:59.409Z"
   },
   {
    "duration": 17,
    "start_time": "2023-02-01T12:16:59.426Z"
   },
   {
    "duration": 37,
    "start_time": "2023-02-01T12:16:59.445Z"
   },
   {
    "duration": 22,
    "start_time": "2023-02-01T12:16:59.484Z"
   },
   {
    "duration": 7,
    "start_time": "2023-02-01T12:16:59.508Z"
   },
   {
    "duration": 23,
    "start_time": "2023-02-01T12:16:59.517Z"
   },
   {
    "duration": 363,
    "start_time": "2023-02-01T12:16:59.542Z"
   },
   {
    "duration": 326,
    "start_time": "2023-02-01T12:16:59.907Z"
   },
   {
    "duration": 38,
    "start_time": "2023-02-01T12:17:00.236Z"
   },
   {
    "duration": 17,
    "start_time": "2023-02-01T12:17:00.277Z"
   },
   {
    "duration": 14,
    "start_time": "2023-02-01T12:17:00.296Z"
   },
   {
    "duration": 184,
    "start_time": "2023-02-01T12:17:00.311Z"
   },
   {
    "duration": 618,
    "start_time": "2023-02-01T12:17:00.497Z"
   },
   {
    "duration": 258,
    "start_time": "2023-02-01T12:17:01.118Z"
   },
   {
    "duration": 166,
    "start_time": "2023-02-01T12:17:01.382Z"
   },
   {
    "duration": 162,
    "start_time": "2023-02-01T12:17:01.550Z"
   },
   {
    "duration": 122,
    "start_time": "2023-02-01T12:17:01.714Z"
   },
   {
    "duration": 23,
    "start_time": "2023-02-01T12:17:07.208Z"
   },
   {
    "duration": 26,
    "start_time": "2023-02-01T12:17:16.104Z"
   },
   {
    "duration": 1261,
    "start_time": "2023-02-01T12:17:25.513Z"
   },
   {
    "duration": 94,
    "start_time": "2023-02-01T12:17:26.777Z"
   },
   {
    "duration": 4,
    "start_time": "2023-02-01T12:17:26.873Z"
   },
   {
    "duration": 46,
    "start_time": "2023-02-01T12:17:26.879Z"
   },
   {
    "duration": 50,
    "start_time": "2023-02-01T12:17:26.928Z"
   },
   {
    "duration": 27,
    "start_time": "2023-02-01T12:17:26.980Z"
   },
   {
    "duration": 29,
    "start_time": "2023-02-01T12:17:27.009Z"
   },
   {
    "duration": 27,
    "start_time": "2023-02-01T12:17:27.040Z"
   },
   {
    "duration": 5,
    "start_time": "2023-02-01T12:17:27.069Z"
   },
   {
    "duration": 31,
    "start_time": "2023-02-01T12:17:27.076Z"
   },
   {
    "duration": 357,
    "start_time": "2023-02-01T12:17:27.109Z"
   },
   {
    "duration": 315,
    "start_time": "2023-02-01T12:17:27.467Z"
   },
   {
    "duration": 34,
    "start_time": "2023-02-01T12:17:27.791Z"
   },
   {
    "duration": 18,
    "start_time": "2023-02-01T12:17:27.828Z"
   },
   {
    "duration": 4,
    "start_time": "2023-02-01T12:17:27.848Z"
   },
   {
    "duration": 214,
    "start_time": "2023-02-01T12:17:27.853Z"
   },
   {
    "duration": 528,
    "start_time": "2023-02-01T12:17:28.069Z"
   },
   {
    "duration": 237,
    "start_time": "2023-02-01T12:17:28.603Z"
   },
   {
    "duration": 163,
    "start_time": "2023-02-01T12:17:28.842Z"
   },
   {
    "duration": 160,
    "start_time": "2023-02-01T12:17:29.007Z"
   },
   {
    "duration": 126,
    "start_time": "2023-02-01T12:17:29.169Z"
   },
   {
    "duration": 27,
    "start_time": "2023-02-01T12:17:41.936Z"
   },
   {
    "duration": 27,
    "start_time": "2023-02-01T12:17:51.170Z"
   },
   {
    "duration": 20,
    "start_time": "2023-02-01T12:18:07.734Z"
   },
   {
    "duration": 23,
    "start_time": "2023-02-01T12:18:37.642Z"
   },
   {
    "duration": 22,
    "start_time": "2023-02-01T12:18:49.209Z"
   },
   {
    "duration": 23,
    "start_time": "2023-02-01T12:19:40.658Z"
   },
   {
    "duration": 445,
    "start_time": "2023-02-01T12:19:46.109Z"
   },
   {
    "duration": 22,
    "start_time": "2023-02-01T12:19:56.311Z"
   },
   {
    "duration": 208,
    "start_time": "2023-02-01T12:20:16.418Z"
   },
   {
    "duration": 1504,
    "start_time": "2023-02-01T12:20:54.317Z"
   },
   {
    "duration": 20,
    "start_time": "2023-02-01T12:21:01.148Z"
   },
   {
    "duration": 93,
    "start_time": "2023-02-01T12:27:46.408Z"
   },
   {
    "duration": 10,
    "start_time": "2023-02-01T12:27:51.135Z"
   },
   {
    "duration": 15,
    "start_time": "2023-02-01T12:27:58.601Z"
   },
   {
    "duration": 17,
    "start_time": "2023-02-01T12:28:33.209Z"
   },
   {
    "duration": 16,
    "start_time": "2023-02-01T12:28:36.435Z"
   },
   {
    "duration": 12,
    "start_time": "2023-02-01T12:29:16.013Z"
   },
   {
    "duration": 19,
    "start_time": "2023-02-01T12:29:32.787Z"
   },
   {
    "duration": 1306,
    "start_time": "2023-02-01T12:29:39.521Z"
   },
   {
    "duration": 78,
    "start_time": "2023-02-01T12:29:40.830Z"
   },
   {
    "duration": 3,
    "start_time": "2023-02-01T12:29:40.910Z"
   },
   {
    "duration": 24,
    "start_time": "2023-02-01T12:29:40.914Z"
   },
   {
    "duration": 21,
    "start_time": "2023-02-01T12:29:40.940Z"
   },
   {
    "duration": 30,
    "start_time": "2023-02-01T12:29:40.962Z"
   },
   {
    "duration": 17,
    "start_time": "2023-02-01T12:29:40.995Z"
   },
   {
    "duration": 21,
    "start_time": "2023-02-01T12:29:41.014Z"
   },
   {
    "duration": 8,
    "start_time": "2023-02-01T12:29:41.037Z"
   },
   {
    "duration": 49,
    "start_time": "2023-02-01T12:29:41.046Z"
   },
   {
    "duration": 374,
    "start_time": "2023-02-01T12:29:41.098Z"
   },
   {
    "duration": 322,
    "start_time": "2023-02-01T12:29:41.474Z"
   },
   {
    "duration": 26,
    "start_time": "2023-02-01T12:29:41.799Z"
   },
   {
    "duration": 17,
    "start_time": "2023-02-01T12:29:41.828Z"
   },
   {
    "duration": 4,
    "start_time": "2023-02-01T12:29:41.847Z"
   },
   {
    "duration": 183,
    "start_time": "2023-02-01T12:29:41.853Z"
   },
   {
    "duration": 488,
    "start_time": "2023-02-01T12:29:42.038Z"
   },
   {
    "duration": 255,
    "start_time": "2023-02-01T12:29:42.528Z"
   },
   {
    "duration": 213,
    "start_time": "2023-02-01T12:29:42.786Z"
   },
   {
    "duration": 159,
    "start_time": "2023-02-01T12:29:43.002Z"
   },
   {
    "duration": 40,
    "start_time": "2023-02-01T12:29:43.163Z"
   },
   {
    "duration": 12,
    "start_time": "2023-02-01T12:29:43.206Z"
   },
   {
    "duration": 117,
    "start_time": "2023-02-01T12:30:32.361Z"
   },
   {
    "duration": 19,
    "start_time": "2023-02-01T12:30:37.636Z"
   },
   {
    "duration": 21,
    "start_time": "2023-02-01T12:30:47.229Z"
   },
   {
    "duration": 26,
    "start_time": "2023-02-01T12:31:19.265Z"
   },
   {
    "duration": 19,
    "start_time": "2023-02-01T12:32:27.830Z"
   },
   {
    "duration": 1237,
    "start_time": "2023-02-01T12:32:57.825Z"
   },
   {
    "duration": 21,
    "start_time": "2023-02-01T12:33:08.831Z"
   },
   {
    "duration": 168,
    "start_time": "2023-02-01T12:33:20.943Z"
   },
   {
    "duration": 306,
    "start_time": "2023-02-01T12:33:43.939Z"
   },
   {
    "duration": 158,
    "start_time": "2023-02-01T12:33:53.818Z"
   },
   {
    "duration": 150,
    "start_time": "2023-02-01T12:34:16.637Z"
   },
   {
    "duration": 17,
    "start_time": "2023-02-01T12:34:44.852Z"
   },
   {
    "duration": 19,
    "start_time": "2023-02-01T12:34:49.173Z"
   },
   {
    "duration": 1191,
    "start_time": "2023-02-01T12:34:54.502Z"
   },
   {
    "duration": 70,
    "start_time": "2023-02-01T12:34:55.697Z"
   },
   {
    "duration": 3,
    "start_time": "2023-02-01T12:34:55.769Z"
   },
   {
    "duration": 54,
    "start_time": "2023-02-01T12:34:55.774Z"
   },
   {
    "duration": 36,
    "start_time": "2023-02-01T12:34:55.831Z"
   },
   {
    "duration": 23,
    "start_time": "2023-02-01T12:34:55.870Z"
   },
   {
    "duration": 38,
    "start_time": "2023-02-01T12:34:55.896Z"
   },
   {
    "duration": 73,
    "start_time": "2023-02-01T12:34:55.937Z"
   },
   {
    "duration": 13,
    "start_time": "2023-02-01T12:34:56.013Z"
   },
   {
    "duration": 42,
    "start_time": "2023-02-01T12:34:56.028Z"
   },
   {
    "duration": 384,
    "start_time": "2023-02-01T12:34:56.072Z"
   },
   {
    "duration": 382,
    "start_time": "2023-02-01T12:34:56.458Z"
   },
   {
    "duration": 29,
    "start_time": "2023-02-01T12:34:56.842Z"
   },
   {
    "duration": 21,
    "start_time": "2023-02-01T12:34:56.874Z"
   },
   {
    "duration": 4,
    "start_time": "2023-02-01T12:34:56.898Z"
   },
   {
    "duration": 198,
    "start_time": "2023-02-01T12:34:56.905Z"
   },
   {
    "duration": 533,
    "start_time": "2023-02-01T12:34:57.105Z"
   },
   {
    "duration": 279,
    "start_time": "2023-02-01T12:34:57.640Z"
   },
   {
    "duration": 176,
    "start_time": "2023-02-01T12:34:57.921Z"
   },
   {
    "duration": 177,
    "start_time": "2023-02-01T12:34:58.100Z"
   },
   {
    "duration": 30,
    "start_time": "2023-02-01T12:34:58.286Z"
   },
   {
    "duration": 18,
    "start_time": "2023-02-01T12:34:58.318Z"
   },
   {
    "duration": 18,
    "start_time": "2023-02-01T12:35:09.037Z"
   },
   {
    "duration": 74,
    "start_time": "2023-02-01T12:35:48.403Z"
   },
   {
    "duration": 88,
    "start_time": "2023-02-01T12:35:53.616Z"
   },
   {
    "duration": 18,
    "start_time": "2023-02-01T12:36:02.004Z"
   },
   {
    "duration": 570,
    "start_time": "2023-02-01T12:37:05.958Z"
   },
   {
    "duration": 18,
    "start_time": "2023-02-01T12:37:12.154Z"
   },
   {
    "duration": 13,
    "start_time": "2023-02-01T12:37:18.410Z"
   },
   {
    "duration": 16,
    "start_time": "2023-02-01T12:37:27.010Z"
   },
   {
    "duration": 17,
    "start_time": "2023-02-01T12:39:06.463Z"
   },
   {
    "duration": 20,
    "start_time": "2023-02-01T12:39:11.910Z"
   },
   {
    "duration": 25,
    "start_time": "2023-02-01T12:39:57.126Z"
   },
   {
    "duration": 12,
    "start_time": "2023-02-01T12:41:02.137Z"
   },
   {
    "duration": 37,
    "start_time": "2023-02-01T12:41:30.602Z"
   },
   {
    "duration": 27,
    "start_time": "2023-02-01T12:42:51.549Z"
   },
   {
    "duration": 52,
    "start_time": "2023-02-04T11:25:09.150Z"
   },
   {
    "duration": 1354,
    "start_time": "2023-02-04T11:25:13.721Z"
   },
   {
    "duration": 197,
    "start_time": "2023-02-04T11:25:15.077Z"
   },
   {
    "duration": 3,
    "start_time": "2023-02-04T11:25:15.276Z"
   },
   {
    "duration": 17,
    "start_time": "2023-02-04T11:25:15.281Z"
   },
   {
    "duration": 14,
    "start_time": "2023-02-04T11:25:15.300Z"
   },
   {
    "duration": 29,
    "start_time": "2023-02-04T11:25:15.316Z"
   },
   {
    "duration": 14,
    "start_time": "2023-02-04T11:25:15.347Z"
   },
   {
    "duration": 21,
    "start_time": "2023-02-04T11:25:15.362Z"
   },
   {
    "duration": 5,
    "start_time": "2023-02-04T11:25:15.385Z"
   },
   {
    "duration": 51,
    "start_time": "2023-02-04T11:25:15.392Z"
   },
   {
    "duration": 328,
    "start_time": "2023-02-04T11:25:15.445Z"
   },
   {
    "duration": 256,
    "start_time": "2023-02-04T11:25:15.775Z"
   },
   {
    "duration": 25,
    "start_time": "2023-02-04T11:25:16.033Z"
   },
   {
    "duration": 21,
    "start_time": "2023-02-04T11:25:16.061Z"
   },
   {
    "duration": 5,
    "start_time": "2023-02-04T11:25:16.084Z"
   },
   {
    "duration": 176,
    "start_time": "2023-02-04T11:25:16.091Z"
   },
   {
    "duration": 490,
    "start_time": "2023-02-04T11:25:16.269Z"
   },
   {
    "duration": 236,
    "start_time": "2023-02-04T11:25:16.761Z"
   },
   {
    "duration": 151,
    "start_time": "2023-02-04T11:25:16.999Z"
   },
   {
    "duration": 151,
    "start_time": "2023-02-04T11:25:17.152Z"
   },
   {
    "duration": 34,
    "start_time": "2023-02-04T11:25:17.305Z"
   },
   {
    "duration": 20,
    "start_time": "2023-02-04T11:25:17.341Z"
   },
   {
    "duration": 19,
    "start_time": "2023-02-04T11:25:17.363Z"
   },
   {
    "duration": 20,
    "start_time": "2023-02-04T11:25:17.384Z"
   },
   {
    "duration": 236,
    "start_time": "2023-02-04T11:26:45.827Z"
   },
   {
    "duration": 79,
    "start_time": "2023-02-04T11:27:20.399Z"
   },
   {
    "duration": 110,
    "start_time": "2023-02-04T11:27:26.955Z"
   },
   {
    "duration": 460,
    "start_time": "2023-02-04T11:27:31.919Z"
   },
   {
    "duration": 669,
    "start_time": "2023-02-04T11:28:02.449Z"
   },
   {
    "duration": 255,
    "start_time": "2023-02-04T11:29:50.568Z"
   },
   {
    "duration": 561,
    "start_time": "2023-02-04T11:30:38.737Z"
   },
   {
    "duration": 33,
    "start_time": "2023-02-04T11:31:35.672Z"
   },
   {
    "duration": 374,
    "start_time": "2023-02-04T11:31:44.221Z"
   },
   {
    "duration": 22,
    "start_time": "2023-02-04T11:32:00.937Z"
   },
   {
    "duration": 15,
    "start_time": "2023-02-04T11:33:04.533Z"
   },
   {
    "duration": 671,
    "start_time": "2023-02-04T11:33:11.237Z"
   },
   {
    "duration": 17,
    "start_time": "2023-02-04T11:34:45.042Z"
   },
   {
    "duration": 131,
    "start_time": "2023-02-04T11:35:12.746Z"
   },
   {
    "duration": 111,
    "start_time": "2023-02-04T11:35:21.526Z"
   },
   {
    "duration": 170,
    "start_time": "2023-02-04T11:36:00.374Z"
   },
   {
    "duration": 74,
    "start_time": "2023-02-04T11:36:42.287Z"
   },
   {
    "duration": 73,
    "start_time": "2023-02-04T11:36:44.822Z"
   },
   {
    "duration": 1189,
    "start_time": "2023-02-04T11:36:49.287Z"
   },
   {
    "duration": 208,
    "start_time": "2023-02-04T11:36:59.585Z"
   },
   {
    "duration": 190,
    "start_time": "2023-02-04T11:37:30.939Z"
   },
   {
    "duration": 153,
    "start_time": "2023-02-04T11:43:55.349Z"
   },
   {
    "duration": 151,
    "start_time": "2023-02-04T11:44:01.174Z"
   },
   {
    "duration": 78,
    "start_time": "2023-02-04T11:44:31.953Z"
   },
   {
    "duration": 24,
    "start_time": "2023-02-04T11:52:16.239Z"
   },
   {
    "duration": 252,
    "start_time": "2023-02-04T11:54:55.773Z"
   },
   {
    "duration": 10,
    "start_time": "2023-02-04T11:55:45.053Z"
   },
   {
    "duration": 10,
    "start_time": "2023-02-04T11:56:03.267Z"
   },
   {
    "duration": 4,
    "start_time": "2023-02-04T11:56:13.317Z"
   },
   {
    "duration": 68,
    "start_time": "2023-02-04T11:57:23.410Z"
   },
   {
    "duration": 24,
    "start_time": "2023-02-04T11:57:33.922Z"
   },
   {
    "duration": 427,
    "start_time": "2023-02-04T11:57:47.278Z"
   },
   {
    "duration": 3,
    "start_time": "2023-02-04T11:58:18.157Z"
   },
   {
    "duration": 12,
    "start_time": "2023-02-04T11:58:20.377Z"
   },
   {
    "duration": 10,
    "start_time": "2023-02-04T11:58:31.822Z"
   },
   {
    "duration": 288,
    "start_time": "2023-02-04T11:59:52.413Z"
   },
   {
    "duration": 170,
    "start_time": "2023-02-04T12:00:53.711Z"
   },
   {
    "duration": 18,
    "start_time": "2023-02-04T12:01:03.192Z"
   },
   {
    "duration": 30,
    "start_time": "2023-02-04T12:01:10.587Z"
   },
   {
    "duration": 19,
    "start_time": "2023-02-04T12:01:35.997Z"
   },
   {
    "duration": 21,
    "start_time": "2023-02-04T12:01:50.895Z"
   },
   {
    "duration": 1517,
    "start_time": "2023-02-04T12:01:54.847Z"
   },
   {
    "duration": 36,
    "start_time": "2023-02-04T12:02:09.964Z"
   },
   {
    "duration": 27,
    "start_time": "2023-02-04T12:03:10.416Z"
   },
   {
    "duration": 1484,
    "start_time": "2023-02-04T12:03:15.316Z"
   },
   {
    "duration": 84,
    "start_time": "2023-02-04T12:07:07.921Z"
   },
   {
    "duration": 19,
    "start_time": "2023-02-04T12:07:21.874Z"
   },
   {
    "duration": 18,
    "start_time": "2023-02-04T12:07:31.889Z"
   },
   {
    "duration": 12,
    "start_time": "2023-02-04T12:07:40.152Z"
   },
   {
    "duration": 14,
    "start_time": "2023-02-04T12:07:54.253Z"
   },
   {
    "duration": 19,
    "start_time": "2023-02-04T12:08:40.022Z"
   },
   {
    "duration": 18,
    "start_time": "2023-02-04T12:08:55.482Z"
   },
   {
    "duration": 15,
    "start_time": "2023-02-04T12:10:05.806Z"
   },
   {
    "duration": 17,
    "start_time": "2023-02-04T12:10:15.803Z"
   },
   {
    "duration": 17,
    "start_time": "2023-02-04T12:10:21.267Z"
   },
   {
    "duration": 18,
    "start_time": "2023-02-04T12:18:12.285Z"
   },
   {
    "duration": 14,
    "start_time": "2023-02-04T12:19:50.941Z"
   },
   {
    "duration": 17,
    "start_time": "2023-02-04T12:19:57.721Z"
   },
   {
    "duration": 811,
    "start_time": "2023-02-04T12:23:46.875Z"
   },
   {
    "duration": 255,
    "start_time": "2023-02-04T12:23:56.463Z"
   },
   {
    "duration": 219,
    "start_time": "2023-02-04T12:24:11.947Z"
   },
   {
    "duration": 210,
    "start_time": "2023-02-04T12:24:16.497Z"
   },
   {
    "duration": 477,
    "start_time": "2023-02-04T12:24:25.875Z"
   },
   {
    "duration": 72,
    "start_time": "2023-02-04T12:29:08.342Z"
   },
   {
    "duration": 68,
    "start_time": "2023-02-04T12:29:12.693Z"
   },
   {
    "duration": 11,
    "start_time": "2023-02-04T12:29:34.797Z"
   },
   {
    "duration": 14,
    "start_time": "2023-02-04T12:29:40.682Z"
   },
   {
    "duration": 16,
    "start_time": "2023-02-04T12:29:58.526Z"
   },
   {
    "duration": 17,
    "start_time": "2023-02-04T12:31:23.311Z"
   },
   {
    "duration": 17,
    "start_time": "2023-02-04T12:31:31.336Z"
   },
   {
    "duration": 17,
    "start_time": "2023-02-04T12:33:05.181Z"
   },
   {
    "duration": 21,
    "start_time": "2023-02-04T12:34:57.242Z"
   },
   {
    "duration": 20,
    "start_time": "2023-02-04T12:35:20.899Z"
   },
   {
    "duration": 18,
    "start_time": "2023-02-04T12:35:28.215Z"
   },
   {
    "duration": 11,
    "start_time": "2023-02-04T12:36:39.183Z"
   },
   {
    "duration": 12,
    "start_time": "2023-02-04T12:36:42.448Z"
   },
   {
    "duration": 100,
    "start_time": "2023-02-04T12:37:38.132Z"
   },
   {
    "duration": 87,
    "start_time": "2023-02-04T12:37:43.261Z"
   },
   {
    "duration": 14,
    "start_time": "2023-02-04T12:37:52.708Z"
   },
   {
    "duration": 11,
    "start_time": "2023-02-04T12:37:55.776Z"
   },
   {
    "duration": 18,
    "start_time": "2023-02-04T12:38:09.764Z"
   },
   {
    "duration": 151,
    "start_time": "2023-02-04T12:38:24.690Z"
   },
   {
    "duration": 93,
    "start_time": "2023-02-04T12:39:00.246Z"
   },
   {
    "duration": 408,
    "start_time": "2023-02-04T12:39:03.001Z"
   },
   {
    "duration": 286,
    "start_time": "2023-02-04T12:39:14.125Z"
   },
   {
    "duration": 65,
    "start_time": "2023-02-04T12:39:24.705Z"
   },
   {
    "duration": 171,
    "start_time": "2023-02-04T12:39:28.201Z"
   },
   {
    "duration": 22,
    "start_time": "2023-02-04T12:39:42.849Z"
   },
   {
    "duration": 178,
    "start_time": "2023-02-04T12:39:44.470Z"
   },
   {
    "duration": 1224,
    "start_time": "2023-02-04T12:40:07.982Z"
   },
   {
    "duration": 174,
    "start_time": "2023-02-04T12:40:16.822Z"
   },
   {
    "duration": 20,
    "start_time": "2023-02-04T12:40:42.759Z"
   },
   {
    "duration": 169,
    "start_time": "2023-02-04T12:40:52.658Z"
   },
   {
    "duration": 9,
    "start_time": "2023-02-04T12:42:34.827Z"
   },
   {
    "duration": 2,
    "start_time": "2023-02-04T12:42:42.340Z"
   },
   {
    "duration": 9,
    "start_time": "2023-02-04T12:42:53.591Z"
   },
   {
    "duration": 9,
    "start_time": "2023-02-04T12:42:58.859Z"
   },
   {
    "duration": 16,
    "start_time": "2023-02-04T12:43:15.335Z"
   },
   {
    "duration": 13,
    "start_time": "2023-02-04T12:43:43.141Z"
   },
   {
    "duration": 7,
    "start_time": "2023-02-04T12:44:51.496Z"
   },
   {
    "duration": 8,
    "start_time": "2023-02-04T12:44:58.172Z"
   },
   {
    "duration": 3,
    "start_time": "2023-02-04T12:46:27.261Z"
   },
   {
    "duration": 7,
    "start_time": "2023-02-04T12:46:33.229Z"
   },
   {
    "duration": 402,
    "start_time": "2023-02-04T12:46:41.385Z"
   },
   {
    "duration": 7,
    "start_time": "2023-02-04T12:46:44.985Z"
   },
   {
    "duration": 8,
    "start_time": "2023-02-04T12:46:54.097Z"
   },
   {
    "duration": 200,
    "start_time": "2023-02-04T12:48:51.270Z"
   },
   {
    "duration": 179,
    "start_time": "2023-02-04T12:49:08.938Z"
   },
   {
    "duration": 185,
    "start_time": "2023-02-04T12:49:15.002Z"
   },
   {
    "duration": 7,
    "start_time": "2023-02-04T12:51:02.223Z"
   },
   {
    "duration": 11,
    "start_time": "2023-02-04T12:51:42.705Z"
   },
   {
    "duration": 10,
    "start_time": "2023-02-04T12:51:49.391Z"
   },
   {
    "duration": 10,
    "start_time": "2023-02-04T12:51:52.992Z"
   },
   {
    "duration": 4,
    "start_time": "2023-02-04T12:51:58.855Z"
   },
   {
    "duration": 5,
    "start_time": "2023-02-04T12:52:01.196Z"
   },
   {
    "duration": 10,
    "start_time": "2023-02-04T12:52:06.487Z"
   },
   {
    "duration": 1221,
    "start_time": "2023-02-04T12:52:16.186Z"
   },
   {
    "duration": 63,
    "start_time": "2023-02-04T12:52:17.409Z"
   },
   {
    "duration": 4,
    "start_time": "2023-02-04T12:52:17.474Z"
   },
   {
    "duration": 25,
    "start_time": "2023-02-04T12:52:17.481Z"
   },
   {
    "duration": 43,
    "start_time": "2023-02-04T12:52:17.508Z"
   },
   {
    "duration": 45,
    "start_time": "2023-02-04T12:52:17.553Z"
   },
   {
    "duration": 15,
    "start_time": "2023-02-04T12:52:17.600Z"
   },
   {
    "duration": 26,
    "start_time": "2023-02-04T12:52:17.617Z"
   },
   {
    "duration": 21,
    "start_time": "2023-02-04T12:52:17.646Z"
   },
   {
    "duration": 27,
    "start_time": "2023-02-04T12:52:17.671Z"
   },
   {
    "duration": 339,
    "start_time": "2023-02-04T12:52:17.700Z"
   },
   {
    "duration": 355,
    "start_time": "2023-02-04T12:52:18.041Z"
   },
   {
    "duration": 26,
    "start_time": "2023-02-04T12:52:18.397Z"
   },
   {
    "duration": 19,
    "start_time": "2023-02-04T12:52:18.425Z"
   },
   {
    "duration": 6,
    "start_time": "2023-02-04T12:52:18.446Z"
   },
   {
    "duration": 293,
    "start_time": "2023-02-04T12:52:18.454Z"
   },
   {
    "duration": 585,
    "start_time": "2023-02-04T12:52:18.749Z"
   },
   {
    "duration": 276,
    "start_time": "2023-02-04T12:52:19.339Z"
   },
   {
    "duration": 193,
    "start_time": "2023-02-04T12:52:19.618Z"
   },
   {
    "duration": 165,
    "start_time": "2023-02-04T12:52:19.813Z"
   },
   {
    "duration": 172,
    "start_time": "2023-02-04T12:52:19.980Z"
   },
   {
    "duration": 232,
    "start_time": "2023-02-04T12:52:20.153Z"
   },
   {
    "duration": 25,
    "start_time": "2023-02-04T12:52:20.388Z"
   },
   {
    "duration": 224,
    "start_time": "2023-02-04T12:52:20.415Z"
   },
   {
    "duration": 213,
    "start_time": "2023-02-04T12:52:20.641Z"
   },
   {
    "duration": 208,
    "start_time": "2023-02-04T12:52:20.856Z"
   },
   {
    "duration": 7,
    "start_time": "2023-02-04T12:52:21.066Z"
   },
   {
    "duration": 7,
    "start_time": "2023-02-04T12:52:26.827Z"
   },
   {
    "duration": 9,
    "start_time": "2023-02-04T12:53:04.952Z"
   },
   {
    "duration": 10,
    "start_time": "2023-02-04T12:53:09.088Z"
   },
   {
    "duration": 79,
    "start_time": "2023-02-04T12:53:41.160Z"
   },
   {
    "duration": 80,
    "start_time": "2023-02-04T12:53:56.288Z"
   },
   {
    "duration": 79,
    "start_time": "2023-02-04T12:54:06.880Z"
   },
   {
    "duration": 155,
    "start_time": "2023-02-04T12:54:12.433Z"
   },
   {
    "duration": 1240,
    "start_time": "2023-02-04T12:54:34.810Z"
   },
   {
    "duration": 63,
    "start_time": "2023-02-04T12:54:36.052Z"
   },
   {
    "duration": 4,
    "start_time": "2023-02-04T12:54:36.116Z"
   },
   {
    "duration": 29,
    "start_time": "2023-02-04T12:54:36.121Z"
   },
   {
    "duration": 41,
    "start_time": "2023-02-04T12:54:36.153Z"
   },
   {
    "duration": 28,
    "start_time": "2023-02-04T12:54:36.196Z"
   },
   {
    "duration": 28,
    "start_time": "2023-02-04T12:54:36.225Z"
   },
   {
    "duration": 46,
    "start_time": "2023-02-04T12:54:36.256Z"
   },
   {
    "duration": 7,
    "start_time": "2023-02-04T12:54:36.304Z"
   },
   {
    "duration": 55,
    "start_time": "2023-02-04T12:54:36.312Z"
   },
   {
    "duration": 327,
    "start_time": "2023-02-04T12:54:36.370Z"
   },
   {
    "duration": 300,
    "start_time": "2023-02-04T12:54:36.700Z"
   },
   {
    "duration": 26,
    "start_time": "2023-02-04T12:54:37.002Z"
   },
   {
    "duration": 25,
    "start_time": "2023-02-04T12:54:37.032Z"
   },
   {
    "duration": 5,
    "start_time": "2023-02-04T12:54:37.059Z"
   },
   {
    "duration": 228,
    "start_time": "2023-02-04T12:54:37.066Z"
   },
   {
    "duration": 562,
    "start_time": "2023-02-04T12:54:37.296Z"
   },
   {
    "duration": 248,
    "start_time": "2023-02-04T12:54:37.859Z"
   },
   {
    "duration": 180,
    "start_time": "2023-02-04T12:54:38.108Z"
   },
   {
    "duration": 164,
    "start_time": "2023-02-04T12:54:38.290Z"
   },
   {
    "duration": 164,
    "start_time": "2023-02-04T12:54:38.457Z"
   },
   {
    "duration": 212,
    "start_time": "2023-02-04T12:54:38.622Z"
   },
   {
    "duration": 16,
    "start_time": "2023-02-04T12:54:38.837Z"
   },
   {
    "duration": 189,
    "start_time": "2023-02-04T12:54:38.857Z"
   },
   {
    "duration": 191,
    "start_time": "2023-02-04T12:54:39.048Z"
   },
   {
    "duration": 190,
    "start_time": "2023-02-04T12:54:39.241Z"
   },
   {
    "duration": 111,
    "start_time": "2023-02-04T12:54:39.433Z"
   },
   {
    "duration": 8,
    "start_time": "2023-02-04T12:54:51.378Z"
   },
   {
    "duration": 5,
    "start_time": "2023-02-04T12:54:55.442Z"
   },
   {
    "duration": 8,
    "start_time": "2023-02-04T12:55:07.129Z"
   },
   {
    "duration": 5,
    "start_time": "2023-02-04T12:55:08.362Z"
   },
   {
    "duration": 9,
    "start_time": "2023-02-04T12:55:16.802Z"
   },
   {
    "duration": 9,
    "start_time": "2023-02-04T12:55:47.927Z"
   },
   {
    "duration": 105,
    "start_time": "2023-02-04T12:55:48.254Z"
   },
   {
    "duration": 10,
    "start_time": "2023-02-04T12:56:02.543Z"
   },
   {
    "duration": 135,
    "start_time": "2023-02-04T12:56:12.463Z"
   },
   {
    "duration": 8,
    "start_time": "2023-02-04T12:56:45.643Z"
   },
   {
    "duration": 108,
    "start_time": "2023-02-04T12:56:55.035Z"
   },
   {
    "duration": 8,
    "start_time": "2023-02-04T12:56:56.416Z"
   },
   {
    "duration": 1208,
    "start_time": "2023-02-04T12:57:15.540Z"
   },
   {
    "duration": 62,
    "start_time": "2023-02-04T12:57:16.750Z"
   },
   {
    "duration": 4,
    "start_time": "2023-02-04T12:57:16.814Z"
   },
   {
    "duration": 30,
    "start_time": "2023-02-04T12:57:16.820Z"
   },
   {
    "duration": 44,
    "start_time": "2023-02-04T12:57:16.853Z"
   },
   {
    "duration": 32,
    "start_time": "2023-02-04T12:57:16.899Z"
   },
   {
    "duration": 26,
    "start_time": "2023-02-04T12:57:16.933Z"
   },
   {
    "duration": 32,
    "start_time": "2023-02-04T12:57:16.961Z"
   },
   {
    "duration": 17,
    "start_time": "2023-02-04T12:57:16.995Z"
   },
   {
    "duration": 24,
    "start_time": "2023-02-04T12:57:17.013Z"
   },
   {
    "duration": 349,
    "start_time": "2023-02-04T12:57:17.039Z"
   },
   {
    "duration": 294,
    "start_time": "2023-02-04T12:57:17.390Z"
   },
   {
    "duration": 24,
    "start_time": "2023-02-04T12:57:17.686Z"
   },
   {
    "duration": 25,
    "start_time": "2023-02-04T12:57:17.713Z"
   },
   {
    "duration": 4,
    "start_time": "2023-02-04T12:57:17.740Z"
   },
   {
    "duration": 237,
    "start_time": "2023-02-04T12:57:17.746Z"
   },
   {
    "duration": 588,
    "start_time": "2023-02-04T12:57:17.985Z"
   },
   {
    "duration": 253,
    "start_time": "2023-02-04T12:57:18.575Z"
   },
   {
    "duration": 170,
    "start_time": "2023-02-04T12:57:18.830Z"
   },
   {
    "duration": 160,
    "start_time": "2023-02-04T12:57:19.002Z"
   },
   {
    "duration": 175,
    "start_time": "2023-02-04T12:57:19.164Z"
   },
   {
    "duration": 229,
    "start_time": "2023-02-04T12:57:19.344Z"
   },
   {
    "duration": 9,
    "start_time": "2023-02-04T12:57:19.575Z"
   },
   {
    "duration": 181,
    "start_time": "2023-02-04T12:57:19.585Z"
   },
   {
    "duration": 11,
    "start_time": "2023-02-04T12:57:19.768Z"
   },
   {
    "duration": 163,
    "start_time": "2023-02-04T12:57:19.781Z"
   },
   {
    "duration": 8,
    "start_time": "2023-02-04T12:57:19.946Z"
   },
   {
    "duration": 124,
    "start_time": "2023-02-04T12:57:19.956Z"
   },
   {
    "duration": 73,
    "start_time": "2023-02-04T12:58:27.852Z"
   },
   {
    "duration": 68,
    "start_time": "2023-02-04T12:58:56.580Z"
   },
   {
    "duration": 71,
    "start_time": "2023-02-04T12:58:59.188Z"
   },
   {
    "duration": 5,
    "start_time": "2023-02-04T12:59:53.568Z"
   },
   {
    "duration": 9,
    "start_time": "2023-02-04T12:59:58.461Z"
   },
   {
    "duration": 109,
    "start_time": "2023-02-04T13:00:19.020Z"
   },
   {
    "duration": 10,
    "start_time": "2023-02-04T13:00:22.976Z"
   },
   {
    "duration": 160,
    "start_time": "2023-02-04T13:00:51.152Z"
   },
   {
    "duration": 184,
    "start_time": "2023-02-04T13:00:59.757Z"
   },
   {
    "duration": 4,
    "start_time": "2023-02-04T13:01:19.225Z"
   },
   {
    "duration": 9,
    "start_time": "2023-02-04T13:01:19.525Z"
   },
   {
    "duration": 178,
    "start_time": "2023-02-04T13:01:19.856Z"
   },
   {
    "duration": 324,
    "start_time": "2023-02-04T13:02:44.348Z"
   },
   {
    "duration": 215,
    "start_time": "2023-02-04T13:02:52.851Z"
   },
   {
    "duration": 25,
    "start_time": "2023-02-04T13:03:53.639Z"
   },
   {
    "duration": 6,
    "start_time": "2023-02-04T13:03:57.566Z"
   },
   {
    "duration": 9,
    "start_time": "2023-02-04T13:04:09.070Z"
   },
   {
    "duration": 5,
    "start_time": "2023-02-04T13:04:13.590Z"
   },
   {
    "duration": 8,
    "start_time": "2023-02-04T13:04:46.815Z"
   },
   {
    "duration": 106,
    "start_time": "2023-02-04T13:04:47.074Z"
   },
   {
    "duration": 99,
    "start_time": "2023-02-04T13:05:01.479Z"
   },
   {
    "duration": 99,
    "start_time": "2023-02-04T13:05:18.903Z"
   },
   {
    "duration": 217,
    "start_time": "2023-02-04T13:06:05.423Z"
   },
   {
    "duration": 110,
    "start_time": "2023-02-04T13:06:35.743Z"
   },
   {
    "duration": 113,
    "start_time": "2023-02-04T13:06:57.756Z"
   },
   {
    "duration": 114,
    "start_time": "2023-02-04T13:07:08.642Z"
   },
   {
    "duration": 10,
    "start_time": "2023-02-04T13:07:44.897Z"
   },
   {
    "duration": 8,
    "start_time": "2023-02-04T13:07:56.432Z"
   },
   {
    "duration": 114,
    "start_time": "2023-02-04T13:07:56.584Z"
   },
   {
    "duration": 8,
    "start_time": "2023-02-04T13:08:30.584Z"
   },
   {
    "duration": 103,
    "start_time": "2023-02-04T13:08:30.808Z"
   },
   {
    "duration": 6,
    "start_time": "2023-02-04T13:09:07.545Z"
   },
   {
    "duration": 10,
    "start_time": "2023-02-04T13:09:13.624Z"
   },
   {
    "duration": 209,
    "start_time": "2023-02-04T13:09:39.265Z"
   },
   {
    "duration": 312,
    "start_time": "2023-02-04T13:09:48.597Z"
   },
   {
    "duration": 218,
    "start_time": "2023-02-04T13:09:54.297Z"
   },
   {
    "duration": 78,
    "start_time": "2023-02-04T13:19:17.789Z"
   },
   {
    "duration": 5,
    "start_time": "2023-02-04T13:27:19.360Z"
   },
   {
    "duration": 13,
    "start_time": "2023-02-04T13:27:25.008Z"
   },
   {
    "duration": 525,
    "start_time": "2023-02-04T13:32:57.192Z"
   },
   {
    "duration": 189,
    "start_time": "2023-02-04T13:33:13.643Z"
   },
   {
    "duration": 172,
    "start_time": "2023-02-04T13:33:30.919Z"
   },
   {
    "duration": 201,
    "start_time": "2023-02-04T13:33:37.591Z"
   },
   {
    "duration": 9,
    "start_time": "2023-02-04T13:50:20.042Z"
   },
   {
    "duration": 10,
    "start_time": "2023-02-04T13:50:54.510Z"
   },
   {
    "duration": 11,
    "start_time": "2023-02-04T13:51:00.730Z"
   },
   {
    "duration": 9,
    "start_time": "2023-02-04T13:51:57.443Z"
   },
   {
    "duration": 9,
    "start_time": "2023-02-04T13:51:58.691Z"
   },
   {
    "duration": 6,
    "start_time": "2023-02-04T13:56:33.228Z"
   },
   {
    "duration": 7,
    "start_time": "2023-02-04T13:56:49.200Z"
   },
   {
    "duration": 14,
    "start_time": "2023-02-04T13:58:47.962Z"
   },
   {
    "duration": 24,
    "start_time": "2023-02-04T13:59:08.006Z"
   },
   {
    "duration": 9,
    "start_time": "2023-02-04T13:59:21.602Z"
   },
   {
    "duration": 80,
    "start_time": "2023-02-04T14:03:12.003Z"
   },
   {
    "duration": 9,
    "start_time": "2023-02-04T14:03:15.633Z"
   },
   {
    "duration": 15,
    "start_time": "2023-02-04T14:03:23.591Z"
   },
   {
    "duration": 9,
    "start_time": "2023-02-04T14:03:29.455Z"
   },
   {
    "duration": 7,
    "start_time": "2023-02-04T14:03:35.134Z"
   },
   {
    "duration": 37,
    "start_time": "2023-02-04T14:05:40.657Z"
   },
   {
    "duration": 71,
    "start_time": "2023-02-04T14:05:58.892Z"
   },
   {
    "duration": 36,
    "start_time": "2023-02-04T14:06:09.113Z"
   },
   {
    "duration": 10,
    "start_time": "2023-02-04T14:06:15.349Z"
   },
   {
    "duration": 27,
    "start_time": "2023-02-04T14:06:21.904Z"
   },
   {
    "duration": 8,
    "start_time": "2023-02-04T14:07:39.630Z"
   },
   {
    "duration": 906,
    "start_time": "2023-02-04T14:08:00.263Z"
   },
   {
    "duration": 7,
    "start_time": "2023-02-04T14:08:39.074Z"
   },
   {
    "duration": 32,
    "start_time": "2023-02-04T14:11:17.374Z"
   },
   {
    "duration": 10,
    "start_time": "2023-02-04T14:11:26.745Z"
   },
   {
    "duration": 27,
    "start_time": "2023-02-04T14:12:24.182Z"
   },
   {
    "duration": 7,
    "start_time": "2023-02-04T14:12:31.666Z"
   },
   {
    "duration": 8,
    "start_time": "2023-02-04T14:12:34.336Z"
   },
   {
    "duration": 11,
    "start_time": "2023-02-04T14:12:49.995Z"
   },
   {
    "duration": 15,
    "start_time": "2023-02-04T14:13:33.646Z"
   },
   {
    "duration": 9,
    "start_time": "2023-02-04T14:15:01.835Z"
   },
   {
    "duration": 8,
    "start_time": "2023-02-04T14:15:09.107Z"
   },
   {
    "duration": 78,
    "start_time": "2023-02-04T14:16:47.940Z"
   },
   {
    "duration": 9,
    "start_time": "2023-02-04T14:20:21.826Z"
   },
   {
    "duration": 8,
    "start_time": "2023-02-04T14:20:40.185Z"
   },
   {
    "duration": 15,
    "start_time": "2023-02-04T14:20:43.641Z"
   },
   {
    "duration": 8,
    "start_time": "2023-02-04T14:21:00.777Z"
   },
   {
    "duration": 10,
    "start_time": "2023-02-04T14:34:43.265Z"
   },
   {
    "duration": 12,
    "start_time": "2023-02-04T14:35:09.662Z"
   },
   {
    "duration": 9,
    "start_time": "2023-02-04T14:35:15.841Z"
   },
   {
    "duration": 6,
    "start_time": "2023-02-04T14:35:40.698Z"
   },
   {
    "duration": 10,
    "start_time": "2023-02-04T14:36:16.678Z"
   },
   {
    "duration": 10,
    "start_time": "2023-02-04T14:36:20.973Z"
   },
   {
    "duration": 1223,
    "start_time": "2023-02-04T14:36:56.903Z"
   },
   {
    "duration": 6,
    "start_time": "2023-02-04T14:37:13.167Z"
   },
   {
    "duration": 1229,
    "start_time": "2023-02-04T14:37:40.741Z"
   },
   {
    "duration": 62,
    "start_time": "2023-02-04T14:37:41.973Z"
   },
   {
    "duration": 4,
    "start_time": "2023-02-04T14:37:42.037Z"
   },
   {
    "duration": 37,
    "start_time": "2023-02-04T14:37:42.042Z"
   },
   {
    "duration": 21,
    "start_time": "2023-02-04T14:37:42.081Z"
   },
   {
    "duration": 42,
    "start_time": "2023-02-04T14:37:42.104Z"
   },
   {
    "duration": 31,
    "start_time": "2023-02-04T14:37:42.148Z"
   },
   {
    "duration": 44,
    "start_time": "2023-02-04T14:37:42.181Z"
   },
   {
    "duration": 19,
    "start_time": "2023-02-04T14:37:42.227Z"
   },
   {
    "duration": 37,
    "start_time": "2023-02-04T14:37:42.248Z"
   },
   {
    "duration": 393,
    "start_time": "2023-02-04T14:37:42.288Z"
   },
   {
    "duration": 309,
    "start_time": "2023-02-04T14:37:42.683Z"
   },
   {
    "duration": 27,
    "start_time": "2023-02-04T14:37:42.994Z"
   },
   {
    "duration": 32,
    "start_time": "2023-02-04T14:37:43.025Z"
   },
   {
    "duration": 12,
    "start_time": "2023-02-04T14:37:43.059Z"
   },
   {
    "duration": 251,
    "start_time": "2023-02-04T14:37:43.073Z"
   },
   {
    "duration": 566,
    "start_time": "2023-02-04T14:37:43.327Z"
   },
   {
    "duration": 264,
    "start_time": "2023-02-04T14:37:43.895Z"
   },
   {
    "duration": 170,
    "start_time": "2023-02-04T14:37:44.161Z"
   },
   {
    "duration": 161,
    "start_time": "2023-02-04T14:37:44.337Z"
   },
   {
    "duration": 170,
    "start_time": "2023-02-04T14:37:44.500Z"
   },
   {
    "duration": 224,
    "start_time": "2023-02-04T14:37:44.671Z"
   },
   {
    "duration": 8,
    "start_time": "2023-02-04T14:37:44.897Z"
   },
   {
    "duration": 124,
    "start_time": "2023-02-04T14:37:44.907Z"
   },
   {
    "duration": 8,
    "start_time": "2023-02-04T14:37:45.037Z"
   },
   {
    "duration": 134,
    "start_time": "2023-02-04T14:37:45.047Z"
   },
   {
    "duration": 8,
    "start_time": "2023-02-04T14:37:45.183Z"
   },
   {
    "duration": 124,
    "start_time": "2023-02-04T14:37:45.193Z"
   },
   {
    "duration": 5,
    "start_time": "2023-02-04T14:37:45.319Z"
   },
   {
    "duration": 9,
    "start_time": "2023-02-04T14:37:45.338Z"
   },
   {
    "duration": 247,
    "start_time": "2023-02-04T14:37:45.349Z"
   },
   {
    "duration": 9,
    "start_time": "2023-02-04T14:37:45.597Z"
   },
   {
    "duration": 133,
    "start_time": "2023-02-04T14:37:45.608Z"
   },
   {
    "duration": 8,
    "start_time": "2023-02-04T14:37:45.743Z"
   },
   {
    "duration": 130,
    "start_time": "2023-02-04T14:37:45.752Z"
   },
   {
    "duration": 9,
    "start_time": "2023-02-04T14:37:45.884Z"
   },
   {
    "duration": 135,
    "start_time": "2023-02-04T14:37:45.894Z"
   },
   {
    "duration": 6,
    "start_time": "2023-02-04T14:37:46.038Z"
   },
   {
    "duration": 20,
    "start_time": "2023-02-04T14:37:46.046Z"
   },
   {
    "duration": 325,
    "start_time": "2023-02-04T14:37:46.068Z"
   },
   {
    "duration": 7,
    "start_time": "2023-02-04T14:37:46.399Z"
   },
   {
    "duration": 208,
    "start_time": "2023-02-04T14:37:46.408Z"
   },
   {
    "duration": 199,
    "start_time": "2023-02-04T14:37:46.617Z"
   },
   {
    "duration": 184,
    "start_time": "2023-02-04T14:37:46.818Z"
   },
   {
    "duration": 9,
    "start_time": "2023-02-04T14:37:47.004Z"
   },
   {
    "duration": 24,
    "start_time": "2023-02-04T14:37:47.015Z"
   },
   {
    "duration": 13,
    "start_time": "2023-02-04T14:37:47.041Z"
   },
   {
    "duration": 24,
    "start_time": "2023-02-04T14:37:47.056Z"
   },
   {
    "duration": 16,
    "start_time": "2023-02-04T14:37:47.082Z"
   },
   {
    "duration": 15,
    "start_time": "2023-02-04T14:37:47.100Z"
   },
   {
    "duration": 204,
    "start_time": "2023-02-04T14:55:48.333Z"
   },
   {
    "duration": 195,
    "start_time": "2023-02-04T14:55:56.091Z"
   },
   {
    "duration": 234,
    "start_time": "2023-02-04T14:57:24.662Z"
   },
   {
    "duration": 218,
    "start_time": "2023-02-04T14:59:24.809Z"
   },
   {
    "duration": 239,
    "start_time": "2023-02-04T14:59:33.078Z"
   },
   {
    "duration": 1132,
    "start_time": "2023-02-04T16:01:53.555Z"
   },
   {
    "duration": 55,
    "start_time": "2023-02-04T16:01:54.689Z"
   },
   {
    "duration": 3,
    "start_time": "2023-02-04T16:01:54.746Z"
   },
   {
    "duration": 27,
    "start_time": "2023-02-04T16:01:54.751Z"
   },
   {
    "duration": 18,
    "start_time": "2023-02-04T16:01:54.780Z"
   },
   {
    "duration": 15,
    "start_time": "2023-02-04T16:01:54.800Z"
   },
   {
    "duration": 13,
    "start_time": "2023-02-04T16:01:54.816Z"
   },
   {
    "duration": 20,
    "start_time": "2023-02-04T16:01:54.831Z"
   },
   {
    "duration": 5,
    "start_time": "2023-02-04T16:01:54.853Z"
   },
   {
    "duration": 35,
    "start_time": "2023-02-04T16:01:54.860Z"
   },
   {
    "duration": 315,
    "start_time": "2023-02-04T16:01:54.897Z"
   },
   {
    "duration": 258,
    "start_time": "2023-02-04T16:01:55.213Z"
   },
   {
    "duration": 37,
    "start_time": "2023-02-04T16:01:55.472Z"
   },
   {
    "duration": 16,
    "start_time": "2023-02-04T16:01:55.510Z"
   },
   {
    "duration": 4,
    "start_time": "2023-02-04T16:01:55.527Z"
   },
   {
    "duration": 215,
    "start_time": "2023-02-04T16:01:55.533Z"
   },
   {
    "duration": 468,
    "start_time": "2023-02-04T16:01:55.749Z"
   },
   {
    "duration": 226,
    "start_time": "2023-02-04T16:01:56.219Z"
   },
   {
    "duration": 142,
    "start_time": "2023-02-04T16:01:56.447Z"
   },
   {
    "duration": 136,
    "start_time": "2023-02-04T16:01:56.593Z"
   },
   {
    "duration": 167,
    "start_time": "2023-02-04T16:01:56.730Z"
   },
   {
    "duration": 185,
    "start_time": "2023-02-04T16:01:56.898Z"
   },
   {
    "duration": 14,
    "start_time": "2023-02-04T16:01:57.085Z"
   },
   {
    "duration": 114,
    "start_time": "2023-02-04T16:01:57.100Z"
   },
   {
    "duration": 7,
    "start_time": "2023-02-04T16:01:57.216Z"
   },
   {
    "duration": 106,
    "start_time": "2023-02-04T16:01:57.224Z"
   },
   {
    "duration": 8,
    "start_time": "2023-02-04T16:01:57.331Z"
   },
   {
    "duration": 110,
    "start_time": "2023-02-04T16:01:57.343Z"
   },
   {
    "duration": 5,
    "start_time": "2023-02-04T16:01:57.455Z"
   },
   {
    "duration": 10,
    "start_time": "2023-02-04T16:01:57.461Z"
   },
   {
    "duration": 220,
    "start_time": "2023-02-04T16:01:57.473Z"
   },
   {
    "duration": 7,
    "start_time": "2023-02-04T16:01:57.695Z"
   },
   {
    "duration": 110,
    "start_time": "2023-02-04T16:01:57.703Z"
   },
   {
    "duration": 7,
    "start_time": "2023-02-04T16:01:57.814Z"
   },
   {
    "duration": 110,
    "start_time": "2023-02-04T16:01:57.822Z"
   },
   {
    "duration": 7,
    "start_time": "2023-02-04T16:01:57.934Z"
   },
   {
    "duration": 193,
    "start_time": "2023-02-04T16:01:57.942Z"
   },
   {
    "duration": 4,
    "start_time": "2023-02-04T16:01:58.137Z"
   },
   {
    "duration": 14,
    "start_time": "2023-02-04T16:01:58.142Z"
   },
   {
    "duration": 201,
    "start_time": "2023-02-04T16:01:58.157Z"
   },
   {
    "duration": 6,
    "start_time": "2023-02-04T16:01:58.360Z"
   },
   {
    "duration": 176,
    "start_time": "2023-02-04T16:01:58.368Z"
   },
   {
    "duration": 178,
    "start_time": "2023-02-04T16:01:58.546Z"
   },
   {
    "duration": 172,
    "start_time": "2023-02-04T16:01:58.726Z"
   },
   {
    "duration": 10,
    "start_time": "2023-02-04T16:01:58.900Z"
   },
   {
    "duration": 12,
    "start_time": "2023-02-04T16:01:58.912Z"
   },
   {
    "duration": 8,
    "start_time": "2023-02-04T16:01:58.926Z"
   },
   {
    "duration": 9,
    "start_time": "2023-02-04T16:01:58.936Z"
   },
   {
    "duration": 8,
    "start_time": "2023-02-04T16:01:58.947Z"
   },
   {
    "duration": 8,
    "start_time": "2023-02-04T16:01:58.956Z"
   },
   {
    "duration": 44,
    "start_time": "2023-02-04T16:35:37.744Z"
   },
   {
    "duration": 1327,
    "start_time": "2023-02-04T16:35:43.986Z"
   },
   {
    "duration": 191,
    "start_time": "2023-02-04T16:35:45.315Z"
   },
   {
    "duration": 3,
    "start_time": "2023-02-04T16:35:45.508Z"
   },
   {
    "duration": 80,
    "start_time": "2023-02-04T16:35:45.513Z"
   },
   {
    "duration": 18,
    "start_time": "2023-02-04T16:35:45.594Z"
   },
   {
    "duration": 108,
    "start_time": "2023-02-04T16:35:45.614Z"
   },
   {
    "duration": 0,
    "start_time": "2023-02-04T16:35:45.725Z"
   },
   {
    "duration": 0,
    "start_time": "2023-02-04T16:35:45.727Z"
   },
   {
    "duration": 0,
    "start_time": "2023-02-04T16:35:45.728Z"
   },
   {
    "duration": 0,
    "start_time": "2023-02-04T16:35:45.729Z"
   },
   {
    "duration": 0,
    "start_time": "2023-02-04T16:35:45.730Z"
   },
   {
    "duration": 0,
    "start_time": "2023-02-04T16:35:45.731Z"
   },
   {
    "duration": 0,
    "start_time": "2023-02-04T16:35:45.732Z"
   },
   {
    "duration": 0,
    "start_time": "2023-02-04T16:35:45.733Z"
   },
   {
    "duration": 0,
    "start_time": "2023-02-04T16:35:45.734Z"
   },
   {
    "duration": 0,
    "start_time": "2023-02-04T16:35:45.735Z"
   },
   {
    "duration": 0,
    "start_time": "2023-02-04T16:35:45.736Z"
   },
   {
    "duration": 0,
    "start_time": "2023-02-04T16:35:45.737Z"
   },
   {
    "duration": 0,
    "start_time": "2023-02-04T16:35:45.738Z"
   },
   {
    "duration": 0,
    "start_time": "2023-02-04T16:35:45.739Z"
   },
   {
    "duration": 0,
    "start_time": "2023-02-04T16:35:45.741Z"
   },
   {
    "duration": 0,
    "start_time": "2023-02-04T16:35:45.741Z"
   },
   {
    "duration": 0,
    "start_time": "2023-02-04T16:35:45.742Z"
   },
   {
    "duration": 0,
    "start_time": "2023-02-04T16:35:45.743Z"
   },
   {
    "duration": 0,
    "start_time": "2023-02-04T16:35:45.744Z"
   },
   {
    "duration": 0,
    "start_time": "2023-02-04T16:35:45.745Z"
   },
   {
    "duration": 0,
    "start_time": "2023-02-04T16:35:45.746Z"
   },
   {
    "duration": 0,
    "start_time": "2023-02-04T16:35:45.747Z"
   },
   {
    "duration": 0,
    "start_time": "2023-02-04T16:35:45.748Z"
   },
   {
    "duration": 0,
    "start_time": "2023-02-04T16:35:45.749Z"
   },
   {
    "duration": 0,
    "start_time": "2023-02-04T16:35:45.792Z"
   },
   {
    "duration": 0,
    "start_time": "2023-02-04T16:35:45.793Z"
   },
   {
    "duration": 0,
    "start_time": "2023-02-04T16:35:45.794Z"
   },
   {
    "duration": 0,
    "start_time": "2023-02-04T16:35:45.795Z"
   },
   {
    "duration": 0,
    "start_time": "2023-02-04T16:35:45.796Z"
   },
   {
    "duration": 0,
    "start_time": "2023-02-04T16:35:45.797Z"
   },
   {
    "duration": 0,
    "start_time": "2023-02-04T16:35:45.798Z"
   },
   {
    "duration": 0,
    "start_time": "2023-02-04T16:35:45.799Z"
   },
   {
    "duration": 0,
    "start_time": "2023-02-04T16:35:45.800Z"
   },
   {
    "duration": 0,
    "start_time": "2023-02-04T16:35:45.801Z"
   },
   {
    "duration": 0,
    "start_time": "2023-02-04T16:35:45.802Z"
   },
   {
    "duration": 0,
    "start_time": "2023-02-04T16:35:45.803Z"
   },
   {
    "duration": 0,
    "start_time": "2023-02-04T16:35:45.804Z"
   },
   {
    "duration": 0,
    "start_time": "2023-02-04T16:35:45.805Z"
   },
   {
    "duration": 0,
    "start_time": "2023-02-04T16:35:45.806Z"
   },
   {
    "duration": 0,
    "start_time": "2023-02-04T16:35:45.807Z"
   },
   {
    "duration": 0,
    "start_time": "2023-02-04T16:35:45.808Z"
   },
   {
    "duration": 0,
    "start_time": "2023-02-04T16:35:45.809Z"
   },
   {
    "duration": 0,
    "start_time": "2023-02-04T16:35:45.810Z"
   },
   {
    "duration": 0,
    "start_time": "2023-02-04T16:35:45.811Z"
   },
   {
    "duration": 16,
    "start_time": "2023-02-04T16:35:54.689Z"
   },
   {
    "duration": 14,
    "start_time": "2023-02-04T16:36:07.022Z"
   },
   {
    "duration": 69,
    "start_time": "2023-02-04T16:36:12.322Z"
   },
   {
    "duration": 17,
    "start_time": "2023-02-04T16:36:15.976Z"
   },
   {
    "duration": 15,
    "start_time": "2023-02-04T16:36:20.318Z"
   },
   {
    "duration": 14,
    "start_time": "2023-02-04T16:36:42.822Z"
   },
   {
    "duration": 87,
    "start_time": "2023-02-04T16:37:32.568Z"
   },
   {
    "duration": 25,
    "start_time": "2023-02-04T16:37:55.010Z"
   },
   {
    "duration": 68,
    "start_time": "2023-02-04T16:38:11.018Z"
   },
   {
    "duration": 1116,
    "start_time": "2023-02-04T16:38:28.870Z"
   },
   {
    "duration": 57,
    "start_time": "2023-02-04T16:38:29.988Z"
   },
   {
    "duration": 3,
    "start_time": "2023-02-04T16:38:30.047Z"
   },
   {
    "duration": 26,
    "start_time": "2023-02-04T16:38:30.052Z"
   },
   {
    "duration": 47,
    "start_time": "2023-02-04T16:38:30.079Z"
   },
   {
    "duration": 25,
    "start_time": "2023-02-04T16:38:30.127Z"
   },
   {
    "duration": 44,
    "start_time": "2023-02-04T16:38:30.154Z"
   },
   {
    "duration": 37,
    "start_time": "2023-02-04T16:38:30.200Z"
   },
   {
    "duration": 105,
    "start_time": "2023-02-04T16:38:30.238Z"
   },
   {
    "duration": 41,
    "start_time": "2023-02-04T16:38:30.346Z"
   },
   {
    "duration": 311,
    "start_time": "2023-02-04T16:38:30.389Z"
   },
   {
    "duration": 268,
    "start_time": "2023-02-04T16:38:30.701Z"
   },
   {
    "duration": 21,
    "start_time": "2023-02-04T16:38:30.971Z"
   },
   {
    "duration": 27,
    "start_time": "2023-02-04T16:38:30.994Z"
   },
   {
    "duration": 3,
    "start_time": "2023-02-04T16:38:31.023Z"
   },
   {
    "duration": 233,
    "start_time": "2023-02-04T16:38:31.028Z"
   },
   {
    "duration": 486,
    "start_time": "2023-02-04T16:38:31.263Z"
   },
   {
    "duration": 222,
    "start_time": "2023-02-04T16:38:31.751Z"
   },
   {
    "duration": 144,
    "start_time": "2023-02-04T16:38:31.975Z"
   },
   {
    "duration": 140,
    "start_time": "2023-02-04T16:38:32.121Z"
   },
   {
    "duration": 153,
    "start_time": "2023-02-04T16:38:32.262Z"
   },
   {
    "duration": 190,
    "start_time": "2023-02-04T16:38:32.416Z"
   },
   {
    "duration": 7,
    "start_time": "2023-02-04T16:38:32.607Z"
   },
   {
    "duration": 109,
    "start_time": "2023-02-04T16:38:32.616Z"
   },
   {
    "duration": 7,
    "start_time": "2023-02-04T16:38:32.727Z"
   },
   {
    "duration": 113,
    "start_time": "2023-02-04T16:38:32.736Z"
   },
   {
    "duration": 6,
    "start_time": "2023-02-04T16:38:32.851Z"
   },
   {
    "duration": 105,
    "start_time": "2023-02-04T16:38:32.860Z"
   },
   {
    "duration": 5,
    "start_time": "2023-02-04T16:38:32.966Z"
   },
   {
    "duration": 20,
    "start_time": "2023-02-04T16:38:32.972Z"
   },
   {
    "duration": 200,
    "start_time": "2023-02-04T16:38:32.994Z"
   },
   {
    "duration": 7,
    "start_time": "2023-02-04T16:38:33.195Z"
   },
   {
    "duration": 114,
    "start_time": "2023-02-04T16:38:33.204Z"
   },
   {
    "duration": 7,
    "start_time": "2023-02-04T16:38:33.320Z"
   },
   {
    "duration": 108,
    "start_time": "2023-02-04T16:38:33.328Z"
   },
   {
    "duration": 7,
    "start_time": "2023-02-04T16:38:33.437Z"
   },
   {
    "duration": 180,
    "start_time": "2023-02-04T16:38:33.446Z"
   },
   {
    "duration": 5,
    "start_time": "2023-02-04T16:38:33.627Z"
   },
   {
    "duration": 10,
    "start_time": "2023-02-04T16:38:33.633Z"
   },
   {
    "duration": 197,
    "start_time": "2023-02-04T16:38:33.645Z"
   },
   {
    "duration": 4,
    "start_time": "2023-02-04T16:38:33.844Z"
   },
   {
    "duration": 165,
    "start_time": "2023-02-04T16:38:33.849Z"
   },
   {
    "duration": 162,
    "start_time": "2023-02-04T16:38:34.015Z"
   },
   {
    "duration": 162,
    "start_time": "2023-02-04T16:38:34.178Z"
   },
   {
    "duration": 8,
    "start_time": "2023-02-04T16:38:34.342Z"
   },
   {
    "duration": 9,
    "start_time": "2023-02-04T16:38:34.352Z"
   },
   {
    "duration": 6,
    "start_time": "2023-02-04T16:38:34.363Z"
   },
   {
    "duration": 28,
    "start_time": "2023-02-04T16:38:34.371Z"
   },
   {
    "duration": 7,
    "start_time": "2023-02-04T16:38:34.401Z"
   },
   {
    "duration": 9,
    "start_time": "2023-02-04T16:38:34.410Z"
   },
   {
    "duration": 18,
    "start_time": "2023-02-04T16:38:50.834Z"
   },
   {
    "duration": 28,
    "start_time": "2023-02-04T16:39:16.041Z"
   },
   {
    "duration": 68,
    "start_time": "2023-02-04T16:39:48.357Z"
   },
   {
    "duration": 20,
    "start_time": "2023-02-04T16:40:07.269Z"
   },
   {
    "duration": 15,
    "start_time": "2023-02-04T16:40:16.656Z"
   },
   {
    "duration": 69,
    "start_time": "2023-02-04T16:42:03.258Z"
   },
   {
    "duration": 12,
    "start_time": "2023-02-04T16:42:07.833Z"
   },
   {
    "duration": 14,
    "start_time": "2023-02-04T16:42:24.954Z"
   },
   {
    "duration": 15,
    "start_time": "2023-02-04T16:42:37.270Z"
   },
   {
    "duration": 15,
    "start_time": "2023-02-04T16:43:39.166Z"
   },
   {
    "duration": 154,
    "start_time": "2023-02-04T16:44:04.506Z"
   },
   {
    "duration": 149,
    "start_time": "2023-02-04T16:44:10.518Z"
   },
   {
    "duration": 151,
    "start_time": "2023-02-04T16:44:25.827Z"
   },
   {
    "duration": 15,
    "start_time": "2023-02-04T16:44:33.482Z"
   },
   {
    "duration": 184,
    "start_time": "2023-02-04T16:45:14.909Z"
   },
   {
    "duration": 179,
    "start_time": "2023-02-04T16:46:42.737Z"
   },
   {
    "duration": 166,
    "start_time": "2023-02-04T16:46:49.483Z"
   },
   {
    "duration": 3,
    "start_time": "2023-02-04T16:49:40.777Z"
   },
   {
    "duration": 165,
    "start_time": "2023-02-04T16:49:59.038Z"
   },
   {
    "duration": 251,
    "start_time": "2023-02-04T16:50:34.733Z"
   },
   {
    "duration": 9,
    "start_time": "2023-02-04T16:50:42.648Z"
   },
   {
    "duration": 3,
    "start_time": "2023-02-04T16:51:14.966Z"
   },
   {
    "duration": 8,
    "start_time": "2023-02-04T16:51:17.558Z"
   },
   {
    "duration": 7,
    "start_time": "2023-02-04T16:51:20.421Z"
   },
   {
    "duration": 7,
    "start_time": "2023-02-04T16:51:24.773Z"
   },
   {
    "duration": 1179,
    "start_time": "2023-02-04T16:51:32.468Z"
   },
   {
    "duration": 8,
    "start_time": "2023-02-04T16:51:34.884Z"
   },
   {
    "duration": 7,
    "start_time": "2023-02-04T16:51:38.013Z"
   },
   {
    "duration": 3,
    "start_time": "2023-02-04T16:51:46.617Z"
   },
   {
    "duration": 7,
    "start_time": "2023-02-04T16:51:49.509Z"
   },
   {
    "duration": 3,
    "start_time": "2023-02-04T16:52:05.873Z"
   },
   {
    "duration": 7,
    "start_time": "2023-02-04T16:52:09.241Z"
   },
   {
    "duration": 154,
    "start_time": "2023-02-04T16:52:12.559Z"
   },
   {
    "duration": 7,
    "start_time": "2023-02-04T16:52:14.577Z"
   },
   {
    "duration": 169,
    "start_time": "2023-02-04T16:52:53.461Z"
   },
   {
    "duration": 152,
    "start_time": "2023-02-04T16:53:26.233Z"
   },
   {
    "duration": 6,
    "start_time": "2023-02-04T16:53:38.761Z"
   },
   {
    "duration": 88,
    "start_time": "2023-02-04T16:53:44.061Z"
   },
   {
    "duration": 174,
    "start_time": "2023-02-04T16:53:58.081Z"
   },
   {
    "duration": 7,
    "start_time": "2023-02-04T16:54:14.175Z"
   },
   {
    "duration": 199,
    "start_time": "2023-02-04T16:54:36.056Z"
   },
   {
    "duration": 8,
    "start_time": "2023-02-04T16:54:38.165Z"
   },
   {
    "duration": 159,
    "start_time": "2023-02-04T16:54:52.758Z"
   },
   {
    "duration": 169,
    "start_time": "2023-02-04T16:54:58.556Z"
   },
   {
    "duration": 7,
    "start_time": "2023-02-04T16:55:08.161Z"
   },
   {
    "duration": 93,
    "start_time": "2023-02-04T16:55:29.521Z"
   },
   {
    "duration": 22,
    "start_time": "2023-02-04T16:55:45.633Z"
   },
   {
    "duration": 90,
    "start_time": "2023-02-04T16:56:14.532Z"
   },
   {
    "duration": 115,
    "start_time": "2023-02-04T16:56:21.521Z"
   },
   {
    "duration": 2,
    "start_time": "2023-02-04T16:56:44.302Z"
   },
   {
    "duration": 3,
    "start_time": "2023-02-04T16:56:47.337Z"
   },
   {
    "duration": 325,
    "start_time": "2023-02-04T16:57:05.858Z"
   },
   {
    "duration": 192,
    "start_time": "2023-02-04T16:57:34.979Z"
   },
   {
    "duration": 177,
    "start_time": "2023-02-04T16:57:48.566Z"
   },
   {
    "duration": 117,
    "start_time": "2023-02-04T16:59:28.509Z"
   },
   {
    "duration": 176,
    "start_time": "2023-02-04T16:59:40.409Z"
   },
   {
    "duration": 200,
    "start_time": "2023-02-04T17:00:00.750Z"
   },
   {
    "duration": 197,
    "start_time": "2023-02-04T17:00:07.561Z"
   },
   {
    "duration": 118,
    "start_time": "2023-02-04T17:00:15.310Z"
   },
   {
    "duration": 183,
    "start_time": "2023-02-04T17:00:18.079Z"
   },
   {
    "duration": 192,
    "start_time": "2023-02-04T17:00:22.041Z"
   },
   {
    "duration": 152,
    "start_time": "2023-02-04T17:00:59.029Z"
   },
   {
    "duration": 179,
    "start_time": "2023-02-04T17:01:05.009Z"
   },
   {
    "duration": 180,
    "start_time": "2023-02-04T17:01:07.737Z"
   },
   {
    "duration": 7,
    "start_time": "2023-02-04T17:01:29.125Z"
   },
   {
    "duration": 290,
    "start_time": "2023-02-04T17:01:45.832Z"
   },
   {
    "duration": 7,
    "start_time": "2023-02-04T17:01:51.113Z"
   },
   {
    "duration": 13,
    "start_time": "2023-02-04T17:02:32.932Z"
   },
   {
    "duration": 7,
    "start_time": "2023-02-04T17:02:36.545Z"
   },
   {
    "duration": 1145,
    "start_time": "2023-02-04T17:05:59.815Z"
   },
   {
    "duration": 61,
    "start_time": "2023-02-04T17:06:00.962Z"
   },
   {
    "duration": 3,
    "start_time": "2023-02-04T17:06:01.024Z"
   },
   {
    "duration": 33,
    "start_time": "2023-02-04T17:06:01.029Z"
   },
   {
    "duration": 38,
    "start_time": "2023-02-04T17:06:01.064Z"
   },
   {
    "duration": 31,
    "start_time": "2023-02-04T17:06:01.104Z"
   },
   {
    "duration": 16,
    "start_time": "2023-02-04T17:06:01.136Z"
   },
   {
    "duration": 25,
    "start_time": "2023-02-04T17:06:01.154Z"
   },
   {
    "duration": 6,
    "start_time": "2023-02-04T17:06:01.181Z"
   },
   {
    "duration": 44,
    "start_time": "2023-02-04T17:06:01.192Z"
   },
   {
    "duration": 327,
    "start_time": "2023-02-04T17:06:01.238Z"
   },
   {
    "duration": 282,
    "start_time": "2023-02-04T17:06:01.567Z"
   },
   {
    "duration": 21,
    "start_time": "2023-02-04T17:06:01.851Z"
   },
   {
    "duration": 2,
    "start_time": "2023-02-04T17:06:01.875Z"
   },
   {
    "duration": 149,
    "start_time": "2023-02-04T17:06:01.879Z"
   },
   {
    "duration": 8,
    "start_time": "2023-02-04T17:06:02.030Z"
   },
   {
    "duration": 211,
    "start_time": "2023-02-04T17:06:02.040Z"
   },
   {
    "duration": 2,
    "start_time": "2023-02-04T17:06:02.253Z"
   },
   {
    "duration": 600,
    "start_time": "2023-02-04T17:06:02.257Z"
   },
   {
    "duration": 169,
    "start_time": "2023-02-04T17:06:02.858Z"
   },
   {
    "duration": 169,
    "start_time": "2023-02-04T17:06:03.029Z"
   },
   {
    "duration": 162,
    "start_time": "2023-02-04T17:06:03.200Z"
   },
   {
    "duration": 195,
    "start_time": "2023-02-04T17:06:03.363Z"
   },
   {
    "duration": 259,
    "start_time": "2023-02-04T17:06:03.560Z"
   },
   {
    "duration": 8,
    "start_time": "2023-02-04T17:06:03.820Z"
   },
   {
    "duration": 116,
    "start_time": "2023-02-04T17:06:03.830Z"
   },
   {
    "duration": 8,
    "start_time": "2023-02-04T17:06:03.947Z"
   },
   {
    "duration": 116,
    "start_time": "2023-02-04T17:06:03.957Z"
   },
   {
    "duration": 20,
    "start_time": "2023-02-04T17:06:04.074Z"
   },
   {
    "duration": 114,
    "start_time": "2023-02-04T17:06:04.095Z"
   },
   {
    "duration": 5,
    "start_time": "2023-02-04T17:06:04.211Z"
   },
   {
    "duration": 15,
    "start_time": "2023-02-04T17:06:04.217Z"
   },
   {
    "duration": 221,
    "start_time": "2023-02-04T17:06:04.233Z"
   },
   {
    "duration": 8,
    "start_time": "2023-02-04T17:06:04.455Z"
   },
   {
    "duration": 113,
    "start_time": "2023-02-04T17:06:04.464Z"
   },
   {
    "duration": 16,
    "start_time": "2023-02-04T17:06:04.579Z"
   },
   {
    "duration": 119,
    "start_time": "2023-02-04T17:06:04.597Z"
   },
   {
    "duration": 9,
    "start_time": "2023-02-04T17:06:04.718Z"
   },
   {
    "duration": 116,
    "start_time": "2023-02-04T17:06:04.729Z"
   },
   {
    "duration": 6,
    "start_time": "2023-02-04T17:06:04.847Z"
   },
   {
    "duration": 9,
    "start_time": "2023-02-04T17:06:04.857Z"
   },
   {
    "duration": 216,
    "start_time": "2023-02-04T17:06:04.868Z"
   },
   {
    "duration": 8,
    "start_time": "2023-02-04T17:06:05.086Z"
   },
   {
    "duration": 260,
    "start_time": "2023-02-04T17:06:05.096Z"
   },
   {
    "duration": 171,
    "start_time": "2023-02-04T17:06:05.358Z"
   },
   {
    "duration": 163,
    "start_time": "2023-02-04T17:06:05.530Z"
   },
   {
    "duration": 9,
    "start_time": "2023-02-04T17:06:05.694Z"
   },
   {
    "duration": 9,
    "start_time": "2023-02-04T17:06:05.705Z"
   },
   {
    "duration": 5,
    "start_time": "2023-02-04T17:06:05.716Z"
   },
   {
    "duration": 21,
    "start_time": "2023-02-04T17:06:05.723Z"
   },
   {
    "duration": 21,
    "start_time": "2023-02-04T17:06:05.746Z"
   },
   {
    "duration": 5,
    "start_time": "2023-02-04T17:06:05.769Z"
   },
   {
    "duration": 67,
    "start_time": "2023-02-04T17:08:51.794Z"
   },
   {
    "duration": 121,
    "start_time": "2023-02-04T17:09:40.664Z"
   },
   {
    "duration": 152,
    "start_time": "2023-02-04T17:09:53.184Z"
   },
   {
    "duration": 131,
    "start_time": "2023-02-04T17:11:26.871Z"
   },
   {
    "duration": 388,
    "start_time": "2023-02-04T17:13:54.821Z"
   },
   {
    "duration": 311,
    "start_time": "2023-02-04T17:14:03.517Z"
   },
   {
    "duration": 17,
    "start_time": "2023-02-04T17:14:14.751Z"
   },
   {
    "duration": 168,
    "start_time": "2023-02-04T17:14:18.425Z"
   },
   {
    "duration": 4,
    "start_time": "2023-02-04T17:17:46.833Z"
   },
   {
    "duration": 149,
    "start_time": "2023-02-04T17:17:47.613Z"
   },
   {
    "duration": 160,
    "start_time": "2023-02-04T17:17:51.413Z"
   },
   {
    "duration": 163,
    "start_time": "2023-02-04T17:17:54.837Z"
   },
   {
    "duration": 8,
    "start_time": "2023-02-04T17:18:27.767Z"
   },
   {
    "duration": 103,
    "start_time": "2023-02-04T17:18:28.473Z"
   },
   {
    "duration": 8,
    "start_time": "2023-02-04T17:18:36.974Z"
   },
   {
    "duration": 97,
    "start_time": "2023-02-04T17:18:37.384Z"
   },
   {
    "duration": 8,
    "start_time": "2023-02-04T17:18:41.875Z"
   },
   {
    "duration": 101,
    "start_time": "2023-02-04T17:18:43.740Z"
   },
   {
    "duration": 9,
    "start_time": "2023-02-04T17:18:50.119Z"
   },
   {
    "duration": 183,
    "start_time": "2023-02-04T17:18:57.626Z"
   },
   {
    "duration": 4,
    "start_time": "2023-02-04T17:19:03.659Z"
   },
   {
    "duration": 237,
    "start_time": "2023-02-04T17:19:04.318Z"
   },
   {
    "duration": 163,
    "start_time": "2023-02-04T17:19:04.768Z"
   },
   {
    "duration": 7,
    "start_time": "2023-02-04T17:19:40.771Z"
   },
   {
    "duration": 94,
    "start_time": "2023-02-04T17:19:44.341Z"
   },
   {
    "duration": 8,
    "start_time": "2023-02-04T17:19:53.575Z"
   },
   {
    "duration": 105,
    "start_time": "2023-02-04T17:19:55.133Z"
   },
   {
    "duration": 8,
    "start_time": "2023-02-04T17:20:02.391Z"
   },
   {
    "duration": 109,
    "start_time": "2023-02-04T17:20:04.857Z"
   },
   {
    "duration": 4,
    "start_time": "2023-02-04T17:20:15.462Z"
   },
   {
    "duration": 10,
    "start_time": "2023-02-04T17:20:15.870Z"
   },
   {
    "duration": 8,
    "start_time": "2023-02-04T17:20:33.425Z"
   },
   {
    "duration": 8,
    "start_time": "2023-02-04T17:20:36.430Z"
   },
   {
    "duration": 110,
    "start_time": "2023-02-04T17:20:37.391Z"
   },
   {
    "duration": 94,
    "start_time": "2023-02-04T17:20:39.256Z"
   },
   {
    "duration": 7,
    "start_time": "2023-02-04T17:20:42.730Z"
   },
   {
    "duration": 95,
    "start_time": "2023-02-04T17:20:42.936Z"
   },
   {
    "duration": 5,
    "start_time": "2023-02-04T17:20:45.129Z"
   },
   {
    "duration": 9,
    "start_time": "2023-02-04T17:20:45.256Z"
   },
   {
    "duration": 8,
    "start_time": "2023-02-04T17:20:54.126Z"
   },
   {
    "duration": 109,
    "start_time": "2023-02-04T17:20:54.276Z"
   },
   {
    "duration": 7,
    "start_time": "2023-02-04T17:20:58.956Z"
   },
   {
    "duration": 106,
    "start_time": "2023-02-04T17:20:59.352Z"
   },
   {
    "duration": 8,
    "start_time": "2023-02-04T17:21:02.805Z"
   },
   {
    "duration": 103,
    "start_time": "2023-02-04T17:21:02.962Z"
   },
   {
    "duration": 5,
    "start_time": "2023-02-04T17:21:05.080Z"
   },
   {
    "duration": 9,
    "start_time": "2023-02-04T17:21:05.290Z"
   },
   {
    "duration": 8,
    "start_time": "2023-02-04T17:22:49.092Z"
   },
   {
    "duration": 99,
    "start_time": "2023-02-04T17:22:49.464Z"
   },
   {
    "duration": 70,
    "start_time": "2023-02-04T17:24:35.554Z"
   },
   {
    "duration": 15,
    "start_time": "2023-02-04T17:39:10.956Z"
   },
   {
    "duration": 180,
    "start_time": "2023-02-04T17:40:04.362Z"
   },
   {
    "duration": 150,
    "start_time": "2023-02-04T17:40:11.086Z"
   },
   {
    "duration": 119,
    "start_time": "2023-02-04T17:40:34.350Z"
   },
   {
    "duration": 112,
    "start_time": "2023-02-04T17:40:45.582Z"
   },
   {
    "duration": 1043,
    "start_time": "2023-02-05T15:23:59.951Z"
   },
   {
    "duration": 56,
    "start_time": "2023-02-05T15:24:00.996Z"
   },
   {
    "duration": 3,
    "start_time": "2023-02-05T15:24:01.053Z"
   },
   {
    "duration": 37,
    "start_time": "2023-02-05T15:24:01.058Z"
   },
   {
    "duration": 58,
    "start_time": "2023-02-05T15:24:01.097Z"
   },
   {
    "duration": 32,
    "start_time": "2023-02-05T15:24:01.157Z"
   },
   {
    "duration": 27,
    "start_time": "2023-02-05T15:24:01.190Z"
   },
   {
    "duration": 50,
    "start_time": "2023-02-05T15:24:01.218Z"
   },
   {
    "duration": 17,
    "start_time": "2023-02-05T15:24:01.269Z"
   },
   {
    "duration": 34,
    "start_time": "2023-02-05T15:24:01.288Z"
   },
   {
    "duration": 267,
    "start_time": "2023-02-05T15:24:01.323Z"
   },
   {
    "duration": 250,
    "start_time": "2023-02-05T15:24:01.591Z"
   },
   {
    "duration": 20,
    "start_time": "2023-02-05T15:24:01.842Z"
   },
   {
    "duration": 35,
    "start_time": "2023-02-05T15:24:01.865Z"
   },
   {
    "duration": 141,
    "start_time": "2023-02-05T15:24:01.902Z"
   },
   {
    "duration": 7,
    "start_time": "2023-02-05T15:24:02.044Z"
   },
   {
    "duration": 170,
    "start_time": "2023-02-05T15:24:02.053Z"
   },
   {
    "duration": 3,
    "start_time": "2023-02-05T15:24:02.225Z"
   },
   {
    "duration": 501,
    "start_time": "2023-02-05T15:24:02.229Z"
   },
   {
    "duration": 140,
    "start_time": "2023-02-05T15:24:02.732Z"
   },
   {
    "duration": 139,
    "start_time": "2023-02-05T15:24:02.874Z"
   },
   {
    "duration": 134,
    "start_time": "2023-02-05T15:24:03.014Z"
   },
   {
    "duration": 127,
    "start_time": "2023-02-05T15:24:03.149Z"
   },
   {
    "duration": 160,
    "start_time": "2023-02-05T15:24:03.278Z"
   },
   {
    "duration": 7,
    "start_time": "2023-02-05T15:24:03.440Z"
   },
   {
    "duration": 94,
    "start_time": "2023-02-05T15:24:03.448Z"
   },
   {
    "duration": 7,
    "start_time": "2023-02-05T15:24:03.543Z"
   },
   {
    "duration": 109,
    "start_time": "2023-02-05T15:24:03.552Z"
   },
   {
    "duration": 7,
    "start_time": "2023-02-05T15:24:03.663Z"
   },
   {
    "duration": 104,
    "start_time": "2023-02-05T15:24:03.671Z"
   },
   {
    "duration": 4,
    "start_time": "2023-02-05T15:24:03.777Z"
   },
   {
    "duration": 19,
    "start_time": "2023-02-05T15:24:03.783Z"
   },
   {
    "duration": 198,
    "start_time": "2023-02-05T15:24:03.804Z"
   },
   {
    "duration": 7,
    "start_time": "2023-02-05T15:24:04.004Z"
   },
   {
    "duration": 101,
    "start_time": "2023-02-05T15:24:04.012Z"
   },
   {
    "duration": 17,
    "start_time": "2023-02-05T15:24:04.115Z"
   },
   {
    "duration": 105,
    "start_time": "2023-02-05T15:24:04.133Z"
   },
   {
    "duration": 8,
    "start_time": "2023-02-05T15:24:04.240Z"
   },
   {
    "duration": 111,
    "start_time": "2023-02-05T15:24:04.249Z"
   },
   {
    "duration": 4,
    "start_time": "2023-02-05T15:24:04.361Z"
   },
   {
    "duration": 14,
    "start_time": "2023-02-05T15:24:04.368Z"
   },
   {
    "duration": 179,
    "start_time": "2023-02-05T15:24:04.383Z"
   },
   {
    "duration": 4,
    "start_time": "2023-02-05T15:24:04.564Z"
   },
   {
    "duration": 191,
    "start_time": "2023-02-05T15:24:04.570Z"
   },
   {
    "duration": 108,
    "start_time": "2023-02-05T15:24:04.762Z"
   },
   {
    "duration": 101,
    "start_time": "2023-02-05T15:24:04.871Z"
   },
   {
    "duration": 3,
    "start_time": "2023-02-05T15:24:04.973Z"
   },
   {
    "duration": 5,
    "start_time": "2023-02-05T15:24:04.978Z"
   },
   {
    "duration": 4,
    "start_time": "2023-02-05T15:24:04.984Z"
   },
   {
    "duration": 9,
    "start_time": "2023-02-05T15:24:04.990Z"
   },
   {
    "duration": 7,
    "start_time": "2023-02-05T15:24:05.000Z"
   },
   {
    "duration": 24,
    "start_time": "2023-02-05T15:24:05.008Z"
   },
   {
    "duration": 18,
    "start_time": "2023-02-05T15:24:05.034Z"
   },
   {
    "duration": 7,
    "start_time": "2023-02-05T15:24:05.054Z"
   },
   {
    "duration": 6,
    "start_time": "2023-02-05T15:24:05.062Z"
   },
   {
    "duration": 49,
    "start_time": "2023-02-05T15:37:06.298Z"
   },
   {
    "duration": 45,
    "start_time": "2023-02-05T15:48:41.417Z"
   },
   {
    "duration": 1291,
    "start_time": "2023-02-05T15:48:47.466Z"
   },
   {
    "duration": 208,
    "start_time": "2023-02-05T15:48:48.758Z"
   },
   {
    "duration": 4,
    "start_time": "2023-02-05T15:48:48.967Z"
   },
   {
    "duration": 18,
    "start_time": "2023-02-05T15:48:48.973Z"
   },
   {
    "duration": 32,
    "start_time": "2023-02-05T15:48:48.993Z"
   },
   {
    "duration": 16,
    "start_time": "2023-02-05T15:48:49.027Z"
   },
   {
    "duration": 13,
    "start_time": "2023-02-05T15:48:49.045Z"
   },
   {
    "duration": 18,
    "start_time": "2023-02-05T15:48:49.059Z"
   },
   {
    "duration": 4,
    "start_time": "2023-02-05T15:48:49.079Z"
   },
   {
    "duration": 24,
    "start_time": "2023-02-05T15:48:49.085Z"
   },
   {
    "duration": 303,
    "start_time": "2023-02-05T15:48:49.111Z"
   },
   {
    "duration": 256,
    "start_time": "2023-02-05T15:48:49.416Z"
   },
   {
    "duration": 19,
    "start_time": "2023-02-05T15:48:49.674Z"
   },
   {
    "duration": 2,
    "start_time": "2023-02-05T15:48:49.695Z"
   },
   {
    "duration": 134,
    "start_time": "2023-02-05T15:48:49.698Z"
   },
   {
    "duration": 11,
    "start_time": "2023-02-05T15:48:49.833Z"
   },
   {
    "duration": 179,
    "start_time": "2023-02-05T15:48:49.846Z"
   },
   {
    "duration": 2,
    "start_time": "2023-02-05T15:48:50.026Z"
   },
   {
    "duration": 552,
    "start_time": "2023-02-05T15:48:50.030Z"
   },
   {
    "duration": 160,
    "start_time": "2023-02-05T15:48:50.584Z"
   },
   {
    "duration": 139,
    "start_time": "2023-02-05T15:48:50.745Z"
   },
   {
    "duration": 155,
    "start_time": "2023-02-05T15:48:50.886Z"
   },
   {
    "duration": 140,
    "start_time": "2023-02-05T15:48:51.044Z"
   },
   {
    "duration": 102,
    "start_time": "2023-02-05T15:48:51.186Z"
   },
   {
    "duration": 0,
    "start_time": "2023-02-05T15:48:51.291Z"
   },
   {
    "duration": 0,
    "start_time": "2023-02-05T15:48:51.292Z"
   },
   {
    "duration": 0,
    "start_time": "2023-02-05T15:48:51.294Z"
   },
   {
    "duration": 0,
    "start_time": "2023-02-05T15:48:51.295Z"
   },
   {
    "duration": 0,
    "start_time": "2023-02-05T15:48:51.296Z"
   },
   {
    "duration": 0,
    "start_time": "2023-02-05T15:48:51.298Z"
   },
   {
    "duration": 0,
    "start_time": "2023-02-05T15:48:51.299Z"
   },
   {
    "duration": 0,
    "start_time": "2023-02-05T15:48:51.301Z"
   },
   {
    "duration": 0,
    "start_time": "2023-02-05T15:48:51.302Z"
   },
   {
    "duration": 0,
    "start_time": "2023-02-05T15:48:51.303Z"
   },
   {
    "duration": 0,
    "start_time": "2023-02-05T15:48:51.305Z"
   },
   {
    "duration": 0,
    "start_time": "2023-02-05T15:48:51.306Z"
   },
   {
    "duration": 0,
    "start_time": "2023-02-05T15:48:51.308Z"
   },
   {
    "duration": 0,
    "start_time": "2023-02-05T15:48:51.309Z"
   },
   {
    "duration": 0,
    "start_time": "2023-02-05T15:48:51.310Z"
   },
   {
    "duration": 0,
    "start_time": "2023-02-05T15:48:51.344Z"
   },
   {
    "duration": 0,
    "start_time": "2023-02-05T15:48:51.345Z"
   },
   {
    "duration": 0,
    "start_time": "2023-02-05T15:48:51.346Z"
   },
   {
    "duration": 0,
    "start_time": "2023-02-05T15:48:51.347Z"
   },
   {
    "duration": 0,
    "start_time": "2023-02-05T15:48:51.349Z"
   },
   {
    "duration": 0,
    "start_time": "2023-02-05T15:48:51.350Z"
   },
   {
    "duration": 0,
    "start_time": "2023-02-05T15:48:51.351Z"
   },
   {
    "duration": 0,
    "start_time": "2023-02-05T15:48:51.352Z"
   },
   {
    "duration": 0,
    "start_time": "2023-02-05T15:48:51.353Z"
   },
   {
    "duration": 0,
    "start_time": "2023-02-05T15:48:51.354Z"
   },
   {
    "duration": 0,
    "start_time": "2023-02-05T15:48:51.355Z"
   },
   {
    "duration": 0,
    "start_time": "2023-02-05T15:48:51.356Z"
   },
   {
    "duration": 0,
    "start_time": "2023-02-05T15:48:51.357Z"
   },
   {
    "duration": 0,
    "start_time": "2023-02-05T15:48:51.358Z"
   },
   {
    "duration": 0,
    "start_time": "2023-02-05T15:48:51.359Z"
   },
   {
    "duration": 0,
    "start_time": "2023-02-05T15:48:51.360Z"
   },
   {
    "duration": 9,
    "start_time": "2023-02-05T15:49:02.501Z"
   },
   {
    "duration": 164,
    "start_time": "2023-02-05T15:49:39.776Z"
   },
   {
    "duration": 172,
    "start_time": "2023-02-05T15:49:53.601Z"
   },
   {
    "duration": 179,
    "start_time": "2023-02-05T15:50:09.117Z"
   },
   {
    "duration": 187,
    "start_time": "2023-02-05T15:50:12.925Z"
   },
   {
    "duration": 13,
    "start_time": "2023-02-05T15:50:37.965Z"
   },
   {
    "duration": 75,
    "start_time": "2023-02-05T15:50:56.913Z"
   },
   {
    "duration": 74,
    "start_time": "2023-02-05T15:51:18.573Z"
   },
   {
    "duration": 22,
    "start_time": "2023-02-05T15:51:33.474Z"
   },
   {
    "duration": 173,
    "start_time": "2023-02-05T15:51:46.814Z"
   },
   {
    "duration": 1196,
    "start_time": "2023-02-05T15:53:40.229Z"
   },
   {
    "duration": 64,
    "start_time": "2023-02-05T15:53:41.427Z"
   },
   {
    "duration": 3,
    "start_time": "2023-02-05T15:53:41.493Z"
   },
   {
    "duration": 21,
    "start_time": "2023-02-05T15:53:41.497Z"
   },
   {
    "duration": 17,
    "start_time": "2023-02-05T15:53:41.521Z"
   },
   {
    "duration": 18,
    "start_time": "2023-02-05T15:53:41.544Z"
   },
   {
    "duration": 12,
    "start_time": "2023-02-05T15:53:41.564Z"
   },
   {
    "duration": 23,
    "start_time": "2023-02-05T15:53:41.578Z"
   },
   {
    "duration": 7,
    "start_time": "2023-02-05T15:53:41.603Z"
   },
   {
    "duration": 55,
    "start_time": "2023-02-05T15:53:41.611Z"
   },
   {
    "duration": 326,
    "start_time": "2023-02-05T15:53:41.668Z"
   },
   {
    "duration": 290,
    "start_time": "2023-02-05T15:53:41.995Z"
   },
   {
    "duration": 21,
    "start_time": "2023-02-05T15:53:42.286Z"
   },
   {
    "duration": 3,
    "start_time": "2023-02-05T15:53:42.310Z"
   },
   {
    "duration": 185,
    "start_time": "2023-02-05T15:53:42.314Z"
   },
   {
    "duration": 7,
    "start_time": "2023-02-05T15:53:42.501Z"
   },
   {
    "duration": 207,
    "start_time": "2023-02-05T15:53:42.510Z"
   },
   {
    "duration": 2,
    "start_time": "2023-02-05T15:53:42.720Z"
   },
   {
    "duration": 566,
    "start_time": "2023-02-05T15:53:42.724Z"
   },
   {
    "duration": 153,
    "start_time": "2023-02-05T15:53:43.292Z"
   },
   {
    "duration": 157,
    "start_time": "2023-02-05T15:53:43.447Z"
   },
   {
    "duration": 162,
    "start_time": "2023-02-05T15:53:43.606Z"
   },
   {
    "duration": 155,
    "start_time": "2023-02-05T15:53:43.769Z"
   },
   {
    "duration": 184,
    "start_time": "2023-02-05T15:53:43.926Z"
   },
   {
    "duration": 8,
    "start_time": "2023-02-05T15:53:44.112Z"
   },
   {
    "duration": 110,
    "start_time": "2023-02-05T15:53:44.123Z"
   },
   {
    "duration": 9,
    "start_time": "2023-02-05T15:53:44.243Z"
   },
   {
    "duration": 126,
    "start_time": "2023-02-05T15:53:44.254Z"
   },
   {
    "duration": 7,
    "start_time": "2023-02-05T15:53:44.381Z"
   },
   {
    "duration": 126,
    "start_time": "2023-02-05T15:53:44.390Z"
   },
   {
    "duration": 6,
    "start_time": "2023-02-05T15:53:44.517Z"
   },
   {
    "duration": 29,
    "start_time": "2023-02-05T15:53:44.524Z"
   },
   {
    "duration": 307,
    "start_time": "2023-02-05T15:53:44.555Z"
   },
   {
    "duration": 11,
    "start_time": "2023-02-05T15:53:44.864Z"
   },
   {
    "duration": 135,
    "start_time": "2023-02-05T15:53:44.877Z"
   },
   {
    "duration": 8,
    "start_time": "2023-02-05T15:53:45.014Z"
   },
   {
    "duration": 126,
    "start_time": "2023-02-05T15:53:45.024Z"
   },
   {
    "duration": 8,
    "start_time": "2023-02-05T15:53:45.152Z"
   },
   {
    "duration": 124,
    "start_time": "2023-02-05T15:53:45.162Z"
   },
   {
    "duration": 5,
    "start_time": "2023-02-05T15:53:45.287Z"
   },
   {
    "duration": 11,
    "start_time": "2023-02-05T15:53:45.297Z"
   },
   {
    "duration": 205,
    "start_time": "2023-02-05T15:53:45.310Z"
   },
   {
    "duration": 5,
    "start_time": "2023-02-05T15:53:45.516Z"
   },
   {
    "duration": 205,
    "start_time": "2023-02-05T15:53:45.522Z"
   },
   {
    "duration": 122,
    "start_time": "2023-02-05T15:53:45.729Z"
   },
   {
    "duration": 126,
    "start_time": "2023-02-05T15:53:45.853Z"
   },
   {
    "duration": 2,
    "start_time": "2023-02-05T15:53:45.981Z"
   },
   {
    "duration": 9,
    "start_time": "2023-02-05T15:53:45.985Z"
   },
   {
    "duration": 9,
    "start_time": "2023-02-05T15:53:45.995Z"
   },
   {
    "duration": 16,
    "start_time": "2023-02-05T15:53:46.005Z"
   },
   {
    "duration": 22,
    "start_time": "2023-02-05T15:53:46.023Z"
   },
   {
    "duration": 6,
    "start_time": "2023-02-05T15:53:46.047Z"
   },
   {
    "duration": 13,
    "start_time": "2023-02-05T15:53:46.054Z"
   },
   {
    "duration": 9,
    "start_time": "2023-02-05T15:53:46.069Z"
   },
   {
    "duration": 5,
    "start_time": "2023-02-05T15:53:46.080Z"
   },
   {
    "duration": 7,
    "start_time": "2023-02-05T15:54:43.236Z"
   },
   {
    "duration": 106,
    "start_time": "2023-02-05T15:54:44.940Z"
   },
   {
    "duration": 10,
    "start_time": "2023-02-05T15:54:54.732Z"
   },
   {
    "duration": 108,
    "start_time": "2023-02-05T15:54:54.956Z"
   },
   {
    "duration": 10,
    "start_time": "2023-02-05T15:56:50.501Z"
   },
   {
    "duration": 105,
    "start_time": "2023-02-05T15:56:51.573Z"
   },
   {
    "duration": 8,
    "start_time": "2023-02-05T15:57:43.373Z"
   },
   {
    "duration": 8,
    "start_time": "2023-02-05T15:57:48.065Z"
   },
   {
    "duration": 91,
    "start_time": "2023-02-05T15:57:49.330Z"
   },
   {
    "duration": 7,
    "start_time": "2023-02-05T15:58:07.834Z"
   },
   {
    "duration": 92,
    "start_time": "2023-02-05T15:58:08.170Z"
   },
   {
    "duration": 7,
    "start_time": "2023-02-05T15:58:27.862Z"
   },
   {
    "duration": 102,
    "start_time": "2023-02-05T15:58:28.045Z"
   },
   {
    "duration": 72,
    "start_time": "2023-02-05T15:59:15.514Z"
   },
   {
    "duration": 1108,
    "start_time": "2023-02-05T15:59:50.381Z"
   },
   {
    "duration": 61,
    "start_time": "2023-02-05T15:59:51.491Z"
   },
   {
    "duration": 3,
    "start_time": "2023-02-05T15:59:51.554Z"
   },
   {
    "duration": 34,
    "start_time": "2023-02-05T15:59:51.559Z"
   },
   {
    "duration": 79,
    "start_time": "2023-02-05T15:59:51.595Z"
   },
   {
    "duration": 49,
    "start_time": "2023-02-05T15:59:51.676Z"
   },
   {
    "duration": 16,
    "start_time": "2023-02-05T15:59:51.727Z"
   },
   {
    "duration": 32,
    "start_time": "2023-02-05T15:59:51.745Z"
   },
   {
    "duration": 5,
    "start_time": "2023-02-05T15:59:51.779Z"
   },
   {
    "duration": 65,
    "start_time": "2023-02-05T15:59:51.786Z"
   },
   {
    "duration": 330,
    "start_time": "2023-02-05T15:59:51.853Z"
   },
   {
    "duration": 300,
    "start_time": "2023-02-05T15:59:52.185Z"
   },
   {
    "duration": 21,
    "start_time": "2023-02-05T15:59:52.487Z"
   },
   {
    "duration": 13,
    "start_time": "2023-02-05T15:59:52.510Z"
   },
   {
    "duration": 149,
    "start_time": "2023-02-05T15:59:52.525Z"
   },
   {
    "duration": 8,
    "start_time": "2023-02-05T15:59:52.676Z"
   },
   {
    "duration": 201,
    "start_time": "2023-02-05T15:59:52.685Z"
   },
   {
    "duration": 3,
    "start_time": "2023-02-05T15:59:52.888Z"
   },
   {
    "duration": 627,
    "start_time": "2023-02-05T15:59:52.892Z"
   },
   {
    "duration": 164,
    "start_time": "2023-02-05T15:59:53.520Z"
   },
   {
    "duration": 164,
    "start_time": "2023-02-05T15:59:53.686Z"
   },
   {
    "duration": 166,
    "start_time": "2023-02-05T15:59:53.852Z"
   },
   {
    "duration": 166,
    "start_time": "2023-02-05T15:59:54.019Z"
   },
   {
    "duration": 182,
    "start_time": "2023-02-05T15:59:54.187Z"
   },
   {
    "duration": 8,
    "start_time": "2023-02-05T15:59:54.371Z"
   },
   {
    "duration": 116,
    "start_time": "2023-02-05T15:59:54.381Z"
   },
   {
    "duration": 7,
    "start_time": "2023-02-05T15:59:54.500Z"
   },
   {
    "duration": 124,
    "start_time": "2023-02-05T15:59:54.512Z"
   },
   {
    "duration": 13,
    "start_time": "2023-02-05T15:59:54.638Z"
   },
   {
    "duration": 145,
    "start_time": "2023-02-05T15:59:54.653Z"
   },
   {
    "duration": 6,
    "start_time": "2023-02-05T15:59:54.800Z"
   },
   {
    "duration": 29,
    "start_time": "2023-02-05T15:59:54.808Z"
   },
   {
    "duration": 194,
    "start_time": "2023-02-05T15:59:54.843Z"
   },
   {
    "duration": 9,
    "start_time": "2023-02-05T15:59:55.043Z"
   },
   {
    "duration": 115,
    "start_time": "2023-02-05T15:59:55.053Z"
   },
   {
    "duration": 7,
    "start_time": "2023-02-05T15:59:55.170Z"
   },
   {
    "duration": 131,
    "start_time": "2023-02-05T15:59:55.179Z"
   },
   {
    "duration": 9,
    "start_time": "2023-02-05T15:59:55.312Z"
   },
   {
    "duration": 121,
    "start_time": "2023-02-05T15:59:55.322Z"
   },
   {
    "duration": 5,
    "start_time": "2023-02-05T15:59:55.445Z"
   },
   {
    "duration": 14,
    "start_time": "2023-02-05T15:59:55.451Z"
   },
   {
    "duration": 210,
    "start_time": "2023-02-05T15:59:55.467Z"
   },
   {
    "duration": 5,
    "start_time": "2023-02-05T15:59:55.679Z"
   },
   {
    "duration": 220,
    "start_time": "2023-02-05T15:59:55.685Z"
   },
   {
    "duration": 126,
    "start_time": "2023-02-05T15:59:55.907Z"
   },
   {
    "duration": 120,
    "start_time": "2023-02-05T15:59:56.035Z"
   },
   {
    "duration": 2,
    "start_time": "2023-02-05T15:59:56.157Z"
   },
   {
    "duration": 6,
    "start_time": "2023-02-05T15:59:56.161Z"
   },
   {
    "duration": 14,
    "start_time": "2023-02-05T15:59:56.169Z"
   },
   {
    "duration": 17,
    "start_time": "2023-02-05T15:59:56.185Z"
   },
   {
    "duration": 12,
    "start_time": "2023-02-05T15:59:56.203Z"
   },
   {
    "duration": 9,
    "start_time": "2023-02-05T15:59:56.217Z"
   },
   {
    "duration": 13,
    "start_time": "2023-02-05T15:59:56.228Z"
   },
   {
    "duration": 10,
    "start_time": "2023-02-05T15:59:56.244Z"
   },
   {
    "duration": 20,
    "start_time": "2023-02-05T15:59:56.256Z"
   },
   {
    "duration": 122,
    "start_time": "2023-02-05T16:02:46.446Z"
   },
   {
    "duration": 103,
    "start_time": "2023-02-05T16:02:52.768Z"
   },
   {
    "duration": 111,
    "start_time": "2023-02-05T16:02:57.139Z"
   },
   {
    "duration": 1113,
    "start_time": "2023-02-05T16:10:10.924Z"
   },
   {
    "duration": 61,
    "start_time": "2023-02-05T16:10:12.039Z"
   },
   {
    "duration": 6,
    "start_time": "2023-02-05T16:10:12.102Z"
   },
   {
    "duration": 65,
    "start_time": "2023-02-05T16:10:12.110Z"
   },
   {
    "duration": 41,
    "start_time": "2023-02-05T16:10:12.177Z"
   },
   {
    "duration": 46,
    "start_time": "2023-02-05T16:10:12.220Z"
   },
   {
    "duration": 15,
    "start_time": "2023-02-05T16:10:12.268Z"
   },
   {
    "duration": 27,
    "start_time": "2023-02-05T16:10:12.285Z"
   },
   {
    "duration": 6,
    "start_time": "2023-02-05T16:10:12.314Z"
   },
   {
    "duration": 38,
    "start_time": "2023-02-05T16:10:12.322Z"
   },
   {
    "duration": 319,
    "start_time": "2023-02-05T16:10:12.362Z"
   },
   {
    "duration": 282,
    "start_time": "2023-02-05T16:10:12.683Z"
   },
   {
    "duration": 21,
    "start_time": "2023-02-05T16:10:12.966Z"
   },
   {
    "duration": 2,
    "start_time": "2023-02-05T16:10:12.990Z"
   },
   {
    "duration": 129,
    "start_time": "2023-02-05T16:10:12.994Z"
   },
   {
    "duration": 8,
    "start_time": "2023-02-05T16:10:13.125Z"
   },
   {
    "duration": 185,
    "start_time": "2023-02-05T16:10:13.143Z"
   },
   {
    "duration": 2,
    "start_time": "2023-02-05T16:10:13.330Z"
   },
   {
    "duration": 609,
    "start_time": "2023-02-05T16:10:13.343Z"
   },
   {
    "duration": 150,
    "start_time": "2023-02-05T16:10:13.954Z"
   },
   {
    "duration": 143,
    "start_time": "2023-02-05T16:10:14.106Z"
   },
   {
    "duration": 148,
    "start_time": "2023-02-05T16:10:14.250Z"
   },
   {
    "duration": 146,
    "start_time": "2023-02-05T16:10:14.399Z"
   },
   {
    "duration": 188,
    "start_time": "2023-02-05T16:10:14.546Z"
   },
   {
    "duration": 13,
    "start_time": "2023-02-05T16:10:14.737Z"
   },
   {
    "duration": 133,
    "start_time": "2023-02-05T16:10:14.753Z"
   },
   {
    "duration": 10,
    "start_time": "2023-02-05T16:10:14.888Z"
   },
   {
    "duration": 119,
    "start_time": "2023-02-05T16:10:14.900Z"
   },
   {
    "duration": 8,
    "start_time": "2023-02-05T16:10:15.021Z"
   },
   {
    "duration": 107,
    "start_time": "2023-02-05T16:10:15.043Z"
   },
   {
    "duration": 5,
    "start_time": "2023-02-05T16:10:15.152Z"
   },
   {
    "duration": 19,
    "start_time": "2023-02-05T16:10:15.158Z"
   },
   {
    "duration": 202,
    "start_time": "2023-02-05T16:10:15.179Z"
   },
   {
    "duration": 7,
    "start_time": "2023-02-05T16:10:15.383Z"
   },
   {
    "duration": 110,
    "start_time": "2023-02-05T16:10:15.392Z"
   },
   {
    "duration": 7,
    "start_time": "2023-02-05T16:10:15.504Z"
   },
   {
    "duration": 151,
    "start_time": "2023-02-05T16:10:15.512Z"
   },
   {
    "duration": 8,
    "start_time": "2023-02-05T16:10:15.664Z"
   },
   {
    "duration": 109,
    "start_time": "2023-02-05T16:10:15.674Z"
   },
   {
    "duration": 4,
    "start_time": "2023-02-05T16:10:15.785Z"
   },
   {
    "duration": 11,
    "start_time": "2023-02-05T16:10:15.792Z"
   },
   {
    "duration": 203,
    "start_time": "2023-02-05T16:10:15.805Z"
   },
   {
    "duration": 5,
    "start_time": "2023-02-05T16:10:16.010Z"
   },
   {
    "duration": 216,
    "start_time": "2023-02-05T16:10:16.017Z"
   },
   {
    "duration": 121,
    "start_time": "2023-02-05T16:10:16.235Z"
   },
   {
    "duration": 105,
    "start_time": "2023-02-05T16:10:16.358Z"
   },
   {
    "duration": 2,
    "start_time": "2023-02-05T16:10:16.464Z"
   },
   {
    "duration": 6,
    "start_time": "2023-02-05T16:10:16.468Z"
   },
   {
    "duration": 6,
    "start_time": "2023-02-05T16:10:16.475Z"
   },
   {
    "duration": 10,
    "start_time": "2023-02-05T16:10:16.482Z"
   },
   {
    "duration": 7,
    "start_time": "2023-02-05T16:10:16.494Z"
   },
   {
    "duration": 5,
    "start_time": "2023-02-05T16:10:16.502Z"
   },
   {
    "duration": 9,
    "start_time": "2023-02-05T16:10:16.508Z"
   },
   {
    "duration": 31,
    "start_time": "2023-02-05T16:10:16.518Z"
   },
   {
    "duration": 11,
    "start_time": "2023-02-05T16:10:16.551Z"
   },
   {
    "duration": 155,
    "start_time": "2023-02-05T16:12:44.216Z"
   },
   {
    "duration": 175,
    "start_time": "2023-02-05T16:13:03.539Z"
   },
   {
    "duration": 133,
    "start_time": "2023-02-05T16:13:12.214Z"
   },
   {
    "duration": 7,
    "start_time": "2023-02-05T16:13:20.535Z"
   },
   {
    "duration": 186,
    "start_time": "2023-02-05T17:45:02.879Z"
   },
   {
    "duration": 52,
    "start_time": "2023-04-13T12:20:27.037Z"
   }
  ],
  "kernelspec": {
   "display_name": "Python 3 (ipykernel)",
   "language": "python",
   "name": "python3"
  },
  "language_info": {
   "codemirror_mode": {
    "name": "ipython",
    "version": 3
   },
   "file_extension": ".py",
   "mimetype": "text/x-python",
   "name": "python",
   "nbconvert_exporter": "python",
   "pygments_lexer": "ipython3",
   "version": "3.9.5"
  },
  "toc": {
   "base_numbering": 1,
   "nav_menu": {},
   "number_sections": true,
   "sideBar": true,
   "skip_h1_title": true,
   "title_cell": "Table of Contents",
   "title_sidebar": "Contents",
   "toc_cell": false,
   "toc_position": {},
   "toc_section_display": true,
   "toc_window_display": false
  }
 },
 "nbformat": 4,
 "nbformat_minor": 2
}
